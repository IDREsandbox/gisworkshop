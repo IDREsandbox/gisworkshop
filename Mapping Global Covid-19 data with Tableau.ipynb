{
 "cells": [
  {
   "cell_type": "markdown",
   "metadata": {},
   "source": [
    "# Mapping Covid-19 data in Tableau\n",
    "\n",
    "- <a href=\"https://public.tableau.com/en-us/s/download\" target=\"_blank\">Tabeau Public Download</a>\n",
    "- <a href=\"https://www.tableau.com/covid-19-coronavirus-data-resources\" target=\"_blank\">Tableau Covid-19 Data Hub</a>\n",
    "- <a href=\"https://docs.google.com/spreadsheets/d/14quQPFErG-hlpsrNgYcX85vW7JMMK5X2vNZrafRcH8c/edit#gid=2087034741\" target=\"_blank\">Google sheet</a>\n",
    "\n",
    "## Data\n",
    "\n",
    "<img src=\"https://raw.githubusercontent.com/IDREsandbox/gisworkshop/master/images/tableau%201.jpg\">\n",
    "\n",
    "<img src=\"https://raw.githubusercontent.com/IDREsandbox/gisworkshop/master/images/tableau%202.jpg\">\n",
    "\n",
    "<img src=\"https://raw.githubusercontent.com/IDREsandbox/gisworkshop/master/images/tableau%203.jpg\">\n",
    "\n",
    "<img src=\"https://raw.githubusercontent.com/IDREsandbox/gisworkshop/master/images/tableau%204.jpg\">\n",
    "\n",
    "<img src=\"https://raw.githubusercontent.com/IDREsandbox/gisworkshop/master/images/tableau%205.jpg\">\n",
    "\n",
    "<img src=\"https://raw.githubusercontent.com/IDREsandbox/gisworkshop/master/images/tableau%206.jpg\">\n",
    "\n",
    "<img src=\"https://raw.githubusercontent.com/IDREsandbox/gisworkshop/master/images/tableau%207.jpg\">\n",
    "\n",
    "<img src=\"https://raw.githubusercontent.com/IDREsandbox/gisworkshop/master/images/tableau%208.jpg\">\n",
    "\n",
    "<img src=\"https://raw.githubusercontent.com/IDREsandbox/gisworkshop/master/images/tableau%209.jpg\">\n",
    "\n",
    "<img src=\"https://raw.githubusercontent.com/IDREsandbox/gisworkshop/master/images/tableau%2010.jpg\">\n",
    "\n",
    "<img src=\"https://raw.githubusercontent.com/IDREsandbox/gisworkshop/master/images/tableau%2011.jpg\">\n",
    "\n",
    "<img src=\"https://raw.githubusercontent.com/IDREsandbox/gisworkshop/master/images/tableau%2012.jpg\">\n",
    "\n",
    "<img src=\"https://raw.githubusercontent.com/IDREsandbox/gisworkshop/master/images/tableau%2013.jpg\">\n",
    "\n",
    "<img src=\"https://raw.githubusercontent.com/IDREsandbox/gisworkshop/master/images/tableau%2014.jpg\">\n",
    "\n",
    "<img src=\"https://raw.githubusercontent.com/IDREsandbox/gisworkshop/master/images/tableau%2015.jpg\">\n",
    "\n",
    "<img src=\"https://raw.githubusercontent.com/IDREsandbox/gisworkshop/master/images/tableau%2016.jpg\">\n",
    "\n",
    "<img src=\"https://raw.githubusercontent.com/IDREsandbox/gisworkshop/master/images/tableau%2017.jpg\">\n",
    "\n",
    "<img src=\"https://raw.githubusercontent.com/IDREsandbox/gisworkshop/master/images/tableau%2018.jpg\">\n",
    "\n"
   ]
  },
  {
   "cell_type": "code",
   "execution_count": null,
   "metadata": {},
   "outputs": [],
   "source": []
  }
 ],
 "metadata": {
  "kernelspec": {
   "display_name": "Python 3",
   "language": "python",
   "name": "python3"
  },
  "language_info": {
   "codemirror_mode": {
    "name": "ipython",
    "version": 3
   },
   "file_extension": ".py",
   "mimetype": "text/x-python",
   "name": "python",
   "nbconvert_exporter": "python",
   "pygments_lexer": "ipython3",
   "version": "3.7.3"
  }
 },
 "nbformat": 4,
 "nbformat_minor": 4
}
