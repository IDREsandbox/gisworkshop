{
 "cells": [
  {
   "cell_type": "markdown",
   "metadata": {},
   "source": [
    "# Mapping Covid-19 data in Tableau\n",
    "\n",
    "- <a href=\"https://public.tableau.com/en-us/s/download\" target=\"_blank\">Tabeau Public Download</a>\n",
    "- <a href=\"https://www.tableau.com/covid-19-coronavirus-data-resources\" target=\"_blank\">Tableau Covid-19 Data Hub</a>\n",
    "- <a href=\"https://docs.google.com/spreadsheets/d/14quQPFErG-hlpsrNgYcX85vW7JMMK5X2vNZrafRcH8c/edit#gid=2087034741\" target=\"_blank\">Google sheet</a>\n",
    "\n",
    "## Data\n",
    "\n",
    "<img src=\"images/tableau 1.jpg\">\n",
    "\n",
    "<img src=\"images/tableau 2.jpg\">\n",
    "\n",
    "<img src=\"images/tableau 3.jpg\">\n",
    "\n",
    "<img src=\"images/tableau 4.jpg\">\n",
    "\n",
    "<img src=\"images/tableau 5.jpg\">\n",
    "\n",
    "<img src=\"images/tableau 6.jpg\">\n",
    "\n",
    "<img src=\"images/tableau 7.jpg\">\n",
    "\n",
    "<img src=\"images/tableau 8.jpg\">\n",
    "\n",
    "<img src=\"images/tableau 9.jpg\">\n",
    "\n",
    "<img src=\"images/tableau 10.jpg\">\n",
    "\n",
    "<img src=\"images/tableau 11.jpg\">\n",
    "\n",
    "<img src=\"images/tableau 12.jpg\">\n",
    "\n",
    "<img src=\"images/tableau 13.jpg\">\n",
    "\n",
    "<img src=\"images/tableau 14.jpg\">\n",
    "\n",
    "<img src=\"images/tableau 15.jpg\">\n",
    "\n",
    "<img src=\"images/tableau 16.jpg\">\n",
    "\n",
    "<img src=\"images/tableau 17.jpg\">\n",
    "\n",
    "<img src=\"images/tableau 18.jpg\">\n",
    "\n"
   ]
  },
  {
   "cell_type": "code",
   "execution_count": null,
   "metadata": {},
   "outputs": [],
   "source": []
  }
 ],
 "metadata": {
  "kernelspec": {
   "display_name": "Python 3",
   "language": "python",
   "name": "python3"
  },
  "language_info": {
   "codemirror_mode": {
    "name": "ipython",
    "version": 3
   },
   "file_extension": ".py",
   "mimetype": "text/x-python",
   "name": "python",
   "nbconvert_exporter": "python",
   "pygments_lexer": "ipython3",
   "version": "3.7.3"
  }
 },
 "nbformat": 4,
 "nbformat_minor": 4
}
