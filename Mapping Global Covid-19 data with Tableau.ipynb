{
 "cells": [
  {
   "cell_type": "markdown",
   "metadata": {},
   "source": [
    "# Mapping Covid-19 data in Tableau\n",
    "\n",
    "- <a href=\"https://public.tableau.com/en-us/s/download\" target=\"_blank\">Tabeau Public Download</a>\n",
    "- <a href=\"https://www.tableau.com/covid-19-coronavirus-data-resources\" target=\"_blank\">Tableau Covid-19 Data Hub</a>\n",
    "- <a href=\"https://docs.google.com/spreadsheets/d/14quQPFErG-hlpsrNgYcX85vW7JMMK5X2vNZrafRcH8c/edit#gid=2087034741\" target=\"_blank\">Google sheet</a>\n",
    "\n",
    "## Data\n",
    "\n",
    "Launch Tableau Public. Drag data into the window to begin. This is how data narratives begin.\n",
    "\n",
    "Take your time. Inspect the data. Feel the data, and learn its intricacies. What is there, and what is missing? What do you anticipate you can do with this data? What can you NOT do with this data?\n",
    "\n",
    "<img src=\"https://raw.githubusercontent.com/IDREsandbox/gisworkshop/master/images/tableau%201.jpg\">"
   ]
  },
  {
   "cell_type": "markdown",
   "metadata": {},
   "source": [
    "A good story always has a good map. Let's create one. In the `Measures` panel, double click on both `Lat` and `Long` and see them automatically transport themselves to the rows and columns. Then drag `Country Region` into the Marks box as shown below.\n",
    "\n",
    "<img src=\"https://raw.githubusercontent.com/IDREsandbox/gisworkshop/master/images/tableau%202.jpg\">"
   ]
  },
  {
   "cell_type": "markdown",
   "metadata": {},
   "source": [
    "Add some meaning to the circles on the map. Drag the `Cases` into the Size box so that each circle is sized by the number of recorded cases for each location.\n",
    "\n",
    "You can adjust the size of the circles by clicking on the `Size` box.\n",
    "<img src=\"https://raw.githubusercontent.com/IDREsandbox/gisworkshop/master/images/tableau%203.jpg\">"
   ]
  },
  {
   "cell_type": "markdown",
   "metadata": {},
   "source": [
    "You can also change the color, opacity, and border outline by clicking on the `Color` box.\n",
    "\n",
    "<img src=\"https://raw.githubusercontent.com/IDREsandbox/gisworkshop/master/images/tableau%204.jpg\">"
   ]
  },
  {
   "cell_type": "markdown",
   "metadata": {},
   "source": [
    "This data has multiple levels of geographic scale. We are currently viewing data at the country level. Let's dig down further, and view data at the state/province level. \n",
    "\n",
    "Drag `Province State` into the `Marks` box. You can also expand the `+` button next to `Country Region` in the `Marks` box to achieve the same result.\n",
    "\n",
    "<img src=\"https://raw.githubusercontent.com/IDREsandbox/gisworkshop/master/images/tableau%205.jpg\">"
   ]
  },
  {
   "cell_type": "markdown",
   "metadata": {},
   "source": [
    "This data is showing cases for both number of <i>confirmed cases</i> and <i>deaths</i> combined. We need to show these separately. The field for `Case Type` allows us to distinguish them. \n",
    "\n",
    "Drag `Case Type` into the Columns box to create two maps: one for confirmed cases, and another for deaths.\n",
    "\n",
    "<img src=\"https://raw.githubusercontent.com/IDREsandbox/gisworkshop/master/images/tableau%206.jpg\">"
   ]
  },
  {
   "cell_type": "markdown",
   "metadata": {},
   "source": [
    "In order to give them different colors, drag `Case Type` into the `Color` box.\n",
    "\n",
    "<img src=\"https://raw.githubusercontent.com/IDREsandbox/gisworkshop/master/images/tableau%207.jpg\">"
   ]
  },
  {
   "cell_type": "markdown",
   "metadata": {},
   "source": [
    "## Charts\n",
    "\n",
    "We want to know how COVID19 has spread around the world over time. Let's create a time chart to visualize this.\n",
    "\n",
    "Create a new sheet (command-T or ctrl-T). Drag `Date` into the columns box to create the timeline.\n",
    "\n",
    "The default is to show time data by year. This data collects data daily, so let's change that. Click on the arrow next to the `Date` you dragged into the columns box, and select `Day`. Notice that there are two `Day` option. Make sure to select the second option.\n",
    "\n",
    "<img src=\"https://raw.githubusercontent.com/IDREsandbox/gisworkshop/master/images/tableau%208.jpg\">"
   ]
  },
  {
   "cell_type": "markdown",
   "metadata": {},
   "source": [
    "<img src=\"https://raw.githubusercontent.com/IDREsandbox/gisworkshop/master/images/tableau%209.jpg\">"
   ]
  },
  {
   "cell_type": "markdown",
   "metadata": {},
   "source": [
    "<img src=\"https://raw.githubusercontent.com/IDREsandbox/gisworkshop/master/images/tableau%2010.jpg\">"
   ]
  },
  {
   "cell_type": "markdown",
   "metadata": {},
   "source": [
    "<img src=\"https://raw.githubusercontent.com/IDREsandbox/gisworkshop/master/images/tableau%2011.jpg\">"
   ]
  },
  {
   "cell_type": "markdown",
   "metadata": {},
   "source": [
    "<img src=\"https://raw.githubusercontent.com/IDREsandbox/gisworkshop/master/images/tableau%2012.jpg\">"
   ]
  },
  {
   "cell_type": "markdown",
   "metadata": {},
   "source": [
    "<img src=\"https://raw.githubusercontent.com/IDREsandbox/gisworkshop/master/images/tableau%2013.jpg\">"
   ]
  },
  {
   "cell_type": "markdown",
   "metadata": {},
   "source": [
    "<img src=\"https://raw.githubusercontent.com/IDREsandbox/gisworkshop/master/images/tableau%2014.jpg\">"
   ]
  },
  {
   "cell_type": "markdown",
   "metadata": {},
   "source": [
    "<img src=\"https://raw.githubusercontent.com/IDREsandbox/gisworkshop/master/images/tableau%2015.jpg\">"
   ]
  },
  {
   "cell_type": "markdown",
   "metadata": {},
   "source": [
    "<img src=\"https://raw.githubusercontent.com/IDREsandbox/gisworkshop/master/images/tableau%2016.jpg\">"
   ]
  },
  {
   "cell_type": "markdown",
   "metadata": {},
   "source": [
    "<img src=\"https://raw.githubusercontent.com/IDREsandbox/gisworkshop/master/images/tableau%2017.jpg\">"
   ]
  },
  {
   "cell_type": "markdown",
   "metadata": {},
   "source": [
    "<img src=\"https://raw.githubusercontent.com/IDREsandbox/gisworkshop/master/images/tableau%2018.jpg\">"
   ]
  },
  {
   "cell_type": "code",
   "execution_count": null,
   "metadata": {},
   "outputs": [],
   "source": []
  },
  {
   "cell_type": "code",
   "execution_count": null,
   "metadata": {},
   "outputs": [],
   "source": []
  },
  {
   "cell_type": "code",
   "execution_count": null,
   "metadata": {},
   "outputs": [],
   "source": []
  }
 ],
 "metadata": {
  "kernelspec": {
   "display_name": "Python 3",
   "language": "python",
   "name": "python3"
  },
  "language_info": {
   "codemirror_mode": {
    "name": "ipython",
    "version": 3
   },
   "file_extension": ".py",
   "mimetype": "text/x-python",
   "name": "python",
   "nbconvert_exporter": "python",
   "pygments_lexer": "ipython3",
   "version": "3.7.3"
  }
 },
 "nbformat": 4,
 "nbformat_minor": 4
}
