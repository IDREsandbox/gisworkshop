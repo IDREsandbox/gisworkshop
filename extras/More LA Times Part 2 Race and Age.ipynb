{
 "cells": [
  {
   "cell_type": "markdown",
   "metadata": {},
   "source": [
    "# Mapping COVID19 data in Python"
   ]
  },
  {
   "cell_type": "markdown",
   "metadata": {},
   "source": [
    "## Help\n",
    "- About this interface https://jupyterlab.readthedocs.io/en/stable/user/interface.html\n",
    "- Jupyter keyboard shortcuts\n",
    "https://yoursdata.net/jupyter-lab-shortcut-and-magic-functions-tips/\n",
    "- Plotly Express documentation https://plotly.com/python/plotly-express/\n",
    "- Working with csv and pandas https://towardsdatascience.com/data-science-with-python-intro-to-loading-and-subsetting-data-with-pandas-9f26895ddd7f"
   ]
  },
  {
   "cell_type": "markdown",
   "metadata": {},
   "source": [
    "# Hello Jupyter Newbies\n",
    "\n",
    "If this is the first time for you to use Jupyter Notebooks, I highly recommend you visit the help links above. \n",
    "\n",
    "In order to run the code sequentially on this page, highlight a cell (you should see a blue bar on the left side) and use the following keyboard shortcut to run the cell:\n",
    "\n",
    "- `shift + enter`\n",
    "\n",
    "This should take you to the next cell, where you can repeat `shift + enter` until you reach the end. You can modify the contents of any cell to experiment with the code, but note that doing so may impact the subsequent code."
   ]
  },
  {
   "cell_type": "markdown",
   "metadata": {},
   "source": [
    "## Libraries\n",
    "\n",
    "For this session, we will be using two libraries: plotly and pandas. Make sure to install the libraries using `pip` or `conda`. If you have reached this Jupyter notebook via the IDRE GitHub page, or, if you installed Anaconda and ran `requirements.txt`, your library should already be installed. If not, uncomment the install code below and run them.\n"
   ]
  },
  {
   "cell_type": "code",
   "execution_count": null,
   "metadata": {},
   "outputs": [],
   "source": [
    "# !conda install plotly --yes\n",
    "# !conda install pandas"
   ]
  },
  {
   "cell_type": "markdown",
   "metadata": {},
   "source": [
    "Import libraries"
   ]
  },
  {
   "cell_type": "code",
   "execution_count": 47,
   "metadata": {},
   "outputs": [],
   "source": [
    "import plotly.express as px\n",
    "import pandas as pd"
   ]
  },
  {
   "cell_type": "markdown",
   "metadata": {},
   "source": [
    "## Data\n",
    "\n",
    "The LA Times Data Desk team has taken the lead to centralize Los Angeles based COVID-19 related datasets. Shortly after the pandemic erupted in the US, they have maintained the following page to report real-time statistics.\n",
    "\n",
    "https://www.latimes.com/projects/california-coronavirus-cases-tracking-outbreak/\n",
    "\n",
    "In order to maintain transparency over their methods, they have made multiple datasets available on this GitHub page, allowing academics to use it for research purposes under these terms and services (https://www.latimes.com/terms-of-service).\n",
    "\n",
    "https://github.com/datadesk/california-coronavirus-data\n",
    "\n",
    "## Using Python's pandas library to get data\n",
    "\n",
    "Get the data from LA Times. We can grab the data directly from their github page. By doing so, it ensures that we are grabbling the latest dataset that they have uploaded on their site. Note that it also adds the risk that if they change their data model, it can potentially break the methods used in this session.\n",
    "\n",
    "- <a href=\"https://pandas.pydata.org/pandas-docs/stable/reference/api/pandas.read_csv.html\" target=\"_blank\">reference for pandas read_csv</a>"
   ]
  },
  {
   "cell_type": "code",
   "execution_count": 48,
   "metadata": {},
   "outputs": [],
   "source": [
    "latimes = pd.read_csv(\n",
    "    \"https://raw.githubusercontent.com/datadesk/california-coronavirus-data/master/cdph-race-ethnicity.csv\"\n",
    ")"
   ]
  },
  {
   "cell_type": "markdown",
   "metadata": {},
   "source": [
    "Preview the data by typing its name out. If you are using command line and not Jupyter, you have to use the print() method."
   ]
  },
  {
   "cell_type": "code",
   "execution_count": 53,
   "metadata": {},
   "outputs": [
    {
     "data": {
      "text/html": [
       "<div>\n",
       "<style scoped>\n",
       "    .dataframe tbody tr th:only-of-type {\n",
       "        vertical-align: middle;\n",
       "    }\n",
       "\n",
       "    .dataframe tbody tr th {\n",
       "        vertical-align: top;\n",
       "    }\n",
       "\n",
       "    .dataframe thead th {\n",
       "        text-align: right;\n",
       "    }\n",
       "</style>\n",
       "<table border=\"1\" class=\"dataframe\">\n",
       "  <thead>\n",
       "    <tr style=\"text-align: right;\">\n",
       "      <th></th>\n",
       "      <th>date</th>\n",
       "      <th>race</th>\n",
       "      <th>age</th>\n",
       "      <th>confirmed_cases_total</th>\n",
       "      <th>confirmed_cases_percent</th>\n",
       "      <th>deaths_total</th>\n",
       "      <th>deaths_percent</th>\n",
       "      <th>population_percent</th>\n",
       "    </tr>\n",
       "  </thead>\n",
       "  <tbody>\n",
       "    <tr>\n",
       "      <th>0</th>\n",
       "      <td>2020-06-29</td>\n",
       "      <td>asian</td>\n",
       "      <td>0-17</td>\n",
       "      <td>287</td>\n",
       "      <td>0.024</td>\n",
       "      <td>0</td>\n",
       "      <td>0.000</td>\n",
       "      <td>0.130</td>\n",
       "    </tr>\n",
       "    <tr>\n",
       "      <th>1</th>\n",
       "      <td>2020-06-29</td>\n",
       "      <td>asian</td>\n",
       "      <td>18+</td>\n",
       "      <td>10603</td>\n",
       "      <td>0.076</td>\n",
       "      <td>871</td>\n",
       "      <td>0.150</td>\n",
       "      <td>0.165</td>\n",
       "    </tr>\n",
       "    <tr>\n",
       "      <th>2</th>\n",
       "      <td>2020-06-29</td>\n",
       "      <td>asian</td>\n",
       "      <td>18-34</td>\n",
       "      <td>2450</td>\n",
       "      <td>0.053</td>\n",
       "      <td>4</td>\n",
       "      <td>0.066</td>\n",
       "      <td>0.151</td>\n",
       "    </tr>\n",
       "    <tr>\n",
       "      <th>3</th>\n",
       "      <td>2020-06-29</td>\n",
       "      <td>asian</td>\n",
       "      <td>35-49</td>\n",
       "      <td>2776</td>\n",
       "      <td>0.073</td>\n",
       "      <td>22</td>\n",
       "      <td>0.077</td>\n",
       "      <td>0.179</td>\n",
       "    </tr>\n",
       "    <tr>\n",
       "      <th>4</th>\n",
       "      <td>2020-06-29</td>\n",
       "      <td>asian</td>\n",
       "      <td>50-64</td>\n",
       "      <td>2769</td>\n",
       "      <td>0.086</td>\n",
       "      <td>88</td>\n",
       "      <td>0.092</td>\n",
       "      <td>0.167</td>\n",
       "    </tr>\n",
       "    <tr>\n",
       "      <th>5</th>\n",
       "      <td>2020-06-29</td>\n",
       "      <td>asian</td>\n",
       "      <td>65-79</td>\n",
       "      <td>1470</td>\n",
       "      <td>0.101</td>\n",
       "      <td>229</td>\n",
       "      <td>0.123</td>\n",
       "      <td>0.172</td>\n",
       "    </tr>\n",
       "    <tr>\n",
       "      <th>6</th>\n",
       "      <td>2020-06-29</td>\n",
       "      <td>asian</td>\n",
       "      <td>80+</td>\n",
       "      <td>1138</td>\n",
       "      <td>0.150</td>\n",
       "      <td>528</td>\n",
       "      <td>0.199</td>\n",
       "      <td>0.172</td>\n",
       "    </tr>\n",
       "    <tr>\n",
       "      <th>7</th>\n",
       "      <td>2020-06-29</td>\n",
       "      <td>asian</td>\n",
       "      <td>all</td>\n",
       "      <td>10900</td>\n",
       "      <td>0.072</td>\n",
       "      <td>871</td>\n",
       "      <td>0.150</td>\n",
       "      <td>0.157</td>\n",
       "    </tr>\n",
       "    <tr>\n",
       "      <th>8</th>\n",
       "      <td>2020-06-29</td>\n",
       "      <td>black</td>\n",
       "      <td>0-17</td>\n",
       "      <td>218</td>\n",
       "      <td>0.018</td>\n",
       "      <td>0</td>\n",
       "      <td>0.000</td>\n",
       "      <td>0.054</td>\n",
       "    </tr>\n",
       "    <tr>\n",
       "      <th>9</th>\n",
       "      <td>2020-06-29</td>\n",
       "      <td>black</td>\n",
       "      <td>18+</td>\n",
       "      <td>6328</td>\n",
       "      <td>0.046</td>\n",
       "      <td>551</td>\n",
       "      <td>0.095</td>\n",
       "      <td>0.061</td>\n",
       "    </tr>\n",
       "  </tbody>\n",
       "</table>\n",
       "</div>"
      ],
      "text/plain": [
       "         date   race    age  confirmed_cases_total  confirmed_cases_percent  \\\n",
       "0  2020-06-29  asian   0-17                    287                    0.024   \n",
       "1  2020-06-29  asian    18+                  10603                    0.076   \n",
       "2  2020-06-29  asian  18-34                   2450                    0.053   \n",
       "3  2020-06-29  asian  35-49                   2776                    0.073   \n",
       "4  2020-06-29  asian  50-64                   2769                    0.086   \n",
       "5  2020-06-29  asian  65-79                   1470                    0.101   \n",
       "6  2020-06-29  asian    80+                   1138                    0.150   \n",
       "7  2020-06-29  asian    all                  10900                    0.072   \n",
       "8  2020-06-29  black   0-17                    218                    0.018   \n",
       "9  2020-06-29  black    18+                   6328                    0.046   \n",
       "\n",
       "   deaths_total  deaths_percent  population_percent  \n",
       "0             0           0.000               0.130  \n",
       "1           871           0.150               0.165  \n",
       "2             4           0.066               0.151  \n",
       "3            22           0.077               0.179  \n",
       "4            88           0.092               0.167  \n",
       "5           229           0.123               0.172  \n",
       "6           528           0.199               0.172  \n",
       "7           871           0.150               0.157  \n",
       "8             0           0.000               0.054  \n",
       "9           551           0.095               0.061  "
      ]
     },
     "execution_count": 53,
     "metadata": {},
     "output_type": "execute_result"
    }
   ],
   "source": [
    "latimes.head(10)\n",
    "# if using command line\n",
    "# print(latimes)"
   ]
  },
  {
   "cell_type": "code",
   "execution_count": 50,
   "metadata": {},
   "outputs": [
    {
     "data": {
      "text/plain": [
       "Index(['date', 'race', 'age', 'confirmed_cases_total',\n",
       "       'confirmed_cases_percent', 'deaths_total', 'deaths_percent',\n",
       "       'population_percent'],\n",
       "      dtype='object')"
      ]
     },
     "execution_count": 50,
     "metadata": {},
     "output_type": "execute_result"
    }
   ],
   "source": [
    "latimes.columns"
   ]
  },
  {
   "cell_type": "markdown",
   "metadata": {},
   "source": [
    "# heat map attempt"
   ]
  },
  {
   "cell_type": "code",
   "execution_count": 60,
   "metadata": {},
   "outputs": [],
   "source": [
    "latimes_sum = latimes.query('age==\"all\"')"
   ]
  },
  {
   "cell_type": "code",
   "execution_count": 64,
   "metadata": {},
   "outputs": [
    {
     "data": {
      "text/html": [
       "<div>\n",
       "<style scoped>\n",
       "    .dataframe tbody tr th:only-of-type {\n",
       "        vertical-align: middle;\n",
       "    }\n",
       "\n",
       "    .dataframe tbody tr th {\n",
       "        vertical-align: top;\n",
       "    }\n",
       "\n",
       "    .dataframe thead th {\n",
       "        text-align: right;\n",
       "    }\n",
       "</style>\n",
       "<table border=\"1\" class=\"dataframe\">\n",
       "  <thead>\n",
       "    <tr style=\"text-align: right;\">\n",
       "      <th></th>\n",
       "      <th>date</th>\n",
       "      <th>race</th>\n",
       "      <th>age</th>\n",
       "      <th>confirmed_cases_total</th>\n",
       "      <th>confirmed_cases_percent</th>\n",
       "      <th>deaths_total</th>\n",
       "      <th>deaths_percent</th>\n",
       "      <th>population_percent</th>\n",
       "      <th>new_cases</th>\n",
       "    </tr>\n",
       "  </thead>\n",
       "  <tbody>\n",
       "    <tr>\n",
       "      <th>0</th>\n",
       "      <td>2020-06-29</td>\n",
       "      <td>asian</td>\n",
       "      <td>0-17</td>\n",
       "      <td>287</td>\n",
       "      <td>0.024</td>\n",
       "      <td>0</td>\n",
       "      <td>0.000</td>\n",
       "      <td>0.130</td>\n",
       "      <td>-10316.0</td>\n",
       "    </tr>\n",
       "    <tr>\n",
       "      <th>1</th>\n",
       "      <td>2020-06-29</td>\n",
       "      <td>asian</td>\n",
       "      <td>18+</td>\n",
       "      <td>10603</td>\n",
       "      <td>0.076</td>\n",
       "      <td>871</td>\n",
       "      <td>0.150</td>\n",
       "      <td>0.165</td>\n",
       "      <td>8153.0</td>\n",
       "    </tr>\n",
       "    <tr>\n",
       "      <th>2</th>\n",
       "      <td>2020-06-29</td>\n",
       "      <td>asian</td>\n",
       "      <td>18-34</td>\n",
       "      <td>2450</td>\n",
       "      <td>0.053</td>\n",
       "      <td>4</td>\n",
       "      <td>0.066</td>\n",
       "      <td>0.151</td>\n",
       "      <td>-326.0</td>\n",
       "    </tr>\n",
       "    <tr>\n",
       "      <th>3</th>\n",
       "      <td>2020-06-29</td>\n",
       "      <td>asian</td>\n",
       "      <td>35-49</td>\n",
       "      <td>2776</td>\n",
       "      <td>0.073</td>\n",
       "      <td>22</td>\n",
       "      <td>0.077</td>\n",
       "      <td>0.179</td>\n",
       "      <td>7.0</td>\n",
       "    </tr>\n",
       "    <tr>\n",
       "      <th>4</th>\n",
       "      <td>2020-06-29</td>\n",
       "      <td>asian</td>\n",
       "      <td>50-64</td>\n",
       "      <td>2769</td>\n",
       "      <td>0.086</td>\n",
       "      <td>88</td>\n",
       "      <td>0.092</td>\n",
       "      <td>0.167</td>\n",
       "      <td>1299.0</td>\n",
       "    </tr>\n",
       "    <tr>\n",
       "      <th>...</th>\n",
       "      <td>...</td>\n",
       "      <td>...</td>\n",
       "      <td>...</td>\n",
       "      <td>...</td>\n",
       "      <td>...</td>\n",
       "      <td>...</td>\n",
       "      <td>...</td>\n",
       "      <td>...</td>\n",
       "      <td>...</td>\n",
       "    </tr>\n",
       "    <tr>\n",
       "      <th>1275</th>\n",
       "      <td>2020-05-14</td>\n",
       "      <td>white</td>\n",
       "      <td>35-49</td>\n",
       "      <td>2392</td>\n",
       "      <td>0.185</td>\n",
       "      <td>11</td>\n",
       "      <td>0.078</td>\n",
       "      <td>0.325</td>\n",
       "      <td>-670.0</td>\n",
       "    </tr>\n",
       "    <tr>\n",
       "      <th>1276</th>\n",
       "      <td>2020-05-14</td>\n",
       "      <td>white</td>\n",
       "      <td>50-64</td>\n",
       "      <td>3062</td>\n",
       "      <td>0.237</td>\n",
       "      <td>96</td>\n",
       "      <td>0.219</td>\n",
       "      <td>0.430</td>\n",
       "      <td>629.0</td>\n",
       "    </tr>\n",
       "    <tr>\n",
       "      <th>1277</th>\n",
       "      <td>2020-05-14</td>\n",
       "      <td>white</td>\n",
       "      <td>65-79</td>\n",
       "      <td>2433</td>\n",
       "      <td>0.360</td>\n",
       "      <td>312</td>\n",
       "      <td>0.337</td>\n",
       "      <td>0.540</td>\n",
       "      <td>768.0</td>\n",
       "    </tr>\n",
       "    <tr>\n",
       "      <th>1278</th>\n",
       "      <td>2020-05-14</td>\n",
       "      <td>white</td>\n",
       "      <td>80+</td>\n",
       "      <td>1665</td>\n",
       "      <td>0.438</td>\n",
       "      <td>569</td>\n",
       "      <td>0.421</td>\n",
       "      <td>0.572</td>\n",
       "      <td>-10291.0</td>\n",
       "    </tr>\n",
       "    <tr>\n",
       "      <th>1279</th>\n",
       "      <td>2020-05-14</td>\n",
       "      <td>white</td>\n",
       "      <td>all</td>\n",
       "      <td>11956</td>\n",
       "      <td>0.234</td>\n",
       "      <td>991</td>\n",
       "      <td>0.343</td>\n",
       "      <td>0.366</td>\n",
       "      <td>NaN</td>\n",
       "    </tr>\n",
       "  </tbody>\n",
       "</table>\n",
       "<p>1280 rows × 9 columns</p>\n",
       "</div>"
      ],
      "text/plain": [
       "            date   race    age  confirmed_cases_total  \\\n",
       "0     2020-06-29  asian   0-17                    287   \n",
       "1     2020-06-29  asian    18+                  10603   \n",
       "2     2020-06-29  asian  18-34                   2450   \n",
       "3     2020-06-29  asian  35-49                   2776   \n",
       "4     2020-06-29  asian  50-64                   2769   \n",
       "...          ...    ...    ...                    ...   \n",
       "1275  2020-05-14  white  35-49                   2392   \n",
       "1276  2020-05-14  white  50-64                   3062   \n",
       "1277  2020-05-14  white  65-79                   2433   \n",
       "1278  2020-05-14  white    80+                   1665   \n",
       "1279  2020-05-14  white    all                  11956   \n",
       "\n",
       "      confirmed_cases_percent  deaths_total  deaths_percent  \\\n",
       "0                       0.024             0           0.000   \n",
       "1                       0.076           871           0.150   \n",
       "2                       0.053             4           0.066   \n",
       "3                       0.073            22           0.077   \n",
       "4                       0.086            88           0.092   \n",
       "...                       ...           ...             ...   \n",
       "1275                    0.185            11           0.078   \n",
       "1276                    0.237            96           0.219   \n",
       "1277                    0.360           312           0.337   \n",
       "1278                    0.438           569           0.421   \n",
       "1279                    0.234           991           0.343   \n",
       "\n",
       "      population_percent  new_cases  \n",
       "0                  0.130   -10316.0  \n",
       "1                  0.165     8153.0  \n",
       "2                  0.151     -326.0  \n",
       "3                  0.179        7.0  \n",
       "4                  0.167     1299.0  \n",
       "...                  ...        ...  \n",
       "1275               0.325     -670.0  \n",
       "1276               0.430      629.0  \n",
       "1277               0.540      768.0  \n",
       "1278               0.572   -10291.0  \n",
       "1279               0.366        NaN  \n",
       "\n",
       "[1280 rows x 9 columns]"
      ]
     },
     "execution_count": 64,
     "metadata": {},
     "output_type": "execute_result"
    }
   ],
   "source": [
    "latimes['new_cases'] = latimes['confirmed_cases_total'].diff(periods=-1)\n",
    "latimes"
   ]
  },
  {
   "cell_type": "code",
   "execution_count": 61,
   "metadata": {},
   "outputs": [
    {
     "data": {
      "application/vnd.plotly.v1+json": {
       "config": {
        "plotlyServerURL": "https://plot.ly"
       },
       "data": [
        {
         "type": "heatmap",
         "x": [
          "2020-06-29",
          "2020-06-29",
          "2020-06-29",
          "2020-06-29",
          "2020-06-29",
          "2020-06-27",
          "2020-06-27",
          "2020-06-27",
          "2020-06-27",
          "2020-06-27",
          "2020-06-26",
          "2020-06-26",
          "2020-06-26",
          "2020-06-26",
          "2020-06-26",
          "2020-06-25",
          "2020-06-25",
          "2020-06-25",
          "2020-06-25",
          "2020-06-25",
          "2020-06-24",
          "2020-06-24",
          "2020-06-24",
          "2020-06-24",
          "2020-06-24",
          "2020-06-23",
          "2020-06-23",
          "2020-06-23",
          "2020-06-23",
          "2020-06-23",
          "2020-06-22",
          "2020-06-22",
          "2020-06-22",
          "2020-06-22",
          "2020-06-22",
          "2020-06-21",
          "2020-06-21",
          "2020-06-21",
          "2020-06-21",
          "2020-06-21",
          "2020-06-20",
          "2020-06-20",
          "2020-06-20",
          "2020-06-20",
          "2020-06-20",
          "2020-06-19",
          "2020-06-19",
          "2020-06-19",
          "2020-06-19",
          "2020-06-19",
          "2020-06-18",
          "2020-06-18",
          "2020-06-18",
          "2020-06-18",
          "2020-06-18",
          "2020-06-17",
          "2020-06-17",
          "2020-06-17",
          "2020-06-17",
          "2020-06-17",
          "2020-06-15",
          "2020-06-15",
          "2020-06-15",
          "2020-06-15",
          "2020-06-15",
          "2020-06-14",
          "2020-06-14",
          "2020-06-14",
          "2020-06-14",
          "2020-06-14",
          "2020-06-13",
          "2020-06-13",
          "2020-06-13",
          "2020-06-13",
          "2020-06-13",
          "2020-06-12",
          "2020-06-12",
          "2020-06-12",
          "2020-06-12",
          "2020-06-12",
          "2020-06-11",
          "2020-06-11",
          "2020-06-11",
          "2020-06-11",
          "2020-06-11",
          "2020-06-10",
          "2020-06-10",
          "2020-06-10",
          "2020-06-10",
          "2020-06-10",
          "2020-06-02",
          "2020-06-02",
          "2020-06-02",
          "2020-06-02",
          "2020-06-02",
          "2020-06-01",
          "2020-06-01",
          "2020-06-01",
          "2020-06-01",
          "2020-06-01",
          "2020-05-31",
          "2020-05-31",
          "2020-05-31",
          "2020-05-31",
          "2020-05-31",
          "2020-05-30",
          "2020-05-30",
          "2020-05-30",
          "2020-05-30",
          "2020-05-30",
          "2020-05-29",
          "2020-05-29",
          "2020-05-29",
          "2020-05-29",
          "2020-05-29",
          "2020-05-28",
          "2020-05-28",
          "2020-05-28",
          "2020-05-28",
          "2020-05-28",
          "2020-05-27",
          "2020-05-27",
          "2020-05-27",
          "2020-05-27",
          "2020-05-27",
          "2020-05-22",
          "2020-05-22",
          "2020-05-22",
          "2020-05-22",
          "2020-05-22",
          "2020-05-21",
          "2020-05-21",
          "2020-05-21",
          "2020-05-21",
          "2020-05-21",
          "2020-05-20",
          "2020-05-20",
          "2020-05-20",
          "2020-05-20",
          "2020-05-20",
          "2020-05-19",
          "2020-05-19",
          "2020-05-19",
          "2020-05-19",
          "2020-05-19",
          "2020-05-18",
          "2020-05-18",
          "2020-05-18",
          "2020-05-18",
          "2020-05-18",
          "2020-05-17",
          "2020-05-17",
          "2020-05-17",
          "2020-05-17",
          "2020-05-17",
          "2020-05-16",
          "2020-05-16",
          "2020-05-16",
          "2020-05-16",
          "2020-05-16",
          "2020-05-15",
          "2020-05-15",
          "2020-05-15",
          "2020-05-15",
          "2020-05-15",
          "2020-05-14",
          "2020-05-14",
          "2020-05-14",
          "2020-05-14",
          "2020-05-14"
         ],
         "y": [
          "asian",
          "black",
          "latino",
          "other",
          "white",
          "asian",
          "black",
          "latino",
          "other",
          "white",
          "asian",
          "black",
          "latino",
          "other",
          "white",
          "asian",
          "black",
          "latino",
          "other",
          "white",
          "asian",
          "black",
          "latino",
          "other",
          "white",
          "asian",
          "black",
          "latino",
          "other",
          "white",
          "asian",
          "black",
          "latino",
          "other",
          "white",
          "asian",
          "black",
          "latino",
          "other",
          "white",
          "asian",
          "black",
          "latino",
          "other",
          "white",
          "asian",
          "black",
          "latino",
          "other",
          "white",
          "asian",
          "black",
          "latino",
          "other",
          "white",
          "asian",
          "black",
          "latino",
          "other",
          "white",
          "asian",
          "black",
          "latino",
          "other",
          "white",
          "asian",
          "black",
          "latino",
          "other",
          "white",
          "asian",
          "black",
          "latino",
          "other",
          "white",
          "asian",
          "black",
          "latino",
          "other",
          "white",
          "asian",
          "black",
          "latino",
          "other",
          "white",
          "asian",
          "black",
          "latino",
          "other",
          "white",
          "asian",
          "black",
          "latino",
          "other",
          "white",
          "asian",
          "black",
          "latino",
          "other",
          "white",
          "asian",
          "black",
          "latino",
          "other",
          "white",
          "asian",
          "black",
          "latino",
          "other",
          "white",
          "asian",
          "black",
          "latino",
          "other",
          "white",
          "asian",
          "black",
          "latino",
          "other",
          "white",
          "asian",
          "black",
          "latino",
          "other",
          "white",
          "asian",
          "black",
          "latino",
          "other",
          "white",
          "asian",
          "black",
          "latino",
          "other",
          "white",
          "asian",
          "black",
          "latino",
          "other",
          "white",
          "asian",
          "black",
          "latino",
          "other",
          "white",
          "asian",
          "black",
          "latino",
          "other",
          "white",
          "asian",
          "black",
          "latino",
          "other",
          "white",
          "asian",
          "black",
          "latino",
          "other",
          "white",
          "asian",
          "black",
          "latino",
          "other",
          "white",
          "asian",
          "black",
          "latino",
          "other",
          "white"
         ],
         "z": [
          10900,
          6557,
          83658,
          23851,
          25250,
          10624,
          6309,
          80875,
          20769,
          24242,
          10540,
          6215,
          79934,
          20113,
          23899,
          10393,
          6094,
          77926,
          19567,
          23339,
          10293,
          5981,
          76036,
          19221,
          22871,
          10109,
          5845,
          73357,
          19099,
          22500,
          9925,
          5661,
          71350,
          18129,
          21885,
          9815,
          5573,
          70439,
          17118,
          21547,
          9737,
          5485,
          69392,
          16434,
          21177,
          9604,
          5384,
          67818,
          15811,
          20780,
          9527,
          5296,
          66261,
          15325,
          20475,
          9424,
          5202,
          64787,
          14876,
          20087,
          9305,
          5128,
          63202,
          14337,
          19766,
          9144,
          4999,
          60377,
          13439,
          19240,
          9093,
          4966,
          59702,
          12974,
          19045,
          9006,
          4906,
          58415,
          12630,
          18783,
          8880,
          4832,
          56896,
          12172,
          18528,
          8809,
          4777,
          55439,
          12056,
          18312,
          8039,
          4298,
          44975,
          9437,
          16402,
          7922,
          4218,
          43951,
          8935,
          16114,
          7854,
          4172,
          43392,
          8474,
          15954,
          7821,
          4137,
          42897,
          7941,
          15843,
          7698,
          4045,
          41386,
          7283,
          15357,
          7491,
          3914,
          40134,
          6799,
          15132,
          7402,
          3863,
          38929,
          6352,
          14915,
          7004,
          3616,
          34809,
          4069,
          14007,
          6903,
          3533,
          33639,
          3916,
          13762,
          6763,
          3465,
          32662,
          3717,
          13437,
          6666,
          3418,
          31432,
          3645,
          13185,
          6545,
          3334,
          30391,
          3599,
          12960,
          6489,
          3267,
          29693,
          3508,
          12598,
          6330,
          3221,
          29208,
          3418,
          12452,
          6118,
          3178,
          27943,
          3333,
          12153,
          5941,
          3026,
          26880,
          3280,
          11956
         ]
        }
       ],
       "layout": {
        "autosize": true,
        "template": {
         "data": {
          "bar": [
           {
            "error_x": {
             "color": "#2a3f5f"
            },
            "error_y": {
             "color": "#2a3f5f"
            },
            "marker": {
             "line": {
              "color": "#E5ECF6",
              "width": 0.5
             }
            },
            "type": "bar"
           }
          ],
          "barpolar": [
           {
            "marker": {
             "line": {
              "color": "#E5ECF6",
              "width": 0.5
             }
            },
            "type": "barpolar"
           }
          ],
          "carpet": [
           {
            "aaxis": {
             "endlinecolor": "#2a3f5f",
             "gridcolor": "white",
             "linecolor": "white",
             "minorgridcolor": "white",
             "startlinecolor": "#2a3f5f"
            },
            "baxis": {
             "endlinecolor": "#2a3f5f",
             "gridcolor": "white",
             "linecolor": "white",
             "minorgridcolor": "white",
             "startlinecolor": "#2a3f5f"
            },
            "type": "carpet"
           }
          ],
          "choropleth": [
           {
            "colorbar": {
             "outlinewidth": 0,
             "ticks": ""
            },
            "type": "choropleth"
           }
          ],
          "contour": [
           {
            "colorbar": {
             "outlinewidth": 0,
             "ticks": ""
            },
            "colorscale": [
             [
              0,
              "#0d0887"
             ],
             [
              0.1111111111111111,
              "#46039f"
             ],
             [
              0.2222222222222222,
              "#7201a8"
             ],
             [
              0.3333333333333333,
              "#9c179e"
             ],
             [
              0.4444444444444444,
              "#bd3786"
             ],
             [
              0.5555555555555556,
              "#d8576b"
             ],
             [
              0.6666666666666666,
              "#ed7953"
             ],
             [
              0.7777777777777778,
              "#fb9f3a"
             ],
             [
              0.8888888888888888,
              "#fdca26"
             ],
             [
              1,
              "#f0f921"
             ]
            ],
            "type": "contour"
           }
          ],
          "contourcarpet": [
           {
            "colorbar": {
             "outlinewidth": 0,
             "ticks": ""
            },
            "type": "contourcarpet"
           }
          ],
          "heatmap": [
           {
            "colorbar": {
             "outlinewidth": 0,
             "ticks": ""
            },
            "colorscale": [
             [
              0,
              "#0d0887"
             ],
             [
              0.1111111111111111,
              "#46039f"
             ],
             [
              0.2222222222222222,
              "#7201a8"
             ],
             [
              0.3333333333333333,
              "#9c179e"
             ],
             [
              0.4444444444444444,
              "#bd3786"
             ],
             [
              0.5555555555555556,
              "#d8576b"
             ],
             [
              0.6666666666666666,
              "#ed7953"
             ],
             [
              0.7777777777777778,
              "#fb9f3a"
             ],
             [
              0.8888888888888888,
              "#fdca26"
             ],
             [
              1,
              "#f0f921"
             ]
            ],
            "type": "heatmap"
           }
          ],
          "heatmapgl": [
           {
            "colorbar": {
             "outlinewidth": 0,
             "ticks": ""
            },
            "colorscale": [
             [
              0,
              "#0d0887"
             ],
             [
              0.1111111111111111,
              "#46039f"
             ],
             [
              0.2222222222222222,
              "#7201a8"
             ],
             [
              0.3333333333333333,
              "#9c179e"
             ],
             [
              0.4444444444444444,
              "#bd3786"
             ],
             [
              0.5555555555555556,
              "#d8576b"
             ],
             [
              0.6666666666666666,
              "#ed7953"
             ],
             [
              0.7777777777777778,
              "#fb9f3a"
             ],
             [
              0.8888888888888888,
              "#fdca26"
             ],
             [
              1,
              "#f0f921"
             ]
            ],
            "type": "heatmapgl"
           }
          ],
          "histogram": [
           {
            "marker": {
             "colorbar": {
              "outlinewidth": 0,
              "ticks": ""
             }
            },
            "type": "histogram"
           }
          ],
          "histogram2d": [
           {
            "colorbar": {
             "outlinewidth": 0,
             "ticks": ""
            },
            "colorscale": [
             [
              0,
              "#0d0887"
             ],
             [
              0.1111111111111111,
              "#46039f"
             ],
             [
              0.2222222222222222,
              "#7201a8"
             ],
             [
              0.3333333333333333,
              "#9c179e"
             ],
             [
              0.4444444444444444,
              "#bd3786"
             ],
             [
              0.5555555555555556,
              "#d8576b"
             ],
             [
              0.6666666666666666,
              "#ed7953"
             ],
             [
              0.7777777777777778,
              "#fb9f3a"
             ],
             [
              0.8888888888888888,
              "#fdca26"
             ],
             [
              1,
              "#f0f921"
             ]
            ],
            "type": "histogram2d"
           }
          ],
          "histogram2dcontour": [
           {
            "colorbar": {
             "outlinewidth": 0,
             "ticks": ""
            },
            "colorscale": [
             [
              0,
              "#0d0887"
             ],
             [
              0.1111111111111111,
              "#46039f"
             ],
             [
              0.2222222222222222,
              "#7201a8"
             ],
             [
              0.3333333333333333,
              "#9c179e"
             ],
             [
              0.4444444444444444,
              "#bd3786"
             ],
             [
              0.5555555555555556,
              "#d8576b"
             ],
             [
              0.6666666666666666,
              "#ed7953"
             ],
             [
              0.7777777777777778,
              "#fb9f3a"
             ],
             [
              0.8888888888888888,
              "#fdca26"
             ],
             [
              1,
              "#f0f921"
             ]
            ],
            "type": "histogram2dcontour"
           }
          ],
          "mesh3d": [
           {
            "colorbar": {
             "outlinewidth": 0,
             "ticks": ""
            },
            "type": "mesh3d"
           }
          ],
          "parcoords": [
           {
            "line": {
             "colorbar": {
              "outlinewidth": 0,
              "ticks": ""
             }
            },
            "type": "parcoords"
           }
          ],
          "pie": [
           {
            "automargin": true,
            "type": "pie"
           }
          ],
          "scatter": [
           {
            "marker": {
             "colorbar": {
              "outlinewidth": 0,
              "ticks": ""
             }
            },
            "type": "scatter"
           }
          ],
          "scatter3d": [
           {
            "line": {
             "colorbar": {
              "outlinewidth": 0,
              "ticks": ""
             }
            },
            "marker": {
             "colorbar": {
              "outlinewidth": 0,
              "ticks": ""
             }
            },
            "type": "scatter3d"
           }
          ],
          "scattercarpet": [
           {
            "marker": {
             "colorbar": {
              "outlinewidth": 0,
              "ticks": ""
             }
            },
            "type": "scattercarpet"
           }
          ],
          "scattergeo": [
           {
            "marker": {
             "colorbar": {
              "outlinewidth": 0,
              "ticks": ""
             }
            },
            "type": "scattergeo"
           }
          ],
          "scattergl": [
           {
            "marker": {
             "colorbar": {
              "outlinewidth": 0,
              "ticks": ""
             }
            },
            "type": "scattergl"
           }
          ],
          "scattermapbox": [
           {
            "marker": {
             "colorbar": {
              "outlinewidth": 0,
              "ticks": ""
             }
            },
            "type": "scattermapbox"
           }
          ],
          "scatterpolar": [
           {
            "marker": {
             "colorbar": {
              "outlinewidth": 0,
              "ticks": ""
             }
            },
            "type": "scatterpolar"
           }
          ],
          "scatterpolargl": [
           {
            "marker": {
             "colorbar": {
              "outlinewidth": 0,
              "ticks": ""
             }
            },
            "type": "scatterpolargl"
           }
          ],
          "scatterternary": [
           {
            "marker": {
             "colorbar": {
              "outlinewidth": 0,
              "ticks": ""
             }
            },
            "type": "scatterternary"
           }
          ],
          "surface": [
           {
            "colorbar": {
             "outlinewidth": 0,
             "ticks": ""
            },
            "colorscale": [
             [
              0,
              "#0d0887"
             ],
             [
              0.1111111111111111,
              "#46039f"
             ],
             [
              0.2222222222222222,
              "#7201a8"
             ],
             [
              0.3333333333333333,
              "#9c179e"
             ],
             [
              0.4444444444444444,
              "#bd3786"
             ],
             [
              0.5555555555555556,
              "#d8576b"
             ],
             [
              0.6666666666666666,
              "#ed7953"
             ],
             [
              0.7777777777777778,
              "#fb9f3a"
             ],
             [
              0.8888888888888888,
              "#fdca26"
             ],
             [
              1,
              "#f0f921"
             ]
            ],
            "type": "surface"
           }
          ],
          "table": [
           {
            "cells": {
             "fill": {
              "color": "#EBF0F8"
             },
             "line": {
              "color": "white"
             }
            },
            "header": {
             "fill": {
              "color": "#C8D4E3"
             },
             "line": {
              "color": "white"
             }
            },
            "type": "table"
           }
          ]
         },
         "layout": {
          "annotationdefaults": {
           "arrowcolor": "#2a3f5f",
           "arrowhead": 0,
           "arrowwidth": 1
          },
          "coloraxis": {
           "colorbar": {
            "outlinewidth": 0,
            "ticks": ""
           }
          },
          "colorscale": {
           "diverging": [
            [
             0,
             "#8e0152"
            ],
            [
             0.1,
             "#c51b7d"
            ],
            [
             0.2,
             "#de77ae"
            ],
            [
             0.3,
             "#f1b6da"
            ],
            [
             0.4,
             "#fde0ef"
            ],
            [
             0.5,
             "#f7f7f7"
            ],
            [
             0.6,
             "#e6f5d0"
            ],
            [
             0.7,
             "#b8e186"
            ],
            [
             0.8,
             "#7fbc41"
            ],
            [
             0.9,
             "#4d9221"
            ],
            [
             1,
             "#276419"
            ]
           ],
           "sequential": [
            [
             0,
             "#0d0887"
            ],
            [
             0.1111111111111111,
             "#46039f"
            ],
            [
             0.2222222222222222,
             "#7201a8"
            ],
            [
             0.3333333333333333,
             "#9c179e"
            ],
            [
             0.4444444444444444,
             "#bd3786"
            ],
            [
             0.5555555555555556,
             "#d8576b"
            ],
            [
             0.6666666666666666,
             "#ed7953"
            ],
            [
             0.7777777777777778,
             "#fb9f3a"
            ],
            [
             0.8888888888888888,
             "#fdca26"
            ],
            [
             1,
             "#f0f921"
            ]
           ],
           "sequentialminus": [
            [
             0,
             "#0d0887"
            ],
            [
             0.1111111111111111,
             "#46039f"
            ],
            [
             0.2222222222222222,
             "#7201a8"
            ],
            [
             0.3333333333333333,
             "#9c179e"
            ],
            [
             0.4444444444444444,
             "#bd3786"
            ],
            [
             0.5555555555555556,
             "#d8576b"
            ],
            [
             0.6666666666666666,
             "#ed7953"
            ],
            [
             0.7777777777777778,
             "#fb9f3a"
            ],
            [
             0.8888888888888888,
             "#fdca26"
            ],
            [
             1,
             "#f0f921"
            ]
           ]
          },
          "colorway": [
           "#636efa",
           "#EF553B",
           "#00cc96",
           "#ab63fa",
           "#FFA15A",
           "#19d3f3",
           "#FF6692",
           "#B6E880",
           "#FF97FF",
           "#FECB52"
          ],
          "font": {
           "color": "#2a3f5f"
          },
          "geo": {
           "bgcolor": "white",
           "lakecolor": "white",
           "landcolor": "#E5ECF6",
           "showlakes": true,
           "showland": true,
           "subunitcolor": "white"
          },
          "hoverlabel": {
           "align": "left"
          },
          "hovermode": "closest",
          "mapbox": {
           "style": "light"
          },
          "paper_bgcolor": "white",
          "plot_bgcolor": "#E5ECF6",
          "polar": {
           "angularaxis": {
            "gridcolor": "white",
            "linecolor": "white",
            "ticks": ""
           },
           "bgcolor": "#E5ECF6",
           "radialaxis": {
            "gridcolor": "white",
            "linecolor": "white",
            "ticks": ""
           }
          },
          "scene": {
           "xaxis": {
            "backgroundcolor": "#E5ECF6",
            "gridcolor": "white",
            "gridwidth": 2,
            "linecolor": "white",
            "showbackground": true,
            "ticks": "",
            "zerolinecolor": "white"
           },
           "yaxis": {
            "backgroundcolor": "#E5ECF6",
            "gridcolor": "white",
            "gridwidth": 2,
            "linecolor": "white",
            "showbackground": true,
            "ticks": "",
            "zerolinecolor": "white"
           },
           "zaxis": {
            "backgroundcolor": "#E5ECF6",
            "gridcolor": "white",
            "gridwidth": 2,
            "linecolor": "white",
            "showbackground": true,
            "ticks": "",
            "zerolinecolor": "white"
           }
          },
          "shapedefaults": {
           "line": {
            "color": "#2a3f5f"
           }
          },
          "ternary": {
           "aaxis": {
            "gridcolor": "white",
            "linecolor": "white",
            "ticks": ""
           },
           "baxis": {
            "gridcolor": "white",
            "linecolor": "white",
            "ticks": ""
           },
           "bgcolor": "#E5ECF6",
           "caxis": {
            "gridcolor": "white",
            "linecolor": "white",
            "ticks": ""
           }
          },
          "title": {
           "x": 0.05
          },
          "xaxis": {
           "automargin": true,
           "gridcolor": "white",
           "linecolor": "white",
           "ticks": "",
           "title": {
            "standoff": 15
           },
           "zerolinecolor": "white",
           "zerolinewidth": 2
          },
          "yaxis": {
           "automargin": true,
           "gridcolor": "white",
           "linecolor": "white",
           "ticks": "",
           "title": {
            "standoff": 15
           },
           "zerolinecolor": "white",
           "zerolinewidth": 2
          }
         }
        },
        "xaxis": {
         "autorange": true,
         "range": [
          "2020-05-13 12:00",
          "2020-06-30"
         ],
         "type": "date"
        },
        "yaxis": {
         "autorange": true,
         "range": [
          -0.5,
          4.5
         ],
         "type": "category"
        }
       }
      },
      "image/png": "[encoded data removed]",
      "text/html": [
       "<div>\n",
       "        \n",
       "        \n",
       "            <div id=\"50e07032-605b-4e8e-aa67-751961c02e28\" class=\"plotly-graph-div\" style=\"height:525px; width:100%;\"></div>\n",
       "            <script type=\"text/javascript\">\n",
       "                require([\"plotly\"], function(Plotly) {\n",
       "                    window.PLOTLYENV=window.PLOTLYENV || {};\n",
       "                    \n",
       "                if (document.getElementById(\"50e07032-605b-4e8e-aa67-751961c02e28\")) {\n",
       "                    Plotly.newPlot(\n",
       "                        '50e07032-605b-4e8e-aa67-751961c02e28',\n",
       "                        [{\"type\": \"heatmap\", \"x\": [\"2020-06-29\", \"2020-06-29\", \"2020-06-29\", \"2020-06-29\", \"2020-06-29\", \"2020-06-27\", \"2020-06-27\", \"2020-06-27\", \"2020-06-27\", \"2020-06-27\", \"2020-06-26\", \"2020-06-26\", \"2020-06-26\", \"2020-06-26\", \"2020-06-26\", \"2020-06-25\", \"2020-06-25\", \"2020-06-25\", \"2020-06-25\", \"2020-06-25\", \"2020-06-24\", \"2020-06-24\", \"2020-06-24\", \"2020-06-24\", \"2020-06-24\", \"2020-06-23\", \"2020-06-23\", \"2020-06-23\", \"2020-06-23\", \"2020-06-23\", \"2020-06-22\", \"2020-06-22\", \"2020-06-22\", \"2020-06-22\", \"2020-06-22\", \"2020-06-21\", \"2020-06-21\", \"2020-06-21\", \"2020-06-21\", \"2020-06-21\", \"2020-06-20\", \"2020-06-20\", \"2020-06-20\", \"2020-06-20\", \"2020-06-20\", \"2020-06-19\", \"2020-06-19\", \"2020-06-19\", \"2020-06-19\", \"2020-06-19\", \"2020-06-18\", \"2020-06-18\", \"2020-06-18\", \"2020-06-18\", \"2020-06-18\", \"2020-06-17\", \"2020-06-17\", \"2020-06-17\", \"2020-06-17\", \"2020-06-17\", \"2020-06-15\", \"2020-06-15\", \"2020-06-15\", \"2020-06-15\", \"2020-06-15\", \"2020-06-14\", \"2020-06-14\", \"2020-06-14\", \"2020-06-14\", \"2020-06-14\", \"2020-06-13\", \"2020-06-13\", \"2020-06-13\", \"2020-06-13\", \"2020-06-13\", \"2020-06-12\", \"2020-06-12\", \"2020-06-12\", \"2020-06-12\", \"2020-06-12\", \"2020-06-11\", \"2020-06-11\", \"2020-06-11\", \"2020-06-11\", \"2020-06-11\", \"2020-06-10\", \"2020-06-10\", \"2020-06-10\", \"2020-06-10\", \"2020-06-10\", \"2020-06-02\", \"2020-06-02\", \"2020-06-02\", \"2020-06-02\", \"2020-06-02\", \"2020-06-01\", \"2020-06-01\", \"2020-06-01\", \"2020-06-01\", \"2020-06-01\", \"2020-05-31\", \"2020-05-31\", \"2020-05-31\", \"2020-05-31\", \"2020-05-31\", \"2020-05-30\", \"2020-05-30\", \"2020-05-30\", \"2020-05-30\", \"2020-05-30\", \"2020-05-29\", \"2020-05-29\", \"2020-05-29\", \"2020-05-29\", \"2020-05-29\", \"2020-05-28\", \"2020-05-28\", \"2020-05-28\", \"2020-05-28\", \"2020-05-28\", \"2020-05-27\", \"2020-05-27\", \"2020-05-27\", \"2020-05-27\", \"2020-05-27\", \"2020-05-22\", \"2020-05-22\", \"2020-05-22\", \"2020-05-22\", \"2020-05-22\", \"2020-05-21\", \"2020-05-21\", \"2020-05-21\", \"2020-05-21\", \"2020-05-21\", \"2020-05-20\", \"2020-05-20\", \"2020-05-20\", \"2020-05-20\", \"2020-05-20\", \"2020-05-19\", \"2020-05-19\", \"2020-05-19\", \"2020-05-19\", \"2020-05-19\", \"2020-05-18\", \"2020-05-18\", \"2020-05-18\", \"2020-05-18\", \"2020-05-18\", \"2020-05-17\", \"2020-05-17\", \"2020-05-17\", \"2020-05-17\", \"2020-05-17\", \"2020-05-16\", \"2020-05-16\", \"2020-05-16\", \"2020-05-16\", \"2020-05-16\", \"2020-05-15\", \"2020-05-15\", \"2020-05-15\", \"2020-05-15\", \"2020-05-15\", \"2020-05-14\", \"2020-05-14\", \"2020-05-14\", \"2020-05-14\", \"2020-05-14\"], \"y\": [\"asian\", \"black\", \"latino\", \"other\", \"white\", \"asian\", \"black\", \"latino\", \"other\", \"white\", \"asian\", \"black\", \"latino\", \"other\", \"white\", \"asian\", \"black\", \"latino\", \"other\", \"white\", \"asian\", \"black\", \"latino\", \"other\", \"white\", \"asian\", \"black\", \"latino\", \"other\", \"white\", \"asian\", \"black\", \"latino\", \"other\", \"white\", \"asian\", \"black\", \"latino\", \"other\", \"white\", \"asian\", \"black\", \"latino\", \"other\", \"white\", \"asian\", \"black\", \"latino\", \"other\", \"white\", \"asian\", \"black\", \"latino\", \"other\", \"white\", \"asian\", \"black\", \"latino\", \"other\", \"white\", \"asian\", \"black\", \"latino\", \"other\", \"white\", \"asian\", \"black\", \"latino\", \"other\", \"white\", \"asian\", \"black\", \"latino\", \"other\", \"white\", \"asian\", \"black\", \"latino\", \"other\", \"white\", \"asian\", \"black\", \"latino\", \"other\", \"white\", \"asian\", \"black\", \"latino\", \"other\", \"white\", \"asian\", \"black\", \"latino\", \"other\", \"white\", \"asian\", \"black\", \"latino\", \"other\", \"white\", \"asian\", \"black\", \"latino\", \"other\", \"white\", \"asian\", \"black\", \"latino\", \"other\", \"white\", \"asian\", \"black\", \"latino\", \"other\", \"white\", \"asian\", \"black\", \"latino\", \"other\", \"white\", \"asian\", \"black\", \"latino\", \"other\", \"white\", \"asian\", \"black\", \"latino\", \"other\", \"white\", \"asian\", \"black\", \"latino\", \"other\", \"white\", \"asian\", \"black\", \"latino\", \"other\", \"white\", \"asian\", \"black\", \"latino\", \"other\", \"white\", \"asian\", \"black\", \"latino\", \"other\", \"white\", \"asian\", \"black\", \"latino\", \"other\", \"white\", \"asian\", \"black\", \"latino\", \"other\", \"white\", \"asian\", \"black\", \"latino\", \"other\", \"white\", \"asian\", \"black\", \"latino\", \"other\", \"white\"], \"z\": [10900, 6557, 83658, 23851, 25250, 10624, 6309, 80875, 20769, 24242, 10540, 6215, 79934, 20113, 23899, 10393, 6094, 77926, 19567, 23339, 10293, 5981, 76036, 19221, 22871, 10109, 5845, 73357, 19099, 22500, 9925, 5661, 71350, 18129, 21885, 9815, 5573, 70439, 17118, 21547, 9737, 5485, 69392, 16434, 21177, 9604, 5384, 67818, 15811, 20780, 9527, 5296, 66261, 15325, 20475, 9424, 5202, 64787, 14876, 20087, 9305, 5128, 63202, 14337, 19766, 9144, 4999, 60377, 13439, 19240, 9093, 4966, 59702, 12974, 19045, 9006, 4906, 58415, 12630, 18783, 8880, 4832, 56896, 12172, 18528, 8809, 4777, 55439, 12056, 18312, 8039, 4298, 44975, 9437, 16402, 7922, 4218, 43951, 8935, 16114, 7854, 4172, 43392, 8474, 15954, 7821, 4137, 42897, 7941, 15843, 7698, 4045, 41386, 7283, 15357, 7491, 3914, 40134, 6799, 15132, 7402, 3863, 38929, 6352, 14915, 7004, 3616, 34809, 4069, 14007, 6903, 3533, 33639, 3916, 13762, 6763, 3465, 32662, 3717, 13437, 6666, 3418, 31432, 3645, 13185, 6545, 3334, 30391, 3599, 12960, 6489, 3267, 29693, 3508, 12598, 6330, 3221, 29208, 3418, 12452, 6118, 3178, 27943, 3333, 12153, 5941, 3026, 26880, 3280, 11956]}],\n",
       "                        {\"template\": {\"data\": {\"bar\": [{\"error_x\": {\"color\": \"#2a3f5f\"}, \"error_y\": {\"color\": \"#2a3f5f\"}, \"marker\": {\"line\": {\"color\": \"#E5ECF6\", \"width\": 0.5}}, \"type\": \"bar\"}], \"barpolar\": [{\"marker\": {\"line\": {\"color\": \"#E5ECF6\", \"width\": 0.5}}, \"type\": \"barpolar\"}], \"carpet\": [{\"aaxis\": {\"endlinecolor\": \"#2a3f5f\", \"gridcolor\": \"white\", \"linecolor\": \"white\", \"minorgridcolor\": \"white\", \"startlinecolor\": \"#2a3f5f\"}, \"baxis\": {\"endlinecolor\": \"#2a3f5f\", \"gridcolor\": \"white\", \"linecolor\": \"white\", \"minorgridcolor\": \"white\", \"startlinecolor\": \"#2a3f5f\"}, \"type\": \"carpet\"}], \"choropleth\": [{\"colorbar\": {\"outlinewidth\": 0, \"ticks\": \"\"}, \"type\": \"choropleth\"}], \"contour\": [{\"colorbar\": {\"outlinewidth\": 0, \"ticks\": \"\"}, \"colorscale\": [[0.0, \"#0d0887\"], [0.1111111111111111, \"#46039f\"], [0.2222222222222222, \"#7201a8\"], [0.3333333333333333, \"#9c179e\"], [0.4444444444444444, \"#bd3786\"], [0.5555555555555556, \"#d8576b\"], [0.6666666666666666, \"#ed7953\"], [0.7777777777777778, \"#fb9f3a\"], [0.8888888888888888, \"#fdca26\"], [1.0, \"#f0f921\"]], \"type\": \"contour\"}], \"contourcarpet\": [{\"colorbar\": {\"outlinewidth\": 0, \"ticks\": \"\"}, \"type\": \"contourcarpet\"}], \"heatmap\": [{\"colorbar\": {\"outlinewidth\": 0, \"ticks\": \"\"}, \"colorscale\": [[0.0, \"#0d0887\"], [0.1111111111111111, \"#46039f\"], [0.2222222222222222, \"#7201a8\"], [0.3333333333333333, \"#9c179e\"], [0.4444444444444444, \"#bd3786\"], [0.5555555555555556, \"#d8576b\"], [0.6666666666666666, \"#ed7953\"], [0.7777777777777778, \"#fb9f3a\"], [0.8888888888888888, \"#fdca26\"], [1.0, \"#f0f921\"]], \"type\": \"heatmap\"}], \"heatmapgl\": [{\"colorbar\": {\"outlinewidth\": 0, \"ticks\": \"\"}, \"colorscale\": [[0.0, \"#0d0887\"], [0.1111111111111111, \"#46039f\"], [0.2222222222222222, \"#7201a8\"], [0.3333333333333333, \"#9c179e\"], [0.4444444444444444, \"#bd3786\"], [0.5555555555555556, \"#d8576b\"], [0.6666666666666666, \"#ed7953\"], [0.7777777777777778, \"#fb9f3a\"], [0.8888888888888888, \"#fdca26\"], [1.0, \"#f0f921\"]], \"type\": \"heatmapgl\"}], \"histogram\": [{\"marker\": {\"colorbar\": {\"outlinewidth\": 0, \"ticks\": \"\"}}, \"type\": \"histogram\"}], \"histogram2d\": [{\"colorbar\": {\"outlinewidth\": 0, \"ticks\": \"\"}, \"colorscale\": [[0.0, \"#0d0887\"], [0.1111111111111111, \"#46039f\"], [0.2222222222222222, \"#7201a8\"], [0.3333333333333333, \"#9c179e\"], [0.4444444444444444, \"#bd3786\"], [0.5555555555555556, \"#d8576b\"], [0.6666666666666666, \"#ed7953\"], [0.7777777777777778, \"#fb9f3a\"], [0.8888888888888888, \"#fdca26\"], [1.0, \"#f0f921\"]], \"type\": \"histogram2d\"}], \"histogram2dcontour\": [{\"colorbar\": {\"outlinewidth\": 0, \"ticks\": \"\"}, \"colorscale\": [[0.0, \"#0d0887\"], [0.1111111111111111, \"#46039f\"], [0.2222222222222222, \"#7201a8\"], [0.3333333333333333, \"#9c179e\"], [0.4444444444444444, \"#bd3786\"], [0.5555555555555556, \"#d8576b\"], [0.6666666666666666, \"#ed7953\"], [0.7777777777777778, \"#fb9f3a\"], [0.8888888888888888, \"#fdca26\"], [1.0, \"#f0f921\"]], \"type\": \"histogram2dcontour\"}], \"mesh3d\": [{\"colorbar\": {\"outlinewidth\": 0, \"ticks\": \"\"}, \"type\": \"mesh3d\"}], \"parcoords\": [{\"line\": {\"colorbar\": {\"outlinewidth\": 0, \"ticks\": \"\"}}, \"type\": \"parcoords\"}], \"pie\": [{\"automargin\": true, \"type\": \"pie\"}], \"scatter\": [{\"marker\": {\"colorbar\": {\"outlinewidth\": 0, \"ticks\": \"\"}}, \"type\": \"scatter\"}], \"scatter3d\": [{\"line\": {\"colorbar\": {\"outlinewidth\": 0, \"ticks\": \"\"}}, \"marker\": {\"colorbar\": {\"outlinewidth\": 0, \"ticks\": \"\"}}, \"type\": \"scatter3d\"}], \"scattercarpet\": [{\"marker\": {\"colorbar\": {\"outlinewidth\": 0, \"ticks\": \"\"}}, \"type\": \"scattercarpet\"}], \"scattergeo\": [{\"marker\": {\"colorbar\": {\"outlinewidth\": 0, \"ticks\": \"\"}}, \"type\": \"scattergeo\"}], \"scattergl\": [{\"marker\": {\"colorbar\": {\"outlinewidth\": 0, \"ticks\": \"\"}}, \"type\": \"scattergl\"}], \"scattermapbox\": [{\"marker\": {\"colorbar\": {\"outlinewidth\": 0, \"ticks\": \"\"}}, \"type\": \"scattermapbox\"}], \"scatterpolar\": [{\"marker\": {\"colorbar\": {\"outlinewidth\": 0, \"ticks\": \"\"}}, \"type\": \"scatterpolar\"}], \"scatterpolargl\": [{\"marker\": {\"colorbar\": {\"outlinewidth\": 0, \"ticks\": \"\"}}, \"type\": \"scatterpolargl\"}], \"scatterternary\": [{\"marker\": {\"colorbar\": {\"outlinewidth\": 0, \"ticks\": \"\"}}, \"type\": \"scatterternary\"}], \"surface\": [{\"colorbar\": {\"outlinewidth\": 0, \"ticks\": \"\"}, \"colorscale\": [[0.0, \"#0d0887\"], [0.1111111111111111, \"#46039f\"], [0.2222222222222222, \"#7201a8\"], [0.3333333333333333, \"#9c179e\"], [0.4444444444444444, \"#bd3786\"], [0.5555555555555556, \"#d8576b\"], [0.6666666666666666, \"#ed7953\"], [0.7777777777777778, \"#fb9f3a\"], [0.8888888888888888, \"#fdca26\"], [1.0, \"#f0f921\"]], \"type\": \"surface\"}], \"table\": [{\"cells\": {\"fill\": {\"color\": \"#EBF0F8\"}, \"line\": {\"color\": \"white\"}}, \"header\": {\"fill\": {\"color\": \"#C8D4E3\"}, \"line\": {\"color\": \"white\"}}, \"type\": \"table\"}]}, \"layout\": {\"annotationdefaults\": {\"arrowcolor\": \"#2a3f5f\", \"arrowhead\": 0, \"arrowwidth\": 1}, \"coloraxis\": {\"colorbar\": {\"outlinewidth\": 0, \"ticks\": \"\"}}, \"colorscale\": {\"diverging\": [[0, \"#8e0152\"], [0.1, \"#c51b7d\"], [0.2, \"#de77ae\"], [0.3, \"#f1b6da\"], [0.4, \"#fde0ef\"], [0.5, \"#f7f7f7\"], [0.6, \"#e6f5d0\"], [0.7, \"#b8e186\"], [0.8, \"#7fbc41\"], [0.9, \"#4d9221\"], [1, \"#276419\"]], \"sequential\": [[0.0, \"#0d0887\"], [0.1111111111111111, \"#46039f\"], [0.2222222222222222, \"#7201a8\"], [0.3333333333333333, \"#9c179e\"], [0.4444444444444444, \"#bd3786\"], [0.5555555555555556, \"#d8576b\"], [0.6666666666666666, \"#ed7953\"], [0.7777777777777778, \"#fb9f3a\"], [0.8888888888888888, \"#fdca26\"], [1.0, \"#f0f921\"]], \"sequentialminus\": [[0.0, \"#0d0887\"], [0.1111111111111111, \"#46039f\"], [0.2222222222222222, \"#7201a8\"], [0.3333333333333333, \"#9c179e\"], [0.4444444444444444, \"#bd3786\"], [0.5555555555555556, \"#d8576b\"], [0.6666666666666666, \"#ed7953\"], [0.7777777777777778, \"#fb9f3a\"], [0.8888888888888888, \"#fdca26\"], [1.0, \"#f0f921\"]]}, \"colorway\": [\"#636efa\", \"#EF553B\", \"#00cc96\", \"#ab63fa\", \"#FFA15A\", \"#19d3f3\", \"#FF6692\", \"#B6E880\", \"#FF97FF\", \"#FECB52\"], \"font\": {\"color\": \"#2a3f5f\"}, \"geo\": {\"bgcolor\": \"white\", \"lakecolor\": \"white\", \"landcolor\": \"#E5ECF6\", \"showlakes\": true, \"showland\": true, \"subunitcolor\": \"white\"}, \"hoverlabel\": {\"align\": \"left\"}, \"hovermode\": \"closest\", \"mapbox\": {\"style\": \"light\"}, \"paper_bgcolor\": \"white\", \"plot_bgcolor\": \"#E5ECF6\", \"polar\": {\"angularaxis\": {\"gridcolor\": \"white\", \"linecolor\": \"white\", \"ticks\": \"\"}, \"bgcolor\": \"#E5ECF6\", \"radialaxis\": {\"gridcolor\": \"white\", \"linecolor\": \"white\", \"ticks\": \"\"}}, \"scene\": {\"xaxis\": {\"backgroundcolor\": \"#E5ECF6\", \"gridcolor\": \"white\", \"gridwidth\": 2, \"linecolor\": \"white\", \"showbackground\": true, \"ticks\": \"\", \"zerolinecolor\": \"white\"}, \"yaxis\": {\"backgroundcolor\": \"#E5ECF6\", \"gridcolor\": \"white\", \"gridwidth\": 2, \"linecolor\": \"white\", \"showbackground\": true, \"ticks\": \"\", \"zerolinecolor\": \"white\"}, \"zaxis\": {\"backgroundcolor\": \"#E5ECF6\", \"gridcolor\": \"white\", \"gridwidth\": 2, \"linecolor\": \"white\", \"showbackground\": true, \"ticks\": \"\", \"zerolinecolor\": \"white\"}}, \"shapedefaults\": {\"line\": {\"color\": \"#2a3f5f\"}}, \"ternary\": {\"aaxis\": {\"gridcolor\": \"white\", \"linecolor\": \"white\", \"ticks\": \"\"}, \"baxis\": {\"gridcolor\": \"white\", \"linecolor\": \"white\", \"ticks\": \"\"}, \"bgcolor\": \"#E5ECF6\", \"caxis\": {\"gridcolor\": \"white\", \"linecolor\": \"white\", \"ticks\": \"\"}}, \"title\": {\"x\": 0.05}, \"xaxis\": {\"automargin\": true, \"gridcolor\": \"white\", \"linecolor\": \"white\", \"ticks\": \"\", \"title\": {\"standoff\": 15}, \"zerolinecolor\": \"white\", \"zerolinewidth\": 2}, \"yaxis\": {\"automargin\": true, \"gridcolor\": \"white\", \"linecolor\": \"white\", \"ticks\": \"\", \"title\": {\"standoff\": 15}, \"zerolinecolor\": \"white\", \"zerolinewidth\": 2}}}},\n",
       "                        {\"responsive\": true}\n",
       "                    ).then(function(){\n",
       "                            \n",
       "var gd = document.getElementById('50e07032-605b-4e8e-aa67-751961c02e28');\n",
       "var x = new MutationObserver(function (mutations, observer) {{\n",
       "        var display = window.getComputedStyle(gd).display;\n",
       "        if (!display || display === 'none') {{\n",
       "            console.log([gd, 'removed!']);\n",
       "            Plotly.purge(gd);\n",
       "            observer.disconnect();\n",
       "        }}\n",
       "}});\n",
       "\n",
       "// Listen for the removal of the full notebook cells\n",
       "var notebookContainer = gd.closest('#notebook-container');\n",
       "if (notebookContainer) {{\n",
       "    x.observe(notebookContainer, {childList: true});\n",
       "}}\n",
       "\n",
       "// Listen for the clearing of the current output cell\n",
       "var outputEl = gd.closest('.output');\n",
       "if (outputEl) {{\n",
       "    x.observe(outputEl, {childList: true});\n",
       "}}\n",
       "\n",
       "                        })\n",
       "                };\n",
       "                });\n",
       "            </script>\n",
       "        </div>"
      ]
     },
     "metadata": {},
     "output_type": "display_data"
    }
   ],
   "source": [
    "fig = go.Figure(data=go.Heatmap(\n",
    "    z=latimes_sum.confirmed_cases_total,\n",
    "    x=latimes_sum.date,\n",
    "    y=latimes_sum.race\n",
    "))\n",
    "fig.show()"
   ]
  },
  {
   "cell_type": "markdown",
   "metadata": {},
   "source": [
    "# Scatter Plots\n",
    "\n",
    "Documentation: https://plotly.com/python/line-and-scatter/\n"
   ]
  },
  {
   "cell_type": "markdown",
   "metadata": {},
   "source": [
    "Let's create a non-spatial scatter plot. We will use the <a href=\"https://plotly.com/python/plotly-express/\" target=\"_blank\">plotly express</a> library, which claims to be a \"terse, consistent, high-level API for rapid data exploration and figure generation.\" It is also great for producing quick and easy maps, which is one of the main goals in this session! And, unlike other libraries, plotly express allows for user interaction with the graphic elements it produces.\n",
    "\n",
    "To create a scatter plot use the `px.scatter` function. The first argument must be the data frame you want to feed it, in this case, we will use our full dataset, `latimes`. It must be followed with an `x` and `y` values. Let's put `date` in the x axis, and `confirmed_cases` in the y axis."
   ]
  },
  {
   "cell_type": "markdown",
   "metadata": {},
   "source": [
    "### Create a simple scatter plot"
   ]
  },
  {
   "cell_type": "code",
   "execution_count": 10,
   "metadata": {},
   "outputs": [
    {
     "data": {
      "application/vnd.plotly.v1+json": {
       "config": {
        "plotlyServerURL": "https://plot.ly"
       },
       "data": [
        {
         "alignmentgroup": "True",
         "hovertemplate": "race=asian<br>date=%{x}<br>confirmed_cases_total=%{y}<extra></extra>",
         "legendgroup": "asian",
         "marker": {
          "color": "#636efa"
         },
         "name": "asian",
         "offsetgroup": "asian",
         "orientation": "v",
         "showlegend": true,
         "textposition": "auto",
         "type": "bar",
         "x": [
          "2020-06-27",
          "2020-06-27",
          "2020-06-27",
          "2020-06-27",
          "2020-06-27",
          "2020-06-27",
          "2020-06-27",
          "2020-06-27",
          "2020-06-26",
          "2020-06-26",
          "2020-06-26",
          "2020-06-26",
          "2020-06-26",
          "2020-06-26",
          "2020-06-26",
          "2020-06-26",
          "2020-06-25",
          "2020-06-25",
          "2020-06-25",
          "2020-06-25",
          "2020-06-25",
          "2020-06-25",
          "2020-06-25",
          "2020-06-25",
          "2020-06-24",
          "2020-06-24",
          "2020-06-24",
          "2020-06-24",
          "2020-06-24",
          "2020-06-24",
          "2020-06-24",
          "2020-06-24",
          "2020-06-23",
          "2020-06-23",
          "2020-06-23",
          "2020-06-23",
          "2020-06-23",
          "2020-06-23",
          "2020-06-23",
          "2020-06-23",
          "2020-06-22",
          "2020-06-22",
          "2020-06-22",
          "2020-06-22",
          "2020-06-22",
          "2020-06-22",
          "2020-06-22",
          "2020-06-22",
          "2020-06-21",
          "2020-06-21",
          "2020-06-21",
          "2020-06-21",
          "2020-06-21",
          "2020-06-21",
          "2020-06-21",
          "2020-06-21",
          "2020-06-20",
          "2020-06-20",
          "2020-06-20",
          "2020-06-20",
          "2020-06-20",
          "2020-06-20",
          "2020-06-20",
          "2020-06-20",
          "2020-06-19",
          "2020-06-19",
          "2020-06-19",
          "2020-06-19",
          "2020-06-19",
          "2020-06-19",
          "2020-06-19",
          "2020-06-19",
          "2020-06-18",
          "2020-06-18",
          "2020-06-18",
          "2020-06-18",
          "2020-06-18",
          "2020-06-18",
          "2020-06-18",
          "2020-06-18",
          "2020-06-17",
          "2020-06-17",
          "2020-06-17",
          "2020-06-17",
          "2020-06-17",
          "2020-06-17",
          "2020-06-17",
          "2020-06-17",
          "2020-06-15",
          "2020-06-15",
          "2020-06-15",
          "2020-06-15",
          "2020-06-15",
          "2020-06-15",
          "2020-06-15",
          "2020-06-15",
          "2020-06-14",
          "2020-06-14",
          "2020-06-14",
          "2020-06-14",
          "2020-06-14",
          "2020-06-14",
          "2020-06-14",
          "2020-06-14",
          "2020-06-13",
          "2020-06-13",
          "2020-06-13",
          "2020-06-13",
          "2020-06-13",
          "2020-06-13",
          "2020-06-13",
          "2020-06-13",
          "2020-06-12",
          "2020-06-12",
          "2020-06-12",
          "2020-06-12",
          "2020-06-12",
          "2020-06-12",
          "2020-06-12",
          "2020-06-12",
          "2020-06-11",
          "2020-06-11",
          "2020-06-11",
          "2020-06-11",
          "2020-06-11",
          "2020-06-11",
          "2020-06-11",
          "2020-06-11",
          "2020-06-10",
          "2020-06-10",
          "2020-06-10",
          "2020-06-10",
          "2020-06-10",
          "2020-06-10",
          "2020-06-10",
          "2020-06-10",
          "2020-06-02",
          "2020-06-02",
          "2020-06-02",
          "2020-06-02",
          "2020-06-02",
          "2020-06-02",
          "2020-06-02",
          "2020-06-01",
          "2020-06-01",
          "2020-06-01",
          "2020-06-01",
          "2020-06-01",
          "2020-06-01",
          "2020-06-01",
          "2020-05-31",
          "2020-05-31",
          "2020-05-31",
          "2020-05-31",
          "2020-05-31",
          "2020-05-31",
          "2020-05-31",
          "2020-05-30",
          "2020-05-30",
          "2020-05-30",
          "2020-05-30",
          "2020-05-30",
          "2020-05-30",
          "2020-05-30",
          "2020-05-29",
          "2020-05-29",
          "2020-05-29",
          "2020-05-29",
          "2020-05-29",
          "2020-05-29",
          "2020-05-29",
          "2020-05-28",
          "2020-05-28",
          "2020-05-28",
          "2020-05-28",
          "2020-05-28",
          "2020-05-28",
          "2020-05-28",
          "2020-05-27",
          "2020-05-27",
          "2020-05-27",
          "2020-05-27",
          "2020-05-27",
          "2020-05-27",
          "2020-05-27",
          "2020-05-22",
          "2020-05-22",
          "2020-05-22",
          "2020-05-22",
          "2020-05-22",
          "2020-05-22",
          "2020-05-22",
          "2020-05-21",
          "2020-05-21",
          "2020-05-21",
          "2020-05-21",
          "2020-05-21",
          "2020-05-21",
          "2020-05-21",
          "2020-05-20",
          "2020-05-20",
          "2020-05-20",
          "2020-05-20",
          "2020-05-20",
          "2020-05-20",
          "2020-05-20",
          "2020-05-19",
          "2020-05-19",
          "2020-05-19",
          "2020-05-19",
          "2020-05-19",
          "2020-05-19",
          "2020-05-19",
          "2020-05-18",
          "2020-05-18",
          "2020-05-18",
          "2020-05-18",
          "2020-05-18",
          "2020-05-18",
          "2020-05-18",
          "2020-05-17",
          "2020-05-17",
          "2020-05-17",
          "2020-05-17",
          "2020-05-17",
          "2020-05-17",
          "2020-05-17",
          "2020-05-16",
          "2020-05-16",
          "2020-05-16",
          "2020-05-16",
          "2020-05-16",
          "2020-05-16",
          "2020-05-16",
          "2020-05-15",
          "2020-05-15",
          "2020-05-15",
          "2020-05-15",
          "2020-05-15",
          "2020-05-15",
          "2020-05-15",
          "2020-05-14",
          "2020-05-14",
          "2020-05-14",
          "2020-05-14",
          "2020-05-14",
          "2020-05-14",
          "2020-05-14"
         ],
         "xaxis": "x",
         "y": [
          271,
          10342,
          2373,
          2709,
          2703,
          1438,
          1119,
          10624,
          267,
          10263,
          2350,
          2691,
          2683,
          1433,
          1106,
          10540,
          262,
          10121,
          2305,
          2641,
          2661,
          1422,
          1092,
          10393,
          255,
          10028,
          2280,
          2603,
          2647,
          1408,
          1090,
          10293,
          247,
          9852,
          2236,
          2555,
          2609,
          1387,
          1065,
          10109,
          242,
          9672,
          2176,
          2513,
          2565,
          1363,
          1055,
          9925,
          234,
          9570,
          2144,
          2485,
          2540,
          1347,
          1054,
          9815,
          229,
          9496,
          2119,
          2464,
          2520,
          1343,
          1050,
          9737,
          221,
          9372,
          2080,
          2433,
          2505,
          1322,
          1032,
          9604,
          218,
          9299,
          2053,
          2410,
          2493,
          1316,
          1027,
          9527,
          211,
          9203,
          2033,
          2381,
          2465,
          1305,
          1019,
          9424,
          206,
          9089,
          2003,
          2341,
          2448,
          1287,
          1010,
          9305,
          200,
          8933,
          1960,
          2298,
          2410,
          1274,
          991,
          9144,
          202,
          8880,
          1951,
          2279,
          2399,
          1262,
          989,
          9093,
          200,
          8795,
          1931,
          2260,
          2377,
          1251,
          976,
          9006,
          195,
          8675,
          1903,
          2233,
          2340,
          1231,
          968,
          8880,
          193,
          8606,
          1888,
          2211,
          2328,
          1216,
          963,
          8809,
          165,
          1683,
          2036,
          2150,
          1117,
          879,
          8039,
          159,
          1665,
          1996,
          2125,
          1105,
          862,
          7922,
          157,
          1648,
          1984,
          2108,
          1094,
          853,
          7854,
          155,
          1642,
          1978,
          2096,
          1093,
          848,
          7821,
          149,
          1617,
          1943,
          2073,
          1076,
          831,
          7698,
          143,
          1554,
          1884,
          2024,
          1055,
          822,
          7491,
          141,
          1527,
          1863,
          2003,
          1042,
          817,
          7402,
          119,
          1439,
          1766,
          1900,
          982,
          788,
          7004,
          113,
          1416,
          1745,
          1870,
          973,
          776,
          6903,
          109,
          1388,
          1707,
          1834,
          961,
          754,
          6763,
          106,
          1365,
          1678,
          1814,
          948,
          745,
          6666,
          105,
          1336,
          1646,
          1784,
          936,
          729,
          6545,
          105,
          1322,
          1630,
          1769,
          929,
          725,
          6489,
          95,
          1282,
          1596,
          1725,
          910,
          712,
          6330,
          87,
          1218,
          1547,
          1672,
          893,
          691,
          6118,
          80,
          1177,
          1498,
          1627,
          873,
          676,
          5941
         ],
         "yaxis": "y"
        },
        {
         "alignmentgroup": "True",
         "hovertemplate": "race=black<br>date=%{x}<br>confirmed_cases_total=%{y}<extra></extra>",
         "legendgroup": "black",
         "marker": {
          "color": "#EF553B"
         },
         "name": "black",
         "offsetgroup": "black",
         "orientation": "v",
         "showlegend": true,
         "textposition": "auto",
         "type": "bar",
         "x": [
          "2020-06-27",
          "2020-06-27",
          "2020-06-27",
          "2020-06-27",
          "2020-06-27",
          "2020-06-27",
          "2020-06-27",
          "2020-06-27",
          "2020-06-26",
          "2020-06-26",
          "2020-06-26",
          "2020-06-26",
          "2020-06-26",
          "2020-06-26",
          "2020-06-26",
          "2020-06-26",
          "2020-06-25",
          "2020-06-25",
          "2020-06-25",
          "2020-06-25",
          "2020-06-25",
          "2020-06-25",
          "2020-06-25",
          "2020-06-25",
          "2020-06-24",
          "2020-06-24",
          "2020-06-24",
          "2020-06-24",
          "2020-06-24",
          "2020-06-24",
          "2020-06-24",
          "2020-06-24",
          "2020-06-23",
          "2020-06-23",
          "2020-06-23",
          "2020-06-23",
          "2020-06-23",
          "2020-06-23",
          "2020-06-23",
          "2020-06-23",
          "2020-06-22",
          "2020-06-22",
          "2020-06-22",
          "2020-06-22",
          "2020-06-22",
          "2020-06-22",
          "2020-06-22",
          "2020-06-22",
          "2020-06-21",
          "2020-06-21",
          "2020-06-21",
          "2020-06-21",
          "2020-06-21",
          "2020-06-21",
          "2020-06-21",
          "2020-06-21",
          "2020-06-20",
          "2020-06-20",
          "2020-06-20",
          "2020-06-20",
          "2020-06-20",
          "2020-06-20",
          "2020-06-20",
          "2020-06-20",
          "2020-06-19",
          "2020-06-19",
          "2020-06-19",
          "2020-06-19",
          "2020-06-19",
          "2020-06-19",
          "2020-06-19",
          "2020-06-19",
          "2020-06-18",
          "2020-06-18",
          "2020-06-18",
          "2020-06-18",
          "2020-06-18",
          "2020-06-18",
          "2020-06-18",
          "2020-06-18",
          "2020-06-17",
          "2020-06-17",
          "2020-06-17",
          "2020-06-17",
          "2020-06-17",
          "2020-06-17",
          "2020-06-17",
          "2020-06-17",
          "2020-06-15",
          "2020-06-15",
          "2020-06-15",
          "2020-06-15",
          "2020-06-15",
          "2020-06-15",
          "2020-06-15",
          "2020-06-15",
          "2020-06-14",
          "2020-06-14",
          "2020-06-14",
          "2020-06-14",
          "2020-06-14",
          "2020-06-14",
          "2020-06-14",
          "2020-06-14",
          "2020-06-13",
          "2020-06-13",
          "2020-06-13",
          "2020-06-13",
          "2020-06-13",
          "2020-06-13",
          "2020-06-13",
          "2020-06-13",
          "2020-06-12",
          "2020-06-12",
          "2020-06-12",
          "2020-06-12",
          "2020-06-12",
          "2020-06-12",
          "2020-06-12",
          "2020-06-12",
          "2020-06-11",
          "2020-06-11",
          "2020-06-11",
          "2020-06-11",
          "2020-06-11",
          "2020-06-11",
          "2020-06-11",
          "2020-06-11",
          "2020-06-10",
          "2020-06-10",
          "2020-06-10",
          "2020-06-10",
          "2020-06-10",
          "2020-06-10",
          "2020-06-10",
          "2020-06-10",
          "2020-06-02",
          "2020-06-02",
          "2020-06-02",
          "2020-06-02",
          "2020-06-02",
          "2020-06-02",
          "2020-06-02",
          "2020-06-01",
          "2020-06-01",
          "2020-06-01",
          "2020-06-01",
          "2020-06-01",
          "2020-06-01",
          "2020-06-01",
          "2020-05-31",
          "2020-05-31",
          "2020-05-31",
          "2020-05-31",
          "2020-05-31",
          "2020-05-31",
          "2020-05-31",
          "2020-05-30",
          "2020-05-30",
          "2020-05-30",
          "2020-05-30",
          "2020-05-30",
          "2020-05-30",
          "2020-05-30",
          "2020-05-29",
          "2020-05-29",
          "2020-05-29",
          "2020-05-29",
          "2020-05-29",
          "2020-05-29",
          "2020-05-29",
          "2020-05-28",
          "2020-05-28",
          "2020-05-28",
          "2020-05-28",
          "2020-05-28",
          "2020-05-28",
          "2020-05-28",
          "2020-05-27",
          "2020-05-27",
          "2020-05-27",
          "2020-05-27",
          "2020-05-27",
          "2020-05-27",
          "2020-05-27",
          "2020-05-22",
          "2020-05-22",
          "2020-05-22",
          "2020-05-22",
          "2020-05-22",
          "2020-05-22",
          "2020-05-22",
          "2020-05-21",
          "2020-05-21",
          "2020-05-21",
          "2020-05-21",
          "2020-05-21",
          "2020-05-21",
          "2020-05-21",
          "2020-05-20",
          "2020-05-20",
          "2020-05-20",
          "2020-05-20",
          "2020-05-20",
          "2020-05-20",
          "2020-05-20",
          "2020-05-19",
          "2020-05-19",
          "2020-05-19",
          "2020-05-19",
          "2020-05-19",
          "2020-05-19",
          "2020-05-19",
          "2020-05-18",
          "2020-05-18",
          "2020-05-18",
          "2020-05-18",
          "2020-05-18",
          "2020-05-18",
          "2020-05-18",
          "2020-05-17",
          "2020-05-17",
          "2020-05-17",
          "2020-05-17",
          "2020-05-17",
          "2020-05-17",
          "2020-05-17",
          "2020-05-16",
          "2020-05-16",
          "2020-05-16",
          "2020-05-16",
          "2020-05-16",
          "2020-05-16",
          "2020-05-16",
          "2020-05-15",
          "2020-05-15",
          "2020-05-15",
          "2020-05-15",
          "2020-05-15",
          "2020-05-15",
          "2020-05-15",
          "2020-05-14",
          "2020-05-14",
          "2020-05-14",
          "2020-05-14",
          "2020-05-14",
          "2020-05-14",
          "2020-05-14"
         ],
         "xaxis": "x",
         "y": [
          197,
          6102,
          1541,
          1401,
          1560,
          1023,
          577,
          6309,
          192,
          6013,
          1513,
          1377,
          1539,
          1015,
          569,
          6215,
          184,
          5901,
          1471,
          1348,
          1515,
          1000,
          567,
          6094,
          178,
          5794,
          1436,
          1317,
          1502,
          982,
          557,
          5981,
          173,
          5664,
          1387,
          1285,
          1484,
          963,
          545,
          5845,
          161,
          5492,
          1329,
          1224,
          1456,
          945,
          538,
          5661,
          157,
          5413,
          1300,
          1202,
          1440,
          939,
          532,
          5573,
          146,
          5336,
          1273,
          1174,
          1426,
          933,
          530,
          5485,
          139,
          5241,
          1230,
          1154,
          1409,
          921,
          527,
          5384,
          132,
          5160,
          1198,
          1138,
          1390,
          910,
          524,
          5296,
          124,
          5074,
          1169,
          1117,
          1367,
          898,
          523,
          5202,
          115,
          5009,
          1150,
          1101,
          1347,
          892,
          519,
          5128,
          109,
          4886,
          1113,
          1074,
          1316,
          874,
          509,
          4999,
          104,
          4858,
          1103,
          1067,
          1308,
          872,
          508,
          4966,
          103,
          4799,
          1090,
          1057,
          1295,
          859,
          498,
          4906,
          103,
          4725,
          1064,
          1038,
          1283,
          846,
          494,
          4832,
          99,
          4674,
          1051,
          1026,
          1269,
          838,
          490,
          4777,
          82,
          918,
          920,
          1160,
          773,
          441,
          4298,
          82,
          895,
          904,
          1139,
          765,
          429,
          4218,
          82,
          882,
          898,
          1127,
          757,
          422,
          4172,
          82,
          869,
          889,
          1120,
          753,
          420,
          4137,
          80,
          846,
          873,
          1101,
          738,
          403,
          4045,
          74,
          807,
          849,
          1066,
          718,
          396,
          3914,
          71,
          794,
          830,
          1058,
          714,
          393,
          3863,
          63,
          742,
          785,
          986,
          665,
          373,
          3616,
          60,
          731,
          767,
          966,
          648,
          359,
          3533,
          56,
          714,
          754,
          954,
          635,
          350,
          3465,
          54,
          697,
          750,
          944,
          624,
          348,
          3418,
          51,
          672,
          731,
          923,
          613,
          343,
          3334,
          49,
          653,
          716,
          906,
          603,
          339,
          3267,
          48,
          643,
          708,
          898,
          592,
          331,
          3221,
          47,
          638,
          694,
          887,
          585,
          326,
          3178,
          44,
          594,
          661,
          851,
          567,
          308,
          3026
         ],
         "yaxis": "y"
        },
        {
         "alignmentgroup": "True",
         "hovertemplate": "race=latino<br>date=%{x}<br>confirmed_cases_total=%{y}<extra></extra>",
         "legendgroup": "latino",
         "marker": {
          "color": "#00cc96"
         },
         "name": "latino",
         "offsetgroup": "latino",
         "orientation": "v",
         "showlegend": true,
         "textposition": "auto",
         "type": "bar",
         "x": [
          "2020-06-27",
          "2020-06-27",
          "2020-06-27",
          "2020-06-27",
          "2020-06-27",
          "2020-06-27",
          "2020-06-27",
          "2020-06-27",
          "2020-06-26",
          "2020-06-26",
          "2020-06-26",
          "2020-06-26",
          "2020-06-26",
          "2020-06-26",
          "2020-06-26",
          "2020-06-26",
          "2020-06-25",
          "2020-06-25",
          "2020-06-25",
          "2020-06-25",
          "2020-06-25",
          "2020-06-25",
          "2020-06-25",
          "2020-06-25",
          "2020-06-24",
          "2020-06-24",
          "2020-06-24",
          "2020-06-24",
          "2020-06-24",
          "2020-06-24",
          "2020-06-24",
          "2020-06-24",
          "2020-06-23",
          "2020-06-23",
          "2020-06-23",
          "2020-06-23",
          "2020-06-23",
          "2020-06-23",
          "2020-06-23",
          "2020-06-23",
          "2020-06-22",
          "2020-06-22",
          "2020-06-22",
          "2020-06-22",
          "2020-06-22",
          "2020-06-22",
          "2020-06-22",
          "2020-06-22",
          "2020-06-21",
          "2020-06-21",
          "2020-06-21",
          "2020-06-21",
          "2020-06-21",
          "2020-06-21",
          "2020-06-21",
          "2020-06-21",
          "2020-06-20",
          "2020-06-20",
          "2020-06-20",
          "2020-06-20",
          "2020-06-20",
          "2020-06-20",
          "2020-06-20",
          "2020-06-20",
          "2020-06-19",
          "2020-06-19",
          "2020-06-19",
          "2020-06-19",
          "2020-06-19",
          "2020-06-19",
          "2020-06-19",
          "2020-06-19",
          "2020-06-18",
          "2020-06-18",
          "2020-06-18",
          "2020-06-18",
          "2020-06-18",
          "2020-06-18",
          "2020-06-18",
          "2020-06-18",
          "2020-06-17",
          "2020-06-17",
          "2020-06-17",
          "2020-06-17",
          "2020-06-17",
          "2020-06-17",
          "2020-06-17",
          "2020-06-17",
          "2020-06-15",
          "2020-06-15",
          "2020-06-15",
          "2020-06-15",
          "2020-06-15",
          "2020-06-15",
          "2020-06-15",
          "2020-06-15",
          "2020-06-14",
          "2020-06-14",
          "2020-06-14",
          "2020-06-14",
          "2020-06-14",
          "2020-06-14",
          "2020-06-14",
          "2020-06-14",
          "2020-06-13",
          "2020-06-13",
          "2020-06-13",
          "2020-06-13",
          "2020-06-13",
          "2020-06-13",
          "2020-06-13",
          "2020-06-13",
          "2020-06-12",
          "2020-06-12",
          "2020-06-12",
          "2020-06-12",
          "2020-06-12",
          "2020-06-12",
          "2020-06-12",
          "2020-06-12",
          "2020-06-11",
          "2020-06-11",
          "2020-06-11",
          "2020-06-11",
          "2020-06-11",
          "2020-06-11",
          "2020-06-11",
          "2020-06-11",
          "2020-06-10",
          "2020-06-10",
          "2020-06-10",
          "2020-06-10",
          "2020-06-10",
          "2020-06-10",
          "2020-06-10",
          "2020-06-10",
          "2020-06-02",
          "2020-06-02",
          "2020-06-02",
          "2020-06-02",
          "2020-06-02",
          "2020-06-02",
          "2020-06-02",
          "2020-06-01",
          "2020-06-01",
          "2020-06-01",
          "2020-06-01",
          "2020-06-01",
          "2020-06-01",
          "2020-06-01",
          "2020-05-31",
          "2020-05-31",
          "2020-05-31",
          "2020-05-31",
          "2020-05-31",
          "2020-05-31",
          "2020-05-31",
          "2020-05-30",
          "2020-05-30",
          "2020-05-30",
          "2020-05-30",
          "2020-05-30",
          "2020-05-30",
          "2020-05-30",
          "2020-05-29",
          "2020-05-29",
          "2020-05-29",
          "2020-05-29",
          "2020-05-29",
          "2020-05-29",
          "2020-05-29",
          "2020-05-28",
          "2020-05-28",
          "2020-05-28",
          "2020-05-28",
          "2020-05-28",
          "2020-05-28",
          "2020-05-28",
          "2020-05-27",
          "2020-05-27",
          "2020-05-27",
          "2020-05-27",
          "2020-05-27",
          "2020-05-27",
          "2020-05-27",
          "2020-05-22",
          "2020-05-22",
          "2020-05-22",
          "2020-05-22",
          "2020-05-22",
          "2020-05-22",
          "2020-05-22",
          "2020-05-21",
          "2020-05-21",
          "2020-05-21",
          "2020-05-21",
          "2020-05-21",
          "2020-05-21",
          "2020-05-21",
          "2020-05-20",
          "2020-05-20",
          "2020-05-20",
          "2020-05-20",
          "2020-05-20",
          "2020-05-20",
          "2020-05-20",
          "2020-05-19",
          "2020-05-19",
          "2020-05-19",
          "2020-05-19",
          "2020-05-19",
          "2020-05-19",
          "2020-05-19",
          "2020-05-18",
          "2020-05-18",
          "2020-05-18",
          "2020-05-18",
          "2020-05-18",
          "2020-05-18",
          "2020-05-18",
          "2020-05-17",
          "2020-05-17",
          "2020-05-17",
          "2020-05-17",
          "2020-05-17",
          "2020-05-17",
          "2020-05-17",
          "2020-05-16",
          "2020-05-16",
          "2020-05-16",
          "2020-05-16",
          "2020-05-16",
          "2020-05-16",
          "2020-05-16",
          "2020-05-15",
          "2020-05-15",
          "2020-05-15",
          "2020-05-15",
          "2020-05-15",
          "2020-05-15",
          "2020-05-15",
          "2020-05-14",
          "2020-05-14",
          "2020-05-14",
          "2020-05-14",
          "2020-05-14",
          "2020-05-14",
          "2020-05-14"
         ],
         "xaxis": "x",
         "y": [
          7625,
          73193,
          26511,
          21910,
          16802,
          5792,
          2178,
          80875,
          7523,
          72358,
          26194,
          21639,
          16632,
          5730,
          2163,
          79934,
          7276,
          70600,
          25409,
          21132,
          16294,
          5630,
          2135,
          77926,
          7059,
          68929,
          24742,
          20605,
          15965,
          5519,
          2098,
          76036,
          6694,
          66618,
          23814,
          19873,
          15509,
          5361,
          2061,
          73357,
          6452,
          64851,
          23106,
          19278,
          15189,
          5250,
          2028,
          71350,
          6328,
          64064,
          22770,
          19046,
          15044,
          5200,
          2004,
          70439,
          6195,
          63144,
          22418,
          18767,
          14843,
          5129,
          1987,
          69392,
          6013,
          61751,
          21892,
          18351,
          14540,
          5018,
          1950,
          67818,
          5836,
          60372,
          21303,
          17952,
          14266,
          4927,
          1924,
          66261,
          5643,
          59094,
          20794,
          17576,
          13972,
          4853,
          1899,
          64787,
          5446,
          57708,
          20233,
          17147,
          13686,
          4765,
          1877,
          63202,
          5063,
          55266,
          19199,
          16437,
          13187,
          4608,
          1835,
          60377,
          4956,
          54694,
          18967,
          16251,
          13067,
          4582,
          1827,
          59702,
          4807,
          53560,
          18498,
          15931,
          12842,
          4497,
          1792,
          58415,
          4648,
          52198,
          17926,
          15544,
          12549,
          4416,
          1763,
          56896,
          4490,
          50902,
          17410,
          15155,
          12262,
          4338,
          1737,
          55439,
          3381,
          13796,
          12379,
          10209,
          3717,
          1459,
          44975,
          3260,
          13481,
          12091,
          10007,
          3649,
          1429,
          43951,
          3202,
          13309,
          11932,
          9903,
          3616,
          1397,
          43392,
          3159,
          13121,
          11814,
          9812,
          3575,
          1385,
          42897,
          2977,
          12626,
          11418,
          9527,
          3467,
          1340,
          41386,
          2838,
          12227,
          11087,
          9266,
          3375,
          1311,
          40134,
          2711,
          11848,
          10758,
          9022,
          3282,
          1281,
          38929,
          2290,
          10509,
          9648,
          8181,
          2988,
          1176,
          34809,
          2160,
          10151,
          9313,
          7932,
          2910,
          1151,
          33639,
          2046,
          9824,
          9070,
          7751,
          2842,
          1111,
          32662,
          1920,
          9399,
          8772,
          7483,
          2761,
          1082,
          31432,
          1797,
          9077,
          8482,
          7265,
          2697,
          1059,
          30391,
          1741,
          8842,
          8268,
          7117,
          2663,
          1049,
          29693,
          1707,
          8678,
          8138,
          7021,
          2618,
          1033,
          29208,
          1575,
          8256,
          7803,
          6750,
          2545,
          1000,
          27943,
          1491,
          7899,
          7530,
          6506,
          2466,
          972,
          26880
         ],
         "yaxis": "y"
        },
        {
         "alignmentgroup": "True",
         "hovertemplate": "race=other<br>date=%{x}<br>confirmed_cases_total=%{y}<extra></extra>",
         "legendgroup": "other",
         "marker": {
          "color": "#ab63fa"
         },
         "name": "other",
         "offsetgroup": "other",
         "orientation": "v",
         "showlegend": true,
         "textposition": "auto",
         "type": "bar",
         "x": [
          "2020-06-27",
          "2020-06-27",
          "2020-06-27",
          "2020-06-27",
          "2020-06-27",
          "2020-06-27",
          "2020-06-27",
          "2020-06-27",
          "2020-06-26",
          "2020-06-26",
          "2020-06-26",
          "2020-06-26",
          "2020-06-26",
          "2020-06-26",
          "2020-06-26",
          "2020-06-26",
          "2020-06-25",
          "2020-06-25",
          "2020-06-25",
          "2020-06-25",
          "2020-06-25",
          "2020-06-25",
          "2020-06-25",
          "2020-06-25",
          "2020-06-24",
          "2020-06-24",
          "2020-06-24",
          "2020-06-24",
          "2020-06-24",
          "2020-06-24",
          "2020-06-24",
          "2020-06-24",
          "2020-06-23",
          "2020-06-23",
          "2020-06-23",
          "2020-06-23",
          "2020-06-23",
          "2020-06-23",
          "2020-06-23",
          "2020-06-23",
          "2020-06-22",
          "2020-06-22",
          "2020-06-22",
          "2020-06-22",
          "2020-06-22",
          "2020-06-22",
          "2020-06-22",
          "2020-06-22",
          "2020-06-21",
          "2020-06-21",
          "2020-06-21",
          "2020-06-21",
          "2020-06-21",
          "2020-06-21",
          "2020-06-21",
          "2020-06-21",
          "2020-06-20",
          "2020-06-20",
          "2020-06-20",
          "2020-06-20",
          "2020-06-20",
          "2020-06-20",
          "2020-06-20",
          "2020-06-20",
          "2020-06-19",
          "2020-06-19",
          "2020-06-19",
          "2020-06-19",
          "2020-06-19",
          "2020-06-19",
          "2020-06-19",
          "2020-06-19",
          "2020-06-18",
          "2020-06-18",
          "2020-06-18",
          "2020-06-18",
          "2020-06-18",
          "2020-06-18",
          "2020-06-18",
          "2020-06-18",
          "2020-06-17",
          "2020-06-17",
          "2020-06-17",
          "2020-06-17",
          "2020-06-17",
          "2020-06-17",
          "2020-06-17",
          "2020-06-17",
          "2020-06-15",
          "2020-06-15",
          "2020-06-15",
          "2020-06-15",
          "2020-06-15",
          "2020-06-15",
          "2020-06-15",
          "2020-06-15",
          "2020-06-14",
          "2020-06-14",
          "2020-06-14",
          "2020-06-14",
          "2020-06-14",
          "2020-06-14",
          "2020-06-14",
          "2020-06-14",
          "2020-06-13",
          "2020-06-13",
          "2020-06-13",
          "2020-06-13",
          "2020-06-13",
          "2020-06-13",
          "2020-06-13",
          "2020-06-13",
          "2020-06-12",
          "2020-06-12",
          "2020-06-12",
          "2020-06-12",
          "2020-06-12",
          "2020-06-12",
          "2020-06-12",
          "2020-06-12",
          "2020-06-11",
          "2020-06-11",
          "2020-06-11",
          "2020-06-11",
          "2020-06-11",
          "2020-06-11",
          "2020-06-11",
          "2020-06-11",
          "2020-06-10",
          "2020-06-10",
          "2020-06-10",
          "2020-06-10",
          "2020-06-10",
          "2020-06-10",
          "2020-06-10",
          "2020-06-10",
          "2020-06-02",
          "2020-06-02",
          "2020-06-02",
          "2020-06-02",
          "2020-06-02",
          "2020-06-02",
          "2020-06-02",
          "2020-06-01",
          "2020-06-01",
          "2020-06-01",
          "2020-06-01",
          "2020-06-01",
          "2020-06-01",
          "2020-06-01",
          "2020-05-31",
          "2020-05-31",
          "2020-05-31",
          "2020-05-31",
          "2020-05-31",
          "2020-05-31",
          "2020-05-31",
          "2020-05-30",
          "2020-05-30",
          "2020-05-30",
          "2020-05-30",
          "2020-05-30",
          "2020-05-30",
          "2020-05-30",
          "2020-05-29",
          "2020-05-29",
          "2020-05-29",
          "2020-05-29",
          "2020-05-29",
          "2020-05-29",
          "2020-05-29",
          "2020-05-28",
          "2020-05-28",
          "2020-05-28",
          "2020-05-28",
          "2020-05-28",
          "2020-05-28",
          "2020-05-28",
          "2020-05-27",
          "2020-05-27",
          "2020-05-27",
          "2020-05-27",
          "2020-05-27",
          "2020-05-27",
          "2020-05-27",
          "2020-05-22",
          "2020-05-22",
          "2020-05-22",
          "2020-05-22",
          "2020-05-22",
          "2020-05-22",
          "2020-05-22",
          "2020-05-21",
          "2020-05-21",
          "2020-05-21",
          "2020-05-21",
          "2020-05-21",
          "2020-05-21",
          "2020-05-21",
          "2020-05-20",
          "2020-05-20",
          "2020-05-20",
          "2020-05-20",
          "2020-05-20",
          "2020-05-20",
          "2020-05-20",
          "2020-05-19",
          "2020-05-19",
          "2020-05-19",
          "2020-05-19",
          "2020-05-19",
          "2020-05-19",
          "2020-05-19",
          "2020-05-18",
          "2020-05-18",
          "2020-05-18",
          "2020-05-18",
          "2020-05-18",
          "2020-05-18",
          "2020-05-18",
          "2020-05-17",
          "2020-05-17",
          "2020-05-17",
          "2020-05-17",
          "2020-05-17",
          "2020-05-17",
          "2020-05-17",
          "2020-05-16",
          "2020-05-16",
          "2020-05-16",
          "2020-05-16",
          "2020-05-16",
          "2020-05-16",
          "2020-05-16",
          "2020-05-15",
          "2020-05-15",
          "2020-05-15",
          "2020-05-15",
          "2020-05-15",
          "2020-05-15",
          "2020-05-15",
          "2020-05-14",
          "2020-05-14",
          "2020-05-14",
          "2020-05-14",
          "2020-05-14",
          "2020-05-14",
          "2020-05-14"
         ],
         "xaxis": "x",
         "y": [
          2233,
          18534,
          7239,
          5307,
          4104,
          1342,
          542,
          20769,
          2132,
          17979,
          6953,
          5161,
          4010,
          1321,
          534,
          20113,
          2049,
          17516,
          6734,
          5040,
          3913,
          1308,
          521,
          19567,
          2014,
          17205,
          6595,
          4959,
          3833,
          1299,
          519,
          19221,
          2017,
          17079,
          6528,
          4929,
          3827,
          1282,
          513,
          19099,
          1929,
          16197,
          6136,
          4689,
          3635,
          1235,
          502,
          18129,
          1840,
          15275,
          5753,
          4405,
          3459,
          1177,
          481,
          17118,
          1769,
          14662,
          5489,
          4200,
          3349,
          1152,
          472,
          16434,
          1699,
          14109,
          5240,
          4021,
          3247,
          1126,
          475,
          15811,
          1633,
          13691,
          5041,
          3906,
          3167,
          1106,
          471,
          15325,
          1569,
          13306,
          4887,
          3792,
          3077,
          1090,
          460,
          14876,
          1503,
          12832,
          4681,
          3669,
          2984,
          1054,
          444,
          14337,
          1391,
          12046,
          4389,
          3413,
          2812,
          997,
          435,
          13439,
          1333,
          11639,
          4206,
          3309,
          2732,
          974,
          418,
          12974,
          1283,
          11345,
          4086,
          3227,
          2681,
          960,
          391,
          12630,
          1224,
          10946,
          3912,
          3112,
          2605,
          933,
          384,
          12172,
          1203,
          10850,
          3866,
          3087,
          2574,
          938,
          385,
          12056,
          855,
          2967,
          2437,
          2061,
          796,
          319,
          9437,
          781,
          2803,
          2303,
          1974,
          764,
          308,
          8935,
          724,
          2643,
          2180,
          1878,
          745,
          302,
          8474,
          638,
          2466,
          2046,
          1792,
          711,
          286,
          7941,
          540,
          2231,
          1878,
          1671,
          681,
          280,
          7283,
          480,
          2036,
          1769,
          1581,
          661,
          270,
          6799,
          430,
          1863,
          1661,
          1497,
          638,
          261,
          6352,
          157,
          1055,
          1043,
          1080,
          506,
          226,
          4069,
          142,
          1006,
          1004,
          1047,
          496,
          218,
          3916,
          131,
          956,
          940,
          990,
          479,
          218,
          3717,
          131,
          942,
          914,
          973,
          475,
          208,
          3645,
          130,
          915,
          910,
          972,
          464,
          206,
          3599,
          119,
          898,
          893,
          938,
          452,
          206,
          3508,
          108,
          881,
          864,
          919,
          445,
          198,
          3418,
          104,
          863,
          841,
          901,
          435,
          187,
          3333,
          103,
          852,
          826,
          893,
          420,
          183,
          3280
         ],
         "yaxis": "y"
        },
        {
         "alignmentgroup": "True",
         "hovertemplate": "race=white<br>date=%{x}<br>confirmed_cases_total=%{y}<extra></extra>",
         "legendgroup": "white",
         "marker": {
          "color": "#FFA15A"
         },
         "name": "white",
         "offsetgroup": "white",
         "orientation": "v",
         "showlegend": true,
         "textposition": "auto",
         "type": "bar",
         "x": [
          "2020-06-27",
          "2020-06-27",
          "2020-06-27",
          "2020-06-27",
          "2020-06-27",
          "2020-06-27",
          "2020-06-27",
          "2020-06-27",
          "2020-06-26",
          "2020-06-26",
          "2020-06-26",
          "2020-06-26",
          "2020-06-26",
          "2020-06-26",
          "2020-06-26",
          "2020-06-26",
          "2020-06-25",
          "2020-06-25",
          "2020-06-25",
          "2020-06-25",
          "2020-06-25",
          "2020-06-25",
          "2020-06-25",
          "2020-06-25",
          "2020-06-24",
          "2020-06-24",
          "2020-06-24",
          "2020-06-24",
          "2020-06-24",
          "2020-06-24",
          "2020-06-24",
          "2020-06-24",
          "2020-06-23",
          "2020-06-23",
          "2020-06-23",
          "2020-06-23",
          "2020-06-23",
          "2020-06-23",
          "2020-06-23",
          "2020-06-23",
          "2020-06-22",
          "2020-06-22",
          "2020-06-22",
          "2020-06-22",
          "2020-06-22",
          "2020-06-22",
          "2020-06-22",
          "2020-06-22",
          "2020-06-21",
          "2020-06-21",
          "2020-06-21",
          "2020-06-21",
          "2020-06-21",
          "2020-06-21",
          "2020-06-21",
          "2020-06-21",
          "2020-06-20",
          "2020-06-20",
          "2020-06-20",
          "2020-06-20",
          "2020-06-20",
          "2020-06-20",
          "2020-06-20",
          "2020-06-20",
          "2020-06-19",
          "2020-06-19",
          "2020-06-19",
          "2020-06-19",
          "2020-06-19",
          "2020-06-19",
          "2020-06-19",
          "2020-06-19",
          "2020-06-18",
          "2020-06-18",
          "2020-06-18",
          "2020-06-18",
          "2020-06-18",
          "2020-06-18",
          "2020-06-18",
          "2020-06-18",
          "2020-06-17",
          "2020-06-17",
          "2020-06-17",
          "2020-06-17",
          "2020-06-17",
          "2020-06-17",
          "2020-06-17",
          "2020-06-17",
          "2020-06-15",
          "2020-06-15",
          "2020-06-15",
          "2020-06-15",
          "2020-06-15",
          "2020-06-15",
          "2020-06-15",
          "2020-06-15",
          "2020-06-14",
          "2020-06-14",
          "2020-06-14",
          "2020-06-14",
          "2020-06-14",
          "2020-06-14",
          "2020-06-14",
          "2020-06-14",
          "2020-06-13",
          "2020-06-13",
          "2020-06-13",
          "2020-06-13",
          "2020-06-13",
          "2020-06-13",
          "2020-06-13",
          "2020-06-13",
          "2020-06-12",
          "2020-06-12",
          "2020-06-12",
          "2020-06-12",
          "2020-06-12",
          "2020-06-12",
          "2020-06-12",
          "2020-06-12",
          "2020-06-11",
          "2020-06-11",
          "2020-06-11",
          "2020-06-11",
          "2020-06-11",
          "2020-06-11",
          "2020-06-11",
          "2020-06-11",
          "2020-06-10",
          "2020-06-10",
          "2020-06-10",
          "2020-06-10",
          "2020-06-10",
          "2020-06-10",
          "2020-06-10",
          "2020-06-10",
          "2020-06-02",
          "2020-06-02",
          "2020-06-02",
          "2020-06-02",
          "2020-06-02",
          "2020-06-02",
          "2020-06-02",
          "2020-06-01",
          "2020-06-01",
          "2020-06-01",
          "2020-06-01",
          "2020-06-01",
          "2020-06-01",
          "2020-06-01",
          "2020-05-31",
          "2020-05-31",
          "2020-05-31",
          "2020-05-31",
          "2020-05-31",
          "2020-05-31",
          "2020-05-31",
          "2020-05-30",
          "2020-05-30",
          "2020-05-30",
          "2020-05-30",
          "2020-05-30",
          "2020-05-30",
          "2020-05-30",
          "2020-05-29",
          "2020-05-29",
          "2020-05-29",
          "2020-05-29",
          "2020-05-29",
          "2020-05-29",
          "2020-05-29",
          "2020-05-28",
          "2020-05-28",
          "2020-05-28",
          "2020-05-28",
          "2020-05-28",
          "2020-05-28",
          "2020-05-28",
          "2020-05-27",
          "2020-05-27",
          "2020-05-27",
          "2020-05-27",
          "2020-05-27",
          "2020-05-27",
          "2020-05-27",
          "2020-05-22",
          "2020-05-22",
          "2020-05-22",
          "2020-05-22",
          "2020-05-22",
          "2020-05-22",
          "2020-05-22",
          "2020-05-21",
          "2020-05-21",
          "2020-05-21",
          "2020-05-21",
          "2020-05-21",
          "2020-05-21",
          "2020-05-21",
          "2020-05-20",
          "2020-05-20",
          "2020-05-20",
          "2020-05-20",
          "2020-05-20",
          "2020-05-20",
          "2020-05-20",
          "2020-05-19",
          "2020-05-19",
          "2020-05-19",
          "2020-05-19",
          "2020-05-19",
          "2020-05-19",
          "2020-05-19",
          "2020-05-18",
          "2020-05-18",
          "2020-05-18",
          "2020-05-18",
          "2020-05-18",
          "2020-05-18",
          "2020-05-18",
          "2020-05-17",
          "2020-05-17",
          "2020-05-17",
          "2020-05-17",
          "2020-05-17",
          "2020-05-17",
          "2020-05-17",
          "2020-05-16",
          "2020-05-16",
          "2020-05-16",
          "2020-05-16",
          "2020-05-16",
          "2020-05-16",
          "2020-05-16",
          "2020-05-15",
          "2020-05-15",
          "2020-05-15",
          "2020-05-15",
          "2020-05-15",
          "2020-05-15",
          "2020-05-15",
          "2020-05-14",
          "2020-05-14",
          "2020-05-14",
          "2020-05-14",
          "2020-05-14",
          "2020-05-14",
          "2020-05-14"
         ],
         "xaxis": "x",
         "y": [
          820,
          23394,
          5445,
          4819,
          5767,
          4389,
          2974,
          24242,
          792,
          23081,
          5320,
          4754,
          5716,
          4336,
          2955,
          23899,
          762,
          22553,
          5097,
          4641,
          5615,
          4271,
          2929,
          23339,
          744,
          22103,
          4948,
          4552,
          5507,
          4204,
          2892,
          22871,
          766,
          21710,
          4840,
          4465,
          5412,
          4141,
          2849,
          22500,
          734,
          21127,
          4622,
          4334,
          5284,
          4070,
          2817,
          21885,
          702,
          20823,
          4516,
          4269,
          5214,
          4030,
          2794,
          21547,
          668,
          20486,
          4403,
          4182,
          5137,
          3990,
          2774,
          21177,
          656,
          20100,
          4286,
          4121,
          5067,
          3918,
          2708,
          20780,
          639,
          19811,
          4190,
          4059,
          5007,
          3875,
          2680,
          20475,
          597,
          19466,
          4094,
          3958,
          4935,
          3823,
          2656,
          20087,
          584,
          19159,
          4022,
          3895,
          4869,
          3756,
          2617,
          19766,
          555,
          18662,
          3890,
          3801,
          4739,
          3667,
          2565,
          19240,
          546,
          18478,
          3834,
          3763,
          4694,
          3635,
          2552,
          19045,
          531,
          18231,
          3779,
          3714,
          4642,
          3586,
          2510,
          18783,
          517,
          17992,
          3707,
          3664,
          4596,
          3540,
          2485,
          18528,
          502,
          17792,
          3664,
          3630,
          4543,
          3501,
          2454,
          18312,
          402,
          3236,
          3222,
          4116,
          3191,
          2217,
          16402,
          383,
          3161,
          3166,
          4049,
          3146,
          2194,
          16114,
          374,
          3132,
          3137,
          4009,
          3121,
          2166,
          15954,
          373,
          3113,
          3111,
          3986,
          3098,
          2147,
          15843,
          342,
          2974,
          3010,
          3877,
          3030,
          2111,
          15357,
          332,
          2925,
          2963,
          3834,
          2986,
          2081,
          15132,
          325,
          2872,
          2924,
          3780,
          2956,
          2047,
          14915,
          290,
          2667,
          2778,
          3562,
          2764,
          1936,
          14007,
          289,
          2608,
          2738,
          3496,
          2716,
          1905,
          13762,
          272,
          2526,
          2681,
          3427,
          2664,
          1858,
          13437,
          261,
          2464,
          2624,
          3356,
          2628,
          1843,
          13185,
          254,
          2417,
          2582,
          3300,
          2595,
          1802,
          12960,
          227,
          2324,
          2505,
          3212,
          2547,
          1773,
          12598,
          226,
          2299,
          2493,
          3183,
          2514,
          1728,
          12452,
          202,
          2234,
          2433,
          3107,
          2471,
          1697,
          12153,
          197,
          2199,
          2392,
          3062,
          2433,
          1665,
          11956
         ],
         "yaxis": "y"
        }
       ],
       "layout": {
        "autosize": true,
        "barmode": "relative",
        "legend": {
         "title": {
          "text": "race"
         },
         "tracegroupgap": 0
        },
        "margin": {
         "t": 60
        },
        "template": {
         "data": {
          "bar": [
           {
            "error_x": {
             "color": "#2a3f5f"
            },
            "error_y": {
             "color": "#2a3f5f"
            },
            "marker": {
             "line": {
              "color": "#E5ECF6",
              "width": 0.5
             }
            },
            "type": "bar"
           }
          ],
          "barpolar": [
           {
            "marker": {
             "line": {
              "color": "#E5ECF6",
              "width": 0.5
             }
            },
            "type": "barpolar"
           }
          ],
          "carpet": [
           {
            "aaxis": {
             "endlinecolor": "#2a3f5f",
             "gridcolor": "white",
             "linecolor": "white",
             "minorgridcolor": "white",
             "startlinecolor": "#2a3f5f"
            },
            "baxis": {
             "endlinecolor": "#2a3f5f",
             "gridcolor": "white",
             "linecolor": "white",
             "minorgridcolor": "white",
             "startlinecolor": "#2a3f5f"
            },
            "type": "carpet"
           }
          ],
          "choropleth": [
           {
            "colorbar": {
             "outlinewidth": 0,
             "ticks": ""
            },
            "type": "choropleth"
           }
          ],
          "contour": [
           {
            "colorbar": {
             "outlinewidth": 0,
             "ticks": ""
            },
            "colorscale": [
             [
              0,
              "#0d0887"
             ],
             [
              0.1111111111111111,
              "#46039f"
             ],
             [
              0.2222222222222222,
              "#7201a8"
             ],
             [
              0.3333333333333333,
              "#9c179e"
             ],
             [
              0.4444444444444444,
              "#bd3786"
             ],
             [
              0.5555555555555556,
              "#d8576b"
             ],
             [
              0.6666666666666666,
              "#ed7953"
             ],
             [
              0.7777777777777778,
              "#fb9f3a"
             ],
             [
              0.8888888888888888,
              "#fdca26"
             ],
             [
              1,
              "#f0f921"
             ]
            ],
            "type": "contour"
           }
          ],
          "contourcarpet": [
           {
            "colorbar": {
             "outlinewidth": 0,
             "ticks": ""
            },
            "type": "contourcarpet"
           }
          ],
          "heatmap": [
           {
            "colorbar": {
             "outlinewidth": 0,
             "ticks": ""
            },
            "colorscale": [
             [
              0,
              "#0d0887"
             ],
             [
              0.1111111111111111,
              "#46039f"
             ],
             [
              0.2222222222222222,
              "#7201a8"
             ],
             [
              0.3333333333333333,
              "#9c179e"
             ],
             [
              0.4444444444444444,
              "#bd3786"
             ],
             [
              0.5555555555555556,
              "#d8576b"
             ],
             [
              0.6666666666666666,
              "#ed7953"
             ],
             [
              0.7777777777777778,
              "#fb9f3a"
             ],
             [
              0.8888888888888888,
              "#fdca26"
             ],
             [
              1,
              "#f0f921"
             ]
            ],
            "type": "heatmap"
           }
          ],
          "heatmapgl": [
           {
            "colorbar": {
             "outlinewidth": 0,
             "ticks": ""
            },
            "colorscale": [
             [
              0,
              "#0d0887"
             ],
             [
              0.1111111111111111,
              "#46039f"
             ],
             [
              0.2222222222222222,
              "#7201a8"
             ],
             [
              0.3333333333333333,
              "#9c179e"
             ],
             [
              0.4444444444444444,
              "#bd3786"
             ],
             [
              0.5555555555555556,
              "#d8576b"
             ],
             [
              0.6666666666666666,
              "#ed7953"
             ],
             [
              0.7777777777777778,
              "#fb9f3a"
             ],
             [
              0.8888888888888888,
              "#fdca26"
             ],
             [
              1,
              "#f0f921"
             ]
            ],
            "type": "heatmapgl"
           }
          ],
          "histogram": [
           {
            "marker": {
             "colorbar": {
              "outlinewidth": 0,
              "ticks": ""
             }
            },
            "type": "histogram"
           }
          ],
          "histogram2d": [
           {
            "colorbar": {
             "outlinewidth": 0,
             "ticks": ""
            },
            "colorscale": [
             [
              0,
              "#0d0887"
             ],
             [
              0.1111111111111111,
              "#46039f"
             ],
             [
              0.2222222222222222,
              "#7201a8"
             ],
             [
              0.3333333333333333,
              "#9c179e"
             ],
             [
              0.4444444444444444,
              "#bd3786"
             ],
             [
              0.5555555555555556,
              "#d8576b"
             ],
             [
              0.6666666666666666,
              "#ed7953"
             ],
             [
              0.7777777777777778,
              "#fb9f3a"
             ],
             [
              0.8888888888888888,
              "#fdca26"
             ],
             [
              1,
              "#f0f921"
             ]
            ],
            "type": "histogram2d"
           }
          ],
          "histogram2dcontour": [
           {
            "colorbar": {
             "outlinewidth": 0,
             "ticks": ""
            },
            "colorscale": [
             [
              0,
              "#0d0887"
             ],
             [
              0.1111111111111111,
              "#46039f"
             ],
             [
              0.2222222222222222,
              "#7201a8"
             ],
             [
              0.3333333333333333,
              "#9c179e"
             ],
             [
              0.4444444444444444,
              "#bd3786"
             ],
             [
              0.5555555555555556,
              "#d8576b"
             ],
             [
              0.6666666666666666,
              "#ed7953"
             ],
             [
              0.7777777777777778,
              "#fb9f3a"
             ],
             [
              0.8888888888888888,
              "#fdca26"
             ],
             [
              1,
              "#f0f921"
             ]
            ],
            "type": "histogram2dcontour"
           }
          ],
          "mesh3d": [
           {
            "colorbar": {
             "outlinewidth": 0,
             "ticks": ""
            },
            "type": "mesh3d"
           }
          ],
          "parcoords": [
           {
            "line": {
             "colorbar": {
              "outlinewidth": 0,
              "ticks": ""
             }
            },
            "type": "parcoords"
           }
          ],
          "pie": [
           {
            "automargin": true,
            "type": "pie"
           }
          ],
          "scatter": [
           {
            "marker": {
             "colorbar": {
              "outlinewidth": 0,
              "ticks": ""
             }
            },
            "type": "scatter"
           }
          ],
          "scatter3d": [
           {
            "line": {
             "colorbar": {
              "outlinewidth": 0,
              "ticks": ""
             }
            },
            "marker": {
             "colorbar": {
              "outlinewidth": 0,
              "ticks": ""
             }
            },
            "type": "scatter3d"
           }
          ],
          "scattercarpet": [
           {
            "marker": {
             "colorbar": {
              "outlinewidth": 0,
              "ticks": ""
             }
            },
            "type": "scattercarpet"
           }
          ],
          "scattergeo": [
           {
            "marker": {
             "colorbar": {
              "outlinewidth": 0,
              "ticks": ""
             }
            },
            "type": "scattergeo"
           }
          ],
          "scattergl": [
           {
            "marker": {
             "colorbar": {
              "outlinewidth": 0,
              "ticks": ""
             }
            },
            "type": "scattergl"
           }
          ],
          "scattermapbox": [
           {
            "marker": {
             "colorbar": {
              "outlinewidth": 0,
              "ticks": ""
             }
            },
            "type": "scattermapbox"
           }
          ],
          "scatterpolar": [
           {
            "marker": {
             "colorbar": {
              "outlinewidth": 0,
              "ticks": ""
             }
            },
            "type": "scatterpolar"
           }
          ],
          "scatterpolargl": [
           {
            "marker": {
             "colorbar": {
              "outlinewidth": 0,
              "ticks": ""
             }
            },
            "type": "scatterpolargl"
           }
          ],
          "scatterternary": [
           {
            "marker": {
             "colorbar": {
              "outlinewidth": 0,
              "ticks": ""
             }
            },
            "type": "scatterternary"
           }
          ],
          "surface": [
           {
            "colorbar": {
             "outlinewidth": 0,
             "ticks": ""
            },
            "colorscale": [
             [
              0,
              "#0d0887"
             ],
             [
              0.1111111111111111,
              "#46039f"
             ],
             [
              0.2222222222222222,
              "#7201a8"
             ],
             [
              0.3333333333333333,
              "#9c179e"
             ],
             [
              0.4444444444444444,
              "#bd3786"
             ],
             [
              0.5555555555555556,
              "#d8576b"
             ],
             [
              0.6666666666666666,
              "#ed7953"
             ],
             [
              0.7777777777777778,
              "#fb9f3a"
             ],
             [
              0.8888888888888888,
              "#fdca26"
             ],
             [
              1,
              "#f0f921"
             ]
            ],
            "type": "surface"
           }
          ],
          "table": [
           {
            "cells": {
             "fill": {
              "color": "#EBF0F8"
             },
             "line": {
              "color": "white"
             }
            },
            "header": {
             "fill": {
              "color": "#C8D4E3"
             },
             "line": {
              "color": "white"
             }
            },
            "type": "table"
           }
          ]
         },
         "layout": {
          "annotationdefaults": {
           "arrowcolor": "#2a3f5f",
           "arrowhead": 0,
           "arrowwidth": 1
          },
          "coloraxis": {
           "colorbar": {
            "outlinewidth": 0,
            "ticks": ""
           }
          },
          "colorscale": {
           "diverging": [
            [
             0,
             "#8e0152"
            ],
            [
             0.1,
             "#c51b7d"
            ],
            [
             0.2,
             "#de77ae"
            ],
            [
             0.3,
             "#f1b6da"
            ],
            [
             0.4,
             "#fde0ef"
            ],
            [
             0.5,
             "#f7f7f7"
            ],
            [
             0.6,
             "#e6f5d0"
            ],
            [
             0.7,
             "#b8e186"
            ],
            [
             0.8,
             "#7fbc41"
            ],
            [
             0.9,
             "#4d9221"
            ],
            [
             1,
             "#276419"
            ]
           ],
           "sequential": [
            [
             0,
             "#0d0887"
            ],
            [
             0.1111111111111111,
             "#46039f"
            ],
            [
             0.2222222222222222,
             "#7201a8"
            ],
            [
             0.3333333333333333,
             "#9c179e"
            ],
            [
             0.4444444444444444,
             "#bd3786"
            ],
            [
             0.5555555555555556,
             "#d8576b"
            ],
            [
             0.6666666666666666,
             "#ed7953"
            ],
            [
             0.7777777777777778,
             "#fb9f3a"
            ],
            [
             0.8888888888888888,
             "#fdca26"
            ],
            [
             1,
             "#f0f921"
            ]
           ],
           "sequentialminus": [
            [
             0,
             "#0d0887"
            ],
            [
             0.1111111111111111,
             "#46039f"
            ],
            [
             0.2222222222222222,
             "#7201a8"
            ],
            [
             0.3333333333333333,
             "#9c179e"
            ],
            [
             0.4444444444444444,
             "#bd3786"
            ],
            [
             0.5555555555555556,
             "#d8576b"
            ],
            [
             0.6666666666666666,
             "#ed7953"
            ],
            [
             0.7777777777777778,
             "#fb9f3a"
            ],
            [
             0.8888888888888888,
             "#fdca26"
            ],
            [
             1,
             "#f0f921"
            ]
           ]
          },
          "colorway": [
           "#636efa",
           "#EF553B",
           "#00cc96",
           "#ab63fa",
           "#FFA15A",
           "#19d3f3",
           "#FF6692",
           "#B6E880",
           "#FF97FF",
           "#FECB52"
          ],
          "font": {
           "color": "#2a3f5f"
          },
          "geo": {
           "bgcolor": "white",
           "lakecolor": "white",
           "landcolor": "#E5ECF6",
           "showlakes": true,
           "showland": true,
           "subunitcolor": "white"
          },
          "hoverlabel": {
           "align": "left"
          },
          "hovermode": "closest",
          "mapbox": {
           "style": "light"
          },
          "paper_bgcolor": "white",
          "plot_bgcolor": "#E5ECF6",
          "polar": {
           "angularaxis": {
            "gridcolor": "white",
            "linecolor": "white",
            "ticks": ""
           },
           "bgcolor": "#E5ECF6",
           "radialaxis": {
            "gridcolor": "white",
            "linecolor": "white",
            "ticks": ""
           }
          },
          "scene": {
           "xaxis": {
            "backgroundcolor": "#E5ECF6",
            "gridcolor": "white",
            "gridwidth": 2,
            "linecolor": "white",
            "showbackground": true,
            "ticks": "",
            "zerolinecolor": "white"
           },
           "yaxis": {
            "backgroundcolor": "#E5ECF6",
            "gridcolor": "white",
            "gridwidth": 2,
            "linecolor": "white",
            "showbackground": true,
            "ticks": "",
            "zerolinecolor": "white"
           },
           "zaxis": {
            "backgroundcolor": "#E5ECF6",
            "gridcolor": "white",
            "gridwidth": 2,
            "linecolor": "white",
            "showbackground": true,
            "ticks": "",
            "zerolinecolor": "white"
           }
          },
          "shapedefaults": {
           "line": {
            "color": "#2a3f5f"
           }
          },
          "ternary": {
           "aaxis": {
            "gridcolor": "white",
            "linecolor": "white",
            "ticks": ""
           },
           "baxis": {
            "gridcolor": "white",
            "linecolor": "white",
            "ticks": ""
           },
           "bgcolor": "#E5ECF6",
           "caxis": {
            "gridcolor": "white",
            "linecolor": "white",
            "ticks": ""
           }
          },
          "title": {
           "x": 0.05
          },
          "xaxis": {
           "automargin": true,
           "gridcolor": "white",
           "linecolor": "white",
           "ticks": "",
           "title": {
            "standoff": 15
           },
           "zerolinecolor": "white",
           "zerolinewidth": 2
          },
          "yaxis": {
           "automargin": true,
           "gridcolor": "white",
           "linecolor": "white",
           "ticks": "",
           "title": {
            "standoff": 15
           },
           "zerolinecolor": "white",
           "zerolinewidth": 2
          }
         }
        },
        "xaxis": {
         "anchor": "y",
         "autorange": true,
         "domain": [
          0,
          1
         ],
         "range": [
          "2020-05-13 12:00",
          "2020-06-27 12:00"
         ],
         "title": {
          "text": "date"
         },
         "type": "date"
        },
        "yaxis": {
         "anchor": "x",
         "autorange": true,
         "domain": [
          0,
          1
         ],
         "range": [
          0,
          439047.36842105264
         ],
         "title": {
          "text": "confirmed_cases_total"
         },
         "type": "linear"
        }
       }
      },
      "image/png": "[encoded data removed]",
      "text/html": [
       "<div>\n",
       "        \n",
       "        \n",
       "            <div id=\"c84f2df8-fe8e-4922-acc0-bc70da03ad56\" class=\"plotly-graph-div\" style=\"height:525px; width:100%;\"></div>\n",
       "            <script type=\"text/javascript\">\n",
       "                require([\"plotly\"], function(Plotly) {\n",
       "                    window.PLOTLYENV=window.PLOTLYENV || {};\n",
       "                    \n",
       "                if (document.getElementById(\"c84f2df8-fe8e-4922-acc0-bc70da03ad56\")) {\n",
       "                    Plotly.newPlot(\n",
       "                        'c84f2df8-fe8e-4922-acc0-bc70da03ad56',\n",
       "                        [{\"alignmentgroup\": \"True\", \"hovertemplate\": \"race=asian<br>date=%{x}<br>confirmed_cases_total=%{y}<extra></extra>\", \"legendgroup\": \"asian\", \"marker\": {\"color\": \"#636efa\"}, \"name\": \"asian\", \"offsetgroup\": \"asian\", \"orientation\": \"v\", \"showlegend\": true, \"textposition\": \"auto\", \"type\": \"bar\", \"x\": [\"2020-06-27\", \"2020-06-27\", \"2020-06-27\", \"2020-06-27\", \"2020-06-27\", \"2020-06-27\", \"2020-06-27\", \"2020-06-27\", \"2020-06-26\", \"2020-06-26\", \"2020-06-26\", \"2020-06-26\", \"2020-06-26\", \"2020-06-26\", \"2020-06-26\", \"2020-06-26\", \"2020-06-25\", \"2020-06-25\", \"2020-06-25\", \"2020-06-25\", \"2020-06-25\", \"2020-06-25\", \"2020-06-25\", \"2020-06-25\", \"2020-06-24\", \"2020-06-24\", \"2020-06-24\", \"2020-06-24\", \"2020-06-24\", \"2020-06-24\", \"2020-06-24\", \"2020-06-24\", \"2020-06-23\", \"2020-06-23\", \"2020-06-23\", \"2020-06-23\", \"2020-06-23\", \"2020-06-23\", \"2020-06-23\", \"2020-06-23\", \"2020-06-22\", \"2020-06-22\", \"2020-06-22\", \"2020-06-22\", \"2020-06-22\", \"2020-06-22\", \"2020-06-22\", \"2020-06-22\", \"2020-06-21\", \"2020-06-21\", \"2020-06-21\", \"2020-06-21\", \"2020-06-21\", \"2020-06-21\", \"2020-06-21\", \"2020-06-21\", \"2020-06-20\", \"2020-06-20\", \"2020-06-20\", \"2020-06-20\", \"2020-06-20\", \"2020-06-20\", \"2020-06-20\", \"2020-06-20\", \"2020-06-19\", \"2020-06-19\", \"2020-06-19\", \"2020-06-19\", \"2020-06-19\", \"2020-06-19\", \"2020-06-19\", \"2020-06-19\", \"2020-06-18\", \"2020-06-18\", \"2020-06-18\", \"2020-06-18\", \"2020-06-18\", \"2020-06-18\", \"2020-06-18\", \"2020-06-18\", \"2020-06-17\", \"2020-06-17\", \"2020-06-17\", \"2020-06-17\", \"2020-06-17\", \"2020-06-17\", \"2020-06-17\", \"2020-06-17\", \"2020-06-15\", \"2020-06-15\", \"2020-06-15\", \"2020-06-15\", \"2020-06-15\", \"2020-06-15\", \"2020-06-15\", \"2020-06-15\", \"2020-06-14\", \"2020-06-14\", \"2020-06-14\", \"2020-06-14\", \"2020-06-14\", \"2020-06-14\", \"2020-06-14\", \"2020-06-14\", \"2020-06-13\", \"2020-06-13\", \"2020-06-13\", \"2020-06-13\", \"2020-06-13\", \"2020-06-13\", \"2020-06-13\", \"2020-06-13\", \"2020-06-12\", \"2020-06-12\", \"2020-06-12\", \"2020-06-12\", \"2020-06-12\", \"2020-06-12\", \"2020-06-12\", \"2020-06-12\", \"2020-06-11\", \"2020-06-11\", \"2020-06-11\", \"2020-06-11\", \"2020-06-11\", \"2020-06-11\", \"2020-06-11\", \"2020-06-11\", \"2020-06-10\", \"2020-06-10\", \"2020-06-10\", \"2020-06-10\", \"2020-06-10\", \"2020-06-10\", \"2020-06-10\", \"2020-06-10\", \"2020-06-02\", \"2020-06-02\", \"2020-06-02\", \"2020-06-02\", \"2020-06-02\", \"2020-06-02\", \"2020-06-02\", \"2020-06-01\", \"2020-06-01\", \"2020-06-01\", \"2020-06-01\", \"2020-06-01\", \"2020-06-01\", \"2020-06-01\", \"2020-05-31\", \"2020-05-31\", \"2020-05-31\", \"2020-05-31\", \"2020-05-31\", \"2020-05-31\", \"2020-05-31\", \"2020-05-30\", \"2020-05-30\", \"2020-05-30\", \"2020-05-30\", \"2020-05-30\", \"2020-05-30\", \"2020-05-30\", \"2020-05-29\", \"2020-05-29\", \"2020-05-29\", \"2020-05-29\", \"2020-05-29\", \"2020-05-29\", \"2020-05-29\", \"2020-05-28\", \"2020-05-28\", \"2020-05-28\", \"2020-05-28\", \"2020-05-28\", \"2020-05-28\", \"2020-05-28\", \"2020-05-27\", \"2020-05-27\", \"2020-05-27\", \"2020-05-27\", \"2020-05-27\", \"2020-05-27\", \"2020-05-27\", \"2020-05-22\", \"2020-05-22\", \"2020-05-22\", \"2020-05-22\", \"2020-05-22\", \"2020-05-22\", \"2020-05-22\", \"2020-05-21\", \"2020-05-21\", \"2020-05-21\", \"2020-05-21\", \"2020-05-21\", \"2020-05-21\", \"2020-05-21\", \"2020-05-20\", \"2020-05-20\", \"2020-05-20\", \"2020-05-20\", \"2020-05-20\", \"2020-05-20\", \"2020-05-20\", \"2020-05-19\", \"2020-05-19\", \"2020-05-19\", \"2020-05-19\", \"2020-05-19\", \"2020-05-19\", \"2020-05-19\", \"2020-05-18\", \"2020-05-18\", \"2020-05-18\", \"2020-05-18\", \"2020-05-18\", \"2020-05-18\", \"2020-05-18\", \"2020-05-17\", \"2020-05-17\", \"2020-05-17\", \"2020-05-17\", \"2020-05-17\", \"2020-05-17\", \"2020-05-17\", \"2020-05-16\", \"2020-05-16\", \"2020-05-16\", \"2020-05-16\", \"2020-05-16\", \"2020-05-16\", \"2020-05-16\", \"2020-05-15\", \"2020-05-15\", \"2020-05-15\", \"2020-05-15\", \"2020-05-15\", \"2020-05-15\", \"2020-05-15\", \"2020-05-14\", \"2020-05-14\", \"2020-05-14\", \"2020-05-14\", \"2020-05-14\", \"2020-05-14\", \"2020-05-14\"], \"xaxis\": \"x\", \"y\": [271, 10342, 2373, 2709, 2703, 1438, 1119, 10624, 267, 10263, 2350, 2691, 2683, 1433, 1106, 10540, 262, 10121, 2305, 2641, 2661, 1422, 1092, 10393, 255, 10028, 2280, 2603, 2647, 1408, 1090, 10293, 247, 9852, 2236, 2555, 2609, 1387, 1065, 10109, 242, 9672, 2176, 2513, 2565, 1363, 1055, 9925, 234, 9570, 2144, 2485, 2540, 1347, 1054, 9815, 229, 9496, 2119, 2464, 2520, 1343, 1050, 9737, 221, 9372, 2080, 2433, 2505, 1322, 1032, 9604, 218, 9299, 2053, 2410, 2493, 1316, 1027, 9527, 211, 9203, 2033, 2381, 2465, 1305, 1019, 9424, 206, 9089, 2003, 2341, 2448, 1287, 1010, 9305, 200, 8933, 1960, 2298, 2410, 1274, 991, 9144, 202, 8880, 1951, 2279, 2399, 1262, 989, 9093, 200, 8795, 1931, 2260, 2377, 1251, 976, 9006, 195, 8675, 1903, 2233, 2340, 1231, 968, 8880, 193, 8606, 1888, 2211, 2328, 1216, 963, 8809, 165, 1683, 2036, 2150, 1117, 879, 8039, 159, 1665, 1996, 2125, 1105, 862, 7922, 157, 1648, 1984, 2108, 1094, 853, 7854, 155, 1642, 1978, 2096, 1093, 848, 7821, 149, 1617, 1943, 2073, 1076, 831, 7698, 143, 1554, 1884, 2024, 1055, 822, 7491, 141, 1527, 1863, 2003, 1042, 817, 7402, 119, 1439, 1766, 1900, 982, 788, 7004, 113, 1416, 1745, 1870, 973, 776, 6903, 109, 1388, 1707, 1834, 961, 754, 6763, 106, 1365, 1678, 1814, 948, 745, 6666, 105, 1336, 1646, 1784, 936, 729, 6545, 105, 1322, 1630, 1769, 929, 725, 6489, 95, 1282, 1596, 1725, 910, 712, 6330, 87, 1218, 1547, 1672, 893, 691, 6118, 80, 1177, 1498, 1627, 873, 676, 5941], \"yaxis\": \"y\"}, {\"alignmentgroup\": \"True\", \"hovertemplate\": \"race=black<br>date=%{x}<br>confirmed_cases_total=%{y}<extra></extra>\", \"legendgroup\": \"black\", \"marker\": {\"color\": \"#EF553B\"}, \"name\": \"black\", \"offsetgroup\": \"black\", \"orientation\": \"v\", \"showlegend\": true, \"textposition\": \"auto\", \"type\": \"bar\", \"x\": [\"2020-06-27\", \"2020-06-27\", \"2020-06-27\", \"2020-06-27\", \"2020-06-27\", \"2020-06-27\", \"2020-06-27\", \"2020-06-27\", \"2020-06-26\", \"2020-06-26\", \"2020-06-26\", \"2020-06-26\", \"2020-06-26\", \"2020-06-26\", \"2020-06-26\", \"2020-06-26\", \"2020-06-25\", \"2020-06-25\", \"2020-06-25\", \"2020-06-25\", \"2020-06-25\", \"2020-06-25\", \"2020-06-25\", \"2020-06-25\", \"2020-06-24\", \"2020-06-24\", \"2020-06-24\", \"2020-06-24\", \"2020-06-24\", \"2020-06-24\", \"2020-06-24\", \"2020-06-24\", \"2020-06-23\", \"2020-06-23\", \"2020-06-23\", \"2020-06-23\", \"2020-06-23\", \"2020-06-23\", \"2020-06-23\", \"2020-06-23\", \"2020-06-22\", \"2020-06-22\", \"2020-06-22\", \"2020-06-22\", \"2020-06-22\", \"2020-06-22\", \"2020-06-22\", \"2020-06-22\", \"2020-06-21\", \"2020-06-21\", \"2020-06-21\", \"2020-06-21\", \"2020-06-21\", \"2020-06-21\", \"2020-06-21\", \"2020-06-21\", \"2020-06-20\", \"2020-06-20\", \"2020-06-20\", \"2020-06-20\", \"2020-06-20\", \"2020-06-20\", \"2020-06-20\", \"2020-06-20\", \"2020-06-19\", \"2020-06-19\", \"2020-06-19\", \"2020-06-19\", \"2020-06-19\", \"2020-06-19\", \"2020-06-19\", \"2020-06-19\", \"2020-06-18\", \"2020-06-18\", \"2020-06-18\", \"2020-06-18\", \"2020-06-18\", \"2020-06-18\", \"2020-06-18\", \"2020-06-18\", \"2020-06-17\", \"2020-06-17\", \"2020-06-17\", \"2020-06-17\", \"2020-06-17\", \"2020-06-17\", \"2020-06-17\", \"2020-06-17\", \"2020-06-15\", \"2020-06-15\", \"2020-06-15\", \"2020-06-15\", \"2020-06-15\", \"2020-06-15\", \"2020-06-15\", \"2020-06-15\", \"2020-06-14\", \"2020-06-14\", \"2020-06-14\", \"2020-06-14\", \"2020-06-14\", \"2020-06-14\", \"2020-06-14\", \"2020-06-14\", \"2020-06-13\", \"2020-06-13\", \"2020-06-13\", \"2020-06-13\", \"2020-06-13\", \"2020-06-13\", \"2020-06-13\", \"2020-06-13\", \"2020-06-12\", \"2020-06-12\", \"2020-06-12\", \"2020-06-12\", \"2020-06-12\", \"2020-06-12\", \"2020-06-12\", \"2020-06-12\", \"2020-06-11\", \"2020-06-11\", \"2020-06-11\", \"2020-06-11\", \"2020-06-11\", \"2020-06-11\", \"2020-06-11\", \"2020-06-11\", \"2020-06-10\", \"2020-06-10\", \"2020-06-10\", \"2020-06-10\", \"2020-06-10\", \"2020-06-10\", \"2020-06-10\", \"2020-06-10\", \"2020-06-02\", \"2020-06-02\", \"2020-06-02\", \"2020-06-02\", \"2020-06-02\", \"2020-06-02\", \"2020-06-02\", \"2020-06-01\", \"2020-06-01\", \"2020-06-01\", \"2020-06-01\", \"2020-06-01\", \"2020-06-01\", \"2020-06-01\", \"2020-05-31\", \"2020-05-31\", \"2020-05-31\", \"2020-05-31\", \"2020-05-31\", \"2020-05-31\", \"2020-05-31\", \"2020-05-30\", \"2020-05-30\", \"2020-05-30\", \"2020-05-30\", \"2020-05-30\", \"2020-05-30\", \"2020-05-30\", \"2020-05-29\", \"2020-05-29\", \"2020-05-29\", \"2020-05-29\", \"2020-05-29\", \"2020-05-29\", \"2020-05-29\", \"2020-05-28\", \"2020-05-28\", \"2020-05-28\", \"2020-05-28\", \"2020-05-28\", \"2020-05-28\", \"2020-05-28\", \"2020-05-27\", \"2020-05-27\", \"2020-05-27\", \"2020-05-27\", \"2020-05-27\", \"2020-05-27\", \"2020-05-27\", \"2020-05-22\", \"2020-05-22\", \"2020-05-22\", \"2020-05-22\", \"2020-05-22\", \"2020-05-22\", \"2020-05-22\", \"2020-05-21\", \"2020-05-21\", \"2020-05-21\", \"2020-05-21\", \"2020-05-21\", \"2020-05-21\", \"2020-05-21\", \"2020-05-20\", \"2020-05-20\", \"2020-05-20\", \"2020-05-20\", \"2020-05-20\", \"2020-05-20\", \"2020-05-20\", \"2020-05-19\", \"2020-05-19\", \"2020-05-19\", \"2020-05-19\", \"2020-05-19\", \"2020-05-19\", \"2020-05-19\", \"2020-05-18\", \"2020-05-18\", \"2020-05-18\", \"2020-05-18\", \"2020-05-18\", \"2020-05-18\", \"2020-05-18\", \"2020-05-17\", \"2020-05-17\", \"2020-05-17\", \"2020-05-17\", \"2020-05-17\", \"2020-05-17\", \"2020-05-17\", \"2020-05-16\", \"2020-05-16\", \"2020-05-16\", \"2020-05-16\", \"2020-05-16\", \"2020-05-16\", \"2020-05-16\", \"2020-05-15\", \"2020-05-15\", \"2020-05-15\", \"2020-05-15\", \"2020-05-15\", \"2020-05-15\", \"2020-05-15\", \"2020-05-14\", \"2020-05-14\", \"2020-05-14\", \"2020-05-14\", \"2020-05-14\", \"2020-05-14\", \"2020-05-14\"], \"xaxis\": \"x\", \"y\": [197, 6102, 1541, 1401, 1560, 1023, 577, 6309, 192, 6013, 1513, 1377, 1539, 1015, 569, 6215, 184, 5901, 1471, 1348, 1515, 1000, 567, 6094, 178, 5794, 1436, 1317, 1502, 982, 557, 5981, 173, 5664, 1387, 1285, 1484, 963, 545, 5845, 161, 5492, 1329, 1224, 1456, 945, 538, 5661, 157, 5413, 1300, 1202, 1440, 939, 532, 5573, 146, 5336, 1273, 1174, 1426, 933, 530, 5485, 139, 5241, 1230, 1154, 1409, 921, 527, 5384, 132, 5160, 1198, 1138, 1390, 910, 524, 5296, 124, 5074, 1169, 1117, 1367, 898, 523, 5202, 115, 5009, 1150, 1101, 1347, 892, 519, 5128, 109, 4886, 1113, 1074, 1316, 874, 509, 4999, 104, 4858, 1103, 1067, 1308, 872, 508, 4966, 103, 4799, 1090, 1057, 1295, 859, 498, 4906, 103, 4725, 1064, 1038, 1283, 846, 494, 4832, 99, 4674, 1051, 1026, 1269, 838, 490, 4777, 82, 918, 920, 1160, 773, 441, 4298, 82, 895, 904, 1139, 765, 429, 4218, 82, 882, 898, 1127, 757, 422, 4172, 82, 869, 889, 1120, 753, 420, 4137, 80, 846, 873, 1101, 738, 403, 4045, 74, 807, 849, 1066, 718, 396, 3914, 71, 794, 830, 1058, 714, 393, 3863, 63, 742, 785, 986, 665, 373, 3616, 60, 731, 767, 966, 648, 359, 3533, 56, 714, 754, 954, 635, 350, 3465, 54, 697, 750, 944, 624, 348, 3418, 51, 672, 731, 923, 613, 343, 3334, 49, 653, 716, 906, 603, 339, 3267, 48, 643, 708, 898, 592, 331, 3221, 47, 638, 694, 887, 585, 326, 3178, 44, 594, 661, 851, 567, 308, 3026], \"yaxis\": \"y\"}, {\"alignmentgroup\": \"True\", \"hovertemplate\": \"race=latino<br>date=%{x}<br>confirmed_cases_total=%{y}<extra></extra>\", \"legendgroup\": \"latino\", \"marker\": {\"color\": \"#00cc96\"}, \"name\": \"latino\", \"offsetgroup\": \"latino\", \"orientation\": \"v\", \"showlegend\": true, \"textposition\": \"auto\", \"type\": \"bar\", \"x\": [\"2020-06-27\", \"2020-06-27\", \"2020-06-27\", \"2020-06-27\", \"2020-06-27\", \"2020-06-27\", \"2020-06-27\", \"2020-06-27\", \"2020-06-26\", \"2020-06-26\", \"2020-06-26\", \"2020-06-26\", \"2020-06-26\", \"2020-06-26\", \"2020-06-26\", \"2020-06-26\", \"2020-06-25\", \"2020-06-25\", \"2020-06-25\", \"2020-06-25\", \"2020-06-25\", \"2020-06-25\", \"2020-06-25\", \"2020-06-25\", \"2020-06-24\", \"2020-06-24\", \"2020-06-24\", \"2020-06-24\", \"2020-06-24\", \"2020-06-24\", \"2020-06-24\", \"2020-06-24\", \"2020-06-23\", \"2020-06-23\", \"2020-06-23\", \"2020-06-23\", \"2020-06-23\", \"2020-06-23\", \"2020-06-23\", \"2020-06-23\", \"2020-06-22\", \"2020-06-22\", \"2020-06-22\", \"2020-06-22\", \"2020-06-22\", \"2020-06-22\", \"2020-06-22\", \"2020-06-22\", \"2020-06-21\", \"2020-06-21\", \"2020-06-21\", \"2020-06-21\", \"2020-06-21\", \"2020-06-21\", \"2020-06-21\", \"2020-06-21\", \"2020-06-20\", \"2020-06-20\", \"2020-06-20\", \"2020-06-20\", \"2020-06-20\", \"2020-06-20\", \"2020-06-20\", \"2020-06-20\", \"2020-06-19\", \"2020-06-19\", \"2020-06-19\", \"2020-06-19\", \"2020-06-19\", \"2020-06-19\", \"2020-06-19\", \"2020-06-19\", \"2020-06-18\", \"2020-06-18\", \"2020-06-18\", \"2020-06-18\", \"2020-06-18\", \"2020-06-18\", \"2020-06-18\", \"2020-06-18\", \"2020-06-17\", \"2020-06-17\", \"2020-06-17\", \"2020-06-17\", \"2020-06-17\", \"2020-06-17\", \"2020-06-17\", \"2020-06-17\", \"2020-06-15\", \"2020-06-15\", \"2020-06-15\", \"2020-06-15\", \"2020-06-15\", \"2020-06-15\", \"2020-06-15\", \"2020-06-15\", \"2020-06-14\", \"2020-06-14\", \"2020-06-14\", \"2020-06-14\", \"2020-06-14\", \"2020-06-14\", \"2020-06-14\", \"2020-06-14\", \"2020-06-13\", \"2020-06-13\", \"2020-06-13\", \"2020-06-13\", \"2020-06-13\", \"2020-06-13\", \"2020-06-13\", \"2020-06-13\", \"2020-06-12\", \"2020-06-12\", \"2020-06-12\", \"2020-06-12\", \"2020-06-12\", \"2020-06-12\", \"2020-06-12\", \"2020-06-12\", \"2020-06-11\", \"2020-06-11\", \"2020-06-11\", \"2020-06-11\", \"2020-06-11\", \"2020-06-11\", \"2020-06-11\", \"2020-06-11\", \"2020-06-10\", \"2020-06-10\", \"2020-06-10\", \"2020-06-10\", \"2020-06-10\", \"2020-06-10\", \"2020-06-10\", \"2020-06-10\", \"2020-06-02\", \"2020-06-02\", \"2020-06-02\", \"2020-06-02\", \"2020-06-02\", \"2020-06-02\", \"2020-06-02\", \"2020-06-01\", \"2020-06-01\", \"2020-06-01\", \"2020-06-01\", \"2020-06-01\", \"2020-06-01\", \"2020-06-01\", \"2020-05-31\", \"2020-05-31\", \"2020-05-31\", \"2020-05-31\", \"2020-05-31\", \"2020-05-31\", \"2020-05-31\", \"2020-05-30\", \"2020-05-30\", \"2020-05-30\", \"2020-05-30\", \"2020-05-30\", \"2020-05-30\", \"2020-05-30\", \"2020-05-29\", \"2020-05-29\", \"2020-05-29\", \"2020-05-29\", \"2020-05-29\", \"2020-05-29\", \"2020-05-29\", \"2020-05-28\", \"2020-05-28\", \"2020-05-28\", \"2020-05-28\", \"2020-05-28\", \"2020-05-28\", \"2020-05-28\", \"2020-05-27\", \"2020-05-27\", \"2020-05-27\", \"2020-05-27\", \"2020-05-27\", \"2020-05-27\", \"2020-05-27\", \"2020-05-22\", \"2020-05-22\", \"2020-05-22\", \"2020-05-22\", \"2020-05-22\", \"2020-05-22\", \"2020-05-22\", \"2020-05-21\", \"2020-05-21\", \"2020-05-21\", \"2020-05-21\", \"2020-05-21\", \"2020-05-21\", \"2020-05-21\", \"2020-05-20\", \"2020-05-20\", \"2020-05-20\", \"2020-05-20\", \"2020-05-20\", \"2020-05-20\", \"2020-05-20\", \"2020-05-19\", \"2020-05-19\", \"2020-05-19\", \"2020-05-19\", \"2020-05-19\", \"2020-05-19\", \"2020-05-19\", \"2020-05-18\", \"2020-05-18\", \"2020-05-18\", \"2020-05-18\", \"2020-05-18\", \"2020-05-18\", \"2020-05-18\", \"2020-05-17\", \"2020-05-17\", \"2020-05-17\", \"2020-05-17\", \"2020-05-17\", \"2020-05-17\", \"2020-05-17\", \"2020-05-16\", \"2020-05-16\", \"2020-05-16\", \"2020-05-16\", \"2020-05-16\", \"2020-05-16\", \"2020-05-16\", \"2020-05-15\", \"2020-05-15\", \"2020-05-15\", \"2020-05-15\", \"2020-05-15\", \"2020-05-15\", \"2020-05-15\", \"2020-05-14\", \"2020-05-14\", \"2020-05-14\", \"2020-05-14\", \"2020-05-14\", \"2020-05-14\", \"2020-05-14\"], \"xaxis\": \"x\", \"y\": [7625, 73193, 26511, 21910, 16802, 5792, 2178, 80875, 7523, 72358, 26194, 21639, 16632, 5730, 2163, 79934, 7276, 70600, 25409, 21132, 16294, 5630, 2135, 77926, 7059, 68929, 24742, 20605, 15965, 5519, 2098, 76036, 6694, 66618, 23814, 19873, 15509, 5361, 2061, 73357, 6452, 64851, 23106, 19278, 15189, 5250, 2028, 71350, 6328, 64064, 22770, 19046, 15044, 5200, 2004, 70439, 6195, 63144, 22418, 18767, 14843, 5129, 1987, 69392, 6013, 61751, 21892, 18351, 14540, 5018, 1950, 67818, 5836, 60372, 21303, 17952, 14266, 4927, 1924, 66261, 5643, 59094, 20794, 17576, 13972, 4853, 1899, 64787, 5446, 57708, 20233, 17147, 13686, 4765, 1877, 63202, 5063, 55266, 19199, 16437, 13187, 4608, 1835, 60377, 4956, 54694, 18967, 16251, 13067, 4582, 1827, 59702, 4807, 53560, 18498, 15931, 12842, 4497, 1792, 58415, 4648, 52198, 17926, 15544, 12549, 4416, 1763, 56896, 4490, 50902, 17410, 15155, 12262, 4338, 1737, 55439, 3381, 13796, 12379, 10209, 3717, 1459, 44975, 3260, 13481, 12091, 10007, 3649, 1429, 43951, 3202, 13309, 11932, 9903, 3616, 1397, 43392, 3159, 13121, 11814, 9812, 3575, 1385, 42897, 2977, 12626, 11418, 9527, 3467, 1340, 41386, 2838, 12227, 11087, 9266, 3375, 1311, 40134, 2711, 11848, 10758, 9022, 3282, 1281, 38929, 2290, 10509, 9648, 8181, 2988, 1176, 34809, 2160, 10151, 9313, 7932, 2910, 1151, 33639, 2046, 9824, 9070, 7751, 2842, 1111, 32662, 1920, 9399, 8772, 7483, 2761, 1082, 31432, 1797, 9077, 8482, 7265, 2697, 1059, 30391, 1741, 8842, 8268, 7117, 2663, 1049, 29693, 1707, 8678, 8138, 7021, 2618, 1033, 29208, 1575, 8256, 7803, 6750, 2545, 1000, 27943, 1491, 7899, 7530, 6506, 2466, 972, 26880], \"yaxis\": \"y\"}, {\"alignmentgroup\": \"True\", \"hovertemplate\": \"race=other<br>date=%{x}<br>confirmed_cases_total=%{y}<extra></extra>\", \"legendgroup\": \"other\", \"marker\": {\"color\": \"#ab63fa\"}, \"name\": \"other\", \"offsetgroup\": \"other\", \"orientation\": \"v\", \"showlegend\": true, \"textposition\": \"auto\", \"type\": \"bar\", \"x\": [\"2020-06-27\", \"2020-06-27\", \"2020-06-27\", \"2020-06-27\", \"2020-06-27\", \"2020-06-27\", \"2020-06-27\", \"2020-06-27\", \"2020-06-26\", \"2020-06-26\", \"2020-06-26\", \"2020-06-26\", \"2020-06-26\", \"2020-06-26\", \"2020-06-26\", \"2020-06-26\", \"2020-06-25\", \"2020-06-25\", \"2020-06-25\", \"2020-06-25\", \"2020-06-25\", \"2020-06-25\", \"2020-06-25\", \"2020-06-25\", \"2020-06-24\", \"2020-06-24\", \"2020-06-24\", \"2020-06-24\", \"2020-06-24\", \"2020-06-24\", \"2020-06-24\", \"2020-06-24\", \"2020-06-23\", \"2020-06-23\", \"2020-06-23\", \"2020-06-23\", \"2020-06-23\", \"2020-06-23\", \"2020-06-23\", \"2020-06-23\", \"2020-06-22\", \"2020-06-22\", \"2020-06-22\", \"2020-06-22\", \"2020-06-22\", \"2020-06-22\", \"2020-06-22\", \"2020-06-22\", \"2020-06-21\", \"2020-06-21\", \"2020-06-21\", \"2020-06-21\", \"2020-06-21\", \"2020-06-21\", \"2020-06-21\", \"2020-06-21\", \"2020-06-20\", \"2020-06-20\", \"2020-06-20\", \"2020-06-20\", \"2020-06-20\", \"2020-06-20\", \"2020-06-20\", \"2020-06-20\", \"2020-06-19\", \"2020-06-19\", \"2020-06-19\", \"2020-06-19\", \"2020-06-19\", \"2020-06-19\", \"2020-06-19\", \"2020-06-19\", \"2020-06-18\", \"2020-06-18\", \"2020-06-18\", \"2020-06-18\", \"2020-06-18\", \"2020-06-18\", \"2020-06-18\", \"2020-06-18\", \"2020-06-17\", \"2020-06-17\", \"2020-06-17\", \"2020-06-17\", \"2020-06-17\", \"2020-06-17\", \"2020-06-17\", \"2020-06-17\", \"2020-06-15\", \"2020-06-15\", \"2020-06-15\", \"2020-06-15\", \"2020-06-15\", \"2020-06-15\", \"2020-06-15\", \"2020-06-15\", \"2020-06-14\", \"2020-06-14\", \"2020-06-14\", \"2020-06-14\", \"2020-06-14\", \"2020-06-14\", \"2020-06-14\", \"2020-06-14\", \"2020-06-13\", \"2020-06-13\", \"2020-06-13\", \"2020-06-13\", \"2020-06-13\", \"2020-06-13\", \"2020-06-13\", \"2020-06-13\", \"2020-06-12\", \"2020-06-12\", \"2020-06-12\", \"2020-06-12\", \"2020-06-12\", \"2020-06-12\", \"2020-06-12\", \"2020-06-12\", \"2020-06-11\", \"2020-06-11\", \"2020-06-11\", \"2020-06-11\", \"2020-06-11\", \"2020-06-11\", \"2020-06-11\", \"2020-06-11\", \"2020-06-10\", \"2020-06-10\", \"2020-06-10\", \"2020-06-10\", \"2020-06-10\", \"2020-06-10\", \"2020-06-10\", \"2020-06-10\", \"2020-06-02\", \"2020-06-02\", \"2020-06-02\", \"2020-06-02\", \"2020-06-02\", \"2020-06-02\", \"2020-06-02\", \"2020-06-01\", \"2020-06-01\", \"2020-06-01\", \"2020-06-01\", \"2020-06-01\", \"2020-06-01\", \"2020-06-01\", \"2020-05-31\", \"2020-05-31\", \"2020-05-31\", \"2020-05-31\", \"2020-05-31\", \"2020-05-31\", \"2020-05-31\", \"2020-05-30\", \"2020-05-30\", \"2020-05-30\", \"2020-05-30\", \"2020-05-30\", \"2020-05-30\", \"2020-05-30\", \"2020-05-29\", \"2020-05-29\", \"2020-05-29\", \"2020-05-29\", \"2020-05-29\", \"2020-05-29\", \"2020-05-29\", \"2020-05-28\", \"2020-05-28\", \"2020-05-28\", \"2020-05-28\", \"2020-05-28\", \"2020-05-28\", \"2020-05-28\", \"2020-05-27\", \"2020-05-27\", \"2020-05-27\", \"2020-05-27\", \"2020-05-27\", \"2020-05-27\", \"2020-05-27\", \"2020-05-22\", \"2020-05-22\", \"2020-05-22\", \"2020-05-22\", \"2020-05-22\", \"2020-05-22\", \"2020-05-22\", \"2020-05-21\", \"2020-05-21\", \"2020-05-21\", \"2020-05-21\", \"2020-05-21\", \"2020-05-21\", \"2020-05-21\", \"2020-05-20\", \"2020-05-20\", \"2020-05-20\", \"2020-05-20\", \"2020-05-20\", \"2020-05-20\", \"2020-05-20\", \"2020-05-19\", \"2020-05-19\", \"2020-05-19\", \"2020-05-19\", \"2020-05-19\", \"2020-05-19\", \"2020-05-19\", \"2020-05-18\", \"2020-05-18\", \"2020-05-18\", \"2020-05-18\", \"2020-05-18\", \"2020-05-18\", \"2020-05-18\", \"2020-05-17\", \"2020-05-17\", \"2020-05-17\", \"2020-05-17\", \"2020-05-17\", \"2020-05-17\", \"2020-05-17\", \"2020-05-16\", \"2020-05-16\", \"2020-05-16\", \"2020-05-16\", \"2020-05-16\", \"2020-05-16\", \"2020-05-16\", \"2020-05-15\", \"2020-05-15\", \"2020-05-15\", \"2020-05-15\", \"2020-05-15\", \"2020-05-15\", \"2020-05-15\", \"2020-05-14\", \"2020-05-14\", \"2020-05-14\", \"2020-05-14\", \"2020-05-14\", \"2020-05-14\", \"2020-05-14\"], \"xaxis\": \"x\", \"y\": [2233, 18534, 7239, 5307, 4104, 1342, 542, 20769, 2132, 17979, 6953, 5161, 4010, 1321, 534, 20113, 2049, 17516, 6734, 5040, 3913, 1308, 521, 19567, 2014, 17205, 6595, 4959, 3833, 1299, 519, 19221, 2017, 17079, 6528, 4929, 3827, 1282, 513, 19099, 1929, 16197, 6136, 4689, 3635, 1235, 502, 18129, 1840, 15275, 5753, 4405, 3459, 1177, 481, 17118, 1769, 14662, 5489, 4200, 3349, 1152, 472, 16434, 1699, 14109, 5240, 4021, 3247, 1126, 475, 15811, 1633, 13691, 5041, 3906, 3167, 1106, 471, 15325, 1569, 13306, 4887, 3792, 3077, 1090, 460, 14876, 1503, 12832, 4681, 3669, 2984, 1054, 444, 14337, 1391, 12046, 4389, 3413, 2812, 997, 435, 13439, 1333, 11639, 4206, 3309, 2732, 974, 418, 12974, 1283, 11345, 4086, 3227, 2681, 960, 391, 12630, 1224, 10946, 3912, 3112, 2605, 933, 384, 12172, 1203, 10850, 3866, 3087, 2574, 938, 385, 12056, 855, 2967, 2437, 2061, 796, 319, 9437, 781, 2803, 2303, 1974, 764, 308, 8935, 724, 2643, 2180, 1878, 745, 302, 8474, 638, 2466, 2046, 1792, 711, 286, 7941, 540, 2231, 1878, 1671, 681, 280, 7283, 480, 2036, 1769, 1581, 661, 270, 6799, 430, 1863, 1661, 1497, 638, 261, 6352, 157, 1055, 1043, 1080, 506, 226, 4069, 142, 1006, 1004, 1047, 496, 218, 3916, 131, 956, 940, 990, 479, 218, 3717, 131, 942, 914, 973, 475, 208, 3645, 130, 915, 910, 972, 464, 206, 3599, 119, 898, 893, 938, 452, 206, 3508, 108, 881, 864, 919, 445, 198, 3418, 104, 863, 841, 901, 435, 187, 3333, 103, 852, 826, 893, 420, 183, 3280], \"yaxis\": \"y\"}, {\"alignmentgroup\": \"True\", \"hovertemplate\": \"race=white<br>date=%{x}<br>confirmed_cases_total=%{y}<extra></extra>\", \"legendgroup\": \"white\", \"marker\": {\"color\": \"#FFA15A\"}, \"name\": \"white\", \"offsetgroup\": \"white\", \"orientation\": \"v\", \"showlegend\": true, \"textposition\": \"auto\", \"type\": \"bar\", \"x\": [\"2020-06-27\", \"2020-06-27\", \"2020-06-27\", \"2020-06-27\", \"2020-06-27\", \"2020-06-27\", \"2020-06-27\", \"2020-06-27\", \"2020-06-26\", \"2020-06-26\", \"2020-06-26\", \"2020-06-26\", \"2020-06-26\", \"2020-06-26\", \"2020-06-26\", \"2020-06-26\", \"2020-06-25\", \"2020-06-25\", \"2020-06-25\", \"2020-06-25\", \"2020-06-25\", \"2020-06-25\", \"2020-06-25\", \"2020-06-25\", \"2020-06-24\", \"2020-06-24\", \"2020-06-24\", \"2020-06-24\", \"2020-06-24\", \"2020-06-24\", \"2020-06-24\", \"2020-06-24\", \"2020-06-23\", \"2020-06-23\", \"2020-06-23\", \"2020-06-23\", \"2020-06-23\", \"2020-06-23\", \"2020-06-23\", \"2020-06-23\", \"2020-06-22\", \"2020-06-22\", \"2020-06-22\", \"2020-06-22\", \"2020-06-22\", \"2020-06-22\", \"2020-06-22\", \"2020-06-22\", \"2020-06-21\", \"2020-06-21\", \"2020-06-21\", \"2020-06-21\", \"2020-06-21\", \"2020-06-21\", \"2020-06-21\", \"2020-06-21\", \"2020-06-20\", \"2020-06-20\", \"2020-06-20\", \"2020-06-20\", \"2020-06-20\", \"2020-06-20\", \"2020-06-20\", \"2020-06-20\", \"2020-06-19\", \"2020-06-19\", \"2020-06-19\", \"2020-06-19\", \"2020-06-19\", \"2020-06-19\", \"2020-06-19\", \"2020-06-19\", \"2020-06-18\", \"2020-06-18\", \"2020-06-18\", \"2020-06-18\", \"2020-06-18\", \"2020-06-18\", \"2020-06-18\", \"2020-06-18\", \"2020-06-17\", \"2020-06-17\", \"2020-06-17\", \"2020-06-17\", \"2020-06-17\", \"2020-06-17\", \"2020-06-17\", \"2020-06-17\", \"2020-06-15\", \"2020-06-15\", \"2020-06-15\", \"2020-06-15\", \"2020-06-15\", \"2020-06-15\", \"2020-06-15\", \"2020-06-15\", \"2020-06-14\", \"2020-06-14\", \"2020-06-14\", \"2020-06-14\", \"2020-06-14\", \"2020-06-14\", \"2020-06-14\", \"2020-06-14\", \"2020-06-13\", \"2020-06-13\", \"2020-06-13\", \"2020-06-13\", \"2020-06-13\", \"2020-06-13\", \"2020-06-13\", \"2020-06-13\", \"2020-06-12\", \"2020-06-12\", \"2020-06-12\", \"2020-06-12\", \"2020-06-12\", \"2020-06-12\", \"2020-06-12\", \"2020-06-12\", \"2020-06-11\", \"2020-06-11\", \"2020-06-11\", \"2020-06-11\", \"2020-06-11\", \"2020-06-11\", \"2020-06-11\", \"2020-06-11\", \"2020-06-10\", \"2020-06-10\", \"2020-06-10\", \"2020-06-10\", \"2020-06-10\", \"2020-06-10\", \"2020-06-10\", \"2020-06-10\", \"2020-06-02\", \"2020-06-02\", \"2020-06-02\", \"2020-06-02\", \"2020-06-02\", \"2020-06-02\", \"2020-06-02\", \"2020-06-01\", \"2020-06-01\", \"2020-06-01\", \"2020-06-01\", \"2020-06-01\", \"2020-06-01\", \"2020-06-01\", \"2020-05-31\", \"2020-05-31\", \"2020-05-31\", \"2020-05-31\", \"2020-05-31\", \"2020-05-31\", \"2020-05-31\", \"2020-05-30\", \"2020-05-30\", \"2020-05-30\", \"2020-05-30\", \"2020-05-30\", \"2020-05-30\", \"2020-05-30\", \"2020-05-29\", \"2020-05-29\", \"2020-05-29\", \"2020-05-29\", \"2020-05-29\", \"2020-05-29\", \"2020-05-29\", \"2020-05-28\", \"2020-05-28\", \"2020-05-28\", \"2020-05-28\", \"2020-05-28\", \"2020-05-28\", \"2020-05-28\", \"2020-05-27\", \"2020-05-27\", \"2020-05-27\", \"2020-05-27\", \"2020-05-27\", \"2020-05-27\", \"2020-05-27\", \"2020-05-22\", \"2020-05-22\", \"2020-05-22\", \"2020-05-22\", \"2020-05-22\", \"2020-05-22\", \"2020-05-22\", \"2020-05-21\", \"2020-05-21\", \"2020-05-21\", \"2020-05-21\", \"2020-05-21\", \"2020-05-21\", \"2020-05-21\", \"2020-05-20\", \"2020-05-20\", \"2020-05-20\", \"2020-05-20\", \"2020-05-20\", \"2020-05-20\", \"2020-05-20\", \"2020-05-19\", \"2020-05-19\", \"2020-05-19\", \"2020-05-19\", \"2020-05-19\", \"2020-05-19\", \"2020-05-19\", \"2020-05-18\", \"2020-05-18\", \"2020-05-18\", \"2020-05-18\", \"2020-05-18\", \"2020-05-18\", \"2020-05-18\", \"2020-05-17\", \"2020-05-17\", \"2020-05-17\", \"2020-05-17\", \"2020-05-17\", \"2020-05-17\", \"2020-05-17\", \"2020-05-16\", \"2020-05-16\", \"2020-05-16\", \"2020-05-16\", \"2020-05-16\", \"2020-05-16\", \"2020-05-16\", \"2020-05-15\", \"2020-05-15\", \"2020-05-15\", \"2020-05-15\", \"2020-05-15\", \"2020-05-15\", \"2020-05-15\", \"2020-05-14\", \"2020-05-14\", \"2020-05-14\", \"2020-05-14\", \"2020-05-14\", \"2020-05-14\", \"2020-05-14\"], \"xaxis\": \"x\", \"y\": [820, 23394, 5445, 4819, 5767, 4389, 2974, 24242, 792, 23081, 5320, 4754, 5716, 4336, 2955, 23899, 762, 22553, 5097, 4641, 5615, 4271, 2929, 23339, 744, 22103, 4948, 4552, 5507, 4204, 2892, 22871, 766, 21710, 4840, 4465, 5412, 4141, 2849, 22500, 734, 21127, 4622, 4334, 5284, 4070, 2817, 21885, 702, 20823, 4516, 4269, 5214, 4030, 2794, 21547, 668, 20486, 4403, 4182, 5137, 3990, 2774, 21177, 656, 20100, 4286, 4121, 5067, 3918, 2708, 20780, 639, 19811, 4190, 4059, 5007, 3875, 2680, 20475, 597, 19466, 4094, 3958, 4935, 3823, 2656, 20087, 584, 19159, 4022, 3895, 4869, 3756, 2617, 19766, 555, 18662, 3890, 3801, 4739, 3667, 2565, 19240, 546, 18478, 3834, 3763, 4694, 3635, 2552, 19045, 531, 18231, 3779, 3714, 4642, 3586, 2510, 18783, 517, 17992, 3707, 3664, 4596, 3540, 2485, 18528, 502, 17792, 3664, 3630, 4543, 3501, 2454, 18312, 402, 3236, 3222, 4116, 3191, 2217, 16402, 383, 3161, 3166, 4049, 3146, 2194, 16114, 374, 3132, 3137, 4009, 3121, 2166, 15954, 373, 3113, 3111, 3986, 3098, 2147, 15843, 342, 2974, 3010, 3877, 3030, 2111, 15357, 332, 2925, 2963, 3834, 2986, 2081, 15132, 325, 2872, 2924, 3780, 2956, 2047, 14915, 290, 2667, 2778, 3562, 2764, 1936, 14007, 289, 2608, 2738, 3496, 2716, 1905, 13762, 272, 2526, 2681, 3427, 2664, 1858, 13437, 261, 2464, 2624, 3356, 2628, 1843, 13185, 254, 2417, 2582, 3300, 2595, 1802, 12960, 227, 2324, 2505, 3212, 2547, 1773, 12598, 226, 2299, 2493, 3183, 2514, 1728, 12452, 202, 2234, 2433, 3107, 2471, 1697, 12153, 197, 2199, 2392, 3062, 2433, 1665, 11956], \"yaxis\": \"y\"}],\n",
       "                        {\"barmode\": \"relative\", \"legend\": {\"title\": {\"text\": \"race\"}, \"tracegroupgap\": 0}, \"margin\": {\"t\": 60}, \"template\": {\"data\": {\"bar\": [{\"error_x\": {\"color\": \"#2a3f5f\"}, \"error_y\": {\"color\": \"#2a3f5f\"}, \"marker\": {\"line\": {\"color\": \"#E5ECF6\", \"width\": 0.5}}, \"type\": \"bar\"}], \"barpolar\": [{\"marker\": {\"line\": {\"color\": \"#E5ECF6\", \"width\": 0.5}}, \"type\": \"barpolar\"}], \"carpet\": [{\"aaxis\": {\"endlinecolor\": \"#2a3f5f\", \"gridcolor\": \"white\", \"linecolor\": \"white\", \"minorgridcolor\": \"white\", \"startlinecolor\": \"#2a3f5f\"}, \"baxis\": {\"endlinecolor\": \"#2a3f5f\", \"gridcolor\": \"white\", \"linecolor\": \"white\", \"minorgridcolor\": \"white\", \"startlinecolor\": \"#2a3f5f\"}, \"type\": \"carpet\"}], \"choropleth\": [{\"colorbar\": {\"outlinewidth\": 0, \"ticks\": \"\"}, \"type\": \"choropleth\"}], \"contour\": [{\"colorbar\": {\"outlinewidth\": 0, \"ticks\": \"\"}, \"colorscale\": [[0.0, \"#0d0887\"], [0.1111111111111111, \"#46039f\"], [0.2222222222222222, \"#7201a8\"], [0.3333333333333333, \"#9c179e\"], [0.4444444444444444, \"#bd3786\"], [0.5555555555555556, \"#d8576b\"], [0.6666666666666666, \"#ed7953\"], [0.7777777777777778, \"#fb9f3a\"], [0.8888888888888888, \"#fdca26\"], [1.0, \"#f0f921\"]], \"type\": \"contour\"}], \"contourcarpet\": [{\"colorbar\": {\"outlinewidth\": 0, \"ticks\": \"\"}, \"type\": \"contourcarpet\"}], \"heatmap\": [{\"colorbar\": {\"outlinewidth\": 0, \"ticks\": \"\"}, \"colorscale\": [[0.0, \"#0d0887\"], [0.1111111111111111, \"#46039f\"], [0.2222222222222222, \"#7201a8\"], [0.3333333333333333, \"#9c179e\"], [0.4444444444444444, \"#bd3786\"], [0.5555555555555556, \"#d8576b\"], [0.6666666666666666, \"#ed7953\"], [0.7777777777777778, \"#fb9f3a\"], [0.8888888888888888, \"#fdca26\"], [1.0, \"#f0f921\"]], \"type\": \"heatmap\"}], \"heatmapgl\": [{\"colorbar\": {\"outlinewidth\": 0, \"ticks\": \"\"}, \"colorscale\": [[0.0, \"#0d0887\"], [0.1111111111111111, \"#46039f\"], [0.2222222222222222, \"#7201a8\"], [0.3333333333333333, \"#9c179e\"], [0.4444444444444444, \"#bd3786\"], [0.5555555555555556, \"#d8576b\"], [0.6666666666666666, \"#ed7953\"], [0.7777777777777778, \"#fb9f3a\"], [0.8888888888888888, \"#fdca26\"], [1.0, \"#f0f921\"]], \"type\": \"heatmapgl\"}], \"histogram\": [{\"marker\": {\"colorbar\": {\"outlinewidth\": 0, \"ticks\": \"\"}}, \"type\": \"histogram\"}], \"histogram2d\": [{\"colorbar\": {\"outlinewidth\": 0, \"ticks\": \"\"}, \"colorscale\": [[0.0, \"#0d0887\"], [0.1111111111111111, \"#46039f\"], [0.2222222222222222, \"#7201a8\"], [0.3333333333333333, \"#9c179e\"], [0.4444444444444444, \"#bd3786\"], [0.5555555555555556, \"#d8576b\"], [0.6666666666666666, \"#ed7953\"], [0.7777777777777778, \"#fb9f3a\"], [0.8888888888888888, \"#fdca26\"], [1.0, \"#f0f921\"]], \"type\": \"histogram2d\"}], \"histogram2dcontour\": [{\"colorbar\": {\"outlinewidth\": 0, \"ticks\": \"\"}, \"colorscale\": [[0.0, \"#0d0887\"], [0.1111111111111111, \"#46039f\"], [0.2222222222222222, \"#7201a8\"], [0.3333333333333333, \"#9c179e\"], [0.4444444444444444, \"#bd3786\"], [0.5555555555555556, \"#d8576b\"], [0.6666666666666666, \"#ed7953\"], [0.7777777777777778, \"#fb9f3a\"], [0.8888888888888888, \"#fdca26\"], [1.0, \"#f0f921\"]], \"type\": \"histogram2dcontour\"}], \"mesh3d\": [{\"colorbar\": {\"outlinewidth\": 0, \"ticks\": \"\"}, \"type\": \"mesh3d\"}], \"parcoords\": [{\"line\": {\"colorbar\": {\"outlinewidth\": 0, \"ticks\": \"\"}}, \"type\": \"parcoords\"}], \"pie\": [{\"automargin\": true, \"type\": \"pie\"}], \"scatter\": [{\"marker\": {\"colorbar\": {\"outlinewidth\": 0, \"ticks\": \"\"}}, \"type\": \"scatter\"}], \"scatter3d\": [{\"line\": {\"colorbar\": {\"outlinewidth\": 0, \"ticks\": \"\"}}, \"marker\": {\"colorbar\": {\"outlinewidth\": 0, \"ticks\": \"\"}}, \"type\": \"scatter3d\"}], \"scattercarpet\": [{\"marker\": {\"colorbar\": {\"outlinewidth\": 0, \"ticks\": \"\"}}, \"type\": \"scattercarpet\"}], \"scattergeo\": [{\"marker\": {\"colorbar\": {\"outlinewidth\": 0, \"ticks\": \"\"}}, \"type\": \"scattergeo\"}], \"scattergl\": [{\"marker\": {\"colorbar\": {\"outlinewidth\": 0, \"ticks\": \"\"}}, \"type\": \"scattergl\"}], \"scattermapbox\": [{\"marker\": {\"colorbar\": {\"outlinewidth\": 0, \"ticks\": \"\"}}, \"type\": \"scattermapbox\"}], \"scatterpolar\": [{\"marker\": {\"colorbar\": {\"outlinewidth\": 0, \"ticks\": \"\"}}, \"type\": \"scatterpolar\"}], \"scatterpolargl\": [{\"marker\": {\"colorbar\": {\"outlinewidth\": 0, \"ticks\": \"\"}}, \"type\": \"scatterpolargl\"}], \"scatterternary\": [{\"marker\": {\"colorbar\": {\"outlinewidth\": 0, \"ticks\": \"\"}}, \"type\": \"scatterternary\"}], \"surface\": [{\"colorbar\": {\"outlinewidth\": 0, \"ticks\": \"\"}, \"colorscale\": [[0.0, \"#0d0887\"], [0.1111111111111111, \"#46039f\"], [0.2222222222222222, \"#7201a8\"], [0.3333333333333333, \"#9c179e\"], [0.4444444444444444, \"#bd3786\"], [0.5555555555555556, \"#d8576b\"], [0.6666666666666666, \"#ed7953\"], [0.7777777777777778, \"#fb9f3a\"], [0.8888888888888888, \"#fdca26\"], [1.0, \"#f0f921\"]], \"type\": \"surface\"}], \"table\": [{\"cells\": {\"fill\": {\"color\": \"#EBF0F8\"}, \"line\": {\"color\": \"white\"}}, \"header\": {\"fill\": {\"color\": \"#C8D4E3\"}, \"line\": {\"color\": \"white\"}}, \"type\": \"table\"}]}, \"layout\": {\"annotationdefaults\": {\"arrowcolor\": \"#2a3f5f\", \"arrowhead\": 0, \"arrowwidth\": 1}, \"coloraxis\": {\"colorbar\": {\"outlinewidth\": 0, \"ticks\": \"\"}}, \"colorscale\": {\"diverging\": [[0, \"#8e0152\"], [0.1, \"#c51b7d\"], [0.2, \"#de77ae\"], [0.3, \"#f1b6da\"], [0.4, \"#fde0ef\"], [0.5, \"#f7f7f7\"], [0.6, \"#e6f5d0\"], [0.7, \"#b8e186\"], [0.8, \"#7fbc41\"], [0.9, \"#4d9221\"], [1, \"#276419\"]], \"sequential\": [[0.0, \"#0d0887\"], [0.1111111111111111, \"#46039f\"], [0.2222222222222222, \"#7201a8\"], [0.3333333333333333, \"#9c179e\"], [0.4444444444444444, \"#bd3786\"], [0.5555555555555556, \"#d8576b\"], [0.6666666666666666, \"#ed7953\"], [0.7777777777777778, \"#fb9f3a\"], [0.8888888888888888, \"#fdca26\"], [1.0, \"#f0f921\"]], \"sequentialminus\": [[0.0, \"#0d0887\"], [0.1111111111111111, \"#46039f\"], [0.2222222222222222, \"#7201a8\"], [0.3333333333333333, \"#9c179e\"], [0.4444444444444444, \"#bd3786\"], [0.5555555555555556, \"#d8576b\"], [0.6666666666666666, \"#ed7953\"], [0.7777777777777778, \"#fb9f3a\"], [0.8888888888888888, \"#fdca26\"], [1.0, \"#f0f921\"]]}, \"colorway\": [\"#636efa\", \"#EF553B\", \"#00cc96\", \"#ab63fa\", \"#FFA15A\", \"#19d3f3\", \"#FF6692\", \"#B6E880\", \"#FF97FF\", \"#FECB52\"], \"font\": {\"color\": \"#2a3f5f\"}, \"geo\": {\"bgcolor\": \"white\", \"lakecolor\": \"white\", \"landcolor\": \"#E5ECF6\", \"showlakes\": true, \"showland\": true, \"subunitcolor\": \"white\"}, \"hoverlabel\": {\"align\": \"left\"}, \"hovermode\": \"closest\", \"mapbox\": {\"style\": \"light\"}, \"paper_bgcolor\": \"white\", \"plot_bgcolor\": \"#E5ECF6\", \"polar\": {\"angularaxis\": {\"gridcolor\": \"white\", \"linecolor\": \"white\", \"ticks\": \"\"}, \"bgcolor\": \"#E5ECF6\", \"radialaxis\": {\"gridcolor\": \"white\", \"linecolor\": \"white\", \"ticks\": \"\"}}, \"scene\": {\"xaxis\": {\"backgroundcolor\": \"#E5ECF6\", \"gridcolor\": \"white\", \"gridwidth\": 2, \"linecolor\": \"white\", \"showbackground\": true, \"ticks\": \"\", \"zerolinecolor\": \"white\"}, \"yaxis\": {\"backgroundcolor\": \"#E5ECF6\", \"gridcolor\": \"white\", \"gridwidth\": 2, \"linecolor\": \"white\", \"showbackground\": true, \"ticks\": \"\", \"zerolinecolor\": \"white\"}, \"zaxis\": {\"backgroundcolor\": \"#E5ECF6\", \"gridcolor\": \"white\", \"gridwidth\": 2, \"linecolor\": \"white\", \"showbackground\": true, \"ticks\": \"\", \"zerolinecolor\": \"white\"}}, \"shapedefaults\": {\"line\": {\"color\": \"#2a3f5f\"}}, \"ternary\": {\"aaxis\": {\"gridcolor\": \"white\", \"linecolor\": \"white\", \"ticks\": \"\"}, \"baxis\": {\"gridcolor\": \"white\", \"linecolor\": \"white\", \"ticks\": \"\"}, \"bgcolor\": \"#E5ECF6\", \"caxis\": {\"gridcolor\": \"white\", \"linecolor\": \"white\", \"ticks\": \"\"}}, \"title\": {\"x\": 0.05}, \"xaxis\": {\"automargin\": true, \"gridcolor\": \"white\", \"linecolor\": \"white\", \"ticks\": \"\", \"title\": {\"standoff\": 15}, \"zerolinecolor\": \"white\", \"zerolinewidth\": 2}, \"yaxis\": {\"automargin\": true, \"gridcolor\": \"white\", \"linecolor\": \"white\", \"ticks\": \"\", \"title\": {\"standoff\": 15}, \"zerolinecolor\": \"white\", \"zerolinewidth\": 2}}}, \"xaxis\": {\"anchor\": \"y\", \"domain\": [0.0, 1.0], \"title\": {\"text\": \"date\"}}, \"yaxis\": {\"anchor\": \"x\", \"domain\": [0.0, 1.0], \"title\": {\"text\": \"confirmed_cases_total\"}}},\n",
       "                        {\"responsive\": true}\n",
       "                    ).then(function(){\n",
       "                            \n",
       "var gd = document.getElementById('c84f2df8-fe8e-4922-acc0-bc70da03ad56');\n",
       "var x = new MutationObserver(function (mutations, observer) {{\n",
       "        var display = window.getComputedStyle(gd).display;\n",
       "        if (!display || display === 'none') {{\n",
       "            console.log([gd, 'removed!']);\n",
       "            Plotly.purge(gd);\n",
       "            observer.disconnect();\n",
       "        }}\n",
       "}});\n",
       "\n",
       "// Listen for the removal of the full notebook cells\n",
       "var notebookContainer = gd.closest('#notebook-container');\n",
       "if (notebookContainer) {{\n",
       "    x.observe(notebookContainer, {childList: true});\n",
       "}}\n",
       "\n",
       "// Listen for the clearing of the current output cell\n",
       "var outputEl = gd.closest('.output');\n",
       "if (outputEl) {{\n",
       "    x.observe(outputEl, {childList: true});\n",
       "}}\n",
       "\n",
       "                        })\n",
       "                };\n",
       "                });\n",
       "            </script>\n",
       "        </div>"
      ]
     },
     "metadata": {},
     "output_type": "display_data"
    }
   ],
   "source": [
    "fig = px.bar(latimes,\n",
    "           x=\"date\",\n",
    "           y=\"confirmed_cases_total\",\n",
    "            color=\"race\")\n",
    "\n",
    "# fig.update_xaxes(rangeslider_visible=True)\n",
    "fig.show()"
   ]
  },
  {
   "cell_type": "markdown",
   "metadata": {},
   "source": [
    "### Just get the most recent day's data"
   ]
  },
  {
   "cell_type": "code",
   "execution_count": 21,
   "metadata": {},
   "outputs": [
    {
     "data": {
      "text/html": [
       "<div>\n",
       "<style scoped>\n",
       "    .dataframe tbody tr th:only-of-type {\n",
       "        vertical-align: middle;\n",
       "    }\n",
       "\n",
       "    .dataframe tbody tr th {\n",
       "        vertical-align: top;\n",
       "    }\n",
       "\n",
       "    .dataframe thead th {\n",
       "        text-align: right;\n",
       "    }\n",
       "</style>\n",
       "<table border=\"1\" class=\"dataframe\">\n",
       "  <thead>\n",
       "    <tr style=\"text-align: right;\">\n",
       "      <th></th>\n",
       "      <th>date</th>\n",
       "      <th>race</th>\n",
       "      <th>age</th>\n",
       "      <th>confirmed_cases_total</th>\n",
       "      <th>confirmed_cases_percent</th>\n",
       "      <th>deaths_total</th>\n",
       "      <th>deaths_percent</th>\n",
       "      <th>population_percent</th>\n",
       "    </tr>\n",
       "  </thead>\n",
       "  <tbody>\n",
       "    <tr>\n",
       "      <th>0</th>\n",
       "      <td>2020-06-27</td>\n",
       "      <td>asian</td>\n",
       "      <td>0-17</td>\n",
       "      <td>271</td>\n",
       "      <td>0.024</td>\n",
       "      <td>0</td>\n",
       "      <td>0.000</td>\n",
       "      <td>0.130</td>\n",
       "    </tr>\n",
       "    <tr>\n",
       "      <th>1</th>\n",
       "      <td>2020-06-27</td>\n",
       "      <td>asian</td>\n",
       "      <td>18+</td>\n",
       "      <td>10342</td>\n",
       "      <td>0.079</td>\n",
       "      <td>853</td>\n",
       "      <td>0.150</td>\n",
       "      <td>0.165</td>\n",
       "    </tr>\n",
       "    <tr>\n",
       "      <th>2</th>\n",
       "      <td>2020-06-27</td>\n",
       "      <td>asian</td>\n",
       "      <td>18-34</td>\n",
       "      <td>2373</td>\n",
       "      <td>0.055</td>\n",
       "      <td>4</td>\n",
       "      <td>0.067</td>\n",
       "      <td>0.151</td>\n",
       "    </tr>\n",
       "    <tr>\n",
       "      <th>3</th>\n",
       "      <td>2020-06-27</td>\n",
       "      <td>asian</td>\n",
       "      <td>35-49</td>\n",
       "      <td>2709</td>\n",
       "      <td>0.075</td>\n",
       "      <td>22</td>\n",
       "      <td>0.078</td>\n",
       "      <td>0.179</td>\n",
       "    </tr>\n",
       "    <tr>\n",
       "      <th>4</th>\n",
       "      <td>2020-06-27</td>\n",
       "      <td>asian</td>\n",
       "      <td>50-64</td>\n",
       "      <td>2703</td>\n",
       "      <td>0.088</td>\n",
       "      <td>87</td>\n",
       "      <td>0.093</td>\n",
       "      <td>0.167</td>\n",
       "    </tr>\n",
       "    <tr>\n",
       "      <th>5</th>\n",
       "      <td>2020-06-27</td>\n",
       "      <td>asian</td>\n",
       "      <td>65-79</td>\n",
       "      <td>1438</td>\n",
       "      <td>0.103</td>\n",
       "      <td>221</td>\n",
       "      <td>0.121</td>\n",
       "      <td>0.172</td>\n",
       "    </tr>\n",
       "    <tr>\n",
       "      <th>6</th>\n",
       "      <td>2020-06-27</td>\n",
       "      <td>asian</td>\n",
       "      <td>80+</td>\n",
       "      <td>1119</td>\n",
       "      <td>0.152</td>\n",
       "      <td>519</td>\n",
       "      <td>0.199</td>\n",
       "      <td>0.172</td>\n",
       "    </tr>\n",
       "    <tr>\n",
       "      <th>7</th>\n",
       "      <td>2020-06-27</td>\n",
       "      <td>asian</td>\n",
       "      <td>all</td>\n",
       "      <td>10624</td>\n",
       "      <td>0.074</td>\n",
       "      <td>853</td>\n",
       "      <td>0.149</td>\n",
       "      <td>0.157</td>\n",
       "    </tr>\n",
       "    <tr>\n",
       "      <th>8</th>\n",
       "      <td>2020-06-27</td>\n",
       "      <td>black</td>\n",
       "      <td>0-17</td>\n",
       "      <td>197</td>\n",
       "      <td>0.018</td>\n",
       "      <td>0</td>\n",
       "      <td>0.000</td>\n",
       "      <td>0.054</td>\n",
       "    </tr>\n",
       "    <tr>\n",
       "      <th>9</th>\n",
       "      <td>2020-06-27</td>\n",
       "      <td>black</td>\n",
       "      <td>18+</td>\n",
       "      <td>6102</td>\n",
       "      <td>0.046</td>\n",
       "      <td>533</td>\n",
       "      <td>0.093</td>\n",
       "      <td>0.061</td>\n",
       "    </tr>\n",
       "    <tr>\n",
       "      <th>10</th>\n",
       "      <td>2020-06-27</td>\n",
       "      <td>black</td>\n",
       "      <td>18-34</td>\n",
       "      <td>1541</td>\n",
       "      <td>0.036</td>\n",
       "      <td>8</td>\n",
       "      <td>0.133</td>\n",
       "      <td>0.065</td>\n",
       "    </tr>\n",
       "    <tr>\n",
       "      <th>11</th>\n",
       "      <td>2020-06-27</td>\n",
       "      <td>black</td>\n",
       "      <td>35-49</td>\n",
       "      <td>1401</td>\n",
       "      <td>0.039</td>\n",
       "      <td>20</td>\n",
       "      <td>0.071</td>\n",
       "      <td>0.059</td>\n",
       "    </tr>\n",
       "    <tr>\n",
       "      <th>12</th>\n",
       "      <td>2020-06-27</td>\n",
       "      <td>black</td>\n",
       "      <td>50-64</td>\n",
       "      <td>1560</td>\n",
       "      <td>0.050</td>\n",
       "      <td>77</td>\n",
       "      <td>0.083</td>\n",
       "      <td>0.064</td>\n",
       "    </tr>\n",
       "    <tr>\n",
       "      <th>13</th>\n",
       "      <td>2020-06-27</td>\n",
       "      <td>black</td>\n",
       "      <td>65-79</td>\n",
       "      <td>1023</td>\n",
       "      <td>0.073</td>\n",
       "      <td>204</td>\n",
       "      <td>0.112</td>\n",
       "      <td>0.055</td>\n",
       "    </tr>\n",
       "    <tr>\n",
       "      <th>14</th>\n",
       "      <td>2020-06-27</td>\n",
       "      <td>black</td>\n",
       "      <td>80+</td>\n",
       "      <td>577</td>\n",
       "      <td>0.078</td>\n",
       "      <td>224</td>\n",
       "      <td>0.086</td>\n",
       "      <td>0.048</td>\n",
       "    </tr>\n",
       "    <tr>\n",
       "      <th>15</th>\n",
       "      <td>2020-06-27</td>\n",
       "      <td>black</td>\n",
       "      <td>all</td>\n",
       "      <td>6309</td>\n",
       "      <td>0.044</td>\n",
       "      <td>533</td>\n",
       "      <td>0.093</td>\n",
       "      <td>0.060</td>\n",
       "    </tr>\n",
       "    <tr>\n",
       "      <th>16</th>\n",
       "      <td>2020-06-27</td>\n",
       "      <td>latino</td>\n",
       "      <td>0-17</td>\n",
       "      <td>7625</td>\n",
       "      <td>0.684</td>\n",
       "      <td>0</td>\n",
       "      <td>0.000</td>\n",
       "      <td>0.479</td>\n",
       "    </tr>\n",
       "    <tr>\n",
       "      <th>17</th>\n",
       "      <td>2020-06-27</td>\n",
       "      <td>latino</td>\n",
       "      <td>18+</td>\n",
       "      <td>73193</td>\n",
       "      <td>0.556</td>\n",
       "      <td>2347</td>\n",
       "      <td>0.411</td>\n",
       "      <td>0.363</td>\n",
       "    </tr>\n",
       "    <tr>\n",
       "      <th>18</th>\n",
       "      <td>2020-06-27</td>\n",
       "      <td>latino</td>\n",
       "      <td>18-34</td>\n",
       "      <td>26511</td>\n",
       "      <td>0.615</td>\n",
       "      <td>39</td>\n",
       "      <td>0.650</td>\n",
       "      <td>0.450</td>\n",
       "    </tr>\n",
       "    <tr>\n",
       "      <th>19</th>\n",
       "      <td>2020-06-27</td>\n",
       "      <td>latino</td>\n",
       "      <td>35-49</td>\n",
       "      <td>21910</td>\n",
       "      <td>0.606</td>\n",
       "      <td>210</td>\n",
       "      <td>0.745</td>\n",
       "      <td>0.415</td>\n",
       "    </tr>\n",
       "    <tr>\n",
       "      <th>20</th>\n",
       "      <td>2020-06-27</td>\n",
       "      <td>latino</td>\n",
       "      <td>50-64</td>\n",
       "      <td>16802</td>\n",
       "      <td>0.543</td>\n",
       "      <td>571</td>\n",
       "      <td>0.613</td>\n",
       "      <td>0.322</td>\n",
       "    </tr>\n",
       "    <tr>\n",
       "      <th>21</th>\n",
       "      <td>2020-06-27</td>\n",
       "      <td>latino</td>\n",
       "      <td>65-79</td>\n",
       "      <td>5792</td>\n",
       "      <td>0.414</td>\n",
       "      <td>803</td>\n",
       "      <td>0.439</td>\n",
       "      <td>0.218</td>\n",
       "    </tr>\n",
       "    <tr>\n",
       "      <th>22</th>\n",
       "      <td>2020-06-27</td>\n",
       "      <td>latino</td>\n",
       "      <td>80+</td>\n",
       "      <td>2178</td>\n",
       "      <td>0.295</td>\n",
       "      <td>724</td>\n",
       "      <td>0.278</td>\n",
       "      <td>0.196</td>\n",
       "    </tr>\n",
       "    <tr>\n",
       "      <th>23</th>\n",
       "      <td>2020-06-27</td>\n",
       "      <td>latino</td>\n",
       "      <td>all</td>\n",
       "      <td>80875</td>\n",
       "      <td>0.566</td>\n",
       "      <td>2348</td>\n",
       "      <td>0.411</td>\n",
       "      <td>0.389</td>\n",
       "    </tr>\n",
       "    <tr>\n",
       "      <th>24</th>\n",
       "      <td>2020-06-27</td>\n",
       "      <td>other</td>\n",
       "      <td>0-17</td>\n",
       "      <td>2233</td>\n",
       "      <td>0.200</td>\n",
       "      <td>0</td>\n",
       "      <td>0.000</td>\n",
       "      <td>0.044</td>\n",
       "    </tr>\n",
       "    <tr>\n",
       "      <th>25</th>\n",
       "      <td>2020-06-27</td>\n",
       "      <td>other</td>\n",
       "      <td>18+</td>\n",
       "      <td>18534</td>\n",
       "      <td>0.141</td>\n",
       "      <td>109</td>\n",
       "      <td>0.019</td>\n",
       "      <td>0.022</td>\n",
       "    </tr>\n",
       "    <tr>\n",
       "      <th>26</th>\n",
       "      <td>2020-06-27</td>\n",
       "      <td>other</td>\n",
       "      <td>18-34</td>\n",
       "      <td>7239</td>\n",
       "      <td>0.168</td>\n",
       "      <td>2</td>\n",
       "      <td>0.033</td>\n",
       "      <td>0.032</td>\n",
       "    </tr>\n",
       "    <tr>\n",
       "      <th>27</th>\n",
       "      <td>2020-06-27</td>\n",
       "      <td>other</td>\n",
       "      <td>35-49</td>\n",
       "      <td>5307</td>\n",
       "      <td>0.147</td>\n",
       "      <td>6</td>\n",
       "      <td>0.022</td>\n",
       "      <td>0.021</td>\n",
       "    </tr>\n",
       "    <tr>\n",
       "      <th>28</th>\n",
       "      <td>2020-06-27</td>\n",
       "      <td>other</td>\n",
       "      <td>50-64</td>\n",
       "      <td>4104</td>\n",
       "      <td>0.133</td>\n",
       "      <td>17</td>\n",
       "      <td>0.018</td>\n",
       "      <td>0.017</td>\n",
       "    </tr>\n",
       "    <tr>\n",
       "      <th>29</th>\n",
       "      <td>2020-06-27</td>\n",
       "      <td>other</td>\n",
       "      <td>65-79</td>\n",
       "      <td>1342</td>\n",
       "      <td>0.096</td>\n",
       "      <td>32</td>\n",
       "      <td>0.017</td>\n",
       "      <td>0.015</td>\n",
       "    </tr>\n",
       "    <tr>\n",
       "      <th>30</th>\n",
       "      <td>2020-06-27</td>\n",
       "      <td>other</td>\n",
       "      <td>80+</td>\n",
       "      <td>542</td>\n",
       "      <td>0.073</td>\n",
       "      <td>52</td>\n",
       "      <td>0.020</td>\n",
       "      <td>0.013</td>\n",
       "    </tr>\n",
       "    <tr>\n",
       "      <th>31</th>\n",
       "      <td>2020-06-27</td>\n",
       "      <td>other</td>\n",
       "      <td>all</td>\n",
       "      <td>20769</td>\n",
       "      <td>0.145</td>\n",
       "      <td>109</td>\n",
       "      <td>0.019</td>\n",
       "      <td>0.027</td>\n",
       "    </tr>\n",
       "    <tr>\n",
       "      <th>32</th>\n",
       "      <td>2020-06-27</td>\n",
       "      <td>white</td>\n",
       "      <td>0-17</td>\n",
       "      <td>820</td>\n",
       "      <td>0.074</td>\n",
       "      <td>0</td>\n",
       "      <td>1.000</td>\n",
       "      <td>0.292</td>\n",
       "    </tr>\n",
       "    <tr>\n",
       "      <th>33</th>\n",
       "      <td>2020-06-27</td>\n",
       "      <td>white</td>\n",
       "      <td>18+</td>\n",
       "      <td>23394</td>\n",
       "      <td>0.178</td>\n",
       "      <td>1868</td>\n",
       "      <td>0.327</td>\n",
       "      <td>0.388</td>\n",
       "    </tr>\n",
       "    <tr>\n",
       "      <th>34</th>\n",
       "      <td>2020-06-27</td>\n",
       "      <td>white</td>\n",
       "      <td>18-34</td>\n",
       "      <td>5445</td>\n",
       "      <td>0.126</td>\n",
       "      <td>7</td>\n",
       "      <td>0.117</td>\n",
       "      <td>0.302</td>\n",
       "    </tr>\n",
       "    <tr>\n",
       "      <th>35</th>\n",
       "      <td>2020-06-27</td>\n",
       "      <td>white</td>\n",
       "      <td>35-49</td>\n",
       "      <td>4819</td>\n",
       "      <td>0.133</td>\n",
       "      <td>24</td>\n",
       "      <td>0.085</td>\n",
       "      <td>0.325</td>\n",
       "    </tr>\n",
       "    <tr>\n",
       "      <th>36</th>\n",
       "      <td>2020-06-27</td>\n",
       "      <td>white</td>\n",
       "      <td>50-64</td>\n",
       "      <td>5767</td>\n",
       "      <td>0.186</td>\n",
       "      <td>180</td>\n",
       "      <td>0.193</td>\n",
       "      <td>0.430</td>\n",
       "    </tr>\n",
       "    <tr>\n",
       "      <th>37</th>\n",
       "      <td>2020-06-27</td>\n",
       "      <td>white</td>\n",
       "      <td>65-79</td>\n",
       "      <td>4389</td>\n",
       "      <td>0.314</td>\n",
       "      <td>569</td>\n",
       "      <td>0.311</td>\n",
       "      <td>0.540</td>\n",
       "    </tr>\n",
       "    <tr>\n",
       "      <th>38</th>\n",
       "      <td>2020-06-27</td>\n",
       "      <td>white</td>\n",
       "      <td>80+</td>\n",
       "      <td>2974</td>\n",
       "      <td>0.402</td>\n",
       "      <td>1088</td>\n",
       "      <td>0.417</td>\n",
       "      <td>0.572</td>\n",
       "    </tr>\n",
       "    <tr>\n",
       "      <th>39</th>\n",
       "      <td>2020-06-27</td>\n",
       "      <td>white</td>\n",
       "      <td>all</td>\n",
       "      <td>24242</td>\n",
       "      <td>0.170</td>\n",
       "      <td>1868</td>\n",
       "      <td>0.327</td>\n",
       "      <td>0.366</td>\n",
       "    </tr>\n",
       "  </tbody>\n",
       "</table>\n",
       "</div>"
      ],
      "text/plain": [
       "          date    race    age  confirmed_cases_total  confirmed_cases_percent  \\\n",
       "0   2020-06-27   asian   0-17                    271                    0.024   \n",
       "1   2020-06-27   asian    18+                  10342                    0.079   \n",
       "2   2020-06-27   asian  18-34                   2373                    0.055   \n",
       "3   2020-06-27   asian  35-49                   2709                    0.075   \n",
       "4   2020-06-27   asian  50-64                   2703                    0.088   \n",
       "5   2020-06-27   asian  65-79                   1438                    0.103   \n",
       "6   2020-06-27   asian    80+                   1119                    0.152   \n",
       "7   2020-06-27   asian    all                  10624                    0.074   \n",
       "8   2020-06-27   black   0-17                    197                    0.018   \n",
       "9   2020-06-27   black    18+                   6102                    0.046   \n",
       "10  2020-06-27   black  18-34                   1541                    0.036   \n",
       "11  2020-06-27   black  35-49                   1401                    0.039   \n",
       "12  2020-06-27   black  50-64                   1560                    0.050   \n",
       "13  2020-06-27   black  65-79                   1023                    0.073   \n",
       "14  2020-06-27   black    80+                    577                    0.078   \n",
       "15  2020-06-27   black    all                   6309                    0.044   \n",
       "16  2020-06-27  latino   0-17                   7625                    0.684   \n",
       "17  2020-06-27  latino    18+                  73193                    0.556   \n",
       "18  2020-06-27  latino  18-34                  26511                    0.615   \n",
       "19  2020-06-27  latino  35-49                  21910                    0.606   \n",
       "20  2020-06-27  latino  50-64                  16802                    0.543   \n",
       "21  2020-06-27  latino  65-79                   5792                    0.414   \n",
       "22  2020-06-27  latino    80+                   2178                    0.295   \n",
       "23  2020-06-27  latino    all                  80875                    0.566   \n",
       "24  2020-06-27   other   0-17                   2233                    0.200   \n",
       "25  2020-06-27   other    18+                  18534                    0.141   \n",
       "26  2020-06-27   other  18-34                   7239                    0.168   \n",
       "27  2020-06-27   other  35-49                   5307                    0.147   \n",
       "28  2020-06-27   other  50-64                   4104                    0.133   \n",
       "29  2020-06-27   other  65-79                   1342                    0.096   \n",
       "30  2020-06-27   other    80+                    542                    0.073   \n",
       "31  2020-06-27   other    all                  20769                    0.145   \n",
       "32  2020-06-27   white   0-17                    820                    0.074   \n",
       "33  2020-06-27   white    18+                  23394                    0.178   \n",
       "34  2020-06-27   white  18-34                   5445                    0.126   \n",
       "35  2020-06-27   white  35-49                   4819                    0.133   \n",
       "36  2020-06-27   white  50-64                   5767                    0.186   \n",
       "37  2020-06-27   white  65-79                   4389                    0.314   \n",
       "38  2020-06-27   white    80+                   2974                    0.402   \n",
       "39  2020-06-27   white    all                  24242                    0.170   \n",
       "\n",
       "    deaths_total  deaths_percent  population_percent  \n",
       "0              0           0.000               0.130  \n",
       "1            853           0.150               0.165  \n",
       "2              4           0.067               0.151  \n",
       "3             22           0.078               0.179  \n",
       "4             87           0.093               0.167  \n",
       "5            221           0.121               0.172  \n",
       "6            519           0.199               0.172  \n",
       "7            853           0.149               0.157  \n",
       "8              0           0.000               0.054  \n",
       "9            533           0.093               0.061  \n",
       "10             8           0.133               0.065  \n",
       "11            20           0.071               0.059  \n",
       "12            77           0.083               0.064  \n",
       "13           204           0.112               0.055  \n",
       "14           224           0.086               0.048  \n",
       "15           533           0.093               0.060  \n",
       "16             0           0.000               0.479  \n",
       "17          2347           0.411               0.363  \n",
       "18            39           0.650               0.450  \n",
       "19           210           0.745               0.415  \n",
       "20           571           0.613               0.322  \n",
       "21           803           0.439               0.218  \n",
       "22           724           0.278               0.196  \n",
       "23          2348           0.411               0.389  \n",
       "24             0           0.000               0.044  \n",
       "25           109           0.019               0.022  \n",
       "26             2           0.033               0.032  \n",
       "27             6           0.022               0.021  \n",
       "28            17           0.018               0.017  \n",
       "29            32           0.017               0.015  \n",
       "30            52           0.020               0.013  \n",
       "31           109           0.019               0.027  \n",
       "32             0           1.000               0.292  \n",
       "33          1868           0.327               0.388  \n",
       "34             7           0.117               0.302  \n",
       "35            24           0.085               0.325  \n",
       "36           180           0.193               0.430  \n",
       "37           569           0.311               0.540  \n",
       "38          1088           0.417               0.572  \n",
       "39          1868           0.327               0.366  "
      ]
     },
     "execution_count": 21,
     "metadata": {},
     "output_type": "execute_result"
    }
   ],
   "source": [
    "# get the last date\n",
    "lastdate = latimes.iloc[0]['date']\n",
    "\n",
    "# query for records for the last date\n",
    "latimes_single_day = latimes.query('date==@lastdate')\n",
    "latimes_single_day\n"
   ]
  },
  {
   "cell_type": "code",
   "execution_count": 24,
   "metadata": {},
   "outputs": [
    {
     "data": {
      "application/vnd.plotly.v1+json": {
       "config": {
        "plotlyServerURL": "https://plot.ly"
       },
       "data": [
        {
         "alignmentgroup": "True",
         "hovertemplate": "age=%{x}<br>confirmed_cases_total=%{y}<extra></extra>",
         "legendgroup": "",
         "marker": {
          "color": "#636efa"
         },
         "name": "",
         "offsetgroup": "",
         "orientation": "v",
         "showlegend": false,
         "textposition": "auto",
         "type": "bar",
         "x": [
          "0-17",
          "18+",
          "18-34",
          "35-49",
          "50-64",
          "65-79",
          "80+",
          "all",
          "0-17",
          "18+",
          "18-34",
          "35-49",
          "50-64",
          "65-79",
          "80+",
          "all",
          "0-17",
          "18+",
          "18-34",
          "35-49",
          "50-64",
          "65-79",
          "80+",
          "all",
          "0-17",
          "18+",
          "18-34",
          "35-49",
          "50-64",
          "65-79",
          "80+",
          "all",
          "0-17",
          "18+",
          "18-34",
          "35-49",
          "50-64",
          "65-79",
          "80+",
          "all"
         ],
         "xaxis": "x",
         "y": [
          271,
          10342,
          2373,
          2709,
          2703,
          1438,
          1119,
          10624,
          197,
          6102,
          1541,
          1401,
          1560,
          1023,
          577,
          6309,
          7625,
          73193,
          26511,
          21910,
          16802,
          5792,
          2178,
          80875,
          2233,
          18534,
          7239,
          5307,
          4104,
          1342,
          542,
          20769,
          820,
          23394,
          5445,
          4819,
          5767,
          4389,
          2974,
          24242
         ],
         "yaxis": "y"
        }
       ],
       "layout": {
        "autosize": true,
        "barmode": "relative",
        "legend": {
         "tracegroupgap": 0
        },
        "margin": {
         "t": 60
        },
        "template": {
         "data": {
          "bar": [
           {
            "error_x": {
             "color": "#2a3f5f"
            },
            "error_y": {
             "color": "#2a3f5f"
            },
            "marker": {
             "line": {
              "color": "#E5ECF6",
              "width": 0.5
             }
            },
            "type": "bar"
           }
          ],
          "barpolar": [
           {
            "marker": {
             "line": {
              "color": "#E5ECF6",
              "width": 0.5
             }
            },
            "type": "barpolar"
           }
          ],
          "carpet": [
           {
            "aaxis": {
             "endlinecolor": "#2a3f5f",
             "gridcolor": "white",
             "linecolor": "white",
             "minorgridcolor": "white",
             "startlinecolor": "#2a3f5f"
            },
            "baxis": {
             "endlinecolor": "#2a3f5f",
             "gridcolor": "white",
             "linecolor": "white",
             "minorgridcolor": "white",
             "startlinecolor": "#2a3f5f"
            },
            "type": "carpet"
           }
          ],
          "choropleth": [
           {
            "colorbar": {
             "outlinewidth": 0,
             "ticks": ""
            },
            "type": "choropleth"
           }
          ],
          "contour": [
           {
            "colorbar": {
             "outlinewidth": 0,
             "ticks": ""
            },
            "colorscale": [
             [
              0,
              "#0d0887"
             ],
             [
              0.1111111111111111,
              "#46039f"
             ],
             [
              0.2222222222222222,
              "#7201a8"
             ],
             [
              0.3333333333333333,
              "#9c179e"
             ],
             [
              0.4444444444444444,
              "#bd3786"
             ],
             [
              0.5555555555555556,
              "#d8576b"
             ],
             [
              0.6666666666666666,
              "#ed7953"
             ],
             [
              0.7777777777777778,
              "#fb9f3a"
             ],
             [
              0.8888888888888888,
              "#fdca26"
             ],
             [
              1,
              "#f0f921"
             ]
            ],
            "type": "contour"
           }
          ],
          "contourcarpet": [
           {
            "colorbar": {
             "outlinewidth": 0,
             "ticks": ""
            },
            "type": "contourcarpet"
           }
          ],
          "heatmap": [
           {
            "colorbar": {
             "outlinewidth": 0,
             "ticks": ""
            },
            "colorscale": [
             [
              0,
              "#0d0887"
             ],
             [
              0.1111111111111111,
              "#46039f"
             ],
             [
              0.2222222222222222,
              "#7201a8"
             ],
             [
              0.3333333333333333,
              "#9c179e"
             ],
             [
              0.4444444444444444,
              "#bd3786"
             ],
             [
              0.5555555555555556,
              "#d8576b"
             ],
             [
              0.6666666666666666,
              "#ed7953"
             ],
             [
              0.7777777777777778,
              "#fb9f3a"
             ],
             [
              0.8888888888888888,
              "#fdca26"
             ],
             [
              1,
              "#f0f921"
             ]
            ],
            "type": "heatmap"
           }
          ],
          "heatmapgl": [
           {
            "colorbar": {
             "outlinewidth": 0,
             "ticks": ""
            },
            "colorscale": [
             [
              0,
              "#0d0887"
             ],
             [
              0.1111111111111111,
              "#46039f"
             ],
             [
              0.2222222222222222,
              "#7201a8"
             ],
             [
              0.3333333333333333,
              "#9c179e"
             ],
             [
              0.4444444444444444,
              "#bd3786"
             ],
             [
              0.5555555555555556,
              "#d8576b"
             ],
             [
              0.6666666666666666,
              "#ed7953"
             ],
             [
              0.7777777777777778,
              "#fb9f3a"
             ],
             [
              0.8888888888888888,
              "#fdca26"
             ],
             [
              1,
              "#f0f921"
             ]
            ],
            "type": "heatmapgl"
           }
          ],
          "histogram": [
           {
            "marker": {
             "colorbar": {
              "outlinewidth": 0,
              "ticks": ""
             }
            },
            "type": "histogram"
           }
          ],
          "histogram2d": [
           {
            "colorbar": {
             "outlinewidth": 0,
             "ticks": ""
            },
            "colorscale": [
             [
              0,
              "#0d0887"
             ],
             [
              0.1111111111111111,
              "#46039f"
             ],
             [
              0.2222222222222222,
              "#7201a8"
             ],
             [
              0.3333333333333333,
              "#9c179e"
             ],
             [
              0.4444444444444444,
              "#bd3786"
             ],
             [
              0.5555555555555556,
              "#d8576b"
             ],
             [
              0.6666666666666666,
              "#ed7953"
             ],
             [
              0.7777777777777778,
              "#fb9f3a"
             ],
             [
              0.8888888888888888,
              "#fdca26"
             ],
             [
              1,
              "#f0f921"
             ]
            ],
            "type": "histogram2d"
           }
          ],
          "histogram2dcontour": [
           {
            "colorbar": {
             "outlinewidth": 0,
             "ticks": ""
            },
            "colorscale": [
             [
              0,
              "#0d0887"
             ],
             [
              0.1111111111111111,
              "#46039f"
             ],
             [
              0.2222222222222222,
              "#7201a8"
             ],
             [
              0.3333333333333333,
              "#9c179e"
             ],
             [
              0.4444444444444444,
              "#bd3786"
             ],
             [
              0.5555555555555556,
              "#d8576b"
             ],
             [
              0.6666666666666666,
              "#ed7953"
             ],
             [
              0.7777777777777778,
              "#fb9f3a"
             ],
             [
              0.8888888888888888,
              "#fdca26"
             ],
             [
              1,
              "#f0f921"
             ]
            ],
            "type": "histogram2dcontour"
           }
          ],
          "mesh3d": [
           {
            "colorbar": {
             "outlinewidth": 0,
             "ticks": ""
            },
            "type": "mesh3d"
           }
          ],
          "parcoords": [
           {
            "line": {
             "colorbar": {
              "outlinewidth": 0,
              "ticks": ""
             }
            },
            "type": "parcoords"
           }
          ],
          "pie": [
           {
            "automargin": true,
            "type": "pie"
           }
          ],
          "scatter": [
           {
            "marker": {
             "colorbar": {
              "outlinewidth": 0,
              "ticks": ""
             }
            },
            "type": "scatter"
           }
          ],
          "scatter3d": [
           {
            "line": {
             "colorbar": {
              "outlinewidth": 0,
              "ticks": ""
             }
            },
            "marker": {
             "colorbar": {
              "outlinewidth": 0,
              "ticks": ""
             }
            },
            "type": "scatter3d"
           }
          ],
          "scattercarpet": [
           {
            "marker": {
             "colorbar": {
              "outlinewidth": 0,
              "ticks": ""
             }
            },
            "type": "scattercarpet"
           }
          ],
          "scattergeo": [
           {
            "marker": {
             "colorbar": {
              "outlinewidth": 0,
              "ticks": ""
             }
            },
            "type": "scattergeo"
           }
          ],
          "scattergl": [
           {
            "marker": {
             "colorbar": {
              "outlinewidth": 0,
              "ticks": ""
             }
            },
            "type": "scattergl"
           }
          ],
          "scattermapbox": [
           {
            "marker": {
             "colorbar": {
              "outlinewidth": 0,
              "ticks": ""
             }
            },
            "type": "scattermapbox"
           }
          ],
          "scatterpolar": [
           {
            "marker": {
             "colorbar": {
              "outlinewidth": 0,
              "ticks": ""
             }
            },
            "type": "scatterpolar"
           }
          ],
          "scatterpolargl": [
           {
            "marker": {
             "colorbar": {
              "outlinewidth": 0,
              "ticks": ""
             }
            },
            "type": "scatterpolargl"
           }
          ],
          "scatterternary": [
           {
            "marker": {
             "colorbar": {
              "outlinewidth": 0,
              "ticks": ""
             }
            },
            "type": "scatterternary"
           }
          ],
          "surface": [
           {
            "colorbar": {
             "outlinewidth": 0,
             "ticks": ""
            },
            "colorscale": [
             [
              0,
              "#0d0887"
             ],
             [
              0.1111111111111111,
              "#46039f"
             ],
             [
              0.2222222222222222,
              "#7201a8"
             ],
             [
              0.3333333333333333,
              "#9c179e"
             ],
             [
              0.4444444444444444,
              "#bd3786"
             ],
             [
              0.5555555555555556,
              "#d8576b"
             ],
             [
              0.6666666666666666,
              "#ed7953"
             ],
             [
              0.7777777777777778,
              "#fb9f3a"
             ],
             [
              0.8888888888888888,
              "#fdca26"
             ],
             [
              1,
              "#f0f921"
             ]
            ],
            "type": "surface"
           }
          ],
          "table": [
           {
            "cells": {
             "fill": {
              "color": "#EBF0F8"
             },
             "line": {
              "color": "white"
             }
            },
            "header": {
             "fill": {
              "color": "#C8D4E3"
             },
             "line": {
              "color": "white"
             }
            },
            "type": "table"
           }
          ]
         },
         "layout": {
          "annotationdefaults": {
           "arrowcolor": "#2a3f5f",
           "arrowhead": 0,
           "arrowwidth": 1
          },
          "coloraxis": {
           "colorbar": {
            "outlinewidth": 0,
            "ticks": ""
           }
          },
          "colorscale": {
           "diverging": [
            [
             0,
             "#8e0152"
            ],
            [
             0.1,
             "#c51b7d"
            ],
            [
             0.2,
             "#de77ae"
            ],
            [
             0.3,
             "#f1b6da"
            ],
            [
             0.4,
             "#fde0ef"
            ],
            [
             0.5,
             "#f7f7f7"
            ],
            [
             0.6,
             "#e6f5d0"
            ],
            [
             0.7,
             "#b8e186"
            ],
            [
             0.8,
             "#7fbc41"
            ],
            [
             0.9,
             "#4d9221"
            ],
            [
             1,
             "#276419"
            ]
           ],
           "sequential": [
            [
             0,
             "#0d0887"
            ],
            [
             0.1111111111111111,
             "#46039f"
            ],
            [
             0.2222222222222222,
             "#7201a8"
            ],
            [
             0.3333333333333333,
             "#9c179e"
            ],
            [
             0.4444444444444444,
             "#bd3786"
            ],
            [
             0.5555555555555556,
             "#d8576b"
            ],
            [
             0.6666666666666666,
             "#ed7953"
            ],
            [
             0.7777777777777778,
             "#fb9f3a"
            ],
            [
             0.8888888888888888,
             "#fdca26"
            ],
            [
             1,
             "#f0f921"
            ]
           ],
           "sequentialminus": [
            [
             0,
             "#0d0887"
            ],
            [
             0.1111111111111111,
             "#46039f"
            ],
            [
             0.2222222222222222,
             "#7201a8"
            ],
            [
             0.3333333333333333,
             "#9c179e"
            ],
            [
             0.4444444444444444,
             "#bd3786"
            ],
            [
             0.5555555555555556,
             "#d8576b"
            ],
            [
             0.6666666666666666,
             "#ed7953"
            ],
            [
             0.7777777777777778,
             "#fb9f3a"
            ],
            [
             0.8888888888888888,
             "#fdca26"
            ],
            [
             1,
             "#f0f921"
            ]
           ]
          },
          "colorway": [
           "#636efa",
           "#EF553B",
           "#00cc96",
           "#ab63fa",
           "#FFA15A",
           "#19d3f3",
           "#FF6692",
           "#B6E880",
           "#FF97FF",
           "#FECB52"
          ],
          "font": {
           "color": "#2a3f5f"
          },
          "geo": {
           "bgcolor": "white",
           "lakecolor": "white",
           "landcolor": "#E5ECF6",
           "showlakes": true,
           "showland": true,
           "subunitcolor": "white"
          },
          "hoverlabel": {
           "align": "left"
          },
          "hovermode": "closest",
          "mapbox": {
           "style": "light"
          },
          "paper_bgcolor": "white",
          "plot_bgcolor": "#E5ECF6",
          "polar": {
           "angularaxis": {
            "gridcolor": "white",
            "linecolor": "white",
            "ticks": ""
           },
           "bgcolor": "#E5ECF6",
           "radialaxis": {
            "gridcolor": "white",
            "linecolor": "white",
            "ticks": ""
           }
          },
          "scene": {
           "xaxis": {
            "backgroundcolor": "#E5ECF6",
            "gridcolor": "white",
            "gridwidth": 2,
            "linecolor": "white",
            "showbackground": true,
            "ticks": "",
            "zerolinecolor": "white"
           },
           "yaxis": {
            "backgroundcolor": "#E5ECF6",
            "gridcolor": "white",
            "gridwidth": 2,
            "linecolor": "white",
            "showbackground": true,
            "ticks": "",
            "zerolinecolor": "white"
           },
           "zaxis": {
            "backgroundcolor": "#E5ECF6",
            "gridcolor": "white",
            "gridwidth": 2,
            "linecolor": "white",
            "showbackground": true,
            "ticks": "",
            "zerolinecolor": "white"
           }
          },
          "shapedefaults": {
           "line": {
            "color": "#2a3f5f"
           }
          },
          "ternary": {
           "aaxis": {
            "gridcolor": "white",
            "linecolor": "white",
            "ticks": ""
           },
           "baxis": {
            "gridcolor": "white",
            "linecolor": "white",
            "ticks": ""
           },
           "bgcolor": "#E5ECF6",
           "caxis": {
            "gridcolor": "white",
            "linecolor": "white",
            "ticks": ""
           }
          },
          "title": {
           "x": 0.05
          },
          "xaxis": {
           "automargin": true,
           "gridcolor": "white",
           "linecolor": "white",
           "ticks": "",
           "title": {
            "standoff": 15
           },
           "zerolinecolor": "white",
           "zerolinewidth": 2
          },
          "yaxis": {
           "automargin": true,
           "gridcolor": "white",
           "linecolor": "white",
           "ticks": "",
           "title": {
            "standoff": 15
           },
           "zerolinecolor": "white",
           "zerolinewidth": 2
          }
         }
        },
        "xaxis": {
         "anchor": "y",
         "autorange": true,
         "domain": [
          0,
          1
         ],
         "range": [
          -0.5,
          7.5
         ],
         "title": {
          "text": "age"
         },
         "type": "category"
        },
        "yaxis": {
         "anchor": "x",
         "autorange": true,
         "domain": [
          0,
          1
         ],
         "range": [
          0,
          150335.7894736842
         ],
         "title": {
          "text": "confirmed_cases_total"
         },
         "type": "linear"
        }
       }
      },
      "image/png": "[encoded data removed]",
      "text/html": [
       "<div>\n",
       "        \n",
       "        \n",
       "            <div id=\"ff02e95c-856c-4bd8-b05d-e9608bb7c210\" class=\"plotly-graph-div\" style=\"height:525px; width:100%;\"></div>\n",
       "            <script type=\"text/javascript\">\n",
       "                require([\"plotly\"], function(Plotly) {\n",
       "                    window.PLOTLYENV=window.PLOTLYENV || {};\n",
       "                    \n",
       "                if (document.getElementById(\"ff02e95c-856c-4bd8-b05d-e9608bb7c210\")) {\n",
       "                    Plotly.newPlot(\n",
       "                        'ff02e95c-856c-4bd8-b05d-e9608bb7c210',\n",
       "                        [{\"alignmentgroup\": \"True\", \"hovertemplate\": \"age=%{x}<br>confirmed_cases_total=%{y}<extra></extra>\", \"legendgroup\": \"\", \"marker\": {\"color\": \"#636efa\"}, \"name\": \"\", \"offsetgroup\": \"\", \"orientation\": \"v\", \"showlegend\": false, \"textposition\": \"auto\", \"type\": \"bar\", \"x\": [\"0-17\", \"18+\", \"18-34\", \"35-49\", \"50-64\", \"65-79\", \"80+\", \"all\", \"0-17\", \"18+\", \"18-34\", \"35-49\", \"50-64\", \"65-79\", \"80+\", \"all\", \"0-17\", \"18+\", \"18-34\", \"35-49\", \"50-64\", \"65-79\", \"80+\", \"all\", \"0-17\", \"18+\", \"18-34\", \"35-49\", \"50-64\", \"65-79\", \"80+\", \"all\", \"0-17\", \"18+\", \"18-34\", \"35-49\", \"50-64\", \"65-79\", \"80+\", \"all\"], \"xaxis\": \"x\", \"y\": [271, 10342, 2373, 2709, 2703, 1438, 1119, 10624, 197, 6102, 1541, 1401, 1560, 1023, 577, 6309, 7625, 73193, 26511, 21910, 16802, 5792, 2178, 80875, 2233, 18534, 7239, 5307, 4104, 1342, 542, 20769, 820, 23394, 5445, 4819, 5767, 4389, 2974, 24242], \"yaxis\": \"y\"}],\n",
       "                        {\"barmode\": \"relative\", \"legend\": {\"tracegroupgap\": 0}, \"margin\": {\"t\": 60}, \"template\": {\"data\": {\"bar\": [{\"error_x\": {\"color\": \"#2a3f5f\"}, \"error_y\": {\"color\": \"#2a3f5f\"}, \"marker\": {\"line\": {\"color\": \"#E5ECF6\", \"width\": 0.5}}, \"type\": \"bar\"}], \"barpolar\": [{\"marker\": {\"line\": {\"color\": \"#E5ECF6\", \"width\": 0.5}}, \"type\": \"barpolar\"}], \"carpet\": [{\"aaxis\": {\"endlinecolor\": \"#2a3f5f\", \"gridcolor\": \"white\", \"linecolor\": \"white\", \"minorgridcolor\": \"white\", \"startlinecolor\": \"#2a3f5f\"}, \"baxis\": {\"endlinecolor\": \"#2a3f5f\", \"gridcolor\": \"white\", \"linecolor\": \"white\", \"minorgridcolor\": \"white\", \"startlinecolor\": \"#2a3f5f\"}, \"type\": \"carpet\"}], \"choropleth\": [{\"colorbar\": {\"outlinewidth\": 0, \"ticks\": \"\"}, \"type\": \"choropleth\"}], \"contour\": [{\"colorbar\": {\"outlinewidth\": 0, \"ticks\": \"\"}, \"colorscale\": [[0.0, \"#0d0887\"], [0.1111111111111111, \"#46039f\"], [0.2222222222222222, \"#7201a8\"], [0.3333333333333333, \"#9c179e\"], [0.4444444444444444, \"#bd3786\"], [0.5555555555555556, \"#d8576b\"], [0.6666666666666666, \"#ed7953\"], [0.7777777777777778, \"#fb9f3a\"], [0.8888888888888888, \"#fdca26\"], [1.0, \"#f0f921\"]], \"type\": \"contour\"}], \"contourcarpet\": [{\"colorbar\": {\"outlinewidth\": 0, \"ticks\": \"\"}, \"type\": \"contourcarpet\"}], \"heatmap\": [{\"colorbar\": {\"outlinewidth\": 0, \"ticks\": \"\"}, \"colorscale\": [[0.0, \"#0d0887\"], [0.1111111111111111, \"#46039f\"], [0.2222222222222222, \"#7201a8\"], [0.3333333333333333, \"#9c179e\"], [0.4444444444444444, \"#bd3786\"], [0.5555555555555556, \"#d8576b\"], [0.6666666666666666, \"#ed7953\"], [0.7777777777777778, \"#fb9f3a\"], [0.8888888888888888, \"#fdca26\"], [1.0, \"#f0f921\"]], \"type\": \"heatmap\"}], \"heatmapgl\": [{\"colorbar\": {\"outlinewidth\": 0, \"ticks\": \"\"}, \"colorscale\": [[0.0, \"#0d0887\"], [0.1111111111111111, \"#46039f\"], [0.2222222222222222, \"#7201a8\"], [0.3333333333333333, \"#9c179e\"], [0.4444444444444444, \"#bd3786\"], [0.5555555555555556, \"#d8576b\"], [0.6666666666666666, \"#ed7953\"], [0.7777777777777778, \"#fb9f3a\"], [0.8888888888888888, \"#fdca26\"], [1.0, \"#f0f921\"]], \"type\": \"heatmapgl\"}], \"histogram\": [{\"marker\": {\"colorbar\": {\"outlinewidth\": 0, \"ticks\": \"\"}}, \"type\": \"histogram\"}], \"histogram2d\": [{\"colorbar\": {\"outlinewidth\": 0, \"ticks\": \"\"}, \"colorscale\": [[0.0, \"#0d0887\"], [0.1111111111111111, \"#46039f\"], [0.2222222222222222, \"#7201a8\"], [0.3333333333333333, \"#9c179e\"], [0.4444444444444444, \"#bd3786\"], [0.5555555555555556, \"#d8576b\"], [0.6666666666666666, \"#ed7953\"], [0.7777777777777778, \"#fb9f3a\"], [0.8888888888888888, \"#fdca26\"], [1.0, \"#f0f921\"]], \"type\": \"histogram2d\"}], \"histogram2dcontour\": [{\"colorbar\": {\"outlinewidth\": 0, \"ticks\": \"\"}, \"colorscale\": [[0.0, \"#0d0887\"], [0.1111111111111111, \"#46039f\"], [0.2222222222222222, \"#7201a8\"], [0.3333333333333333, \"#9c179e\"], [0.4444444444444444, \"#bd3786\"], [0.5555555555555556, \"#d8576b\"], [0.6666666666666666, \"#ed7953\"], [0.7777777777777778, \"#fb9f3a\"], [0.8888888888888888, \"#fdca26\"], [1.0, \"#f0f921\"]], \"type\": \"histogram2dcontour\"}], \"mesh3d\": [{\"colorbar\": {\"outlinewidth\": 0, \"ticks\": \"\"}, \"type\": \"mesh3d\"}], \"parcoords\": [{\"line\": {\"colorbar\": {\"outlinewidth\": 0, \"ticks\": \"\"}}, \"type\": \"parcoords\"}], \"pie\": [{\"automargin\": true, \"type\": \"pie\"}], \"scatter\": [{\"marker\": {\"colorbar\": {\"outlinewidth\": 0, \"ticks\": \"\"}}, \"type\": \"scatter\"}], \"scatter3d\": [{\"line\": {\"colorbar\": {\"outlinewidth\": 0, \"ticks\": \"\"}}, \"marker\": {\"colorbar\": {\"outlinewidth\": 0, \"ticks\": \"\"}}, \"type\": \"scatter3d\"}], \"scattercarpet\": [{\"marker\": {\"colorbar\": {\"outlinewidth\": 0, \"ticks\": \"\"}}, \"type\": \"scattercarpet\"}], \"scattergeo\": [{\"marker\": {\"colorbar\": {\"outlinewidth\": 0, \"ticks\": \"\"}}, \"type\": \"scattergeo\"}], \"scattergl\": [{\"marker\": {\"colorbar\": {\"outlinewidth\": 0, \"ticks\": \"\"}}, \"type\": \"scattergl\"}], \"scattermapbox\": [{\"marker\": {\"colorbar\": {\"outlinewidth\": 0, \"ticks\": \"\"}}, \"type\": \"scattermapbox\"}], \"scatterpolar\": [{\"marker\": {\"colorbar\": {\"outlinewidth\": 0, \"ticks\": \"\"}}, \"type\": \"scatterpolar\"}], \"scatterpolargl\": [{\"marker\": {\"colorbar\": {\"outlinewidth\": 0, \"ticks\": \"\"}}, \"type\": \"scatterpolargl\"}], \"scatterternary\": [{\"marker\": {\"colorbar\": {\"outlinewidth\": 0, \"ticks\": \"\"}}, \"type\": \"scatterternary\"}], \"surface\": [{\"colorbar\": {\"outlinewidth\": 0, \"ticks\": \"\"}, \"colorscale\": [[0.0, \"#0d0887\"], [0.1111111111111111, \"#46039f\"], [0.2222222222222222, \"#7201a8\"], [0.3333333333333333, \"#9c179e\"], [0.4444444444444444, \"#bd3786\"], [0.5555555555555556, \"#d8576b\"], [0.6666666666666666, \"#ed7953\"], [0.7777777777777778, \"#fb9f3a\"], [0.8888888888888888, \"#fdca26\"], [1.0, \"#f0f921\"]], \"type\": \"surface\"}], \"table\": [{\"cells\": {\"fill\": {\"color\": \"#EBF0F8\"}, \"line\": {\"color\": \"white\"}}, \"header\": {\"fill\": {\"color\": \"#C8D4E3\"}, \"line\": {\"color\": \"white\"}}, \"type\": \"table\"}]}, \"layout\": {\"annotationdefaults\": {\"arrowcolor\": \"#2a3f5f\", \"arrowhead\": 0, \"arrowwidth\": 1}, \"coloraxis\": {\"colorbar\": {\"outlinewidth\": 0, \"ticks\": \"\"}}, \"colorscale\": {\"diverging\": [[0, \"#8e0152\"], [0.1, \"#c51b7d\"], [0.2, \"#de77ae\"], [0.3, \"#f1b6da\"], [0.4, \"#fde0ef\"], [0.5, \"#f7f7f7\"], [0.6, \"#e6f5d0\"], [0.7, \"#b8e186\"], [0.8, \"#7fbc41\"], [0.9, \"#4d9221\"], [1, \"#276419\"]], \"sequential\": [[0.0, \"#0d0887\"], [0.1111111111111111, \"#46039f\"], [0.2222222222222222, \"#7201a8\"], [0.3333333333333333, \"#9c179e\"], [0.4444444444444444, \"#bd3786\"], [0.5555555555555556, \"#d8576b\"], [0.6666666666666666, \"#ed7953\"], [0.7777777777777778, \"#fb9f3a\"], [0.8888888888888888, \"#fdca26\"], [1.0, \"#f0f921\"]], \"sequentialminus\": [[0.0, \"#0d0887\"], [0.1111111111111111, \"#46039f\"], [0.2222222222222222, \"#7201a8\"], [0.3333333333333333, \"#9c179e\"], [0.4444444444444444, \"#bd3786\"], [0.5555555555555556, \"#d8576b\"], [0.6666666666666666, \"#ed7953\"], [0.7777777777777778, \"#fb9f3a\"], [0.8888888888888888, \"#fdca26\"], [1.0, \"#f0f921\"]]}, \"colorway\": [\"#636efa\", \"#EF553B\", \"#00cc96\", \"#ab63fa\", \"#FFA15A\", \"#19d3f3\", \"#FF6692\", \"#B6E880\", \"#FF97FF\", \"#FECB52\"], \"font\": {\"color\": \"#2a3f5f\"}, \"geo\": {\"bgcolor\": \"white\", \"lakecolor\": \"white\", \"landcolor\": \"#E5ECF6\", \"showlakes\": true, \"showland\": true, \"subunitcolor\": \"white\"}, \"hoverlabel\": {\"align\": \"left\"}, \"hovermode\": \"closest\", \"mapbox\": {\"style\": \"light\"}, \"paper_bgcolor\": \"white\", \"plot_bgcolor\": \"#E5ECF6\", \"polar\": {\"angularaxis\": {\"gridcolor\": \"white\", \"linecolor\": \"white\", \"ticks\": \"\"}, \"bgcolor\": \"#E5ECF6\", \"radialaxis\": {\"gridcolor\": \"white\", \"linecolor\": \"white\", \"ticks\": \"\"}}, \"scene\": {\"xaxis\": {\"backgroundcolor\": \"#E5ECF6\", \"gridcolor\": \"white\", \"gridwidth\": 2, \"linecolor\": \"white\", \"showbackground\": true, \"ticks\": \"\", \"zerolinecolor\": \"white\"}, \"yaxis\": {\"backgroundcolor\": \"#E5ECF6\", \"gridcolor\": \"white\", \"gridwidth\": 2, \"linecolor\": \"white\", \"showbackground\": true, \"ticks\": \"\", \"zerolinecolor\": \"white\"}, \"zaxis\": {\"backgroundcolor\": \"#E5ECF6\", \"gridcolor\": \"white\", \"gridwidth\": 2, \"linecolor\": \"white\", \"showbackground\": true, \"ticks\": \"\", \"zerolinecolor\": \"white\"}}, \"shapedefaults\": {\"line\": {\"color\": \"#2a3f5f\"}}, \"ternary\": {\"aaxis\": {\"gridcolor\": \"white\", \"linecolor\": \"white\", \"ticks\": \"\"}, \"baxis\": {\"gridcolor\": \"white\", \"linecolor\": \"white\", \"ticks\": \"\"}, \"bgcolor\": \"#E5ECF6\", \"caxis\": {\"gridcolor\": \"white\", \"linecolor\": \"white\", \"ticks\": \"\"}}, \"title\": {\"x\": 0.05}, \"xaxis\": {\"automargin\": true, \"gridcolor\": \"white\", \"linecolor\": \"white\", \"ticks\": \"\", \"title\": {\"standoff\": 15}, \"zerolinecolor\": \"white\", \"zerolinewidth\": 2}, \"yaxis\": {\"automargin\": true, \"gridcolor\": \"white\", \"linecolor\": \"white\", \"ticks\": \"\", \"title\": {\"standoff\": 15}, \"zerolinecolor\": \"white\", \"zerolinewidth\": 2}}}, \"xaxis\": {\"anchor\": \"y\", \"domain\": [0.0, 1.0], \"title\": {\"text\": \"age\"}}, \"yaxis\": {\"anchor\": \"x\", \"domain\": [0.0, 1.0], \"title\": {\"text\": \"confirmed_cases_total\"}}},\n",
       "                        {\"responsive\": true}\n",
       "                    ).then(function(){\n",
       "                            \n",
       "var gd = document.getElementById('ff02e95c-856c-4bd8-b05d-e9608bb7c210');\n",
       "var x = new MutationObserver(function (mutations, observer) {{\n",
       "        var display = window.getComputedStyle(gd).display;\n",
       "        if (!display || display === 'none') {{\n",
       "            console.log([gd, 'removed!']);\n",
       "            Plotly.purge(gd);\n",
       "            observer.disconnect();\n",
       "        }}\n",
       "}});\n",
       "\n",
       "// Listen for the removal of the full notebook cells\n",
       "var notebookContainer = gd.closest('#notebook-container');\n",
       "if (notebookContainer) {{\n",
       "    x.observe(notebookContainer, {childList: true});\n",
       "}}\n",
       "\n",
       "// Listen for the clearing of the current output cell\n",
       "var outputEl = gd.closest('.output');\n",
       "if (outputEl) {{\n",
       "    x.observe(outputEl, {childList: true});\n",
       "}}\n",
       "\n",
       "                        })\n",
       "                };\n",
       "                });\n",
       "            </script>\n",
       "        </div>"
      ]
     },
     "metadata": {},
     "output_type": "display_data"
    }
   ],
   "source": [
    "fig = px.bar(latimes_single_day,\n",
    "           x=\"age\",\n",
    "           y=\"confirmed_cases_total\")\n",
    "             \n",
    "# ,\n",
    "#             color=\"race\",\n",
    "#             barmode=\"group\"\n",
    "# fig.update_xaxes(rangeslider_visible=True)\n",
    "fig.show()"
   ]
  },
  {
   "cell_type": "code",
   "execution_count": 25,
   "metadata": {},
   "outputs": [
    {
     "data": {
      "application/vnd.plotly.v1+json": {
       "config": {
        "plotlyServerURL": "https://plot.ly"
       },
       "data": [
        {
         "alignmentgroup": "True",
         "hovertemplate": "race=asian<br>age=%{x}<br>confirmed_cases_total=%{y}<extra></extra>",
         "legendgroup": "asian",
         "marker": {
          "color": "#636efa"
         },
         "name": "asian",
         "offsetgroup": "asian",
         "orientation": "v",
         "showlegend": true,
         "textposition": "auto",
         "type": "bar",
         "x": [
          "0-17",
          "18+",
          "18-34",
          "35-49",
          "50-64",
          "65-79",
          "80+",
          "all"
         ],
         "xaxis": "x",
         "y": [
          271,
          10342,
          2373,
          2709,
          2703,
          1438,
          1119,
          10624
         ],
         "yaxis": "y"
        },
        {
         "alignmentgroup": "True",
         "hovertemplate": "race=black<br>age=%{x}<br>confirmed_cases_total=%{y}<extra></extra>",
         "legendgroup": "black",
         "marker": {
          "color": "#EF553B"
         },
         "name": "black",
         "offsetgroup": "black",
         "orientation": "v",
         "showlegend": true,
         "textposition": "auto",
         "type": "bar",
         "x": [
          "0-17",
          "18+",
          "18-34",
          "35-49",
          "50-64",
          "65-79",
          "80+",
          "all"
         ],
         "xaxis": "x",
         "y": [
          197,
          6102,
          1541,
          1401,
          1560,
          1023,
          577,
          6309
         ],
         "yaxis": "y"
        },
        {
         "alignmentgroup": "True",
         "hovertemplate": "race=latino<br>age=%{x}<br>confirmed_cases_total=%{y}<extra></extra>",
         "legendgroup": "latino",
         "marker": {
          "color": "#00cc96"
         },
         "name": "latino",
         "offsetgroup": "latino",
         "orientation": "v",
         "showlegend": true,
         "textposition": "auto",
         "type": "bar",
         "x": [
          "0-17",
          "18+",
          "18-34",
          "35-49",
          "50-64",
          "65-79",
          "80+",
          "all"
         ],
         "xaxis": "x",
         "y": [
          7625,
          73193,
          26511,
          21910,
          16802,
          5792,
          2178,
          80875
         ],
         "yaxis": "y"
        },
        {
         "alignmentgroup": "True",
         "hovertemplate": "race=other<br>age=%{x}<br>confirmed_cases_total=%{y}<extra></extra>",
         "legendgroup": "other",
         "marker": {
          "color": "#ab63fa"
         },
         "name": "other",
         "offsetgroup": "other",
         "orientation": "v",
         "showlegend": true,
         "textposition": "auto",
         "type": "bar",
         "x": [
          "0-17",
          "18+",
          "18-34",
          "35-49",
          "50-64",
          "65-79",
          "80+",
          "all"
         ],
         "xaxis": "x",
         "y": [
          2233,
          18534,
          7239,
          5307,
          4104,
          1342,
          542,
          20769
         ],
         "yaxis": "y"
        },
        {
         "alignmentgroup": "True",
         "hovertemplate": "race=white<br>age=%{x}<br>confirmed_cases_total=%{y}<extra></extra>",
         "legendgroup": "white",
         "marker": {
          "color": "#FFA15A"
         },
         "name": "white",
         "offsetgroup": "white",
         "orientation": "v",
         "showlegend": true,
         "textposition": "auto",
         "type": "bar",
         "x": [
          "0-17",
          "18+",
          "18-34",
          "35-49",
          "50-64",
          "65-79",
          "80+",
          "all"
         ],
         "xaxis": "x",
         "y": [
          820,
          23394,
          5445,
          4819,
          5767,
          4389,
          2974,
          24242
         ],
         "yaxis": "y"
        }
       ],
       "layout": {
        "autosize": true,
        "barmode": "relative",
        "legend": {
         "title": {
          "text": "race"
         },
         "tracegroupgap": 0
        },
        "margin": {
         "t": 60
        },
        "template": {
         "data": {
          "bar": [
           {
            "error_x": {
             "color": "#2a3f5f"
            },
            "error_y": {
             "color": "#2a3f5f"
            },
            "marker": {
             "line": {
              "color": "#E5ECF6",
              "width": 0.5
             }
            },
            "type": "bar"
           }
          ],
          "barpolar": [
           {
            "marker": {
             "line": {
              "color": "#E5ECF6",
              "width": 0.5
             }
            },
            "type": "barpolar"
           }
          ],
          "carpet": [
           {
            "aaxis": {
             "endlinecolor": "#2a3f5f",
             "gridcolor": "white",
             "linecolor": "white",
             "minorgridcolor": "white",
             "startlinecolor": "#2a3f5f"
            },
            "baxis": {
             "endlinecolor": "#2a3f5f",
             "gridcolor": "white",
             "linecolor": "white",
             "minorgridcolor": "white",
             "startlinecolor": "#2a3f5f"
            },
            "type": "carpet"
           }
          ],
          "choropleth": [
           {
            "colorbar": {
             "outlinewidth": 0,
             "ticks": ""
            },
            "type": "choropleth"
           }
          ],
          "contour": [
           {
            "colorbar": {
             "outlinewidth": 0,
             "ticks": ""
            },
            "colorscale": [
             [
              0,
              "#0d0887"
             ],
             [
              0.1111111111111111,
              "#46039f"
             ],
             [
              0.2222222222222222,
              "#7201a8"
             ],
             [
              0.3333333333333333,
              "#9c179e"
             ],
             [
              0.4444444444444444,
              "#bd3786"
             ],
             [
              0.5555555555555556,
              "#d8576b"
             ],
             [
              0.6666666666666666,
              "#ed7953"
             ],
             [
              0.7777777777777778,
              "#fb9f3a"
             ],
             [
              0.8888888888888888,
              "#fdca26"
             ],
             [
              1,
              "#f0f921"
             ]
            ],
            "type": "contour"
           }
          ],
          "contourcarpet": [
           {
            "colorbar": {
             "outlinewidth": 0,
             "ticks": ""
            },
            "type": "contourcarpet"
           }
          ],
          "heatmap": [
           {
            "colorbar": {
             "outlinewidth": 0,
             "ticks": ""
            },
            "colorscale": [
             [
              0,
              "#0d0887"
             ],
             [
              0.1111111111111111,
              "#46039f"
             ],
             [
              0.2222222222222222,
              "#7201a8"
             ],
             [
              0.3333333333333333,
              "#9c179e"
             ],
             [
              0.4444444444444444,
              "#bd3786"
             ],
             [
              0.5555555555555556,
              "#d8576b"
             ],
             [
              0.6666666666666666,
              "#ed7953"
             ],
             [
              0.7777777777777778,
              "#fb9f3a"
             ],
             [
              0.8888888888888888,
              "#fdca26"
             ],
             [
              1,
              "#f0f921"
             ]
            ],
            "type": "heatmap"
           }
          ],
          "heatmapgl": [
           {
            "colorbar": {
             "outlinewidth": 0,
             "ticks": ""
            },
            "colorscale": [
             [
              0,
              "#0d0887"
             ],
             [
              0.1111111111111111,
              "#46039f"
             ],
             [
              0.2222222222222222,
              "#7201a8"
             ],
             [
              0.3333333333333333,
              "#9c179e"
             ],
             [
              0.4444444444444444,
              "#bd3786"
             ],
             [
              0.5555555555555556,
              "#d8576b"
             ],
             [
              0.6666666666666666,
              "#ed7953"
             ],
             [
              0.7777777777777778,
              "#fb9f3a"
             ],
             [
              0.8888888888888888,
              "#fdca26"
             ],
             [
              1,
              "#f0f921"
             ]
            ],
            "type": "heatmapgl"
           }
          ],
          "histogram": [
           {
            "marker": {
             "colorbar": {
              "outlinewidth": 0,
              "ticks": ""
             }
            },
            "type": "histogram"
           }
          ],
          "histogram2d": [
           {
            "colorbar": {
             "outlinewidth": 0,
             "ticks": ""
            },
            "colorscale": [
             [
              0,
              "#0d0887"
             ],
             [
              0.1111111111111111,
              "#46039f"
             ],
             [
              0.2222222222222222,
              "#7201a8"
             ],
             [
              0.3333333333333333,
              "#9c179e"
             ],
             [
              0.4444444444444444,
              "#bd3786"
             ],
             [
              0.5555555555555556,
              "#d8576b"
             ],
             [
              0.6666666666666666,
              "#ed7953"
             ],
             [
              0.7777777777777778,
              "#fb9f3a"
             ],
             [
              0.8888888888888888,
              "#fdca26"
             ],
             [
              1,
              "#f0f921"
             ]
            ],
            "type": "histogram2d"
           }
          ],
          "histogram2dcontour": [
           {
            "colorbar": {
             "outlinewidth": 0,
             "ticks": ""
            },
            "colorscale": [
             [
              0,
              "#0d0887"
             ],
             [
              0.1111111111111111,
              "#46039f"
             ],
             [
              0.2222222222222222,
              "#7201a8"
             ],
             [
              0.3333333333333333,
              "#9c179e"
             ],
             [
              0.4444444444444444,
              "#bd3786"
             ],
             [
              0.5555555555555556,
              "#d8576b"
             ],
             [
              0.6666666666666666,
              "#ed7953"
             ],
             [
              0.7777777777777778,
              "#fb9f3a"
             ],
             [
              0.8888888888888888,
              "#fdca26"
             ],
             [
              1,
              "#f0f921"
             ]
            ],
            "type": "histogram2dcontour"
           }
          ],
          "mesh3d": [
           {
            "colorbar": {
             "outlinewidth": 0,
             "ticks": ""
            },
            "type": "mesh3d"
           }
          ],
          "parcoords": [
           {
            "line": {
             "colorbar": {
              "outlinewidth": 0,
              "ticks": ""
             }
            },
            "type": "parcoords"
           }
          ],
          "pie": [
           {
            "automargin": true,
            "type": "pie"
           }
          ],
          "scatter": [
           {
            "marker": {
             "colorbar": {
              "outlinewidth": 0,
              "ticks": ""
             }
            },
            "type": "scatter"
           }
          ],
          "scatter3d": [
           {
            "line": {
             "colorbar": {
              "outlinewidth": 0,
              "ticks": ""
             }
            },
            "marker": {
             "colorbar": {
              "outlinewidth": 0,
              "ticks": ""
             }
            },
            "type": "scatter3d"
           }
          ],
          "scattercarpet": [
           {
            "marker": {
             "colorbar": {
              "outlinewidth": 0,
              "ticks": ""
             }
            },
            "type": "scattercarpet"
           }
          ],
          "scattergeo": [
           {
            "marker": {
             "colorbar": {
              "outlinewidth": 0,
              "ticks": ""
             }
            },
            "type": "scattergeo"
           }
          ],
          "scattergl": [
           {
            "marker": {
             "colorbar": {
              "outlinewidth": 0,
              "ticks": ""
             }
            },
            "type": "scattergl"
           }
          ],
          "scattermapbox": [
           {
            "marker": {
             "colorbar": {
              "outlinewidth": 0,
              "ticks": ""
             }
            },
            "type": "scattermapbox"
           }
          ],
          "scatterpolar": [
           {
            "marker": {
             "colorbar": {
              "outlinewidth": 0,
              "ticks": ""
             }
            },
            "type": "scatterpolar"
           }
          ],
          "scatterpolargl": [
           {
            "marker": {
             "colorbar": {
              "outlinewidth": 0,
              "ticks": ""
             }
            },
            "type": "scatterpolargl"
           }
          ],
          "scatterternary": [
           {
            "marker": {
             "colorbar": {
              "outlinewidth": 0,
              "ticks": ""
             }
            },
            "type": "scatterternary"
           }
          ],
          "surface": [
           {
            "colorbar": {
             "outlinewidth": 0,
             "ticks": ""
            },
            "colorscale": [
             [
              0,
              "#0d0887"
             ],
             [
              0.1111111111111111,
              "#46039f"
             ],
             [
              0.2222222222222222,
              "#7201a8"
             ],
             [
              0.3333333333333333,
              "#9c179e"
             ],
             [
              0.4444444444444444,
              "#bd3786"
             ],
             [
              0.5555555555555556,
              "#d8576b"
             ],
             [
              0.6666666666666666,
              "#ed7953"
             ],
             [
              0.7777777777777778,
              "#fb9f3a"
             ],
             [
              0.8888888888888888,
              "#fdca26"
             ],
             [
              1,
              "#f0f921"
             ]
            ],
            "type": "surface"
           }
          ],
          "table": [
           {
            "cells": {
             "fill": {
              "color": "#EBF0F8"
             },
             "line": {
              "color": "white"
             }
            },
            "header": {
             "fill": {
              "color": "#C8D4E3"
             },
             "line": {
              "color": "white"
             }
            },
            "type": "table"
           }
          ]
         },
         "layout": {
          "annotationdefaults": {
           "arrowcolor": "#2a3f5f",
           "arrowhead": 0,
           "arrowwidth": 1
          },
          "coloraxis": {
           "colorbar": {
            "outlinewidth": 0,
            "ticks": ""
           }
          },
          "colorscale": {
           "diverging": [
            [
             0,
             "#8e0152"
            ],
            [
             0.1,
             "#c51b7d"
            ],
            [
             0.2,
             "#de77ae"
            ],
            [
             0.3,
             "#f1b6da"
            ],
            [
             0.4,
             "#fde0ef"
            ],
            [
             0.5,
             "#f7f7f7"
            ],
            [
             0.6,
             "#e6f5d0"
            ],
            [
             0.7,
             "#b8e186"
            ],
            [
             0.8,
             "#7fbc41"
            ],
            [
             0.9,
             "#4d9221"
            ],
            [
             1,
             "#276419"
            ]
           ],
           "sequential": [
            [
             0,
             "#0d0887"
            ],
            [
             0.1111111111111111,
             "#46039f"
            ],
            [
             0.2222222222222222,
             "#7201a8"
            ],
            [
             0.3333333333333333,
             "#9c179e"
            ],
            [
             0.4444444444444444,
             "#bd3786"
            ],
            [
             0.5555555555555556,
             "#d8576b"
            ],
            [
             0.6666666666666666,
             "#ed7953"
            ],
            [
             0.7777777777777778,
             "#fb9f3a"
            ],
            [
             0.8888888888888888,
             "#fdca26"
            ],
            [
             1,
             "#f0f921"
            ]
           ],
           "sequentialminus": [
            [
             0,
             "#0d0887"
            ],
            [
             0.1111111111111111,
             "#46039f"
            ],
            [
             0.2222222222222222,
             "#7201a8"
            ],
            [
             0.3333333333333333,
             "#9c179e"
            ],
            [
             0.4444444444444444,
             "#bd3786"
            ],
            [
             0.5555555555555556,
             "#d8576b"
            ],
            [
             0.6666666666666666,
             "#ed7953"
            ],
            [
             0.7777777777777778,
             "#fb9f3a"
            ],
            [
             0.8888888888888888,
             "#fdca26"
            ],
            [
             1,
             "#f0f921"
            ]
           ]
          },
          "colorway": [
           "#636efa",
           "#EF553B",
           "#00cc96",
           "#ab63fa",
           "#FFA15A",
           "#19d3f3",
           "#FF6692",
           "#B6E880",
           "#FF97FF",
           "#FECB52"
          ],
          "font": {
           "color": "#2a3f5f"
          },
          "geo": {
           "bgcolor": "white",
           "lakecolor": "white",
           "landcolor": "#E5ECF6",
           "showlakes": true,
           "showland": true,
           "subunitcolor": "white"
          },
          "hoverlabel": {
           "align": "left"
          },
          "hovermode": "closest",
          "mapbox": {
           "style": "light"
          },
          "paper_bgcolor": "white",
          "plot_bgcolor": "#E5ECF6",
          "polar": {
           "angularaxis": {
            "gridcolor": "white",
            "linecolor": "white",
            "ticks": ""
           },
           "bgcolor": "#E5ECF6",
           "radialaxis": {
            "gridcolor": "white",
            "linecolor": "white",
            "ticks": ""
           }
          },
          "scene": {
           "xaxis": {
            "backgroundcolor": "#E5ECF6",
            "gridcolor": "white",
            "gridwidth": 2,
            "linecolor": "white",
            "showbackground": true,
            "ticks": "",
            "zerolinecolor": "white"
           },
           "yaxis": {
            "backgroundcolor": "#E5ECF6",
            "gridcolor": "white",
            "gridwidth": 2,
            "linecolor": "white",
            "showbackground": true,
            "ticks": "",
            "zerolinecolor": "white"
           },
           "zaxis": {
            "backgroundcolor": "#E5ECF6",
            "gridcolor": "white",
            "gridwidth": 2,
            "linecolor": "white",
            "showbackground": true,
            "ticks": "",
            "zerolinecolor": "white"
           }
          },
          "shapedefaults": {
           "line": {
            "color": "#2a3f5f"
           }
          },
          "ternary": {
           "aaxis": {
            "gridcolor": "white",
            "linecolor": "white",
            "ticks": ""
           },
           "baxis": {
            "gridcolor": "white",
            "linecolor": "white",
            "ticks": ""
           },
           "bgcolor": "#E5ECF6",
           "caxis": {
            "gridcolor": "white",
            "linecolor": "white",
            "ticks": ""
           }
          },
          "title": {
           "x": 0.05
          },
          "xaxis": {
           "automargin": true,
           "gridcolor": "white",
           "linecolor": "white",
           "ticks": "",
           "title": {
            "standoff": 15
           },
           "zerolinecolor": "white",
           "zerolinewidth": 2
          },
          "yaxis": {
           "automargin": true,
           "gridcolor": "white",
           "linecolor": "white",
           "ticks": "",
           "title": {
            "standoff": 15
           },
           "zerolinecolor": "white",
           "zerolinewidth": 2
          }
         }
        },
        "xaxis": {
         "anchor": "y",
         "autorange": true,
         "domain": [
          0,
          1
         ],
         "range": [
          -0.5,
          7.5
         ],
         "title": {
          "text": "age"
         },
         "type": "category"
        },
        "yaxis": {
         "anchor": "x",
         "autorange": true,
         "domain": [
          0,
          1
         ],
         "range": [
          0,
          150335.7894736842
         ],
         "title": {
          "text": "confirmed_cases_total"
         },
         "type": "linear"
        }
       }
      },
      "image/png": "[encoded data removed]",
      "text/html": [
       "<div>\n",
       "        \n",
       "        \n",
       "            <div id=\"23142701-6533-4a83-bcb4-913956cc5e3a\" class=\"plotly-graph-div\" style=\"height:525px; width:100%;\"></div>\n",
       "            <script type=\"text/javascript\">\n",
       "                require([\"plotly\"], function(Plotly) {\n",
       "                    window.PLOTLYENV=window.PLOTLYENV || {};\n",
       "                    \n",
       "                if (document.getElementById(\"23142701-6533-4a83-bcb4-913956cc5e3a\")) {\n",
       "                    Plotly.newPlot(\n",
       "                        '23142701-6533-4a83-bcb4-913956cc5e3a',\n",
       "                        [{\"alignmentgroup\": \"True\", \"hovertemplate\": \"race=asian<br>age=%{x}<br>confirmed_cases_total=%{y}<extra></extra>\", \"legendgroup\": \"asian\", \"marker\": {\"color\": \"#636efa\"}, \"name\": \"asian\", \"offsetgroup\": \"asian\", \"orientation\": \"v\", \"showlegend\": true, \"textposition\": \"auto\", \"type\": \"bar\", \"x\": [\"0-17\", \"18+\", \"18-34\", \"35-49\", \"50-64\", \"65-79\", \"80+\", \"all\"], \"xaxis\": \"x\", \"y\": [271, 10342, 2373, 2709, 2703, 1438, 1119, 10624], \"yaxis\": \"y\"}, {\"alignmentgroup\": \"True\", \"hovertemplate\": \"race=black<br>age=%{x}<br>confirmed_cases_total=%{y}<extra></extra>\", \"legendgroup\": \"black\", \"marker\": {\"color\": \"#EF553B\"}, \"name\": \"black\", \"offsetgroup\": \"black\", \"orientation\": \"v\", \"showlegend\": true, \"textposition\": \"auto\", \"type\": \"bar\", \"x\": [\"0-17\", \"18+\", \"18-34\", \"35-49\", \"50-64\", \"65-79\", \"80+\", \"all\"], \"xaxis\": \"x\", \"y\": [197, 6102, 1541, 1401, 1560, 1023, 577, 6309], \"yaxis\": \"y\"}, {\"alignmentgroup\": \"True\", \"hovertemplate\": \"race=latino<br>age=%{x}<br>confirmed_cases_total=%{y}<extra></extra>\", \"legendgroup\": \"latino\", \"marker\": {\"color\": \"#00cc96\"}, \"name\": \"latino\", \"offsetgroup\": \"latino\", \"orientation\": \"v\", \"showlegend\": true, \"textposition\": \"auto\", \"type\": \"bar\", \"x\": [\"0-17\", \"18+\", \"18-34\", \"35-49\", \"50-64\", \"65-79\", \"80+\", \"all\"], \"xaxis\": \"x\", \"y\": [7625, 73193, 26511, 21910, 16802, 5792, 2178, 80875], \"yaxis\": \"y\"}, {\"alignmentgroup\": \"True\", \"hovertemplate\": \"race=other<br>age=%{x}<br>confirmed_cases_total=%{y}<extra></extra>\", \"legendgroup\": \"other\", \"marker\": {\"color\": \"#ab63fa\"}, \"name\": \"other\", \"offsetgroup\": \"other\", \"orientation\": \"v\", \"showlegend\": true, \"textposition\": \"auto\", \"type\": \"bar\", \"x\": [\"0-17\", \"18+\", \"18-34\", \"35-49\", \"50-64\", \"65-79\", \"80+\", \"all\"], \"xaxis\": \"x\", \"y\": [2233, 18534, 7239, 5307, 4104, 1342, 542, 20769], \"yaxis\": \"y\"}, {\"alignmentgroup\": \"True\", \"hovertemplate\": \"race=white<br>age=%{x}<br>confirmed_cases_total=%{y}<extra></extra>\", \"legendgroup\": \"white\", \"marker\": {\"color\": \"#FFA15A\"}, \"name\": \"white\", \"offsetgroup\": \"white\", \"orientation\": \"v\", \"showlegend\": true, \"textposition\": \"auto\", \"type\": \"bar\", \"x\": [\"0-17\", \"18+\", \"18-34\", \"35-49\", \"50-64\", \"65-79\", \"80+\", \"all\"], \"xaxis\": \"x\", \"y\": [820, 23394, 5445, 4819, 5767, 4389, 2974, 24242], \"yaxis\": \"y\"}],\n",
       "                        {\"barmode\": \"relative\", \"legend\": {\"title\": {\"text\": \"race\"}, \"tracegroupgap\": 0}, \"margin\": {\"t\": 60}, \"template\": {\"data\": {\"bar\": [{\"error_x\": {\"color\": \"#2a3f5f\"}, \"error_y\": {\"color\": \"#2a3f5f\"}, \"marker\": {\"line\": {\"color\": \"#E5ECF6\", \"width\": 0.5}}, \"type\": \"bar\"}], \"barpolar\": [{\"marker\": {\"line\": {\"color\": \"#E5ECF6\", \"width\": 0.5}}, \"type\": \"barpolar\"}], \"carpet\": [{\"aaxis\": {\"endlinecolor\": \"#2a3f5f\", \"gridcolor\": \"white\", \"linecolor\": \"white\", \"minorgridcolor\": \"white\", \"startlinecolor\": \"#2a3f5f\"}, \"baxis\": {\"endlinecolor\": \"#2a3f5f\", \"gridcolor\": \"white\", \"linecolor\": \"white\", \"minorgridcolor\": \"white\", \"startlinecolor\": \"#2a3f5f\"}, \"type\": \"carpet\"}], \"choropleth\": [{\"colorbar\": {\"outlinewidth\": 0, \"ticks\": \"\"}, \"type\": \"choropleth\"}], \"contour\": [{\"colorbar\": {\"outlinewidth\": 0, \"ticks\": \"\"}, \"colorscale\": [[0.0, \"#0d0887\"], [0.1111111111111111, \"#46039f\"], [0.2222222222222222, \"#7201a8\"], [0.3333333333333333, \"#9c179e\"], [0.4444444444444444, \"#bd3786\"], [0.5555555555555556, \"#d8576b\"], [0.6666666666666666, \"#ed7953\"], [0.7777777777777778, \"#fb9f3a\"], [0.8888888888888888, \"#fdca26\"], [1.0, \"#f0f921\"]], \"type\": \"contour\"}], \"contourcarpet\": [{\"colorbar\": {\"outlinewidth\": 0, \"ticks\": \"\"}, \"type\": \"contourcarpet\"}], \"heatmap\": [{\"colorbar\": {\"outlinewidth\": 0, \"ticks\": \"\"}, \"colorscale\": [[0.0, \"#0d0887\"], [0.1111111111111111, \"#46039f\"], [0.2222222222222222, \"#7201a8\"], [0.3333333333333333, \"#9c179e\"], [0.4444444444444444, \"#bd3786\"], [0.5555555555555556, \"#d8576b\"], [0.6666666666666666, \"#ed7953\"], [0.7777777777777778, \"#fb9f3a\"], [0.8888888888888888, \"#fdca26\"], [1.0, \"#f0f921\"]], \"type\": \"heatmap\"}], \"heatmapgl\": [{\"colorbar\": {\"outlinewidth\": 0, \"ticks\": \"\"}, \"colorscale\": [[0.0, \"#0d0887\"], [0.1111111111111111, \"#46039f\"], [0.2222222222222222, \"#7201a8\"], [0.3333333333333333, \"#9c179e\"], [0.4444444444444444, \"#bd3786\"], [0.5555555555555556, \"#d8576b\"], [0.6666666666666666, \"#ed7953\"], [0.7777777777777778, \"#fb9f3a\"], [0.8888888888888888, \"#fdca26\"], [1.0, \"#f0f921\"]], \"type\": \"heatmapgl\"}], \"histogram\": [{\"marker\": {\"colorbar\": {\"outlinewidth\": 0, \"ticks\": \"\"}}, \"type\": \"histogram\"}], \"histogram2d\": [{\"colorbar\": {\"outlinewidth\": 0, \"ticks\": \"\"}, \"colorscale\": [[0.0, \"#0d0887\"], [0.1111111111111111, \"#46039f\"], [0.2222222222222222, \"#7201a8\"], [0.3333333333333333, \"#9c179e\"], [0.4444444444444444, \"#bd3786\"], [0.5555555555555556, \"#d8576b\"], [0.6666666666666666, \"#ed7953\"], [0.7777777777777778, \"#fb9f3a\"], [0.8888888888888888, \"#fdca26\"], [1.0, \"#f0f921\"]], \"type\": \"histogram2d\"}], \"histogram2dcontour\": [{\"colorbar\": {\"outlinewidth\": 0, \"ticks\": \"\"}, \"colorscale\": [[0.0, \"#0d0887\"], [0.1111111111111111, \"#46039f\"], [0.2222222222222222, \"#7201a8\"], [0.3333333333333333, \"#9c179e\"], [0.4444444444444444, \"#bd3786\"], [0.5555555555555556, \"#d8576b\"], [0.6666666666666666, \"#ed7953\"], [0.7777777777777778, \"#fb9f3a\"], [0.8888888888888888, \"#fdca26\"], [1.0, \"#f0f921\"]], \"type\": \"histogram2dcontour\"}], \"mesh3d\": [{\"colorbar\": {\"outlinewidth\": 0, \"ticks\": \"\"}, \"type\": \"mesh3d\"}], \"parcoords\": [{\"line\": {\"colorbar\": {\"outlinewidth\": 0, \"ticks\": \"\"}}, \"type\": \"parcoords\"}], \"pie\": [{\"automargin\": true, \"type\": \"pie\"}], \"scatter\": [{\"marker\": {\"colorbar\": {\"outlinewidth\": 0, \"ticks\": \"\"}}, \"type\": \"scatter\"}], \"scatter3d\": [{\"line\": {\"colorbar\": {\"outlinewidth\": 0, \"ticks\": \"\"}}, \"marker\": {\"colorbar\": {\"outlinewidth\": 0, \"ticks\": \"\"}}, \"type\": \"scatter3d\"}], \"scattercarpet\": [{\"marker\": {\"colorbar\": {\"outlinewidth\": 0, \"ticks\": \"\"}}, \"type\": \"scattercarpet\"}], \"scattergeo\": [{\"marker\": {\"colorbar\": {\"outlinewidth\": 0, \"ticks\": \"\"}}, \"type\": \"scattergeo\"}], \"scattergl\": [{\"marker\": {\"colorbar\": {\"outlinewidth\": 0, \"ticks\": \"\"}}, \"type\": \"scattergl\"}], \"scattermapbox\": [{\"marker\": {\"colorbar\": {\"outlinewidth\": 0, \"ticks\": \"\"}}, \"type\": \"scattermapbox\"}], \"scatterpolar\": [{\"marker\": {\"colorbar\": {\"outlinewidth\": 0, \"ticks\": \"\"}}, \"type\": \"scatterpolar\"}], \"scatterpolargl\": [{\"marker\": {\"colorbar\": {\"outlinewidth\": 0, \"ticks\": \"\"}}, \"type\": \"scatterpolargl\"}], \"scatterternary\": [{\"marker\": {\"colorbar\": {\"outlinewidth\": 0, \"ticks\": \"\"}}, \"type\": \"scatterternary\"}], \"surface\": [{\"colorbar\": {\"outlinewidth\": 0, \"ticks\": \"\"}, \"colorscale\": [[0.0, \"#0d0887\"], [0.1111111111111111, \"#46039f\"], [0.2222222222222222, \"#7201a8\"], [0.3333333333333333, \"#9c179e\"], [0.4444444444444444, \"#bd3786\"], [0.5555555555555556, \"#d8576b\"], [0.6666666666666666, \"#ed7953\"], [0.7777777777777778, \"#fb9f3a\"], [0.8888888888888888, \"#fdca26\"], [1.0, \"#f0f921\"]], \"type\": \"surface\"}], \"table\": [{\"cells\": {\"fill\": {\"color\": \"#EBF0F8\"}, \"line\": {\"color\": \"white\"}}, \"header\": {\"fill\": {\"color\": \"#C8D4E3\"}, \"line\": {\"color\": \"white\"}}, \"type\": \"table\"}]}, \"layout\": {\"annotationdefaults\": {\"arrowcolor\": \"#2a3f5f\", \"arrowhead\": 0, \"arrowwidth\": 1}, \"coloraxis\": {\"colorbar\": {\"outlinewidth\": 0, \"ticks\": \"\"}}, \"colorscale\": {\"diverging\": [[0, \"#8e0152\"], [0.1, \"#c51b7d\"], [0.2, \"#de77ae\"], [0.3, \"#f1b6da\"], [0.4, \"#fde0ef\"], [0.5, \"#f7f7f7\"], [0.6, \"#e6f5d0\"], [0.7, \"#b8e186\"], [0.8, \"#7fbc41\"], [0.9, \"#4d9221\"], [1, \"#276419\"]], \"sequential\": [[0.0, \"#0d0887\"], [0.1111111111111111, \"#46039f\"], [0.2222222222222222, \"#7201a8\"], [0.3333333333333333, \"#9c179e\"], [0.4444444444444444, \"#bd3786\"], [0.5555555555555556, \"#d8576b\"], [0.6666666666666666, \"#ed7953\"], [0.7777777777777778, \"#fb9f3a\"], [0.8888888888888888, \"#fdca26\"], [1.0, \"#f0f921\"]], \"sequentialminus\": [[0.0, \"#0d0887\"], [0.1111111111111111, \"#46039f\"], [0.2222222222222222, \"#7201a8\"], [0.3333333333333333, \"#9c179e\"], [0.4444444444444444, \"#bd3786\"], [0.5555555555555556, \"#d8576b\"], [0.6666666666666666, \"#ed7953\"], [0.7777777777777778, \"#fb9f3a\"], [0.8888888888888888, \"#fdca26\"], [1.0, \"#f0f921\"]]}, \"colorway\": [\"#636efa\", \"#EF553B\", \"#00cc96\", \"#ab63fa\", \"#FFA15A\", \"#19d3f3\", \"#FF6692\", \"#B6E880\", \"#FF97FF\", \"#FECB52\"], \"font\": {\"color\": \"#2a3f5f\"}, \"geo\": {\"bgcolor\": \"white\", \"lakecolor\": \"white\", \"landcolor\": \"#E5ECF6\", \"showlakes\": true, \"showland\": true, \"subunitcolor\": \"white\"}, \"hoverlabel\": {\"align\": \"left\"}, \"hovermode\": \"closest\", \"mapbox\": {\"style\": \"light\"}, \"paper_bgcolor\": \"white\", \"plot_bgcolor\": \"#E5ECF6\", \"polar\": {\"angularaxis\": {\"gridcolor\": \"white\", \"linecolor\": \"white\", \"ticks\": \"\"}, \"bgcolor\": \"#E5ECF6\", \"radialaxis\": {\"gridcolor\": \"white\", \"linecolor\": \"white\", \"ticks\": \"\"}}, \"scene\": {\"xaxis\": {\"backgroundcolor\": \"#E5ECF6\", \"gridcolor\": \"white\", \"gridwidth\": 2, \"linecolor\": \"white\", \"showbackground\": true, \"ticks\": \"\", \"zerolinecolor\": \"white\"}, \"yaxis\": {\"backgroundcolor\": \"#E5ECF6\", \"gridcolor\": \"white\", \"gridwidth\": 2, \"linecolor\": \"white\", \"showbackground\": true, \"ticks\": \"\", \"zerolinecolor\": \"white\"}, \"zaxis\": {\"backgroundcolor\": \"#E5ECF6\", \"gridcolor\": \"white\", \"gridwidth\": 2, \"linecolor\": \"white\", \"showbackground\": true, \"ticks\": \"\", \"zerolinecolor\": \"white\"}}, \"shapedefaults\": {\"line\": {\"color\": \"#2a3f5f\"}}, \"ternary\": {\"aaxis\": {\"gridcolor\": \"white\", \"linecolor\": \"white\", \"ticks\": \"\"}, \"baxis\": {\"gridcolor\": \"white\", \"linecolor\": \"white\", \"ticks\": \"\"}, \"bgcolor\": \"#E5ECF6\", \"caxis\": {\"gridcolor\": \"white\", \"linecolor\": \"white\", \"ticks\": \"\"}}, \"title\": {\"x\": 0.05}, \"xaxis\": {\"automargin\": true, \"gridcolor\": \"white\", \"linecolor\": \"white\", \"ticks\": \"\", \"title\": {\"standoff\": 15}, \"zerolinecolor\": \"white\", \"zerolinewidth\": 2}, \"yaxis\": {\"automargin\": true, \"gridcolor\": \"white\", \"linecolor\": \"white\", \"ticks\": \"\", \"title\": {\"standoff\": 15}, \"zerolinecolor\": \"white\", \"zerolinewidth\": 2}}}, \"xaxis\": {\"anchor\": \"y\", \"domain\": [0.0, 1.0], \"title\": {\"text\": \"age\"}}, \"yaxis\": {\"anchor\": \"x\", \"domain\": [0.0, 1.0], \"title\": {\"text\": \"confirmed_cases_total\"}}},\n",
       "                        {\"responsive\": true}\n",
       "                    ).then(function(){\n",
       "                            \n",
       "var gd = document.getElementById('23142701-6533-4a83-bcb4-913956cc5e3a');\n",
       "var x = new MutationObserver(function (mutations, observer) {{\n",
       "        var display = window.getComputedStyle(gd).display;\n",
       "        if (!display || display === 'none') {{\n",
       "            console.log([gd, 'removed!']);\n",
       "            Plotly.purge(gd);\n",
       "            observer.disconnect();\n",
       "        }}\n",
       "}});\n",
       "\n",
       "// Listen for the removal of the full notebook cells\n",
       "var notebookContainer = gd.closest('#notebook-container');\n",
       "if (notebookContainer) {{\n",
       "    x.observe(notebookContainer, {childList: true});\n",
       "}}\n",
       "\n",
       "// Listen for the clearing of the current output cell\n",
       "var outputEl = gd.closest('.output');\n",
       "if (outputEl) {{\n",
       "    x.observe(outputEl, {childList: true});\n",
       "}}\n",
       "\n",
       "                        })\n",
       "                };\n",
       "                });\n",
       "            </script>\n",
       "        </div>"
      ]
     },
     "metadata": {},
     "output_type": "display_data"
    }
   ],
   "source": [
    "fig = px.bar(latimes_single_day,\n",
    "           x=\"age\",\n",
    "           y=\"confirmed_cases_total\",\n",
    "            color=\"race\")\n",
    "             \n",
    "# ,\n",
    "#             color=\"race\",\n",
    "#             barmode=\"group\"\n",
    "# fig.update_xaxes(rangeslider_visible=True)\n",
    "fig.show()"
   ]
  },
  {
   "cell_type": "code",
   "execution_count": 37,
   "metadata": {},
   "outputs": [
    {
     "data": {
      "application/vnd.plotly.v1+json": {
       "config": {
        "plotlyServerURL": "https://plot.ly"
       },
       "data": [
        {
         "alignmentgroup": "True",
         "hovertemplate": "race=asian<br>age=%{x}<br>confirmed_cases_total=%{y}<extra></extra>",
         "legendgroup": "asian",
         "marker": {
          "color": "#636efa"
         },
         "name": "asian",
         "offsetgroup": "asian",
         "orientation": "v",
         "showlegend": true,
         "textposition": "auto",
         "type": "bar",
         "x": [
          "0-17",
          "18-34",
          "35-49",
          "50-64",
          "65-79",
          "80+"
         ],
         "xaxis": "x",
         "y": [
          271,
          2373,
          2709,
          2703,
          1438,
          1119
         ],
         "yaxis": "y"
        },
        {
         "alignmentgroup": "True",
         "hovertemplate": "race=black<br>age=%{x}<br>confirmed_cases_total=%{y}<extra></extra>",
         "legendgroup": "black",
         "marker": {
          "color": "#EF553B"
         },
         "name": "black",
         "offsetgroup": "black",
         "orientation": "v",
         "showlegend": true,
         "textposition": "auto",
         "type": "bar",
         "x": [
          "0-17",
          "18-34",
          "35-49",
          "50-64",
          "65-79",
          "80+"
         ],
         "xaxis": "x",
         "y": [
          197,
          1541,
          1401,
          1560,
          1023,
          577
         ],
         "yaxis": "y"
        },
        {
         "alignmentgroup": "True",
         "hovertemplate": "race=latino<br>age=%{x}<br>confirmed_cases_total=%{y}<extra></extra>",
         "legendgroup": "latino",
         "marker": {
          "color": "#00cc96"
         },
         "name": "latino",
         "offsetgroup": "latino",
         "orientation": "v",
         "showlegend": true,
         "textposition": "auto",
         "type": "bar",
         "x": [
          "0-17",
          "18-34",
          "35-49",
          "50-64",
          "65-79",
          "80+"
         ],
         "xaxis": "x",
         "y": [
          7625,
          26511,
          21910,
          16802,
          5792,
          2178
         ],
         "yaxis": "y"
        },
        {
         "alignmentgroup": "True",
         "hovertemplate": "race=other<br>age=%{x}<br>confirmed_cases_total=%{y}<extra></extra>",
         "legendgroup": "other",
         "marker": {
          "color": "#ab63fa"
         },
         "name": "other",
         "offsetgroup": "other",
         "orientation": "v",
         "showlegend": true,
         "textposition": "auto",
         "type": "bar",
         "x": [
          "0-17",
          "18-34",
          "35-49",
          "50-64",
          "65-79",
          "80+"
         ],
         "xaxis": "x",
         "y": [
          2233,
          7239,
          5307,
          4104,
          1342,
          542
         ],
         "yaxis": "y"
        },
        {
         "alignmentgroup": "True",
         "hovertemplate": "race=white<br>age=%{x}<br>confirmed_cases_total=%{y}<extra></extra>",
         "legendgroup": "white",
         "marker": {
          "color": "#FFA15A"
         },
         "name": "white",
         "offsetgroup": "white",
         "orientation": "v",
         "showlegend": true,
         "textposition": "auto",
         "type": "bar",
         "x": [
          "0-17",
          "18-34",
          "35-49",
          "50-64",
          "65-79",
          "80+"
         ],
         "xaxis": "x",
         "y": [
          820,
          5445,
          4819,
          5767,
          4389,
          2974
         ],
         "yaxis": "y"
        }
       ],
       "layout": {
        "autosize": true,
        "barmode": "relative",
        "legend": {
         "title": {
          "text": "race"
         },
         "tracegroupgap": 0
        },
        "margin": {
         "t": 60
        },
        "template": {
         "data": {
          "bar": [
           {
            "error_x": {
             "color": "#2a3f5f"
            },
            "error_y": {
             "color": "#2a3f5f"
            },
            "marker": {
             "line": {
              "color": "#E5ECF6",
              "width": 0.5
             }
            },
            "type": "bar"
           }
          ],
          "barpolar": [
           {
            "marker": {
             "line": {
              "color": "#E5ECF6",
              "width": 0.5
             }
            },
            "type": "barpolar"
           }
          ],
          "carpet": [
           {
            "aaxis": {
             "endlinecolor": "#2a3f5f",
             "gridcolor": "white",
             "linecolor": "white",
             "minorgridcolor": "white",
             "startlinecolor": "#2a3f5f"
            },
            "baxis": {
             "endlinecolor": "#2a3f5f",
             "gridcolor": "white",
             "linecolor": "white",
             "minorgridcolor": "white",
             "startlinecolor": "#2a3f5f"
            },
            "type": "carpet"
           }
          ],
          "choropleth": [
           {
            "colorbar": {
             "outlinewidth": 0,
             "ticks": ""
            },
            "type": "choropleth"
           }
          ],
          "contour": [
           {
            "colorbar": {
             "outlinewidth": 0,
             "ticks": ""
            },
            "colorscale": [
             [
              0,
              "#0d0887"
             ],
             [
              0.1111111111111111,
              "#46039f"
             ],
             [
              0.2222222222222222,
              "#7201a8"
             ],
             [
              0.3333333333333333,
              "#9c179e"
             ],
             [
              0.4444444444444444,
              "#bd3786"
             ],
             [
              0.5555555555555556,
              "#d8576b"
             ],
             [
              0.6666666666666666,
              "#ed7953"
             ],
             [
              0.7777777777777778,
              "#fb9f3a"
             ],
             [
              0.8888888888888888,
              "#fdca26"
             ],
             [
              1,
              "#f0f921"
             ]
            ],
            "type": "contour"
           }
          ],
          "contourcarpet": [
           {
            "colorbar": {
             "outlinewidth": 0,
             "ticks": ""
            },
            "type": "contourcarpet"
           }
          ],
          "heatmap": [
           {
            "colorbar": {
             "outlinewidth": 0,
             "ticks": ""
            },
            "colorscale": [
             [
              0,
              "#0d0887"
             ],
             [
              0.1111111111111111,
              "#46039f"
             ],
             [
              0.2222222222222222,
              "#7201a8"
             ],
             [
              0.3333333333333333,
              "#9c179e"
             ],
             [
              0.4444444444444444,
              "#bd3786"
             ],
             [
              0.5555555555555556,
              "#d8576b"
             ],
             [
              0.6666666666666666,
              "#ed7953"
             ],
             [
              0.7777777777777778,
              "#fb9f3a"
             ],
             [
              0.8888888888888888,
              "#fdca26"
             ],
             [
              1,
              "#f0f921"
             ]
            ],
            "type": "heatmap"
           }
          ],
          "heatmapgl": [
           {
            "colorbar": {
             "outlinewidth": 0,
             "ticks": ""
            },
            "colorscale": [
             [
              0,
              "#0d0887"
             ],
             [
              0.1111111111111111,
              "#46039f"
             ],
             [
              0.2222222222222222,
              "#7201a8"
             ],
             [
              0.3333333333333333,
              "#9c179e"
             ],
             [
              0.4444444444444444,
              "#bd3786"
             ],
             [
              0.5555555555555556,
              "#d8576b"
             ],
             [
              0.6666666666666666,
              "#ed7953"
             ],
             [
              0.7777777777777778,
              "#fb9f3a"
             ],
             [
              0.8888888888888888,
              "#fdca26"
             ],
             [
              1,
              "#f0f921"
             ]
            ],
            "type": "heatmapgl"
           }
          ],
          "histogram": [
           {
            "marker": {
             "colorbar": {
              "outlinewidth": 0,
              "ticks": ""
             }
            },
            "type": "histogram"
           }
          ],
          "histogram2d": [
           {
            "colorbar": {
             "outlinewidth": 0,
             "ticks": ""
            },
            "colorscale": [
             [
              0,
              "#0d0887"
             ],
             [
              0.1111111111111111,
              "#46039f"
             ],
             [
              0.2222222222222222,
              "#7201a8"
             ],
             [
              0.3333333333333333,
              "#9c179e"
             ],
             [
              0.4444444444444444,
              "#bd3786"
             ],
             [
              0.5555555555555556,
              "#d8576b"
             ],
             [
              0.6666666666666666,
              "#ed7953"
             ],
             [
              0.7777777777777778,
              "#fb9f3a"
             ],
             [
              0.8888888888888888,
              "#fdca26"
             ],
             [
              1,
              "#f0f921"
             ]
            ],
            "type": "histogram2d"
           }
          ],
          "histogram2dcontour": [
           {
            "colorbar": {
             "outlinewidth": 0,
             "ticks": ""
            },
            "colorscale": [
             [
              0,
              "#0d0887"
             ],
             [
              0.1111111111111111,
              "#46039f"
             ],
             [
              0.2222222222222222,
              "#7201a8"
             ],
             [
              0.3333333333333333,
              "#9c179e"
             ],
             [
              0.4444444444444444,
              "#bd3786"
             ],
             [
              0.5555555555555556,
              "#d8576b"
             ],
             [
              0.6666666666666666,
              "#ed7953"
             ],
             [
              0.7777777777777778,
              "#fb9f3a"
             ],
             [
              0.8888888888888888,
              "#fdca26"
             ],
             [
              1,
              "#f0f921"
             ]
            ],
            "type": "histogram2dcontour"
           }
          ],
          "mesh3d": [
           {
            "colorbar": {
             "outlinewidth": 0,
             "ticks": ""
            },
            "type": "mesh3d"
           }
          ],
          "parcoords": [
           {
            "line": {
             "colorbar": {
              "outlinewidth": 0,
              "ticks": ""
             }
            },
            "type": "parcoords"
           }
          ],
          "pie": [
           {
            "automargin": true,
            "type": "pie"
           }
          ],
          "scatter": [
           {
            "marker": {
             "colorbar": {
              "outlinewidth": 0,
              "ticks": ""
             }
            },
            "type": "scatter"
           }
          ],
          "scatter3d": [
           {
            "line": {
             "colorbar": {
              "outlinewidth": 0,
              "ticks": ""
             }
            },
            "marker": {
             "colorbar": {
              "outlinewidth": 0,
              "ticks": ""
             }
            },
            "type": "scatter3d"
           }
          ],
          "scattercarpet": [
           {
            "marker": {
             "colorbar": {
              "outlinewidth": 0,
              "ticks": ""
             }
            },
            "type": "scattercarpet"
           }
          ],
          "scattergeo": [
           {
            "marker": {
             "colorbar": {
              "outlinewidth": 0,
              "ticks": ""
             }
            },
            "type": "scattergeo"
           }
          ],
          "scattergl": [
           {
            "marker": {
             "colorbar": {
              "outlinewidth": 0,
              "ticks": ""
             }
            },
            "type": "scattergl"
           }
          ],
          "scattermapbox": [
           {
            "marker": {
             "colorbar": {
              "outlinewidth": 0,
              "ticks": ""
             }
            },
            "type": "scattermapbox"
           }
          ],
          "scatterpolar": [
           {
            "marker": {
             "colorbar": {
              "outlinewidth": 0,
              "ticks": ""
             }
            },
            "type": "scatterpolar"
           }
          ],
          "scatterpolargl": [
           {
            "marker": {
             "colorbar": {
              "outlinewidth": 0,
              "ticks": ""
             }
            },
            "type": "scatterpolargl"
           }
          ],
          "scatterternary": [
           {
            "marker": {
             "colorbar": {
              "outlinewidth": 0,
              "ticks": ""
             }
            },
            "type": "scatterternary"
           }
          ],
          "surface": [
           {
            "colorbar": {
             "outlinewidth": 0,
             "ticks": ""
            },
            "colorscale": [
             [
              0,
              "#0d0887"
             ],
             [
              0.1111111111111111,
              "#46039f"
             ],
             [
              0.2222222222222222,
              "#7201a8"
             ],
             [
              0.3333333333333333,
              "#9c179e"
             ],
             [
              0.4444444444444444,
              "#bd3786"
             ],
             [
              0.5555555555555556,
              "#d8576b"
             ],
             [
              0.6666666666666666,
              "#ed7953"
             ],
             [
              0.7777777777777778,
              "#fb9f3a"
             ],
             [
              0.8888888888888888,
              "#fdca26"
             ],
             [
              1,
              "#f0f921"
             ]
            ],
            "type": "surface"
           }
          ],
          "table": [
           {
            "cells": {
             "fill": {
              "color": "#EBF0F8"
             },
             "line": {
              "color": "white"
             }
            },
            "header": {
             "fill": {
              "color": "#C8D4E3"
             },
             "line": {
              "color": "white"
             }
            },
            "type": "table"
           }
          ]
         },
         "layout": {
          "annotationdefaults": {
           "arrowcolor": "#2a3f5f",
           "arrowhead": 0,
           "arrowwidth": 1
          },
          "coloraxis": {
           "colorbar": {
            "outlinewidth": 0,
            "ticks": ""
           }
          },
          "colorscale": {
           "diverging": [
            [
             0,
             "#8e0152"
            ],
            [
             0.1,
             "#c51b7d"
            ],
            [
             0.2,
             "#de77ae"
            ],
            [
             0.3,
             "#f1b6da"
            ],
            [
             0.4,
             "#fde0ef"
            ],
            [
             0.5,
             "#f7f7f7"
            ],
            [
             0.6,
             "#e6f5d0"
            ],
            [
             0.7,
             "#b8e186"
            ],
            [
             0.8,
             "#7fbc41"
            ],
            [
             0.9,
             "#4d9221"
            ],
            [
             1,
             "#276419"
            ]
           ],
           "sequential": [
            [
             0,
             "#0d0887"
            ],
            [
             0.1111111111111111,
             "#46039f"
            ],
            [
             0.2222222222222222,
             "#7201a8"
            ],
            [
             0.3333333333333333,
             "#9c179e"
            ],
            [
             0.4444444444444444,
             "#bd3786"
            ],
            [
             0.5555555555555556,
             "#d8576b"
            ],
            [
             0.6666666666666666,
             "#ed7953"
            ],
            [
             0.7777777777777778,
             "#fb9f3a"
            ],
            [
             0.8888888888888888,
             "#fdca26"
            ],
            [
             1,
             "#f0f921"
            ]
           ],
           "sequentialminus": [
            [
             0,
             "#0d0887"
            ],
            [
             0.1111111111111111,
             "#46039f"
            ],
            [
             0.2222222222222222,
             "#7201a8"
            ],
            [
             0.3333333333333333,
             "#9c179e"
            ],
            [
             0.4444444444444444,
             "#bd3786"
            ],
            [
             0.5555555555555556,
             "#d8576b"
            ],
            [
             0.6666666666666666,
             "#ed7953"
            ],
            [
             0.7777777777777778,
             "#fb9f3a"
            ],
            [
             0.8888888888888888,
             "#fdca26"
            ],
            [
             1,
             "#f0f921"
            ]
           ]
          },
          "colorway": [
           "#636efa",
           "#EF553B",
           "#00cc96",
           "#ab63fa",
           "#FFA15A",
           "#19d3f3",
           "#FF6692",
           "#B6E880",
           "#FF97FF",
           "#FECB52"
          ],
          "font": {
           "color": "#2a3f5f"
          },
          "geo": {
           "bgcolor": "white",
           "lakecolor": "white",
           "landcolor": "#E5ECF6",
           "showlakes": true,
           "showland": true,
           "subunitcolor": "white"
          },
          "hoverlabel": {
           "align": "left"
          },
          "hovermode": "closest",
          "mapbox": {
           "style": "light"
          },
          "paper_bgcolor": "white",
          "plot_bgcolor": "#E5ECF6",
          "polar": {
           "angularaxis": {
            "gridcolor": "white",
            "linecolor": "white",
            "ticks": ""
           },
           "bgcolor": "#E5ECF6",
           "radialaxis": {
            "gridcolor": "white",
            "linecolor": "white",
            "ticks": ""
           }
          },
          "scene": {
           "xaxis": {
            "backgroundcolor": "#E5ECF6",
            "gridcolor": "white",
            "gridwidth": 2,
            "linecolor": "white",
            "showbackground": true,
            "ticks": "",
            "zerolinecolor": "white"
           },
           "yaxis": {
            "backgroundcolor": "#E5ECF6",
            "gridcolor": "white",
            "gridwidth": 2,
            "linecolor": "white",
            "showbackground": true,
            "ticks": "",
            "zerolinecolor": "white"
           },
           "zaxis": {
            "backgroundcolor": "#E5ECF6",
            "gridcolor": "white",
            "gridwidth": 2,
            "linecolor": "white",
            "showbackground": true,
            "ticks": "",
            "zerolinecolor": "white"
           }
          },
          "shapedefaults": {
           "line": {
            "color": "#2a3f5f"
           }
          },
          "ternary": {
           "aaxis": {
            "gridcolor": "white",
            "linecolor": "white",
            "ticks": ""
           },
           "baxis": {
            "gridcolor": "white",
            "linecolor": "white",
            "ticks": ""
           },
           "bgcolor": "#E5ECF6",
           "caxis": {
            "gridcolor": "white",
            "linecolor": "white",
            "ticks": ""
           }
          },
          "title": {
           "x": 0.05
          },
          "xaxis": {
           "automargin": true,
           "gridcolor": "white",
           "linecolor": "white",
           "ticks": "",
           "title": {
            "standoff": 15
           },
           "zerolinecolor": "white",
           "zerolinewidth": 2
          },
          "yaxis": {
           "automargin": true,
           "gridcolor": "white",
           "linecolor": "white",
           "ticks": "",
           "title": {
            "standoff": 15
           },
           "zerolinecolor": "white",
           "zerolinewidth": 2
          }
         }
        },
        "xaxis": {
         "anchor": "y",
         "autorange": true,
         "domain": [
          0,
          1
         ],
         "range": [
          -0.5,
          5.5
         ],
         "title": {
          "text": "age"
         },
         "type": "category"
        },
        "yaxis": {
         "anchor": "x",
         "autorange": true,
         "domain": [
          0,
          1
         ],
         "range": [
          0,
          45377.89473684211
         ],
         "title": {
          "text": "confirmed_cases_total"
         },
         "type": "linear"
        }
       }
      },
      "image/png": "[encoded data removed]",
      "text/html": [
       "<div>\n",
       "        \n",
       "        \n",
       "            <div id=\"36be0460-e61a-4ed8-b53b-ae22a55f14c1\" class=\"plotly-graph-div\" style=\"height:525px; width:100%;\"></div>\n",
       "            <script type=\"text/javascript\">\n",
       "                require([\"plotly\"], function(Plotly) {\n",
       "                    window.PLOTLYENV=window.PLOTLYENV || {};\n",
       "                    \n",
       "                if (document.getElementById(\"36be0460-e61a-4ed8-b53b-ae22a55f14c1\")) {\n",
       "                    Plotly.newPlot(\n",
       "                        '36be0460-e61a-4ed8-b53b-ae22a55f14c1',\n",
       "                        [{\"alignmentgroup\": \"True\", \"hovertemplate\": \"race=asian<br>age=%{x}<br>confirmed_cases_total=%{y}<extra></extra>\", \"legendgroup\": \"asian\", \"marker\": {\"color\": \"#636efa\"}, \"name\": \"asian\", \"offsetgroup\": \"asian\", \"orientation\": \"v\", \"showlegend\": true, \"textposition\": \"auto\", \"type\": \"bar\", \"x\": [\"0-17\", \"18-34\", \"35-49\", \"50-64\", \"65-79\", \"80+\"], \"xaxis\": \"x\", \"y\": [271, 2373, 2709, 2703, 1438, 1119], \"yaxis\": \"y\"}, {\"alignmentgroup\": \"True\", \"hovertemplate\": \"race=black<br>age=%{x}<br>confirmed_cases_total=%{y}<extra></extra>\", \"legendgroup\": \"black\", \"marker\": {\"color\": \"#EF553B\"}, \"name\": \"black\", \"offsetgroup\": \"black\", \"orientation\": \"v\", \"showlegend\": true, \"textposition\": \"auto\", \"type\": \"bar\", \"x\": [\"0-17\", \"18-34\", \"35-49\", \"50-64\", \"65-79\", \"80+\"], \"xaxis\": \"x\", \"y\": [197, 1541, 1401, 1560, 1023, 577], \"yaxis\": \"y\"}, {\"alignmentgroup\": \"True\", \"hovertemplate\": \"race=latino<br>age=%{x}<br>confirmed_cases_total=%{y}<extra></extra>\", \"legendgroup\": \"latino\", \"marker\": {\"color\": \"#00cc96\"}, \"name\": \"latino\", \"offsetgroup\": \"latino\", \"orientation\": \"v\", \"showlegend\": true, \"textposition\": \"auto\", \"type\": \"bar\", \"x\": [\"0-17\", \"18-34\", \"35-49\", \"50-64\", \"65-79\", \"80+\"], \"xaxis\": \"x\", \"y\": [7625, 26511, 21910, 16802, 5792, 2178], \"yaxis\": \"y\"}, {\"alignmentgroup\": \"True\", \"hovertemplate\": \"race=other<br>age=%{x}<br>confirmed_cases_total=%{y}<extra></extra>\", \"legendgroup\": \"other\", \"marker\": {\"color\": \"#ab63fa\"}, \"name\": \"other\", \"offsetgroup\": \"other\", \"orientation\": \"v\", \"showlegend\": true, \"textposition\": \"auto\", \"type\": \"bar\", \"x\": [\"0-17\", \"18-34\", \"35-49\", \"50-64\", \"65-79\", \"80+\"], \"xaxis\": \"x\", \"y\": [2233, 7239, 5307, 4104, 1342, 542], \"yaxis\": \"y\"}, {\"alignmentgroup\": \"True\", \"hovertemplate\": \"race=white<br>age=%{x}<br>confirmed_cases_total=%{y}<extra></extra>\", \"legendgroup\": \"white\", \"marker\": {\"color\": \"#FFA15A\"}, \"name\": \"white\", \"offsetgroup\": \"white\", \"orientation\": \"v\", \"showlegend\": true, \"textposition\": \"auto\", \"type\": \"bar\", \"x\": [\"0-17\", \"18-34\", \"35-49\", \"50-64\", \"65-79\", \"80+\"], \"xaxis\": \"x\", \"y\": [820, 5445, 4819, 5767, 4389, 2974], \"yaxis\": \"y\"}],\n",
       "                        {\"barmode\": \"relative\", \"legend\": {\"title\": {\"text\": \"race\"}, \"tracegroupgap\": 0}, \"margin\": {\"t\": 60}, \"template\": {\"data\": {\"bar\": [{\"error_x\": {\"color\": \"#2a3f5f\"}, \"error_y\": {\"color\": \"#2a3f5f\"}, \"marker\": {\"line\": {\"color\": \"#E5ECF6\", \"width\": 0.5}}, \"type\": \"bar\"}], \"barpolar\": [{\"marker\": {\"line\": {\"color\": \"#E5ECF6\", \"width\": 0.5}}, \"type\": \"barpolar\"}], \"carpet\": [{\"aaxis\": {\"endlinecolor\": \"#2a3f5f\", \"gridcolor\": \"white\", \"linecolor\": \"white\", \"minorgridcolor\": \"white\", \"startlinecolor\": \"#2a3f5f\"}, \"baxis\": {\"endlinecolor\": \"#2a3f5f\", \"gridcolor\": \"white\", \"linecolor\": \"white\", \"minorgridcolor\": \"white\", \"startlinecolor\": \"#2a3f5f\"}, \"type\": \"carpet\"}], \"choropleth\": [{\"colorbar\": {\"outlinewidth\": 0, \"ticks\": \"\"}, \"type\": \"choropleth\"}], \"contour\": [{\"colorbar\": {\"outlinewidth\": 0, \"ticks\": \"\"}, \"colorscale\": [[0.0, \"#0d0887\"], [0.1111111111111111, \"#46039f\"], [0.2222222222222222, \"#7201a8\"], [0.3333333333333333, \"#9c179e\"], [0.4444444444444444, \"#bd3786\"], [0.5555555555555556, \"#d8576b\"], [0.6666666666666666, \"#ed7953\"], [0.7777777777777778, \"#fb9f3a\"], [0.8888888888888888, \"#fdca26\"], [1.0, \"#f0f921\"]], \"type\": \"contour\"}], \"contourcarpet\": [{\"colorbar\": {\"outlinewidth\": 0, \"ticks\": \"\"}, \"type\": \"contourcarpet\"}], \"heatmap\": [{\"colorbar\": {\"outlinewidth\": 0, \"ticks\": \"\"}, \"colorscale\": [[0.0, \"#0d0887\"], [0.1111111111111111, \"#46039f\"], [0.2222222222222222, \"#7201a8\"], [0.3333333333333333, \"#9c179e\"], [0.4444444444444444, \"#bd3786\"], [0.5555555555555556, \"#d8576b\"], [0.6666666666666666, \"#ed7953\"], [0.7777777777777778, \"#fb9f3a\"], [0.8888888888888888, \"#fdca26\"], [1.0, \"#f0f921\"]], \"type\": \"heatmap\"}], \"heatmapgl\": [{\"colorbar\": {\"outlinewidth\": 0, \"ticks\": \"\"}, \"colorscale\": [[0.0, \"#0d0887\"], [0.1111111111111111, \"#46039f\"], [0.2222222222222222, \"#7201a8\"], [0.3333333333333333, \"#9c179e\"], [0.4444444444444444, \"#bd3786\"], [0.5555555555555556, \"#d8576b\"], [0.6666666666666666, \"#ed7953\"], [0.7777777777777778, \"#fb9f3a\"], [0.8888888888888888, \"#fdca26\"], [1.0, \"#f0f921\"]], \"type\": \"heatmapgl\"}], \"histogram\": [{\"marker\": {\"colorbar\": {\"outlinewidth\": 0, \"ticks\": \"\"}}, \"type\": \"histogram\"}], \"histogram2d\": [{\"colorbar\": {\"outlinewidth\": 0, \"ticks\": \"\"}, \"colorscale\": [[0.0, \"#0d0887\"], [0.1111111111111111, \"#46039f\"], [0.2222222222222222, \"#7201a8\"], [0.3333333333333333, \"#9c179e\"], [0.4444444444444444, \"#bd3786\"], [0.5555555555555556, \"#d8576b\"], [0.6666666666666666, \"#ed7953\"], [0.7777777777777778, \"#fb9f3a\"], [0.8888888888888888, \"#fdca26\"], [1.0, \"#f0f921\"]], \"type\": \"histogram2d\"}], \"histogram2dcontour\": [{\"colorbar\": {\"outlinewidth\": 0, \"ticks\": \"\"}, \"colorscale\": [[0.0, \"#0d0887\"], [0.1111111111111111, \"#46039f\"], [0.2222222222222222, \"#7201a8\"], [0.3333333333333333, \"#9c179e\"], [0.4444444444444444, \"#bd3786\"], [0.5555555555555556, \"#d8576b\"], [0.6666666666666666, \"#ed7953\"], [0.7777777777777778, \"#fb9f3a\"], [0.8888888888888888, \"#fdca26\"], [1.0, \"#f0f921\"]], \"type\": \"histogram2dcontour\"}], \"mesh3d\": [{\"colorbar\": {\"outlinewidth\": 0, \"ticks\": \"\"}, \"type\": \"mesh3d\"}], \"parcoords\": [{\"line\": {\"colorbar\": {\"outlinewidth\": 0, \"ticks\": \"\"}}, \"type\": \"parcoords\"}], \"pie\": [{\"automargin\": true, \"type\": \"pie\"}], \"scatter\": [{\"marker\": {\"colorbar\": {\"outlinewidth\": 0, \"ticks\": \"\"}}, \"type\": \"scatter\"}], \"scatter3d\": [{\"line\": {\"colorbar\": {\"outlinewidth\": 0, \"ticks\": \"\"}}, \"marker\": {\"colorbar\": {\"outlinewidth\": 0, \"ticks\": \"\"}}, \"type\": \"scatter3d\"}], \"scattercarpet\": [{\"marker\": {\"colorbar\": {\"outlinewidth\": 0, \"ticks\": \"\"}}, \"type\": \"scattercarpet\"}], \"scattergeo\": [{\"marker\": {\"colorbar\": {\"outlinewidth\": 0, \"ticks\": \"\"}}, \"type\": \"scattergeo\"}], \"scattergl\": [{\"marker\": {\"colorbar\": {\"outlinewidth\": 0, \"ticks\": \"\"}}, \"type\": \"scattergl\"}], \"scattermapbox\": [{\"marker\": {\"colorbar\": {\"outlinewidth\": 0, \"ticks\": \"\"}}, \"type\": \"scattermapbox\"}], \"scatterpolar\": [{\"marker\": {\"colorbar\": {\"outlinewidth\": 0, \"ticks\": \"\"}}, \"type\": \"scatterpolar\"}], \"scatterpolargl\": [{\"marker\": {\"colorbar\": {\"outlinewidth\": 0, \"ticks\": \"\"}}, \"type\": \"scatterpolargl\"}], \"scatterternary\": [{\"marker\": {\"colorbar\": {\"outlinewidth\": 0, \"ticks\": \"\"}}, \"type\": \"scatterternary\"}], \"surface\": [{\"colorbar\": {\"outlinewidth\": 0, \"ticks\": \"\"}, \"colorscale\": [[0.0, \"#0d0887\"], [0.1111111111111111, \"#46039f\"], [0.2222222222222222, \"#7201a8\"], [0.3333333333333333, \"#9c179e\"], [0.4444444444444444, \"#bd3786\"], [0.5555555555555556, \"#d8576b\"], [0.6666666666666666, \"#ed7953\"], [0.7777777777777778, \"#fb9f3a\"], [0.8888888888888888, \"#fdca26\"], [1.0, \"#f0f921\"]], \"type\": \"surface\"}], \"table\": [{\"cells\": {\"fill\": {\"color\": \"#EBF0F8\"}, \"line\": {\"color\": \"white\"}}, \"header\": {\"fill\": {\"color\": \"#C8D4E3\"}, \"line\": {\"color\": \"white\"}}, \"type\": \"table\"}]}, \"layout\": {\"annotationdefaults\": {\"arrowcolor\": \"#2a3f5f\", \"arrowhead\": 0, \"arrowwidth\": 1}, \"coloraxis\": {\"colorbar\": {\"outlinewidth\": 0, \"ticks\": \"\"}}, \"colorscale\": {\"diverging\": [[0, \"#8e0152\"], [0.1, \"#c51b7d\"], [0.2, \"#de77ae\"], [0.3, \"#f1b6da\"], [0.4, \"#fde0ef\"], [0.5, \"#f7f7f7\"], [0.6, \"#e6f5d0\"], [0.7, \"#b8e186\"], [0.8, \"#7fbc41\"], [0.9, \"#4d9221\"], [1, \"#276419\"]], \"sequential\": [[0.0, \"#0d0887\"], [0.1111111111111111, \"#46039f\"], [0.2222222222222222, \"#7201a8\"], [0.3333333333333333, \"#9c179e\"], [0.4444444444444444, \"#bd3786\"], [0.5555555555555556, \"#d8576b\"], [0.6666666666666666, \"#ed7953\"], [0.7777777777777778, \"#fb9f3a\"], [0.8888888888888888, \"#fdca26\"], [1.0, \"#f0f921\"]], \"sequentialminus\": [[0.0, \"#0d0887\"], [0.1111111111111111, \"#46039f\"], [0.2222222222222222, \"#7201a8\"], [0.3333333333333333, \"#9c179e\"], [0.4444444444444444, \"#bd3786\"], [0.5555555555555556, \"#d8576b\"], [0.6666666666666666, \"#ed7953\"], [0.7777777777777778, \"#fb9f3a\"], [0.8888888888888888, \"#fdca26\"], [1.0, \"#f0f921\"]]}, \"colorway\": [\"#636efa\", \"#EF553B\", \"#00cc96\", \"#ab63fa\", \"#FFA15A\", \"#19d3f3\", \"#FF6692\", \"#B6E880\", \"#FF97FF\", \"#FECB52\"], \"font\": {\"color\": \"#2a3f5f\"}, \"geo\": {\"bgcolor\": \"white\", \"lakecolor\": \"white\", \"landcolor\": \"#E5ECF6\", \"showlakes\": true, \"showland\": true, \"subunitcolor\": \"white\"}, \"hoverlabel\": {\"align\": \"left\"}, \"hovermode\": \"closest\", \"mapbox\": {\"style\": \"light\"}, \"paper_bgcolor\": \"white\", \"plot_bgcolor\": \"#E5ECF6\", \"polar\": {\"angularaxis\": {\"gridcolor\": \"white\", \"linecolor\": \"white\", \"ticks\": \"\"}, \"bgcolor\": \"#E5ECF6\", \"radialaxis\": {\"gridcolor\": \"white\", \"linecolor\": \"white\", \"ticks\": \"\"}}, \"scene\": {\"xaxis\": {\"backgroundcolor\": \"#E5ECF6\", \"gridcolor\": \"white\", \"gridwidth\": 2, \"linecolor\": \"white\", \"showbackground\": true, \"ticks\": \"\", \"zerolinecolor\": \"white\"}, \"yaxis\": {\"backgroundcolor\": \"#E5ECF6\", \"gridcolor\": \"white\", \"gridwidth\": 2, \"linecolor\": \"white\", \"showbackground\": true, \"ticks\": \"\", \"zerolinecolor\": \"white\"}, \"zaxis\": {\"backgroundcolor\": \"#E5ECF6\", \"gridcolor\": \"white\", \"gridwidth\": 2, \"linecolor\": \"white\", \"showbackground\": true, \"ticks\": \"\", \"zerolinecolor\": \"white\"}}, \"shapedefaults\": {\"line\": {\"color\": \"#2a3f5f\"}}, \"ternary\": {\"aaxis\": {\"gridcolor\": \"white\", \"linecolor\": \"white\", \"ticks\": \"\"}, \"baxis\": {\"gridcolor\": \"white\", \"linecolor\": \"white\", \"ticks\": \"\"}, \"bgcolor\": \"#E5ECF6\", \"caxis\": {\"gridcolor\": \"white\", \"linecolor\": \"white\", \"ticks\": \"\"}}, \"title\": {\"x\": 0.05}, \"xaxis\": {\"automargin\": true, \"gridcolor\": \"white\", \"linecolor\": \"white\", \"ticks\": \"\", \"title\": {\"standoff\": 15}, \"zerolinecolor\": \"white\", \"zerolinewidth\": 2}, \"yaxis\": {\"automargin\": true, \"gridcolor\": \"white\", \"linecolor\": \"white\", \"ticks\": \"\", \"title\": {\"standoff\": 15}, \"zerolinecolor\": \"white\", \"zerolinewidth\": 2}}}, \"xaxis\": {\"anchor\": \"y\", \"domain\": [0.0, 1.0], \"title\": {\"text\": \"age\"}}, \"yaxis\": {\"anchor\": \"x\", \"domain\": [0.0, 1.0], \"title\": {\"text\": \"confirmed_cases_total\"}}},\n",
       "                        {\"responsive\": true}\n",
       "                    ).then(function(){\n",
       "                            \n",
       "var gd = document.getElementById('36be0460-e61a-4ed8-b53b-ae22a55f14c1');\n",
       "var x = new MutationObserver(function (mutations, observer) {{\n",
       "        var display = window.getComputedStyle(gd).display;\n",
       "        if (!display || display === 'none') {{\n",
       "            console.log([gd, 'removed!']);\n",
       "            Plotly.purge(gd);\n",
       "            observer.disconnect();\n",
       "        }}\n",
       "}});\n",
       "\n",
       "// Listen for the removal of the full notebook cells\n",
       "var notebookContainer = gd.closest('#notebook-container');\n",
       "if (notebookContainer) {{\n",
       "    x.observe(notebookContainer, {childList: true});\n",
       "}}\n",
       "\n",
       "// Listen for the clearing of the current output cell\n",
       "var outputEl = gd.closest('.output');\n",
       "if (outputEl) {{\n",
       "    x.observe(outputEl, {childList: true});\n",
       "}}\n",
       "\n",
       "                        })\n",
       "                };\n",
       "                });\n",
       "            </script>\n",
       "        </div>"
      ]
     },
     "metadata": {},
     "output_type": "display_data"
    }
   ],
   "source": [
    "# get rid of \"18+\" and \"all\"\n",
    "latimes_single_day_age = latimes.query(\"date==@lastdate and age in ('0-17','18-34','35-49','50-64','65-79','80+')\")\n",
    "\n",
    "fig = px.bar(latimes_single_day_age,\n",
    "           x=\"age\",\n",
    "           y=\"confirmed_cases_total\",\n",
    "            color=\"race\")\n",
    "             \n",
    "# # ,\n",
    "# #             color=\"race\",\n",
    "# #             barmode=\"group\"\n",
    "# # fig.update_xaxes(rangeslider_visible=True)\n",
    "fig.show()"
   ]
  },
  {
   "cell_type": "code",
   "execution_count": 38,
   "metadata": {},
   "outputs": [
    {
     "data": {
      "application/vnd.plotly.v1+json": {
       "config": {
        "plotlyServerURL": "https://plot.ly"
       },
       "data": [
        {
         "alignmentgroup": "True",
         "hovertemplate": "race=asian<br>age=%{x}<br>deaths_total=%{y}<extra></extra>",
         "legendgroup": "asian",
         "marker": {
          "color": "#636efa"
         },
         "name": "asian",
         "offsetgroup": "asian",
         "orientation": "v",
         "showlegend": true,
         "textposition": "auto",
         "type": "bar",
         "x": [
          "0-17",
          "18-34",
          "35-49",
          "50-64",
          "65-79",
          "80+"
         ],
         "xaxis": "x",
         "y": [
          0,
          4,
          22,
          87,
          221,
          519
         ],
         "yaxis": "y"
        },
        {
         "alignmentgroup": "True",
         "hovertemplate": "race=black<br>age=%{x}<br>deaths_total=%{y}<extra></extra>",
         "legendgroup": "black",
         "marker": {
          "color": "#EF553B"
         },
         "name": "black",
         "offsetgroup": "black",
         "orientation": "v",
         "showlegend": true,
         "textposition": "auto",
         "type": "bar",
         "x": [
          "0-17",
          "18-34",
          "35-49",
          "50-64",
          "65-79",
          "80+"
         ],
         "xaxis": "x",
         "y": [
          0,
          8,
          20,
          77,
          204,
          224
         ],
         "yaxis": "y"
        },
        {
         "alignmentgroup": "True",
         "hovertemplate": "race=latino<br>age=%{x}<br>deaths_total=%{y}<extra></extra>",
         "legendgroup": "latino",
         "marker": {
          "color": "#00cc96"
         },
         "name": "latino",
         "offsetgroup": "latino",
         "orientation": "v",
         "showlegend": true,
         "textposition": "auto",
         "type": "bar",
         "x": [
          "0-17",
          "18-34",
          "35-49",
          "50-64",
          "65-79",
          "80+"
         ],
         "xaxis": "x",
         "y": [
          0,
          39,
          210,
          571,
          803,
          724
         ],
         "yaxis": "y"
        },
        {
         "alignmentgroup": "True",
         "hovertemplate": "race=other<br>age=%{x}<br>deaths_total=%{y}<extra></extra>",
         "legendgroup": "other",
         "marker": {
          "color": "#ab63fa"
         },
         "name": "other",
         "offsetgroup": "other",
         "orientation": "v",
         "showlegend": true,
         "textposition": "auto",
         "type": "bar",
         "x": [
          "0-17",
          "18-34",
          "35-49",
          "50-64",
          "65-79",
          "80+"
         ],
         "xaxis": "x",
         "y": [
          0,
          2,
          6,
          17,
          32,
          52
         ],
         "yaxis": "y"
        },
        {
         "alignmentgroup": "True",
         "hovertemplate": "race=white<br>age=%{x}<br>deaths_total=%{y}<extra></extra>",
         "legendgroup": "white",
         "marker": {
          "color": "#FFA15A"
         },
         "name": "white",
         "offsetgroup": "white",
         "orientation": "v",
         "showlegend": true,
         "textposition": "auto",
         "type": "bar",
         "x": [
          "0-17",
          "18-34",
          "35-49",
          "50-64",
          "65-79",
          "80+"
         ],
         "xaxis": "x",
         "y": [
          0,
          7,
          24,
          180,
          569,
          1088
         ],
         "yaxis": "y"
        }
       ],
       "layout": {
        "autosize": true,
        "barmode": "relative",
        "legend": {
         "title": {
          "text": "race"
         },
         "tracegroupgap": 0
        },
        "margin": {
         "t": 60
        },
        "template": {
         "data": {
          "bar": [
           {
            "error_x": {
             "color": "#2a3f5f"
            },
            "error_y": {
             "color": "#2a3f5f"
            },
            "marker": {
             "line": {
              "color": "#E5ECF6",
              "width": 0.5
             }
            },
            "type": "bar"
           }
          ],
          "barpolar": [
           {
            "marker": {
             "line": {
              "color": "#E5ECF6",
              "width": 0.5
             }
            },
            "type": "barpolar"
           }
          ],
          "carpet": [
           {
            "aaxis": {
             "endlinecolor": "#2a3f5f",
             "gridcolor": "white",
             "linecolor": "white",
             "minorgridcolor": "white",
             "startlinecolor": "#2a3f5f"
            },
            "baxis": {
             "endlinecolor": "#2a3f5f",
             "gridcolor": "white",
             "linecolor": "white",
             "minorgridcolor": "white",
             "startlinecolor": "#2a3f5f"
            },
            "type": "carpet"
           }
          ],
          "choropleth": [
           {
            "colorbar": {
             "outlinewidth": 0,
             "ticks": ""
            },
            "type": "choropleth"
           }
          ],
          "contour": [
           {
            "colorbar": {
             "outlinewidth": 0,
             "ticks": ""
            },
            "colorscale": [
             [
              0,
              "#0d0887"
             ],
             [
              0.1111111111111111,
              "#46039f"
             ],
             [
              0.2222222222222222,
              "#7201a8"
             ],
             [
              0.3333333333333333,
              "#9c179e"
             ],
             [
              0.4444444444444444,
              "#bd3786"
             ],
             [
              0.5555555555555556,
              "#d8576b"
             ],
             [
              0.6666666666666666,
              "#ed7953"
             ],
             [
              0.7777777777777778,
              "#fb9f3a"
             ],
             [
              0.8888888888888888,
              "#fdca26"
             ],
             [
              1,
              "#f0f921"
             ]
            ],
            "type": "contour"
           }
          ],
          "contourcarpet": [
           {
            "colorbar": {
             "outlinewidth": 0,
             "ticks": ""
            },
            "type": "contourcarpet"
           }
          ],
          "heatmap": [
           {
            "colorbar": {
             "outlinewidth": 0,
             "ticks": ""
            },
            "colorscale": [
             [
              0,
              "#0d0887"
             ],
             [
              0.1111111111111111,
              "#46039f"
             ],
             [
              0.2222222222222222,
              "#7201a8"
             ],
             [
              0.3333333333333333,
              "#9c179e"
             ],
             [
              0.4444444444444444,
              "#bd3786"
             ],
             [
              0.5555555555555556,
              "#d8576b"
             ],
             [
              0.6666666666666666,
              "#ed7953"
             ],
             [
              0.7777777777777778,
              "#fb9f3a"
             ],
             [
              0.8888888888888888,
              "#fdca26"
             ],
             [
              1,
              "#f0f921"
             ]
            ],
            "type": "heatmap"
           }
          ],
          "heatmapgl": [
           {
            "colorbar": {
             "outlinewidth": 0,
             "ticks": ""
            },
            "colorscale": [
             [
              0,
              "#0d0887"
             ],
             [
              0.1111111111111111,
              "#46039f"
             ],
             [
              0.2222222222222222,
              "#7201a8"
             ],
             [
              0.3333333333333333,
              "#9c179e"
             ],
             [
              0.4444444444444444,
              "#bd3786"
             ],
             [
              0.5555555555555556,
              "#d8576b"
             ],
             [
              0.6666666666666666,
              "#ed7953"
             ],
             [
              0.7777777777777778,
              "#fb9f3a"
             ],
             [
              0.8888888888888888,
              "#fdca26"
             ],
             [
              1,
              "#f0f921"
             ]
            ],
            "type": "heatmapgl"
           }
          ],
          "histogram": [
           {
            "marker": {
             "colorbar": {
              "outlinewidth": 0,
              "ticks": ""
             }
            },
            "type": "histogram"
           }
          ],
          "histogram2d": [
           {
            "colorbar": {
             "outlinewidth": 0,
             "ticks": ""
            },
            "colorscale": [
             [
              0,
              "#0d0887"
             ],
             [
              0.1111111111111111,
              "#46039f"
             ],
             [
              0.2222222222222222,
              "#7201a8"
             ],
             [
              0.3333333333333333,
              "#9c179e"
             ],
             [
              0.4444444444444444,
              "#bd3786"
             ],
             [
              0.5555555555555556,
              "#d8576b"
             ],
             [
              0.6666666666666666,
              "#ed7953"
             ],
             [
              0.7777777777777778,
              "#fb9f3a"
             ],
             [
              0.8888888888888888,
              "#fdca26"
             ],
             [
              1,
              "#f0f921"
             ]
            ],
            "type": "histogram2d"
           }
          ],
          "histogram2dcontour": [
           {
            "colorbar": {
             "outlinewidth": 0,
             "ticks": ""
            },
            "colorscale": [
             [
              0,
              "#0d0887"
             ],
             [
              0.1111111111111111,
              "#46039f"
             ],
             [
              0.2222222222222222,
              "#7201a8"
             ],
             [
              0.3333333333333333,
              "#9c179e"
             ],
             [
              0.4444444444444444,
              "#bd3786"
             ],
             [
              0.5555555555555556,
              "#d8576b"
             ],
             [
              0.6666666666666666,
              "#ed7953"
             ],
             [
              0.7777777777777778,
              "#fb9f3a"
             ],
             [
              0.8888888888888888,
              "#fdca26"
             ],
             [
              1,
              "#f0f921"
             ]
            ],
            "type": "histogram2dcontour"
           }
          ],
          "mesh3d": [
           {
            "colorbar": {
             "outlinewidth": 0,
             "ticks": ""
            },
            "type": "mesh3d"
           }
          ],
          "parcoords": [
           {
            "line": {
             "colorbar": {
              "outlinewidth": 0,
              "ticks": ""
             }
            },
            "type": "parcoords"
           }
          ],
          "pie": [
           {
            "automargin": true,
            "type": "pie"
           }
          ],
          "scatter": [
           {
            "marker": {
             "colorbar": {
              "outlinewidth": 0,
              "ticks": ""
             }
            },
            "type": "scatter"
           }
          ],
          "scatter3d": [
           {
            "line": {
             "colorbar": {
              "outlinewidth": 0,
              "ticks": ""
             }
            },
            "marker": {
             "colorbar": {
              "outlinewidth": 0,
              "ticks": ""
             }
            },
            "type": "scatter3d"
           }
          ],
          "scattercarpet": [
           {
            "marker": {
             "colorbar": {
              "outlinewidth": 0,
              "ticks": ""
             }
            },
            "type": "scattercarpet"
           }
          ],
          "scattergeo": [
           {
            "marker": {
             "colorbar": {
              "outlinewidth": 0,
              "ticks": ""
             }
            },
            "type": "scattergeo"
           }
          ],
          "scattergl": [
           {
            "marker": {
             "colorbar": {
              "outlinewidth": 0,
              "ticks": ""
             }
            },
            "type": "scattergl"
           }
          ],
          "scattermapbox": [
           {
            "marker": {
             "colorbar": {
              "outlinewidth": 0,
              "ticks": ""
             }
            },
            "type": "scattermapbox"
           }
          ],
          "scatterpolar": [
           {
            "marker": {
             "colorbar": {
              "outlinewidth": 0,
              "ticks": ""
             }
            },
            "type": "scatterpolar"
           }
          ],
          "scatterpolargl": [
           {
            "marker": {
             "colorbar": {
              "outlinewidth": 0,
              "ticks": ""
             }
            },
            "type": "scatterpolargl"
           }
          ],
          "scatterternary": [
           {
            "marker": {
             "colorbar": {
              "outlinewidth": 0,
              "ticks": ""
             }
            },
            "type": "scatterternary"
           }
          ],
          "surface": [
           {
            "colorbar": {
             "outlinewidth": 0,
             "ticks": ""
            },
            "colorscale": [
             [
              0,
              "#0d0887"
             ],
             [
              0.1111111111111111,
              "#46039f"
             ],
             [
              0.2222222222222222,
              "#7201a8"
             ],
             [
              0.3333333333333333,
              "#9c179e"
             ],
             [
              0.4444444444444444,
              "#bd3786"
             ],
             [
              0.5555555555555556,
              "#d8576b"
             ],
             [
              0.6666666666666666,
              "#ed7953"
             ],
             [
              0.7777777777777778,
              "#fb9f3a"
             ],
             [
              0.8888888888888888,
              "#fdca26"
             ],
             [
              1,
              "#f0f921"
             ]
            ],
            "type": "surface"
           }
          ],
          "table": [
           {
            "cells": {
             "fill": {
              "color": "#EBF0F8"
             },
             "line": {
              "color": "white"
             }
            },
            "header": {
             "fill": {
              "color": "#C8D4E3"
             },
             "line": {
              "color": "white"
             }
            },
            "type": "table"
           }
          ]
         },
         "layout": {
          "annotationdefaults": {
           "arrowcolor": "#2a3f5f",
           "arrowhead": 0,
           "arrowwidth": 1
          },
          "coloraxis": {
           "colorbar": {
            "outlinewidth": 0,
            "ticks": ""
           }
          },
          "colorscale": {
           "diverging": [
            [
             0,
             "#8e0152"
            ],
            [
             0.1,
             "#c51b7d"
            ],
            [
             0.2,
             "#de77ae"
            ],
            [
             0.3,
             "#f1b6da"
            ],
            [
             0.4,
             "#fde0ef"
            ],
            [
             0.5,
             "#f7f7f7"
            ],
            [
             0.6,
             "#e6f5d0"
            ],
            [
             0.7,
             "#b8e186"
            ],
            [
             0.8,
             "#7fbc41"
            ],
            [
             0.9,
             "#4d9221"
            ],
            [
             1,
             "#276419"
            ]
           ],
           "sequential": [
            [
             0,
             "#0d0887"
            ],
            [
             0.1111111111111111,
             "#46039f"
            ],
            [
             0.2222222222222222,
             "#7201a8"
            ],
            [
             0.3333333333333333,
             "#9c179e"
            ],
            [
             0.4444444444444444,
             "#bd3786"
            ],
            [
             0.5555555555555556,
             "#d8576b"
            ],
            [
             0.6666666666666666,
             "#ed7953"
            ],
            [
             0.7777777777777778,
             "#fb9f3a"
            ],
            [
             0.8888888888888888,
             "#fdca26"
            ],
            [
             1,
             "#f0f921"
            ]
           ],
           "sequentialminus": [
            [
             0,
             "#0d0887"
            ],
            [
             0.1111111111111111,
             "#46039f"
            ],
            [
             0.2222222222222222,
             "#7201a8"
            ],
            [
             0.3333333333333333,
             "#9c179e"
            ],
            [
             0.4444444444444444,
             "#bd3786"
            ],
            [
             0.5555555555555556,
             "#d8576b"
            ],
            [
             0.6666666666666666,
             "#ed7953"
            ],
            [
             0.7777777777777778,
             "#fb9f3a"
            ],
            [
             0.8888888888888888,
             "#fdca26"
            ],
            [
             1,
             "#f0f921"
            ]
           ]
          },
          "colorway": [
           "#636efa",
           "#EF553B",
           "#00cc96",
           "#ab63fa",
           "#FFA15A",
           "#19d3f3",
           "#FF6692",
           "#B6E880",
           "#FF97FF",
           "#FECB52"
          ],
          "font": {
           "color": "#2a3f5f"
          },
          "geo": {
           "bgcolor": "white",
           "lakecolor": "white",
           "landcolor": "#E5ECF6",
           "showlakes": true,
           "showland": true,
           "subunitcolor": "white"
          },
          "hoverlabel": {
           "align": "left"
          },
          "hovermode": "closest",
          "mapbox": {
           "style": "light"
          },
          "paper_bgcolor": "white",
          "plot_bgcolor": "#E5ECF6",
          "polar": {
           "angularaxis": {
            "gridcolor": "white",
            "linecolor": "white",
            "ticks": ""
           },
           "bgcolor": "#E5ECF6",
           "radialaxis": {
            "gridcolor": "white",
            "linecolor": "white",
            "ticks": ""
           }
          },
          "scene": {
           "xaxis": {
            "backgroundcolor": "#E5ECF6",
            "gridcolor": "white",
            "gridwidth": 2,
            "linecolor": "white",
            "showbackground": true,
            "ticks": "",
            "zerolinecolor": "white"
           },
           "yaxis": {
            "backgroundcolor": "#E5ECF6",
            "gridcolor": "white",
            "gridwidth": 2,
            "linecolor": "white",
            "showbackground": true,
            "ticks": "",
            "zerolinecolor": "white"
           },
           "zaxis": {
            "backgroundcolor": "#E5ECF6",
            "gridcolor": "white",
            "gridwidth": 2,
            "linecolor": "white",
            "showbackground": true,
            "ticks": "",
            "zerolinecolor": "white"
           }
          },
          "shapedefaults": {
           "line": {
            "color": "#2a3f5f"
           }
          },
          "ternary": {
           "aaxis": {
            "gridcolor": "white",
            "linecolor": "white",
            "ticks": ""
           },
           "baxis": {
            "gridcolor": "white",
            "linecolor": "white",
            "ticks": ""
           },
           "bgcolor": "#E5ECF6",
           "caxis": {
            "gridcolor": "white",
            "linecolor": "white",
            "ticks": ""
           }
          },
          "title": {
           "x": 0.05
          },
          "xaxis": {
           "automargin": true,
           "gridcolor": "white",
           "linecolor": "white",
           "ticks": "",
           "title": {
            "standoff": 15
           },
           "zerolinecolor": "white",
           "zerolinewidth": 2
          },
          "yaxis": {
           "automargin": true,
           "gridcolor": "white",
           "linecolor": "white",
           "ticks": "",
           "title": {
            "standoff": 15
           },
           "zerolinecolor": "white",
           "zerolinewidth": 2
          }
         }
        },
        "xaxis": {
         "anchor": "y",
         "autorange": true,
         "domain": [
          0,
          1
         ],
         "range": [
          -0.5,
          5.5
         ],
         "title": {
          "text": "age"
         },
         "type": "category"
        },
        "yaxis": {
         "anchor": "x",
         "autorange": true,
         "domain": [
          0,
          1
         ],
         "range": [
          0,
          2744.2105263157896
         ],
         "title": {
          "text": "deaths_total"
         },
         "type": "linear"
        }
       }
      },
      "image/png": "[encoded data removed]",
      "text/html": [
       "<div>\n",
       "        \n",
       "        \n",
       "            <div id=\"e38d6096-6d29-405b-984c-85d266cdb191\" class=\"plotly-graph-div\" style=\"height:525px; width:100%;\"></div>\n",
       "            <script type=\"text/javascript\">\n",
       "                require([\"plotly\"], function(Plotly) {\n",
       "                    window.PLOTLYENV=window.PLOTLYENV || {};\n",
       "                    \n",
       "                if (document.getElementById(\"e38d6096-6d29-405b-984c-85d266cdb191\")) {\n",
       "                    Plotly.newPlot(\n",
       "                        'e38d6096-6d29-405b-984c-85d266cdb191',\n",
       "                        [{\"alignmentgroup\": \"True\", \"hovertemplate\": \"race=asian<br>age=%{x}<br>deaths_total=%{y}<extra></extra>\", \"legendgroup\": \"asian\", \"marker\": {\"color\": \"#636efa\"}, \"name\": \"asian\", \"offsetgroup\": \"asian\", \"orientation\": \"v\", \"showlegend\": true, \"textposition\": \"auto\", \"type\": \"bar\", \"x\": [\"0-17\", \"18-34\", \"35-49\", \"50-64\", \"65-79\", \"80+\"], \"xaxis\": \"x\", \"y\": [0, 4, 22, 87, 221, 519], \"yaxis\": \"y\"}, {\"alignmentgroup\": \"True\", \"hovertemplate\": \"race=black<br>age=%{x}<br>deaths_total=%{y}<extra></extra>\", \"legendgroup\": \"black\", \"marker\": {\"color\": \"#EF553B\"}, \"name\": \"black\", \"offsetgroup\": \"black\", \"orientation\": \"v\", \"showlegend\": true, \"textposition\": \"auto\", \"type\": \"bar\", \"x\": [\"0-17\", \"18-34\", \"35-49\", \"50-64\", \"65-79\", \"80+\"], \"xaxis\": \"x\", \"y\": [0, 8, 20, 77, 204, 224], \"yaxis\": \"y\"}, {\"alignmentgroup\": \"True\", \"hovertemplate\": \"race=latino<br>age=%{x}<br>deaths_total=%{y}<extra></extra>\", \"legendgroup\": \"latino\", \"marker\": {\"color\": \"#00cc96\"}, \"name\": \"latino\", \"offsetgroup\": \"latino\", \"orientation\": \"v\", \"showlegend\": true, \"textposition\": \"auto\", \"type\": \"bar\", \"x\": [\"0-17\", \"18-34\", \"35-49\", \"50-64\", \"65-79\", \"80+\"], \"xaxis\": \"x\", \"y\": [0, 39, 210, 571, 803, 724], \"yaxis\": \"y\"}, {\"alignmentgroup\": \"True\", \"hovertemplate\": \"race=other<br>age=%{x}<br>deaths_total=%{y}<extra></extra>\", \"legendgroup\": \"other\", \"marker\": {\"color\": \"#ab63fa\"}, \"name\": \"other\", \"offsetgroup\": \"other\", \"orientation\": \"v\", \"showlegend\": true, \"textposition\": \"auto\", \"type\": \"bar\", \"x\": [\"0-17\", \"18-34\", \"35-49\", \"50-64\", \"65-79\", \"80+\"], \"xaxis\": \"x\", \"y\": [0, 2, 6, 17, 32, 52], \"yaxis\": \"y\"}, {\"alignmentgroup\": \"True\", \"hovertemplate\": \"race=white<br>age=%{x}<br>deaths_total=%{y}<extra></extra>\", \"legendgroup\": \"white\", \"marker\": {\"color\": \"#FFA15A\"}, \"name\": \"white\", \"offsetgroup\": \"white\", \"orientation\": \"v\", \"showlegend\": true, \"textposition\": \"auto\", \"type\": \"bar\", \"x\": [\"0-17\", \"18-34\", \"35-49\", \"50-64\", \"65-79\", \"80+\"], \"xaxis\": \"x\", \"y\": [0, 7, 24, 180, 569, 1088], \"yaxis\": \"y\"}],\n",
       "                        {\"barmode\": \"relative\", \"legend\": {\"title\": {\"text\": \"race\"}, \"tracegroupgap\": 0}, \"margin\": {\"t\": 60}, \"template\": {\"data\": {\"bar\": [{\"error_x\": {\"color\": \"#2a3f5f\"}, \"error_y\": {\"color\": \"#2a3f5f\"}, \"marker\": {\"line\": {\"color\": \"#E5ECF6\", \"width\": 0.5}}, \"type\": \"bar\"}], \"barpolar\": [{\"marker\": {\"line\": {\"color\": \"#E5ECF6\", \"width\": 0.5}}, \"type\": \"barpolar\"}], \"carpet\": [{\"aaxis\": {\"endlinecolor\": \"#2a3f5f\", \"gridcolor\": \"white\", \"linecolor\": \"white\", \"minorgridcolor\": \"white\", \"startlinecolor\": \"#2a3f5f\"}, \"baxis\": {\"endlinecolor\": \"#2a3f5f\", \"gridcolor\": \"white\", \"linecolor\": \"white\", \"minorgridcolor\": \"white\", \"startlinecolor\": \"#2a3f5f\"}, \"type\": \"carpet\"}], \"choropleth\": [{\"colorbar\": {\"outlinewidth\": 0, \"ticks\": \"\"}, \"type\": \"choropleth\"}], \"contour\": [{\"colorbar\": {\"outlinewidth\": 0, \"ticks\": \"\"}, \"colorscale\": [[0.0, \"#0d0887\"], [0.1111111111111111, \"#46039f\"], [0.2222222222222222, \"#7201a8\"], [0.3333333333333333, \"#9c179e\"], [0.4444444444444444, \"#bd3786\"], [0.5555555555555556, \"#d8576b\"], [0.6666666666666666, \"#ed7953\"], [0.7777777777777778, \"#fb9f3a\"], [0.8888888888888888, \"#fdca26\"], [1.0, \"#f0f921\"]], \"type\": \"contour\"}], \"contourcarpet\": [{\"colorbar\": {\"outlinewidth\": 0, \"ticks\": \"\"}, \"type\": \"contourcarpet\"}], \"heatmap\": [{\"colorbar\": {\"outlinewidth\": 0, \"ticks\": \"\"}, \"colorscale\": [[0.0, \"#0d0887\"], [0.1111111111111111, \"#46039f\"], [0.2222222222222222, \"#7201a8\"], [0.3333333333333333, \"#9c179e\"], [0.4444444444444444, \"#bd3786\"], [0.5555555555555556, \"#d8576b\"], [0.6666666666666666, \"#ed7953\"], [0.7777777777777778, \"#fb9f3a\"], [0.8888888888888888, \"#fdca26\"], [1.0, \"#f0f921\"]], \"type\": \"heatmap\"}], \"heatmapgl\": [{\"colorbar\": {\"outlinewidth\": 0, \"ticks\": \"\"}, \"colorscale\": [[0.0, \"#0d0887\"], [0.1111111111111111, \"#46039f\"], [0.2222222222222222, \"#7201a8\"], [0.3333333333333333, \"#9c179e\"], [0.4444444444444444, \"#bd3786\"], [0.5555555555555556, \"#d8576b\"], [0.6666666666666666, \"#ed7953\"], [0.7777777777777778, \"#fb9f3a\"], [0.8888888888888888, \"#fdca26\"], [1.0, \"#f0f921\"]], \"type\": \"heatmapgl\"}], \"histogram\": [{\"marker\": {\"colorbar\": {\"outlinewidth\": 0, \"ticks\": \"\"}}, \"type\": \"histogram\"}], \"histogram2d\": [{\"colorbar\": {\"outlinewidth\": 0, \"ticks\": \"\"}, \"colorscale\": [[0.0, \"#0d0887\"], [0.1111111111111111, \"#46039f\"], [0.2222222222222222, \"#7201a8\"], [0.3333333333333333, \"#9c179e\"], [0.4444444444444444, \"#bd3786\"], [0.5555555555555556, \"#d8576b\"], [0.6666666666666666, \"#ed7953\"], [0.7777777777777778, \"#fb9f3a\"], [0.8888888888888888, \"#fdca26\"], [1.0, \"#f0f921\"]], \"type\": \"histogram2d\"}], \"histogram2dcontour\": [{\"colorbar\": {\"outlinewidth\": 0, \"ticks\": \"\"}, \"colorscale\": [[0.0, \"#0d0887\"], [0.1111111111111111, \"#46039f\"], [0.2222222222222222, \"#7201a8\"], [0.3333333333333333, \"#9c179e\"], [0.4444444444444444, \"#bd3786\"], [0.5555555555555556, \"#d8576b\"], [0.6666666666666666, \"#ed7953\"], [0.7777777777777778, \"#fb9f3a\"], [0.8888888888888888, \"#fdca26\"], [1.0, \"#f0f921\"]], \"type\": \"histogram2dcontour\"}], \"mesh3d\": [{\"colorbar\": {\"outlinewidth\": 0, \"ticks\": \"\"}, \"type\": \"mesh3d\"}], \"parcoords\": [{\"line\": {\"colorbar\": {\"outlinewidth\": 0, \"ticks\": \"\"}}, \"type\": \"parcoords\"}], \"pie\": [{\"automargin\": true, \"type\": \"pie\"}], \"scatter\": [{\"marker\": {\"colorbar\": {\"outlinewidth\": 0, \"ticks\": \"\"}}, \"type\": \"scatter\"}], \"scatter3d\": [{\"line\": {\"colorbar\": {\"outlinewidth\": 0, \"ticks\": \"\"}}, \"marker\": {\"colorbar\": {\"outlinewidth\": 0, \"ticks\": \"\"}}, \"type\": \"scatter3d\"}], \"scattercarpet\": [{\"marker\": {\"colorbar\": {\"outlinewidth\": 0, \"ticks\": \"\"}}, \"type\": \"scattercarpet\"}], \"scattergeo\": [{\"marker\": {\"colorbar\": {\"outlinewidth\": 0, \"ticks\": \"\"}}, \"type\": \"scattergeo\"}], \"scattergl\": [{\"marker\": {\"colorbar\": {\"outlinewidth\": 0, \"ticks\": \"\"}}, \"type\": \"scattergl\"}], \"scattermapbox\": [{\"marker\": {\"colorbar\": {\"outlinewidth\": 0, \"ticks\": \"\"}}, \"type\": \"scattermapbox\"}], \"scatterpolar\": [{\"marker\": {\"colorbar\": {\"outlinewidth\": 0, \"ticks\": \"\"}}, \"type\": \"scatterpolar\"}], \"scatterpolargl\": [{\"marker\": {\"colorbar\": {\"outlinewidth\": 0, \"ticks\": \"\"}}, \"type\": \"scatterpolargl\"}], \"scatterternary\": [{\"marker\": {\"colorbar\": {\"outlinewidth\": 0, \"ticks\": \"\"}}, \"type\": \"scatterternary\"}], \"surface\": [{\"colorbar\": {\"outlinewidth\": 0, \"ticks\": \"\"}, \"colorscale\": [[0.0, \"#0d0887\"], [0.1111111111111111, \"#46039f\"], [0.2222222222222222, \"#7201a8\"], [0.3333333333333333, \"#9c179e\"], [0.4444444444444444, \"#bd3786\"], [0.5555555555555556, \"#d8576b\"], [0.6666666666666666, \"#ed7953\"], [0.7777777777777778, \"#fb9f3a\"], [0.8888888888888888, \"#fdca26\"], [1.0, \"#f0f921\"]], \"type\": \"surface\"}], \"table\": [{\"cells\": {\"fill\": {\"color\": \"#EBF0F8\"}, \"line\": {\"color\": \"white\"}}, \"header\": {\"fill\": {\"color\": \"#C8D4E3\"}, \"line\": {\"color\": \"white\"}}, \"type\": \"table\"}]}, \"layout\": {\"annotationdefaults\": {\"arrowcolor\": \"#2a3f5f\", \"arrowhead\": 0, \"arrowwidth\": 1}, \"coloraxis\": {\"colorbar\": {\"outlinewidth\": 0, \"ticks\": \"\"}}, \"colorscale\": {\"diverging\": [[0, \"#8e0152\"], [0.1, \"#c51b7d\"], [0.2, \"#de77ae\"], [0.3, \"#f1b6da\"], [0.4, \"#fde0ef\"], [0.5, \"#f7f7f7\"], [0.6, \"#e6f5d0\"], [0.7, \"#b8e186\"], [0.8, \"#7fbc41\"], [0.9, \"#4d9221\"], [1, \"#276419\"]], \"sequential\": [[0.0, \"#0d0887\"], [0.1111111111111111, \"#46039f\"], [0.2222222222222222, \"#7201a8\"], [0.3333333333333333, \"#9c179e\"], [0.4444444444444444, \"#bd3786\"], [0.5555555555555556, \"#d8576b\"], [0.6666666666666666, \"#ed7953\"], [0.7777777777777778, \"#fb9f3a\"], [0.8888888888888888, \"#fdca26\"], [1.0, \"#f0f921\"]], \"sequentialminus\": [[0.0, \"#0d0887\"], [0.1111111111111111, \"#46039f\"], [0.2222222222222222, \"#7201a8\"], [0.3333333333333333, \"#9c179e\"], [0.4444444444444444, \"#bd3786\"], [0.5555555555555556, \"#d8576b\"], [0.6666666666666666, \"#ed7953\"], [0.7777777777777778, \"#fb9f3a\"], [0.8888888888888888, \"#fdca26\"], [1.0, \"#f0f921\"]]}, \"colorway\": [\"#636efa\", \"#EF553B\", \"#00cc96\", \"#ab63fa\", \"#FFA15A\", \"#19d3f3\", \"#FF6692\", \"#B6E880\", \"#FF97FF\", \"#FECB52\"], \"font\": {\"color\": \"#2a3f5f\"}, \"geo\": {\"bgcolor\": \"white\", \"lakecolor\": \"white\", \"landcolor\": \"#E5ECF6\", \"showlakes\": true, \"showland\": true, \"subunitcolor\": \"white\"}, \"hoverlabel\": {\"align\": \"left\"}, \"hovermode\": \"closest\", \"mapbox\": {\"style\": \"light\"}, \"paper_bgcolor\": \"white\", \"plot_bgcolor\": \"#E5ECF6\", \"polar\": {\"angularaxis\": {\"gridcolor\": \"white\", \"linecolor\": \"white\", \"ticks\": \"\"}, \"bgcolor\": \"#E5ECF6\", \"radialaxis\": {\"gridcolor\": \"white\", \"linecolor\": \"white\", \"ticks\": \"\"}}, \"scene\": {\"xaxis\": {\"backgroundcolor\": \"#E5ECF6\", \"gridcolor\": \"white\", \"gridwidth\": 2, \"linecolor\": \"white\", \"showbackground\": true, \"ticks\": \"\", \"zerolinecolor\": \"white\"}, \"yaxis\": {\"backgroundcolor\": \"#E5ECF6\", \"gridcolor\": \"white\", \"gridwidth\": 2, \"linecolor\": \"white\", \"showbackground\": true, \"ticks\": \"\", \"zerolinecolor\": \"white\"}, \"zaxis\": {\"backgroundcolor\": \"#E5ECF6\", \"gridcolor\": \"white\", \"gridwidth\": 2, \"linecolor\": \"white\", \"showbackground\": true, \"ticks\": \"\", \"zerolinecolor\": \"white\"}}, \"shapedefaults\": {\"line\": {\"color\": \"#2a3f5f\"}}, \"ternary\": {\"aaxis\": {\"gridcolor\": \"white\", \"linecolor\": \"white\", \"ticks\": \"\"}, \"baxis\": {\"gridcolor\": \"white\", \"linecolor\": \"white\", \"ticks\": \"\"}, \"bgcolor\": \"#E5ECF6\", \"caxis\": {\"gridcolor\": \"white\", \"linecolor\": \"white\", \"ticks\": \"\"}}, \"title\": {\"x\": 0.05}, \"xaxis\": {\"automargin\": true, \"gridcolor\": \"white\", \"linecolor\": \"white\", \"ticks\": \"\", \"title\": {\"standoff\": 15}, \"zerolinecolor\": \"white\", \"zerolinewidth\": 2}, \"yaxis\": {\"automargin\": true, \"gridcolor\": \"white\", \"linecolor\": \"white\", \"ticks\": \"\", \"title\": {\"standoff\": 15}, \"zerolinecolor\": \"white\", \"zerolinewidth\": 2}}}, \"xaxis\": {\"anchor\": \"y\", \"domain\": [0.0, 1.0], \"title\": {\"text\": \"age\"}}, \"yaxis\": {\"anchor\": \"x\", \"domain\": [0.0, 1.0], \"title\": {\"text\": \"deaths_total\"}}},\n",
       "                        {\"responsive\": true}\n",
       "                    ).then(function(){\n",
       "                            \n",
       "var gd = document.getElementById('e38d6096-6d29-405b-984c-85d266cdb191');\n",
       "var x = new MutationObserver(function (mutations, observer) {{\n",
       "        var display = window.getComputedStyle(gd).display;\n",
       "        if (!display || display === 'none') {{\n",
       "            console.log([gd, 'removed!']);\n",
       "            Plotly.purge(gd);\n",
       "            observer.disconnect();\n",
       "        }}\n",
       "}});\n",
       "\n",
       "// Listen for the removal of the full notebook cells\n",
       "var notebookContainer = gd.closest('#notebook-container');\n",
       "if (notebookContainer) {{\n",
       "    x.observe(notebookContainer, {childList: true});\n",
       "}}\n",
       "\n",
       "// Listen for the clearing of the current output cell\n",
       "var outputEl = gd.closest('.output');\n",
       "if (outputEl) {{\n",
       "    x.observe(outputEl, {childList: true});\n",
       "}}\n",
       "\n",
       "                        })\n",
       "                };\n",
       "                });\n",
       "            </script>\n",
       "        </div>"
      ]
     },
     "metadata": {},
     "output_type": "display_data"
    }
   ],
   "source": [
    "# get rid of \"18+\" and \"all\"\n",
    "latimes_single_day_age = latimes.query(\"date==@lastdate and age in ('0-17','18-34','35-49','50-64','65-79','80+')\")\n",
    "\n",
    "fig = px.bar(latimes_single_day_age,\n",
    "           x=\"age\",\n",
    "           y=\"deaths_total\",\n",
    "            color=\"race\")\n",
    "             \n",
    "# # ,\n",
    "# #             color=\"race\",\n",
    "# #             barmode=\"group\"\n",
    "# # fig.update_xaxes(rangeslider_visible=True)\n",
    "fig.show()"
   ]
  },
  {
   "cell_type": "markdown",
   "metadata": {},
   "source": [
    "Now let's put it into a plotly subplot"
   ]
  },
  {
   "cell_type": "code",
   "execution_count": 43,
   "metadata": {},
   "outputs": [
    {
     "data": {
      "text/plain": [
       "\u001b[1;31mType:\u001b[0m        module\n",
       "\u001b[1;31mString form:\u001b[0m <module 'plotly.graph_objs.bar' from 'C:\\\\Users\\\\Yoh Kawano\\\\anaconda3\\\\lib\\\\site-packages\\\\plotly\\\\graph_objs\\\\bar\\\\__init__.py'>\n",
       "\u001b[1;31mFile:\u001b[0m        c:\\users\\yoh kawano\\anaconda3\\lib\\site-packages\\plotly\\graph_objs\\bar\\__init__.py\n",
       "\u001b[1;31mDocstring:\u001b[0m   <no docstring>\n"
      ]
     },
     "metadata": {},
     "output_type": "display_data"
    }
   ],
   "source": [
    "?go.bar\n"
   ]
  },
  {
   "cell_type": "code",
   "execution_count": 46,
   "metadata": {},
   "outputs": [
    {
     "data": {
      "application/vnd.plotly.v1+json": {
       "config": {
        "plotlyServerURL": "https://plot.ly"
       },
       "data": [
        {
         "name": "cases",
         "type": "bar",
         "x": [
          "0-17",
          "18-34",
          "35-49",
          "50-64",
          "65-79",
          "80+",
          "0-17",
          "18-34",
          "35-49",
          "50-64",
          "65-79",
          "80+",
          "0-17",
          "18-34",
          "35-49",
          "50-64",
          "65-79",
          "80+",
          "0-17",
          "18-34",
          "35-49",
          "50-64",
          "65-79",
          "80+",
          "0-17",
          "18-34",
          "35-49",
          "50-64",
          "65-79",
          "80+"
         ],
         "xaxis": "x",
         "y": [
          271,
          2373,
          2709,
          2703,
          1438,
          1119,
          197,
          1541,
          1401,
          1560,
          1023,
          577,
          7625,
          26511,
          21910,
          16802,
          5792,
          2178,
          2233,
          7239,
          5307,
          4104,
          1342,
          542,
          820,
          5445,
          4819,
          5767,
          4389,
          2974
         ],
         "yaxis": "y"
        },
        {
         "name": "deaths",
         "type": "bar",
         "x": [
          "0-17",
          "18-34",
          "35-49",
          "50-64",
          "65-79",
          "80+",
          "0-17",
          "18-34",
          "35-49",
          "50-64",
          "65-79",
          "80+",
          "0-17",
          "18-34",
          "35-49",
          "50-64",
          "65-79",
          "80+",
          "0-17",
          "18-34",
          "35-49",
          "50-64",
          "65-79",
          "80+",
          "0-17",
          "18-34",
          "35-49",
          "50-64",
          "65-79",
          "80+"
         ],
         "xaxis": "x2",
         "y": [
          0,
          4,
          22,
          87,
          221,
          519,
          0,
          8,
          20,
          77,
          204,
          224,
          0,
          39,
          210,
          571,
          803,
          724,
          0,
          2,
          6,
          17,
          32,
          52,
          0,
          7,
          24,
          180,
          569,
          1088
         ],
         "yaxis": "y2"
        }
       ],
       "layout": {
        "annotations": [
         {
          "font": {
           "size": 16
          },
          "showarrow": false,
          "text": "Cases by age",
          "x": 0.225,
          "xanchor": "center",
          "xref": "paper",
          "y": 1,
          "yanchor": "bottom",
          "yref": "paper"
         },
         {
          "font": {
           "size": 16
          },
          "showarrow": false,
          "text": "Deaths by age",
          "x": 0.775,
          "xanchor": "center",
          "xref": "paper",
          "y": 1,
          "yanchor": "bottom",
          "yref": "paper"
         }
        ],
        "autosize": true,
        "barmode": "group",
        "template": {
         "data": {
          "bar": [
           {
            "error_x": {
             "color": "#2a3f5f"
            },
            "error_y": {
             "color": "#2a3f5f"
            },
            "marker": {
             "line": {
              "color": "#E5ECF6",
              "width": 0.5
             }
            },
            "type": "bar"
           }
          ],
          "barpolar": [
           {
            "marker": {
             "line": {
              "color": "#E5ECF6",
              "width": 0.5
             }
            },
            "type": "barpolar"
           }
          ],
          "carpet": [
           {
            "aaxis": {
             "endlinecolor": "#2a3f5f",
             "gridcolor": "white",
             "linecolor": "white",
             "minorgridcolor": "white",
             "startlinecolor": "#2a3f5f"
            },
            "baxis": {
             "endlinecolor": "#2a3f5f",
             "gridcolor": "white",
             "linecolor": "white",
             "minorgridcolor": "white",
             "startlinecolor": "#2a3f5f"
            },
            "type": "carpet"
           }
          ],
          "choropleth": [
           {
            "colorbar": {
             "outlinewidth": 0,
             "ticks": ""
            },
            "type": "choropleth"
           }
          ],
          "contour": [
           {
            "colorbar": {
             "outlinewidth": 0,
             "ticks": ""
            },
            "colorscale": [
             [
              0,
              "#0d0887"
             ],
             [
              0.1111111111111111,
              "#46039f"
             ],
             [
              0.2222222222222222,
              "#7201a8"
             ],
             [
              0.3333333333333333,
              "#9c179e"
             ],
             [
              0.4444444444444444,
              "#bd3786"
             ],
             [
              0.5555555555555556,
              "#d8576b"
             ],
             [
              0.6666666666666666,
              "#ed7953"
             ],
             [
              0.7777777777777778,
              "#fb9f3a"
             ],
             [
              0.8888888888888888,
              "#fdca26"
             ],
             [
              1,
              "#f0f921"
             ]
            ],
            "type": "contour"
           }
          ],
          "contourcarpet": [
           {
            "colorbar": {
             "outlinewidth": 0,
             "ticks": ""
            },
            "type": "contourcarpet"
           }
          ],
          "heatmap": [
           {
            "colorbar": {
             "outlinewidth": 0,
             "ticks": ""
            },
            "colorscale": [
             [
              0,
              "#0d0887"
             ],
             [
              0.1111111111111111,
              "#46039f"
             ],
             [
              0.2222222222222222,
              "#7201a8"
             ],
             [
              0.3333333333333333,
              "#9c179e"
             ],
             [
              0.4444444444444444,
              "#bd3786"
             ],
             [
              0.5555555555555556,
              "#d8576b"
             ],
             [
              0.6666666666666666,
              "#ed7953"
             ],
             [
              0.7777777777777778,
              "#fb9f3a"
             ],
             [
              0.8888888888888888,
              "#fdca26"
             ],
             [
              1,
              "#f0f921"
             ]
            ],
            "type": "heatmap"
           }
          ],
          "heatmapgl": [
           {
            "colorbar": {
             "outlinewidth": 0,
             "ticks": ""
            },
            "colorscale": [
             [
              0,
              "#0d0887"
             ],
             [
              0.1111111111111111,
              "#46039f"
             ],
             [
              0.2222222222222222,
              "#7201a8"
             ],
             [
              0.3333333333333333,
              "#9c179e"
             ],
             [
              0.4444444444444444,
              "#bd3786"
             ],
             [
              0.5555555555555556,
              "#d8576b"
             ],
             [
              0.6666666666666666,
              "#ed7953"
             ],
             [
              0.7777777777777778,
              "#fb9f3a"
             ],
             [
              0.8888888888888888,
              "#fdca26"
             ],
             [
              1,
              "#f0f921"
             ]
            ],
            "type": "heatmapgl"
           }
          ],
          "histogram": [
           {
            "marker": {
             "colorbar": {
              "outlinewidth": 0,
              "ticks": ""
             }
            },
            "type": "histogram"
           }
          ],
          "histogram2d": [
           {
            "colorbar": {
             "outlinewidth": 0,
             "ticks": ""
            },
            "colorscale": [
             [
              0,
              "#0d0887"
             ],
             [
              0.1111111111111111,
              "#46039f"
             ],
             [
              0.2222222222222222,
              "#7201a8"
             ],
             [
              0.3333333333333333,
              "#9c179e"
             ],
             [
              0.4444444444444444,
              "#bd3786"
             ],
             [
              0.5555555555555556,
              "#d8576b"
             ],
             [
              0.6666666666666666,
              "#ed7953"
             ],
             [
              0.7777777777777778,
              "#fb9f3a"
             ],
             [
              0.8888888888888888,
              "#fdca26"
             ],
             [
              1,
              "#f0f921"
             ]
            ],
            "type": "histogram2d"
           }
          ],
          "histogram2dcontour": [
           {
            "colorbar": {
             "outlinewidth": 0,
             "ticks": ""
            },
            "colorscale": [
             [
              0,
              "#0d0887"
             ],
             [
              0.1111111111111111,
              "#46039f"
             ],
             [
              0.2222222222222222,
              "#7201a8"
             ],
             [
              0.3333333333333333,
              "#9c179e"
             ],
             [
              0.4444444444444444,
              "#bd3786"
             ],
             [
              0.5555555555555556,
              "#d8576b"
             ],
             [
              0.6666666666666666,
              "#ed7953"
             ],
             [
              0.7777777777777778,
              "#fb9f3a"
             ],
             [
              0.8888888888888888,
              "#fdca26"
             ],
             [
              1,
              "#f0f921"
             ]
            ],
            "type": "histogram2dcontour"
           }
          ],
          "mesh3d": [
           {
            "colorbar": {
             "outlinewidth": 0,
             "ticks": ""
            },
            "type": "mesh3d"
           }
          ],
          "parcoords": [
           {
            "line": {
             "colorbar": {
              "outlinewidth": 0,
              "ticks": ""
             }
            },
            "type": "parcoords"
           }
          ],
          "pie": [
           {
            "automargin": true,
            "type": "pie"
           }
          ],
          "scatter": [
           {
            "marker": {
             "colorbar": {
              "outlinewidth": 0,
              "ticks": ""
             }
            },
            "type": "scatter"
           }
          ],
          "scatter3d": [
           {
            "line": {
             "colorbar": {
              "outlinewidth": 0,
              "ticks": ""
             }
            },
            "marker": {
             "colorbar": {
              "outlinewidth": 0,
              "ticks": ""
             }
            },
            "type": "scatter3d"
           }
          ],
          "scattercarpet": [
           {
            "marker": {
             "colorbar": {
              "outlinewidth": 0,
              "ticks": ""
             }
            },
            "type": "scattercarpet"
           }
          ],
          "scattergeo": [
           {
            "marker": {
             "colorbar": {
              "outlinewidth": 0,
              "ticks": ""
             }
            },
            "type": "scattergeo"
           }
          ],
          "scattergl": [
           {
            "marker": {
             "colorbar": {
              "outlinewidth": 0,
              "ticks": ""
             }
            },
            "type": "scattergl"
           }
          ],
          "scattermapbox": [
           {
            "marker": {
             "colorbar": {
              "outlinewidth": 0,
              "ticks": ""
             }
            },
            "type": "scattermapbox"
           }
          ],
          "scatterpolar": [
           {
            "marker": {
             "colorbar": {
              "outlinewidth": 0,
              "ticks": ""
             }
            },
            "type": "scatterpolar"
           }
          ],
          "scatterpolargl": [
           {
            "marker": {
             "colorbar": {
              "outlinewidth": 0,
              "ticks": ""
             }
            },
            "type": "scatterpolargl"
           }
          ],
          "scatterternary": [
           {
            "marker": {
             "colorbar": {
              "outlinewidth": 0,
              "ticks": ""
             }
            },
            "type": "scatterternary"
           }
          ],
          "surface": [
           {
            "colorbar": {
             "outlinewidth": 0,
             "ticks": ""
            },
            "colorscale": [
             [
              0,
              "#0d0887"
             ],
             [
              0.1111111111111111,
              "#46039f"
             ],
             [
              0.2222222222222222,
              "#7201a8"
             ],
             [
              0.3333333333333333,
              "#9c179e"
             ],
             [
              0.4444444444444444,
              "#bd3786"
             ],
             [
              0.5555555555555556,
              "#d8576b"
             ],
             [
              0.6666666666666666,
              "#ed7953"
             ],
             [
              0.7777777777777778,
              "#fb9f3a"
             ],
             [
              0.8888888888888888,
              "#fdca26"
             ],
             [
              1,
              "#f0f921"
             ]
            ],
            "type": "surface"
           }
          ],
          "table": [
           {
            "cells": {
             "fill": {
              "color": "#EBF0F8"
             },
             "line": {
              "color": "white"
             }
            },
            "header": {
             "fill": {
              "color": "#C8D4E3"
             },
             "line": {
              "color": "white"
             }
            },
            "type": "table"
           }
          ]
         },
         "layout": {
          "annotationdefaults": {
           "arrowcolor": "#2a3f5f",
           "arrowhead": 0,
           "arrowwidth": 1
          },
          "coloraxis": {
           "colorbar": {
            "outlinewidth": 0,
            "ticks": ""
           }
          },
          "colorscale": {
           "diverging": [
            [
             0,
             "#8e0152"
            ],
            [
             0.1,
             "#c51b7d"
            ],
            [
             0.2,
             "#de77ae"
            ],
            [
             0.3,
             "#f1b6da"
            ],
            [
             0.4,
             "#fde0ef"
            ],
            [
             0.5,
             "#f7f7f7"
            ],
            [
             0.6,
             "#e6f5d0"
            ],
            [
             0.7,
             "#b8e186"
            ],
            [
             0.8,
             "#7fbc41"
            ],
            [
             0.9,
             "#4d9221"
            ],
            [
             1,
             "#276419"
            ]
           ],
           "sequential": [
            [
             0,
             "#0d0887"
            ],
            [
             0.1111111111111111,
             "#46039f"
            ],
            [
             0.2222222222222222,
             "#7201a8"
            ],
            [
             0.3333333333333333,
             "#9c179e"
            ],
            [
             0.4444444444444444,
             "#bd3786"
            ],
            [
             0.5555555555555556,
             "#d8576b"
            ],
            [
             0.6666666666666666,
             "#ed7953"
            ],
            [
             0.7777777777777778,
             "#fb9f3a"
            ],
            [
             0.8888888888888888,
             "#fdca26"
            ],
            [
             1,
             "#f0f921"
            ]
           ],
           "sequentialminus": [
            [
             0,
             "#0d0887"
            ],
            [
             0.1111111111111111,
             "#46039f"
            ],
            [
             0.2222222222222222,
             "#7201a8"
            ],
            [
             0.3333333333333333,
             "#9c179e"
            ],
            [
             0.4444444444444444,
             "#bd3786"
            ],
            [
             0.5555555555555556,
             "#d8576b"
            ],
            [
             0.6666666666666666,
             "#ed7953"
            ],
            [
             0.7777777777777778,
             "#fb9f3a"
            ],
            [
             0.8888888888888888,
             "#fdca26"
            ],
            [
             1,
             "#f0f921"
            ]
           ]
          },
          "colorway": [
           "#636efa",
           "#EF553B",
           "#00cc96",
           "#ab63fa",
           "#FFA15A",
           "#19d3f3",
           "#FF6692",
           "#B6E880",
           "#FF97FF",
           "#FECB52"
          ],
          "font": {
           "color": "#2a3f5f"
          },
          "geo": {
           "bgcolor": "white",
           "lakecolor": "white",
           "landcolor": "#E5ECF6",
           "showlakes": true,
           "showland": true,
           "subunitcolor": "white"
          },
          "hoverlabel": {
           "align": "left"
          },
          "hovermode": "closest",
          "mapbox": {
           "style": "light"
          },
          "paper_bgcolor": "white",
          "plot_bgcolor": "#E5ECF6",
          "polar": {
           "angularaxis": {
            "gridcolor": "white",
            "linecolor": "white",
            "ticks": ""
           },
           "bgcolor": "#E5ECF6",
           "radialaxis": {
            "gridcolor": "white",
            "linecolor": "white",
            "ticks": ""
           }
          },
          "scene": {
           "xaxis": {
            "backgroundcolor": "#E5ECF6",
            "gridcolor": "white",
            "gridwidth": 2,
            "linecolor": "white",
            "showbackground": true,
            "ticks": "",
            "zerolinecolor": "white"
           },
           "yaxis": {
            "backgroundcolor": "#E5ECF6",
            "gridcolor": "white",
            "gridwidth": 2,
            "linecolor": "white",
            "showbackground": true,
            "ticks": "",
            "zerolinecolor": "white"
           },
           "zaxis": {
            "backgroundcolor": "#E5ECF6",
            "gridcolor": "white",
            "gridwidth": 2,
            "linecolor": "white",
            "showbackground": true,
            "ticks": "",
            "zerolinecolor": "white"
           }
          },
          "shapedefaults": {
           "line": {
            "color": "#2a3f5f"
           }
          },
          "ternary": {
           "aaxis": {
            "gridcolor": "white",
            "linecolor": "white",
            "ticks": ""
           },
           "baxis": {
            "gridcolor": "white",
            "linecolor": "white",
            "ticks": ""
           },
           "bgcolor": "#E5ECF6",
           "caxis": {
            "gridcolor": "white",
            "linecolor": "white",
            "ticks": ""
           }
          },
          "title": {
           "x": 0.05
          },
          "xaxis": {
           "automargin": true,
           "gridcolor": "white",
           "linecolor": "white",
           "ticks": "",
           "title": {
            "standoff": 15
           },
           "zerolinecolor": "white",
           "zerolinewidth": 2
          },
          "yaxis": {
           "automargin": true,
           "gridcolor": "white",
           "linecolor": "white",
           "ticks": "",
           "title": {
            "standoff": 15
           },
           "zerolinecolor": "white",
           "zerolinewidth": 2
          }
         }
        },
        "title": {
         "text": "California Covid-19 Trends"
        },
        "xaxis": {
         "anchor": "y",
         "autorange": true,
         "domain": [
          0,
          0.45
         ],
         "range": [
          -0.5,
          5.5
         ],
         "type": "category"
        },
        "xaxis2": {
         "anchor": "y2",
         "autorange": true,
         "domain": [
          0.55,
          1
         ],
         "range": [
          -0.5,
          5.5
         ],
         "type": "category"
        },
        "yaxis": {
         "anchor": "x",
         "autorange": true,
         "domain": [
          0,
          1
         ],
         "range": [
          0,
          45377.89473684211
         ],
         "type": "linear"
        },
        "yaxis2": {
         "anchor": "x2",
         "autorange": true,
         "domain": [
          0,
          1
         ],
         "range": [
          0,
          2744.2105263157896
         ],
         "type": "linear"
        }
       }
      },
      "image/png": "[encoded data removed]",
      "text/html": [
       "<div>\n",
       "        \n",
       "        \n",
       "            <div id=\"20720ac0-a50c-49fa-b60b-e61649363717\" class=\"plotly-graph-div\" style=\"height:400px; width:100%;\"></div>\n",
       "            <script type=\"text/javascript\">\n",
       "                require([\"plotly\"], function(Plotly) {\n",
       "                    window.PLOTLYENV=window.PLOTLYENV || {};\n",
       "                    \n",
       "                if (document.getElementById(\"20720ac0-a50c-49fa-b60b-e61649363717\")) {\n",
       "                    Plotly.newPlot(\n",
       "                        '20720ac0-a50c-49fa-b60b-e61649363717',\n",
       "                        [{\"name\": \"cases\", \"type\": \"bar\", \"x\": [\"0-17\", \"18-34\", \"35-49\", \"50-64\", \"65-79\", \"80+\", \"0-17\", \"18-34\", \"35-49\", \"50-64\", \"65-79\", \"80+\", \"0-17\", \"18-34\", \"35-49\", \"50-64\", \"65-79\", \"80+\", \"0-17\", \"18-34\", \"35-49\", \"50-64\", \"65-79\", \"80+\", \"0-17\", \"18-34\", \"35-49\", \"50-64\", \"65-79\", \"80+\"], \"xaxis\": \"x\", \"y\": [271, 2373, 2709, 2703, 1438, 1119, 197, 1541, 1401, 1560, 1023, 577, 7625, 26511, 21910, 16802, 5792, 2178, 2233, 7239, 5307, 4104, 1342, 542, 820, 5445, 4819, 5767, 4389, 2974], \"yaxis\": \"y\"}, {\"name\": \"deaths\", \"type\": \"bar\", \"x\": [\"0-17\", \"18-34\", \"35-49\", \"50-64\", \"65-79\", \"80+\", \"0-17\", \"18-34\", \"35-49\", \"50-64\", \"65-79\", \"80+\", \"0-17\", \"18-34\", \"35-49\", \"50-64\", \"65-79\", \"80+\", \"0-17\", \"18-34\", \"35-49\", \"50-64\", \"65-79\", \"80+\", \"0-17\", \"18-34\", \"35-49\", \"50-64\", \"65-79\", \"80+\"], \"xaxis\": \"x2\", \"y\": [0, 4, 22, 87, 221, 519, 0, 8, 20, 77, 204, 224, 0, 39, 210, 571, 803, 724, 0, 2, 6, 17, 32, 52, 0, 7, 24, 180, 569, 1088], \"yaxis\": \"y2\"}],\n",
       "                        {\"annotations\": [{\"font\": {\"size\": 16}, \"showarrow\": false, \"text\": \"Cases by age\", \"x\": 0.225, \"xanchor\": \"center\", \"xref\": \"paper\", \"y\": 1.0, \"yanchor\": \"bottom\", \"yref\": \"paper\"}, {\"font\": {\"size\": 16}, \"showarrow\": false, \"text\": \"Deaths by age\", \"x\": 0.775, \"xanchor\": \"center\", \"xref\": \"paper\", \"y\": 1.0, \"yanchor\": \"bottom\", \"yref\": \"paper\"}], \"barmode\": \"group\", \"height\": 400, \"template\": {\"data\": {\"bar\": [{\"error_x\": {\"color\": \"#2a3f5f\"}, \"error_y\": {\"color\": \"#2a3f5f\"}, \"marker\": {\"line\": {\"color\": \"#E5ECF6\", \"width\": 0.5}}, \"type\": \"bar\"}], \"barpolar\": [{\"marker\": {\"line\": {\"color\": \"#E5ECF6\", \"width\": 0.5}}, \"type\": \"barpolar\"}], \"carpet\": [{\"aaxis\": {\"endlinecolor\": \"#2a3f5f\", \"gridcolor\": \"white\", \"linecolor\": \"white\", \"minorgridcolor\": \"white\", \"startlinecolor\": \"#2a3f5f\"}, \"baxis\": {\"endlinecolor\": \"#2a3f5f\", \"gridcolor\": \"white\", \"linecolor\": \"white\", \"minorgridcolor\": \"white\", \"startlinecolor\": \"#2a3f5f\"}, \"type\": \"carpet\"}], \"choropleth\": [{\"colorbar\": {\"outlinewidth\": 0, \"ticks\": \"\"}, \"type\": \"choropleth\"}], \"contour\": [{\"colorbar\": {\"outlinewidth\": 0, \"ticks\": \"\"}, \"colorscale\": [[0.0, \"#0d0887\"], [0.1111111111111111, \"#46039f\"], [0.2222222222222222, \"#7201a8\"], [0.3333333333333333, \"#9c179e\"], [0.4444444444444444, \"#bd3786\"], [0.5555555555555556, \"#d8576b\"], [0.6666666666666666, \"#ed7953\"], [0.7777777777777778, \"#fb9f3a\"], [0.8888888888888888, \"#fdca26\"], [1.0, \"#f0f921\"]], \"type\": \"contour\"}], \"contourcarpet\": [{\"colorbar\": {\"outlinewidth\": 0, \"ticks\": \"\"}, \"type\": \"contourcarpet\"}], \"heatmap\": [{\"colorbar\": {\"outlinewidth\": 0, \"ticks\": \"\"}, \"colorscale\": [[0.0, \"#0d0887\"], [0.1111111111111111, \"#46039f\"], [0.2222222222222222, \"#7201a8\"], [0.3333333333333333, \"#9c179e\"], [0.4444444444444444, \"#bd3786\"], [0.5555555555555556, \"#d8576b\"], [0.6666666666666666, \"#ed7953\"], [0.7777777777777778, \"#fb9f3a\"], [0.8888888888888888, \"#fdca26\"], [1.0, \"#f0f921\"]], \"type\": \"heatmap\"}], \"heatmapgl\": [{\"colorbar\": {\"outlinewidth\": 0, \"ticks\": \"\"}, \"colorscale\": [[0.0, \"#0d0887\"], [0.1111111111111111, \"#46039f\"], [0.2222222222222222, \"#7201a8\"], [0.3333333333333333, \"#9c179e\"], [0.4444444444444444, \"#bd3786\"], [0.5555555555555556, \"#d8576b\"], [0.6666666666666666, \"#ed7953\"], [0.7777777777777778, \"#fb9f3a\"], [0.8888888888888888, \"#fdca26\"], [1.0, \"#f0f921\"]], \"type\": \"heatmapgl\"}], \"histogram\": [{\"marker\": {\"colorbar\": {\"outlinewidth\": 0, \"ticks\": \"\"}}, \"type\": \"histogram\"}], \"histogram2d\": [{\"colorbar\": {\"outlinewidth\": 0, \"ticks\": \"\"}, \"colorscale\": [[0.0, \"#0d0887\"], [0.1111111111111111, \"#46039f\"], [0.2222222222222222, \"#7201a8\"], [0.3333333333333333, \"#9c179e\"], [0.4444444444444444, \"#bd3786\"], [0.5555555555555556, \"#d8576b\"], [0.6666666666666666, \"#ed7953\"], [0.7777777777777778, \"#fb9f3a\"], [0.8888888888888888, \"#fdca26\"], [1.0, \"#f0f921\"]], \"type\": \"histogram2d\"}], \"histogram2dcontour\": [{\"colorbar\": {\"outlinewidth\": 0, \"ticks\": \"\"}, \"colorscale\": [[0.0, \"#0d0887\"], [0.1111111111111111, \"#46039f\"], [0.2222222222222222, \"#7201a8\"], [0.3333333333333333, \"#9c179e\"], [0.4444444444444444, \"#bd3786\"], [0.5555555555555556, \"#d8576b\"], [0.6666666666666666, \"#ed7953\"], [0.7777777777777778, \"#fb9f3a\"], [0.8888888888888888, \"#fdca26\"], [1.0, \"#f0f921\"]], \"type\": \"histogram2dcontour\"}], \"mesh3d\": [{\"colorbar\": {\"outlinewidth\": 0, \"ticks\": \"\"}, \"type\": \"mesh3d\"}], \"parcoords\": [{\"line\": {\"colorbar\": {\"outlinewidth\": 0, \"ticks\": \"\"}}, \"type\": \"parcoords\"}], \"pie\": [{\"automargin\": true, \"type\": \"pie\"}], \"scatter\": [{\"marker\": {\"colorbar\": {\"outlinewidth\": 0, \"ticks\": \"\"}}, \"type\": \"scatter\"}], \"scatter3d\": [{\"line\": {\"colorbar\": {\"outlinewidth\": 0, \"ticks\": \"\"}}, \"marker\": {\"colorbar\": {\"outlinewidth\": 0, \"ticks\": \"\"}}, \"type\": \"scatter3d\"}], \"scattercarpet\": [{\"marker\": {\"colorbar\": {\"outlinewidth\": 0, \"ticks\": \"\"}}, \"type\": \"scattercarpet\"}], \"scattergeo\": [{\"marker\": {\"colorbar\": {\"outlinewidth\": 0, \"ticks\": \"\"}}, \"type\": \"scattergeo\"}], \"scattergl\": [{\"marker\": {\"colorbar\": {\"outlinewidth\": 0, \"ticks\": \"\"}}, \"type\": \"scattergl\"}], \"scattermapbox\": [{\"marker\": {\"colorbar\": {\"outlinewidth\": 0, \"ticks\": \"\"}}, \"type\": \"scattermapbox\"}], \"scatterpolar\": [{\"marker\": {\"colorbar\": {\"outlinewidth\": 0, \"ticks\": \"\"}}, \"type\": \"scatterpolar\"}], \"scatterpolargl\": [{\"marker\": {\"colorbar\": {\"outlinewidth\": 0, \"ticks\": \"\"}}, \"type\": \"scatterpolargl\"}], \"scatterternary\": [{\"marker\": {\"colorbar\": {\"outlinewidth\": 0, \"ticks\": \"\"}}, \"type\": \"scatterternary\"}], \"surface\": [{\"colorbar\": {\"outlinewidth\": 0, \"ticks\": \"\"}, \"colorscale\": [[0.0, \"#0d0887\"], [0.1111111111111111, \"#46039f\"], [0.2222222222222222, \"#7201a8\"], [0.3333333333333333, \"#9c179e\"], [0.4444444444444444, \"#bd3786\"], [0.5555555555555556, \"#d8576b\"], [0.6666666666666666, \"#ed7953\"], [0.7777777777777778, \"#fb9f3a\"], [0.8888888888888888, \"#fdca26\"], [1.0, \"#f0f921\"]], \"type\": \"surface\"}], \"table\": [{\"cells\": {\"fill\": {\"color\": \"#EBF0F8\"}, \"line\": {\"color\": \"white\"}}, \"header\": {\"fill\": {\"color\": \"#C8D4E3\"}, \"line\": {\"color\": \"white\"}}, \"type\": \"table\"}]}, \"layout\": {\"annotationdefaults\": {\"arrowcolor\": \"#2a3f5f\", \"arrowhead\": 0, \"arrowwidth\": 1}, \"coloraxis\": {\"colorbar\": {\"outlinewidth\": 0, \"ticks\": \"\"}}, \"colorscale\": {\"diverging\": [[0, \"#8e0152\"], [0.1, \"#c51b7d\"], [0.2, \"#de77ae\"], [0.3, \"#f1b6da\"], [0.4, \"#fde0ef\"], [0.5, \"#f7f7f7\"], [0.6, \"#e6f5d0\"], [0.7, \"#b8e186\"], [0.8, \"#7fbc41\"], [0.9, \"#4d9221\"], [1, \"#276419\"]], \"sequential\": [[0.0, \"#0d0887\"], [0.1111111111111111, \"#46039f\"], [0.2222222222222222, \"#7201a8\"], [0.3333333333333333, \"#9c179e\"], [0.4444444444444444, \"#bd3786\"], [0.5555555555555556, \"#d8576b\"], [0.6666666666666666, \"#ed7953\"], [0.7777777777777778, \"#fb9f3a\"], [0.8888888888888888, \"#fdca26\"], [1.0, \"#f0f921\"]], \"sequentialminus\": [[0.0, \"#0d0887\"], [0.1111111111111111, \"#46039f\"], [0.2222222222222222, \"#7201a8\"], [0.3333333333333333, \"#9c179e\"], [0.4444444444444444, \"#bd3786\"], [0.5555555555555556, \"#d8576b\"], [0.6666666666666666, \"#ed7953\"], [0.7777777777777778, \"#fb9f3a\"], [0.8888888888888888, \"#fdca26\"], [1.0, \"#f0f921\"]]}, \"colorway\": [\"#636efa\", \"#EF553B\", \"#00cc96\", \"#ab63fa\", \"#FFA15A\", \"#19d3f3\", \"#FF6692\", \"#B6E880\", \"#FF97FF\", \"#FECB52\"], \"font\": {\"color\": \"#2a3f5f\"}, \"geo\": {\"bgcolor\": \"white\", \"lakecolor\": \"white\", \"landcolor\": \"#E5ECF6\", \"showlakes\": true, \"showland\": true, \"subunitcolor\": \"white\"}, \"hoverlabel\": {\"align\": \"left\"}, \"hovermode\": \"closest\", \"mapbox\": {\"style\": \"light\"}, \"paper_bgcolor\": \"white\", \"plot_bgcolor\": \"#E5ECF6\", \"polar\": {\"angularaxis\": {\"gridcolor\": \"white\", \"linecolor\": \"white\", \"ticks\": \"\"}, \"bgcolor\": \"#E5ECF6\", \"radialaxis\": {\"gridcolor\": \"white\", \"linecolor\": \"white\", \"ticks\": \"\"}}, \"scene\": {\"xaxis\": {\"backgroundcolor\": \"#E5ECF6\", \"gridcolor\": \"white\", \"gridwidth\": 2, \"linecolor\": \"white\", \"showbackground\": true, \"ticks\": \"\", \"zerolinecolor\": \"white\"}, \"yaxis\": {\"backgroundcolor\": \"#E5ECF6\", \"gridcolor\": \"white\", \"gridwidth\": 2, \"linecolor\": \"white\", \"showbackground\": true, \"ticks\": \"\", \"zerolinecolor\": \"white\"}, \"zaxis\": {\"backgroundcolor\": \"#E5ECF6\", \"gridcolor\": \"white\", \"gridwidth\": 2, \"linecolor\": \"white\", \"showbackground\": true, \"ticks\": \"\", \"zerolinecolor\": \"white\"}}, \"shapedefaults\": {\"line\": {\"color\": \"#2a3f5f\"}}, \"ternary\": {\"aaxis\": {\"gridcolor\": \"white\", \"linecolor\": \"white\", \"ticks\": \"\"}, \"baxis\": {\"gridcolor\": \"white\", \"linecolor\": \"white\", \"ticks\": \"\"}, \"bgcolor\": \"#E5ECF6\", \"caxis\": {\"gridcolor\": \"white\", \"linecolor\": \"white\", \"ticks\": \"\"}}, \"title\": {\"x\": 0.05}, \"xaxis\": {\"automargin\": true, \"gridcolor\": \"white\", \"linecolor\": \"white\", \"ticks\": \"\", \"title\": {\"standoff\": 15}, \"zerolinecolor\": \"white\", \"zerolinewidth\": 2}, \"yaxis\": {\"automargin\": true, \"gridcolor\": \"white\", \"linecolor\": \"white\", \"ticks\": \"\", \"title\": {\"standoff\": 15}, \"zerolinecolor\": \"white\", \"zerolinewidth\": 2}}}, \"title\": {\"text\": \"California Covid-19 Trends\"}, \"xaxis\": {\"anchor\": \"y\", \"domain\": [0.0, 0.45]}, \"xaxis2\": {\"anchor\": \"y2\", \"domain\": [0.55, 1.0]}, \"yaxis\": {\"anchor\": \"x\", \"domain\": [0.0, 1.0]}, \"yaxis2\": {\"anchor\": \"x2\", \"domain\": [0.0, 1.0]}},\n",
       "                        {\"responsive\": true}\n",
       "                    ).then(function(){\n",
       "                            \n",
       "var gd = document.getElementById('20720ac0-a50c-49fa-b60b-e61649363717');\n",
       "var x = new MutationObserver(function (mutations, observer) {{\n",
       "        var display = window.getComputedStyle(gd).display;\n",
       "        if (!display || display === 'none') {{\n",
       "            console.log([gd, 'removed!']);\n",
       "            Plotly.purge(gd);\n",
       "            observer.disconnect();\n",
       "        }}\n",
       "}});\n",
       "\n",
       "// Listen for the removal of the full notebook cells\n",
       "var notebookContainer = gd.closest('#notebook-container');\n",
       "if (notebookContainer) {{\n",
       "    x.observe(notebookContainer, {childList: true});\n",
       "}}\n",
       "\n",
       "// Listen for the clearing of the current output cell\n",
       "var outputEl = gd.closest('.output');\n",
       "if (outputEl) {{\n",
       "    x.observe(outputEl, {childList: true});\n",
       "}}\n",
       "\n",
       "                        })\n",
       "                };\n",
       "                });\n",
       "            </script>\n",
       "        </div>"
      ]
     },
     "metadata": {},
     "output_type": "display_data"
    }
   ],
   "source": [
    "# import the plotly subplot library\n",
    "from plotly.subplots import make_subplots\n",
    "import plotly.graph_objects as go\n",
    "\n",
    "# define the subplots\n",
    "fig = make_subplots(\n",
    "            rows=1, \n",
    "            cols=2,\n",
    "            subplot_titles=('Cases by age', 'Deaths by age'))\n",
    "\n",
    "# add the first \"trace\"\n",
    "fig.add_trace(\n",
    "    go.Bar(x=latimes_single_day_age.age,\n",
    "           y=latimes_single_day_age.confirmed_cases_total,\n",
    "           name='cases'),\n",
    "    row=1, col=1\n",
    ")\n",
    "\n",
    "\n",
    "fig = go.Figure(data=[\n",
    "    go.Bar(name='SF Zoo', x=animals, y=[20, 14, 23]),\n",
    "    go.Bar(name='LA Zoo', x=animals, y=[12, 18, 29])\n",
    "])\n",
    "# Change the bar mode\n",
    "fig.update_layout(barmode='stack')\n",
    "\n",
    "\n",
    "\n",
    "\n",
    "# add the second\n",
    "fig.add_trace(\n",
    "    go.Bar(x=latimes_single_day_age.age,\n",
    "           y=latimes_single_day_age.deaths_total,\n",
    "           name='deaths'),\n",
    "    row=1, col=2\n",
    ")\n",
    "\n",
    "# define the layout for the whole figure\n",
    "fig.update_layout(barmode='group',height=400, title_text=\"California Covid-19 Trends\")\n",
    "fig.update_layout()\n",
    "fig.show()"
   ]
  },
  {
   "cell_type": "code",
   "execution_count": null,
   "metadata": {},
   "outputs": [],
   "source": []
  }
 ],
 "metadata": {
  "celltoolbar": "Raw Cell Format",
  "kernelspec": {
   "display_name": "Python 3",
   "language": "python",
   "name": "python3"
  },
  "language_info": {
   "codemirror_mode": {
    "name": "ipython",
    "version": 3
   },
   "file_extension": ".py",
   "mimetype": "text/x-python",
   "name": "python",
   "nbconvert_exporter": "python",
   "pygments_lexer": "ipython3",
   "version": "3.7.6"
  }
 },
 "nbformat": 4,
 "nbformat_minor": 4
}
