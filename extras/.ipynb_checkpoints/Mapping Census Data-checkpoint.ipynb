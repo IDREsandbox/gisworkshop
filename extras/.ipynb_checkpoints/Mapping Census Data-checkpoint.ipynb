{
 "cells": [
  {
   "cell_type": "markdown",
   "metadata": {},
   "source": [
    "## Census Data\n",
    "\n",
    "Use the censusdata module to import census data\n",
    "\n",
    "https://pypi.org/project/CensusData/\n"
   ]
  },
  {
   "cell_type": "code",
   "execution_count": null,
   "metadata": {},
   "outputs": [],
   "source": [
    "# pip install censusdata"
   ]
  },
  {
   "cell_type": "code",
   "execution_count": null,
   "metadata": {},
   "outputs": [],
   "source": [
    "import pandas as pd\n",
    "import censusdata\n",
    "# from tabulate import tabulate"
   ]
  },
  {
   "cell_type": "markdown",
   "metadata": {},
   "source": [
    "## Understanding the Census Bureau labyrinth\n",
    "Learn about the data:\n",
    "https://www.census.gov/programs-surveys/acs/technical-documentation/table-shells.html\n",
    "\n",
    "Search for data tables:\n",
    "https://data.census.gov/cedsci/\n",
    "\n",
    "Here are some of the main tables of interest:\n",
    "\n",
    "Population sizes: \n",
    "\n",
    "* Total Population: B01001e1\n",
    "* Population by Age and Sex: B01001*\n",
    "* Population by Household Incomes: B19001*\n",
    "* Population by Education Level: B15003*\n",
    "* Population by Race: B02001*\n",
    "* Population by Hispanic Ethnicity: B03003*\n",
    "* Population by Race & Hispanic Ethnicity: B03002*\n",
    "* Population by Household Type: B11001e*\n",
    "\n",
    "Summary Statistics: \n",
    "\n",
    "* Median Household Income: B19013e1\n",
    "* Aggregate Household Income:  B19025e1\n",
    "* Per Capita Income: B19301e1\n",
    "* Median Age: B01002e1\n",
    "\n",
    "For this workshop, let's work with \"Population by race,\" or, in census lingo, Table ID B02001"
   ]
  },
  {
   "cell_type": "code",
   "execution_count": null,
   "metadata": {},
   "outputs": [],
   "source": [
    "# command to print the metadata about a specific census table\n",
    "censusdata.printtable(censusdata.censustable('acs5',2018,'B02001'))"
   ]
  },
  {
   "cell_type": "code",
   "execution_count": null,
   "metadata": {},
   "outputs": [],
   "source": [
    "# grab race columns by county\n",
    "df_counties = censusdata.download('acs5', \n",
    "           2018,\n",
    "           censusdata.censusgeo([('state', '06'), ('county', '*')]),\n",
    "           ['B02001_001E','B02001_002E','B02001_003E','B02001_004E','B02001_005E','B02001_006E','B02001_007E','B02001_008E'])"
   ]
  },
  {
   "cell_type": "code",
   "execution_count": null,
   "metadata": {},
   "outputs": [],
   "source": [
    "df_counties.head()"
   ]
  },
  {
   "cell_type": "code",
   "execution_count": null,
   "metadata": {},
   "outputs": [],
   "source": [
    "# grab race columns by tracts\n",
    "df_tracts = censusdata.download('acs5', \n",
    "           2018,\n",
    "           censusdata.censusgeo([('state', '06'), ('county', '037'), ('tract', '*')]),\n",
    "           ['B02001_001E','B02001_002E','B02001_003E','B02001_004E','B02001_005E','B02001_006E','B02001_007E','B02001_008E'])"
   ]
  },
  {
   "cell_type": "code",
   "execution_count": null,
   "metadata": {},
   "outputs": [],
   "source": [
    "df_tracts.head()"
   ]
  },
  {
   "cell_type": "markdown",
   "metadata": {},
   "source": [
    "## Changing column names\n"
   ]
  },
  {
   "cell_type": "code",
   "execution_count": null,
   "metadata": {},
   "outputs": [],
   "source": [
    "column_names = ['total','white','black','am_indian_alaskan','asian','nhop','other along','two or more']\n",
    "df_counties.columns = column_names\n",
    "df_tracts.columns = column_names\n",
    "df_counties.head()"
   ]
  },
  {
   "cell_type": "markdown",
   "metadata": {},
   "source": [
    "## Adding a new index and name column"
   ]
  },
  {
   "cell_type": "code",
   "execution_count": null,
   "metadata": {},
   "outputs": [],
   "source": [
    "# look at a specific row\n",
    "df_counties.iloc[0]"
   ]
  },
  {
   "cell_type": "code",
   "execution_count": null,
   "metadata": {},
   "outputs": [],
   "source": [
    "# when you output a column, it shows the index plus the column\n",
    "df_counties.total.head()"
   ]
  },
  {
   "cell_type": "code",
   "execution_count": null,
   "metadata": {},
   "outputs": [],
   "source": [
    "# to put the index into a list, do the following:\n",
    "df_counties.index.tolist()"
   ]
  },
  {
   "cell_type": "code",
   "execution_count": null,
   "metadata": {},
   "outputs": [],
   "source": [
    "# let's look at this index in more detail... what is it comprised of?\n",
    "# loop through it and print out the different elements\n",
    "\n",
    "for index in df_counties.index.tolist():\n",
    "    print(index)\n",
    "    print(index.geo)\n",
    "    print(index.name)"
   ]
  },
  {
   "cell_type": "code",
   "execution_count": null,
   "metadata": {},
   "outputs": [],
   "source": [
    "# create two new columns, one for fips, and one for county name\n",
    "state_county_fips = []\n",
    "county_names = []\n",
    "\n",
    "for index in df_counties.index.tolist():\n",
    "    new_index = index.geo[0][1] + index.geo[1][1]\n",
    "    state_county_fips.append(new_index)\n",
    "    county_name = index.name.split(',')[0]\n",
    "    county_names.append(county_name)\n"
   ]
  },
  {
   "cell_type": "code",
   "execution_count": null,
   "metadata": {},
   "outputs": [],
   "source": [
    "# do the same for the census tracts\n",
    "tract_fips = []\n",
    "tract_names = []\n",
    "\n",
    "for index in df_tracts.index.tolist():\n",
    "    new_index = index.geo[0][1] + index.geo[1][1] + index.geo[2][1]\n",
    "    tract_fips.append(new_index)\n",
    "    tract_name = index.name.split(',')[0]\n",
    "    tract_names.append(tract_name)\n"
   ]
  },
  {
   "cell_type": "code",
   "execution_count": null,
   "metadata": {},
   "outputs": [],
   "source": [
    "state_county_fips\n",
    "tract_fips"
   ]
  },
  {
   "cell_type": "code",
   "execution_count": null,
   "metadata": {},
   "outputs": [],
   "source": [
    "# create a new index with our fips code\n",
    "df_counties.index = state_county_fips\n",
    "\n",
    "# add a county name column\n",
    "df_counties['county_name'] = county_names"
   ]
  },
  {
   "cell_type": "code",
   "execution_count": null,
   "metadata": {},
   "outputs": [],
   "source": [
    "df_counties.head()"
   ]
  },
  {
   "cell_type": "code",
   "execution_count": null,
   "metadata": {},
   "outputs": [],
   "source": [
    "# create a new index with our fips code\n",
    "df_tracts.index = tract_fips\n",
    "\n",
    "# add a tract name column\n",
    "df_tracts['tract_name'] = tract_names"
   ]
  },
  {
   "cell_type": "code",
   "execution_count": null,
   "metadata": {},
   "outputs": [],
   "source": [
    "df_tracts.head()"
   ]
  },
  {
   "cell_type": "markdown",
   "metadata": {},
   "source": [
    "## Mapping our census data"
   ]
  },
  {
   "cell_type": "code",
   "execution_count": null,
   "metadata": {},
   "outputs": [],
   "source": [
    "# import the us county geojson\n",
    "from urllib.request import urlopen\n",
    "import json\n",
    "with urlopen('https://raw.githubusercontent.com/plotly/datasets/master/geojson-counties-fips.json') as response:\n",
    "    counties = json.load(response)"
   ]
  },
  {
   "cell_type": "code",
   "execution_count": null,
   "metadata": {},
   "outputs": [],
   "source": [
    "counties[\"features\"][0]"
   ]
  },
  {
   "cell_type": "code",
   "execution_count": null,
   "metadata": {},
   "outputs": [],
   "source": [
    "# census tracts\n",
    "with urlopen('https://opendata.arcgis.com/datasets/152f90d3a34a43ef998448281505d45e_0.geojson') as response:\n",
    "    tracts = json.load(response)\n"
   ]
  },
  {
   "cell_type": "code",
   "execution_count": null,
   "metadata": {},
   "outputs": [],
   "source": [
    "# let's look like one of these features looks like\n",
    "tracts[\"features\"][0]"
   ]
  },
  {
   "cell_type": "code",
   "execution_count": null,
   "metadata": {},
   "outputs": [],
   "source": [
    "\n",
    "import plotly.express as px\n",
    "\n",
    "fig = px.choropleth(df_tracts, \n",
    "                    geojson=tracts, \n",
    "                    locations=df_tracts.index, \n",
    "                    featureidkey=\"properties.FIPS\", # this is the join column\n",
    "                    color='black',\n",
    "                    color_continuous_scale=\"Viridis\",                    \n",
    "                    projection=\"mercator\"\n",
    "                          )\n",
    "\n",
    "# zoom to the geographies with data\n",
    "fig.update_geos(fitbounds=\"locations\", visible=False)\n",
    "\n",
    "fig.update_layout(margin={\"r\":0,\"t\":0,\"l\":0,\"b\":0})\n",
    "\n",
    "fig.show()"
   ]
  },
  {
   "cell_type": "code",
   "execution_count": null,
   "metadata": {},
   "outputs": [],
   "source": [
    "import plotly.express as px\n",
    "\n",
    "fig = px.choropleth(df_counties, \n",
    "                    geojson=counties, \n",
    "                    locations=df_counties.index, \n",
    "                    color='black',\n",
    "                    color_continuous_scale=\"Viridis\",\n",
    "                    scope=\"usa\"\n",
    "                          )\n",
    "\n",
    "# show just the geographies with data\n",
    "fig.update_geos(fitbounds=\"locations\", visible=False)\n",
    "\n",
    "fig.update_layout(margin={\"r\":0,\"t\":0,\"l\":0,\"b\":0})\n",
    "\n",
    "fig.show()"
   ]
  },
  {
   "cell_type": "code",
   "execution_count": null,
   "metadata": {},
   "outputs": [],
   "source": [
    "# how about normalizing the data?\n",
    "df_counties['percent_white'] = df_counties['white'] / df_counties['total'] * 100\n",
    "df_counties['percent_black'] = df_counties['black'] / df_counties['total'] * 100\n",
    "df_tracts['percent_white'] = df_tracts['white'] / df_tracts['total'] * 100\n",
    "df_tracts['percent_black'] = df_tracts['black'] / df_tracts['total'] * 100"
   ]
  },
  {
   "cell_type": "code",
   "execution_count": null,
   "metadata": {},
   "outputs": [],
   "source": [
    "df_tracts.head()"
   ]
  },
  {
   "cell_type": "code",
   "execution_count": null,
   "metadata": {},
   "outputs": [],
   "source": [
    "import plotly.express as px\n",
    "\n",
    "fig = px.choropleth(df_tracts, \n",
    "                    geojson=tracts, \n",
    "                    locations=df_tracts.index, \n",
    "                    featureidkey=\"properties.FIPS\", # this is the join column\n",
    "                    color='percent_black',\n",
    "                    color_continuous_scale=\"Viridis\",                    \n",
    "                    projection=\"mercator\"\n",
    "                   )\n",
    "\n",
    "# show just the geographies with data\n",
    "fig.update_geos(fitbounds=\"locations\", visible=False)\n",
    "\n",
    "fig.update_layout(margin={\"r\":0,\"t\":0,\"l\":0,\"b\":0})\n",
    "\n",
    "fig.show()"
   ]
  },
  {
   "cell_type": "code",
   "execution_count": null,
   "metadata": {},
   "outputs": [],
   "source": [
    "import plotly.express as px\n",
    "\n",
    "fig = px.choropleth(df_counties, \n",
    "                    geojson=counties, \n",
    "                    locations=df_counties.index, \n",
    "                    color='percent_black',\n",
    "                    color_continuous_scale=\"Viridis\",\n",
    "                    scope=\"usa\"\n",
    "                          )\n",
    "\n",
    "# show just the geographies with data\n",
    "fig.update_geos(fitbounds=\"locations\", visible=False)\n",
    "\n",
    "fig.update_layout(margin={\"r\":0,\"t\":0,\"l\":0,\"b\":0})\n",
    "\n",
    "fig.show()"
   ]
  },
  {
   "cell_type": "code",
   "execution_count": null,
   "metadata": {},
   "outputs": [],
   "source": [
    "# use mapbox\n",
    "fig = px.choropleth_mapbox(df_counties, \n",
    "                            geojson=counties, \n",
    "                            locations=df_counties.index, \n",
    "                            color='percent_white',\n",
    "                            color_continuous_scale=\"Viridis\",\n",
    "                            mapbox_style=\"carto-positron\",\n",
    "                            zoom=3, center = {\"lat\": 37.0902, \"lon\": -120},\n",
    "                            opacity=0.5,\n",
    "                          )\n",
    "\n",
    "fig.update_layout(margin={\"r\":0,\"t\":0,\"l\":0,\"b\":0})\n",
    "fig.show()"
   ]
  },
  {
   "cell_type": "code",
   "execution_count": null,
   "metadata": {},
   "outputs": [],
   "source": []
  }
 ],
 "metadata": {
  "kernelspec": {
   "display_name": "Python 3",
   "language": "python",
   "name": "python3"
  },
  "language_info": {
   "codemirror_mode": {
    "name": "ipython",
    "version": 3
   },
   "file_extension": ".py",
   "mimetype": "text/x-python",
   "name": "python",
   "nbconvert_exporter": "python",
   "pygments_lexer": "ipython3",
   "version": "3.7.6"
  }
 },
 "nbformat": 4,
 "nbformat_minor": 4
}
