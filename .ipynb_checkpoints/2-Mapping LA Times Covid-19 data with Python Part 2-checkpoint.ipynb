{
 "cells": [
  {
   "cell_type": "markdown",
   "metadata": {
    "slideshow": {
     "slide_type": "slide"
    }
   },
   "source": [
    "# Interactive Web Maps of COVID19 data in Python"
   ]
  },
  {
   "cell_type": "markdown",
   "metadata": {
    "slideshow": {
     "slide_type": "slide"
    }
   },
   "source": [
    "## Libraries\n",
    "\n",
    "For this session, we will be using two libraries: folium and altair. Make sure to install the libraries using `pip` or `conda`. If you have reached this Jupyter notebook via the IDRE GitHub page, or, if you installed Anaconda and ran `requirements.txt`, your library should already be installed. If not, uncomment the install code below and run them.\n"
   ]
  },
  {
   "cell_type": "code",
   "execution_count": null,
   "metadata": {},
   "outputs": [],
   "source": [
    "# !conda install -c conda-forge folium"
   ]
  },
  {
   "cell_type": "markdown",
   "metadata": {
    "slideshow": {
     "slide_type": "slide"
    }
   },
   "source": [
    "Some resources:\n",
    "* official folium documentation: https://python-visualization.github.io/folium/index.html \n",
    "* https://coderzcolumn.com/tutorials/data-science/interactive-maps-choropleth-scattermap-using-folium\n",
    "* a simple jupyter notebook with examples: https://nbviewer.jupyter.org/github/python-visualization/folium/blob/master/examples/Features.ipynb\n",
    "* choropleth mapping: https://coderzcolumn.com/tutorials/data-science/interactive-maps-choropleth-scattermap-using-folium\n",
    "* working with geopandas: http://andrewgaidus.com/leaflet_webmaps_python/"
   ]
  },
  {
   "cell_type": "markdown",
   "metadata": {
    "slideshow": {
     "slide_type": "slide"
    }
   },
   "source": [
    "Import the folium library."
   ]
  },
  {
   "cell_type": "code",
   "execution_count": null,
   "metadata": {},
   "outputs": [],
   "source": [
    "import folium"
   ]
  },
  {
   "cell_type": "markdown",
   "metadata": {
    "slideshow": {
     "slide_type": "slide"
    }
   },
   "source": [
    "Create your first interactive map using the `folium.Map()` command. Notice the following common arguments:\n",
    "* `location` is an array of [latitute, longitude]\n",
    "* `zoom_start` is the default zoom level, 0 being the entire planet, 16 being very zoomed in (block level)\n",
    "* `control_scale` adds a scale to the map"
   ]
  },
  {
   "cell_type": "code",
   "execution_count": null,
   "metadata": {
    "slideshow": {
     "slide_type": "slide"
    }
   },
   "outputs": [],
   "source": [
    "# Create a Map instance\n",
    "map = folium.Map(location=[34,-118], \n",
    "               zoom_start=8, \n",
    "               control_scale=True\n",
    "                )\n",
    "\n",
    "map"
   ]
  },
  {
   "cell_type": "markdown",
   "metadata": {
    "slideshow": {
     "slide_type": "slide"
    }
   },
   "source": [
    "You can choose to display a different basemap using the `tiles` property:\n",
    "* `OpenStreetMap`\n",
    "* `Stamen` (Terrain, Toner, and Watercolor)\n",
    "* `CartoDB` (positron and dark_matter)"
   ]
  },
  {
   "cell_type": "code",
   "execution_count": null,
   "metadata": {},
   "outputs": [],
   "source": [
    "# Create a Map instance with different basemap\n",
    "map = folium.Map(location=[34,-118], \n",
    "               zoom_start=8, \n",
    "               control_scale=True,\n",
    "               height=400,\n",
    "               tiles='CartoDB dark_matter',\n",
    "               attr= '&copy; <a href=\"https://www.openstreetmap.org/copyright\">OpenStreetMap</a> contributors &copy; <a href=\"https://carto.com/attributions\">CARTO</a>')\n",
    "map"
   ]
  },
  {
   "cell_type": "markdown",
   "metadata": {
    "slideshow": {
     "slide_type": "slide"
    }
   },
   "source": [
    "## Vector layers\n",
    "You can add vector layers, that is, markers (points), circles, to the map. Here, we will add a `folium.CircleMarker()`.\n",
    "https://python-visualization.github.io/folium/modules.html#module-folium.vector_layers"
   ]
  },
  {
   "cell_type": "code",
   "execution_count": null,
   "metadata": {},
   "outputs": [],
   "source": [
    "# add a circle\n",
    "folium.Circle(\n",
    "    radius=10000,\n",
    "    location=[34,-118],\n",
    "    color='crimson',\n",
    "    fill=False,\n",
    ").add_to(map)\n",
    "map"
   ]
  },
  {
   "cell_type": "markdown",
   "metadata": {
    "slideshow": {
     "slide_type": "slide"
    }
   },
   "source": [
    "Reset the map by calling and recreating folium.Map() once again:"
   ]
  },
  {
   "cell_type": "code",
   "execution_count": null,
   "metadata": {
    "slideshow": {
     "slide_type": "-"
    }
   },
   "outputs": [],
   "source": [
    "# reset the map (only way to get rid of circles)\n",
    "map = folium.Map(location=[34,-118], \n",
    "                zoom_start=8, \n",
    "                control_scale=True,\n",
    "                height=400,\n",
    "                tiles='CartoDB dark_matter',\n",
    "                attr= '&copy; <a href=\"https://www.openstreetmap.org/copyright\">OpenStreetMap</a> contributors &copy; <a href=\"https://carto.com/attributions\">CARTO</a>')"
   ]
  },
  {
   "cell_type": "markdown",
   "metadata": {
    "slideshow": {
     "slide_type": "slide"
    }
   },
   "source": [
    "## Adding data to the interactive map\n",
    "Now that we know how to create an interactive map, let's add some data using the `pandas` library. We will grab the `latimes-place-totals` data table from the LA Times."
   ]
  },
  {
   "cell_type": "code",
   "execution_count": null,
   "metadata": {
    "slideshow": {
     "slide_type": "-"
    }
   },
   "outputs": [],
   "source": [
    "# get latimes covid19 data\n",
    "import pandas as pd\n",
    "\n",
    "latimes = pd.read_csv(\n",
    "    \"https://raw.githubusercontent.com/datadesk/california-coronavirus-data/master/latimes-place-totals.csv\"\n",
    ")\n",
    "latimes\n"
   ]
  },
  {
   "cell_type": "code",
   "execution_count": null,
   "metadata": {
    "slideshow": {
     "slide_type": "slide"
    }
   },
   "outputs": [],
   "source": []
  },
  {
   "cell_type": "code",
   "execution_count": null,
   "metadata": {},
   "outputs": [],
   "source": [
    "# create a subset dataset for a single day in Los Angeles\n",
    "latimes_today = latimes.query(\"date == '2020-07-18' & county == 'Los Angeles'\")\n",
    "latimes_today"
   ]
  },
  {
   "cell_type": "markdown",
   "metadata": {
    "slideshow": {
     "slide_type": "slide"
    }
   },
   "source": [
    "Check the data with a simple panda plot."
   ]
  },
  {
   "cell_type": "code",
   "execution_count": null,
   "metadata": {},
   "outputs": [],
   "source": [
    "latimes_today.plot(x ='x', y='y', kind = 'scatter')"
   ]
  },
  {
   "cell_type": "markdown",
   "metadata": {
    "slideshow": {
     "slide_type": "slide"
    }
   },
   "source": [
    "## Let's chart with altair\n",
    "* altair documentation: https://altair-viz.github.io/getting_started/overview.html"
   ]
  },
  {
   "cell_type": "code",
   "execution_count": null,
   "metadata": {},
   "outputs": [],
   "source": [
    "import altair as alt"
   ]
  },
  {
   "cell_type": "code",
   "execution_count": null,
   "metadata": {},
   "outputs": [],
   "source": [
    "# reset the map (only way to get rid of circles)\n",
    "map = folium.Map(location=[34,-118], \n",
    "                zoom_start=8, \n",
    "                control_scale=True,\n",
    "                height=400,\n",
    "                tiles='CartoDB dark_matter',\n",
    "                attr= '&copy; <a href=\"https://www.openstreetmap.org/copyright\">OpenStreetMap</a> contributors &copy; <a href=\"https://carto.com/attributions\">CARTO</a>')\n",
    "\n",
    "# create a function to create circles, and also add a chart in the popup window (a lot here, will break it up later)\n",
    "def createCircle(lat,lon,size,place,label):\n",
    "    bar = alt.Chart(latimes.query('place == @place')).mark_bar().encode(\n",
    "    #     x='date',\n",
    "        x=alt.X('date', axis=alt.Axis(labels=False)),\n",
    "        y='confirmed_cases',\n",
    "        color='confirmed_cases',\n",
    "        tooltip = ['date','place','confirmed_cases']\n",
    "    ).properties(width=400,height=200)\n",
    "\n",
    "    vega = folium.features.VegaLite(\n",
    "        bar,\n",
    "        width=600,\n",
    "        height=200,\n",
    "    )\n",
    "\n",
    "    circle = folium.Circle(\n",
    "        radius=size,\n",
    "        location=[lat,lon],\n",
    "        tooltip = label,\n",
    "        color='crimson',\n",
    "        fill = True\n",
    "    )\n",
    "\n",
    "    popup = folium.Popup()\n",
    "    vega.add_to(popup)\n",
    "    popup.add_to(circle)\n",
    "    \n",
    "    circle.add_to(map)\n",
    "    "
   ]
  },
  {
   "cell_type": "code",
   "execution_count": null,
   "metadata": {},
   "outputs": [],
   "source": [
    "# loop through the rows in Los Angeles, and create a circle based on confirmed cases\n",
    "for index, row in latimes_today.iterrows():\n",
    "    label = str(row['confirmed_cases']) + ' confirmed cases in ' + row['place']\n",
    "    createCircle(row['y'],row['x'],row['confirmed_cases'],row['place'],label)"
   ]
  },
  {
   "cell_type": "code",
   "execution_count": null,
   "metadata": {},
   "outputs": [],
   "source": [
    "map"
   ]
  },
  {
   "cell_type": "code",
   "execution_count": null,
   "metadata": {},
   "outputs": [],
   "source": []
  },
  {
   "cell_type": "code",
   "execution_count": null,
   "metadata": {},
   "outputs": [],
   "source": []
  }
 ],
 "metadata": {
  "celltoolbar": "Slideshow",
  "kernelspec": {
   "display_name": "Python 3",
   "language": "python",
   "name": "python3"
  },
  "language_info": {
   "codemirror_mode": {
    "name": "ipython",
    "version": 3
   },
   "file_extension": ".py",
   "mimetype": "text/x-python",
   "name": "python",
   "nbconvert_exporter": "python",
   "pygments_lexer": "ipython3",
   "version": "3.7.3"
  }
 },
 "nbformat": 4,
 "nbformat_minor": 4
}
