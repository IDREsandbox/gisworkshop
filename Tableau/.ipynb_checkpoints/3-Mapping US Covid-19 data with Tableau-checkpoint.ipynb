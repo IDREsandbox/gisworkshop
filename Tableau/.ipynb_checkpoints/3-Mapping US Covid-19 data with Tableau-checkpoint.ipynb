{
 "cells": [
  {
   "cell_type": "markdown",
   "metadata": {},
   "source": [
    "# Mapping Covid-19 data in Tableau\n",
    "\n",
    "- <a href=\"https://public.tableau.com/en-us/s/download\" target=\"_blank\">Tabeau Public Download</a>\n",
    "- <a href=\"https://www.tableau.com/covid-19-coronavirus-data-resources\" target=\"_blank\">Tableau Covid-19 Data Hub</a>\n",
    "- <a href=\"https://docs.google.com/spreadsheets/d/14quQPFErG-hlpsrNgYcX85vW7JMMK5X2vNZrafRcH8c/edit#gid=2087034741\" target=\"_blank\">Google sheet</a>\n",
    "\n",
    "# Part 2: Mapping US Data\n",
    "## Data\n",
    "\n",
    "Launch Tableau Public. Drag data into the window to begin. This is how data narratives begin.\n"
   ]
  },
  {
   "cell_type": "markdown",
   "metadata": {},
   "source": [
    "\n",
    "Map the US data as shown below. Notice that `Combined Key` is a unique identifyer that includes all scales of geography, therefore, it can serve as a way to display county level data.\n",
    "\n",
    "<img src=\"https://github.com/IDREsandbox/gisworkshop/raw/master/images/us1.png\">"
   ]
  },
  {
   "cell_type": "markdown",
   "metadata": {},
   "source": [
    "\n",
    "A close reading of the data reveals that while it contains data at the global level, it also has a whole bunch of data for the US. The map above attests to this. Let's filter the data to only show data within the US.\n",
    "\n",
    "Drag `Country Region` into the `Filters` box, and select `US` to filter the data to just show the US.\n",
    "\n",
    "<img src=\"https://github.com/IDREsandbox/gisworkshop/raw/master/images/us2.png\">"
   ]
  },
  {
   "cell_type": "markdown",
   "metadata": {},
   "source": [
    "\n",
    "We want to make sure this filter applies to all the sheets in this project. Click on the filter menu, and `Apply to Worksheets`, `All Using This Data Source`.\n",
    "\n",
    "<img src=\"https://github.com/IDREsandbox/gisworkshop/raw/master/images/us2b.png\">"
   ]
  },
  {
   "cell_type": "markdown",
   "metadata": {},
   "source": [
    "\n",
    "Now let's size the circles based on the number of cases in each location. This will be a cumulative (sum) total of all records, so select `Difference`.\n",
    "\n",
    "<img src=\"https://github.com/IDREsandbox/gisworkshop/raw/master/images/us3.png\">"
   ]
  },
  {
   "cell_type": "markdown",
   "metadata": {},
   "source": [
    "\n",
    "Since the data contains both confirmed and deaths, we need to display them separately. We can do so by splitting the map into two columns. Drag `Case Type` into the columns box and color it as well.\n",
    "\n",
    "<img src=\"https://github.com/IDREsandbox/gisworkshop/raw/master/images/us4.png\">"
   ]
  },
  {
   "cell_type": "markdown",
   "metadata": {},
   "source": [
    "\n",
    "Optionally, you can change the base map so that the data is easier to see.\n",
    "\n",
    "<img src=\"https://github.com/IDREsandbox/gisworkshop/raw/master/images/us5.png\">"
   ]
  },
  {
   "cell_type": "markdown",
   "metadata": {},
   "source": [
    "\n",
    "Tableau also allows you to add census layers. Note that the built in mapping census layers in Tableau are for view purposes only, and are not meaningful for spatial or statistical analysis.\n",
    "\n",
    "<img src=\"https://github.com/IDREsandbox/gisworkshop/raw/master/images/us6.png\">"
   ]
  },
  {
   "cell_type": "markdown",
   "metadata": {},
   "source": [
    "<img src=\"https://github.com/IDREsandbox/gisworkshop/raw/master/images/us7.png\">"
   ]
  },
  {
   "cell_type": "markdown",
   "metadata": {},
   "source": [
    "\n",
    "Don't forget to name your sheet.\n",
    "\n",
    "<img src=\"https://github.com/IDREsandbox/gisworkshop/raw/master/images/us8.png\">"
   ]
  },
  {
   "cell_type": "markdown",
   "metadata": {},
   "source": [
    "# Create your own index\n",
    "\n",
    "Absolute numbers are a measure of their own, but what if we wanted to display the number of cases per 1000 people? Per Capita is a popular method to show the proportional distribution, taking into account population density. Since the data also comes with a `Population` field, let's normalize the number of cases by population.\n",
    "\n",
    "Duplicate the map that was created in the previous section.\n",
    "\n",
    "<img src=\"https://github.com/IDREsandbox/gisworkshop/raw/master/images/us9b.png\">\n",
    "\n",
    "Now create your own index, name it `Cases per Capita` with the following forumla:\n",
    "\n",
    "`[Difference]/[Population Count]*1000`\n",
    "\n",
    "<img src=\"https://github.com/IDREsandbox/gisworkshop/raw/master/images/us10.png\">"
   ]
  },
  {
   "cell_type": "markdown",
   "metadata": {},
   "source": [
    "\n",
    "Drag your new index measure `Cases per Capita` into the `Size` box. It will replace the previous measure. Adjust the circle size as necessary.\n",
    "\n",
    "<img src=\"https://github.com/IDREsandbox/gisworkshop/raw/master/images/us10b.png\">"
   ]
  },
  {
   "cell_type": "markdown",
   "metadata": {},
   "source": [
    "\n",
    "# Create a Rankings Table\n",
    "\n",
    "Now we can create a table that shows Per Capita values and Difference values.\n",
    "\n",
    "Create a new sheet to do so.\n",
    "\n",
    "<img src=\"https://github.com/IDREsandbox/gisworkshop/raw/master/images/us11.png\">"
   ]
  },
  {
   "cell_type": "markdown",
   "metadata": {},
   "source": [
    "\n",
    "We can also create a drop down filter to show counties by state.\n",
    "\n",
    "Drag `Province State` into the filter box, and select all.\n",
    "\n",
    "<img src=\"https://github.com/IDREsandbox/gisworkshop/raw/master/images/us12.png\">"
   ]
  },
  {
   "cell_type": "markdown",
   "metadata": {},
   "source": [
    "\n",
    "Click on the drop down menu next to `Province State` in the filter box, and select `Show filter`. It should show up on the right panel.\n",
    "\n",
    "<img src=\"https://github.com/IDREsandbox/gisworkshop/raw/master/images/us13.png\">"
   ]
  },
  {
   "cell_type": "markdown",
   "metadata": {},
   "source": [
    "\n",
    "Click on the drop down option next to `Province State` on the right panel, and choose `Single Value Dropdown`.\n",
    "\n",
    "<img src=\"https://github.com/IDREsandbox/gisworkshop/raw/master/images/us14.png\">"
   ]
  },
  {
   "cell_type": "markdown",
   "metadata": {},
   "source": [
    "\n",
    "Make sure this filter applies to each of the worksheets, follow the steps below.\n",
    "\n",
    "<img src=\"https://github.com/IDREsandbox/gisworkshop/raw/master/images/us15.png\">"
   ]
  },
  {
   "cell_type": "markdown",
   "metadata": {},
   "source": [
    "We are done! Now create a dashboard, add all three sheets, and connect them by turning the filters white."
   ]
  }
 ],
 "metadata": {
  "kernelspec": {
   "display_name": "Python 3",
   "language": "python",
   "name": "python3"
  },
  "language_info": {
   "codemirror_mode": {
    "name": "ipython",
    "version": 3
   },
   "file_extension": ".py",
   "mimetype": "text/x-python",
   "name": "python",
   "nbconvert_exporter": "python",
   "pygments_lexer": "ipython3",
   "version": "3.7.3"
  }
 },
 "nbformat": 4,
 "nbformat_minor": 4
}
