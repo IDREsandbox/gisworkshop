{
 "cells": [
  {
   "cell_type": "markdown",
   "metadata": {
    "slideshow": {
     "slide_type": "slide"
    }
   },
   "source": [
    "July 21, 2020\n",
    "\n",
    "\n",
    "To get started, go to:\n",
    "\n",
    "# https://github.com/IDREsandbox/gisworkshop\n",
    "\n",
    "Then, click on the JupyterHub or Binder link at the bottom of the page\n",
    "\n",
    "\n",
    "<i>Note: This workshop will be recorded</i>\n"
   ]
  },
  {
   "cell_type": "markdown",
   "metadata": {
    "slideshow": {
     "slide_type": "slide"
    }
   },
   "source": [
    "### Who are you?\n",
    "\n",
    "<img src=\"images/whoareyou.png\" style=\"width:800px\">\n"
   ]
  },
  {
   "cell_type": "markdown",
   "metadata": {
    "slideshow": {
     "slide_type": "slide"
    }
   },
   "source": [
    "<img src=\"images/haveyougis.png\" style=\"width:800px\">"
   ]
  },
  {
   "cell_type": "markdown",
   "metadata": {
    "slideshow": {
     "slide_type": "slide"
    }
   },
   "source": [
    "<img src=\"images/haveyoupython.png\" style=\"width:800px\">"
   ]
  },
  {
   "cell_type": "markdown",
   "metadata": {
    "slideshow": {
     "slide_type": "slide"
    }
   },
   "source": [
    "# Introduction to Spatial Analysis with Python\n",
    "\n",
    "<img src=\"images/intro.png\" style=\"height:500px\">\n",
    "\n",
    "Workshop survey:\n",
    "https://bit.ly/2VkkyXm"
   ]
  },
  {
   "cell_type": "markdown",
   "metadata": {
    "slideshow": {
     "slide_type": "slide"
    }
   },
   "source": [
    "#### Part 1: Mapping California Coronavirus Data\n",
    "- Jupyter Notebooks\n",
    "- Using Python in Jupyter Notebooks\n",
    "- Using Python libraries: pandas and plotly express\n",
    "\n",
    "#### Part 2: Interactive Web Mapping\n",
    "- Interactive web-mapping within Jupyter Notebooks\n",
    "- Using Python libraries: folium and altair\n"
   ]
  },
  {
   "cell_type": "markdown",
   "metadata": {
    "slideshow": {
     "slide_type": "slide"
    }
   },
   "source": [
    "# Hello Jupyter Newbies\n",
    "\n",
    "If this is the first time for you to use Jupyter Notebooks, I highly recommend you visit the help link below. You can also take Ben Winjum's excellent \"Introduction to Jupyter\" course which is available on our YouTube channel:\n",
    "\n",
    "- https://www.youtube.com/watch?v=vqlJCBHQaHc\n",
    "\n",
    "You can also find some useful information on their official documentation:\n",
    "\n",
    "- About this interface https://jupyterlab.readthedocs.io/en/stable/user/interface.html"
   ]
  },
  {
   "cell_type": "markdown",
   "metadata": {
    "slideshow": {
     "slide_type": "slide"
    }
   },
   "source": [
    "In order to run the code sequentially on this page, highlight a cell (you should see a blue bar on the left side) and use the following keyboard shortcut to run the cell:\n",
    "\n",
    "- `shift + enter`\n",
    "\n",
    "This should take you to the next cell, where you can repeat `shift + enter` until you reach the end. You can modify the contents of any cell to experiment with the code, but note that doing so may impact the subsequent code."
   ]
  },
  {
   "cell_type": "markdown",
   "metadata": {
    "slideshow": {
     "slide_type": "slide"
    }
   },
   "source": [
    "Jupyter Notebooks have two different keyboard input modes:\n",
    "\n",
    "<b>Command mode</b> - A selected cell that is indicated by a blue left margin.\n",
    "\n",
    "<b>Edit mode</b> - when you’re typing in a cell. Indicated by a blinking cursor inside the cell."
   ]
  },
  {
   "cell_type": "markdown",
   "metadata": {},
   "source": [
    "<b>Command Mode</b>\n",
    "\n",
    "* `shift + enter` run cell, select below\n",
    "* `ctrl + enter` run cell\n",
    "* `option (mac) or alt (pc) + enter` run cell, insert below\n",
    "* `A` insert cell above\n",
    "* `B` insert cell below\n",
    "* `C` copy cell\n",
    "* `V` paste cell\n",
    "* `D , D` delete selected cell\n",
    "* `Y` change cell to code mode\n",
    "* `M` change cell to markdown mode (good for documentation)"
   ]
  },
  {
   "cell_type": "markdown",
   "metadata": {
    "slideshow": {
     "slide_type": "slide"
    }
   },
   "source": [
    "<b>Edit Mode</b>\n",
    "* `cmd (ctrl) + click` for multi-cursor editing\n",
    "* `cmd (ctrl) + /` toggle comment lines\n",
    "* `tab` code completion or indent\n",
    "* `shift + tab` tooltip\n",
    "* `ctrl + shift + -` split cell\n",
    "* `shift + M` merge cells"
   ]
  },
  {
   "cell_type": "code",
   "execution_count": null,
   "metadata": {},
   "outputs": [],
   "source": [
    "# practice edit mode\n",
    "mynum = 3\n",
    "\n",
    "for x in range(5):\n",
    "    print(x*mynum)"
   ]
  },
  {
   "cell_type": "markdown",
   "metadata": {
    "slideshow": {
     "slide_type": "slide"
    }
   },
   "source": [
    "## A \"Spatial\" Data Science Approach"
   ]
  },
  {
   "cell_type": "markdown",
   "metadata": {
    "slideshow": {
     "slide_type": "slide"
    }
   },
   "source": [
    "<img src=\"images/spatialdatascience.png\" style=\"height:700px\">\n",
    "Source: <a href=\"https://carto.com/what-is-spatial-data-science/\" target=\"_blank\">Carto</a>"
   ]
  },
  {
   "cell_type": "markdown",
   "metadata": {
    "slideshow": {
     "slide_type": "slide"
    }
   },
   "source": [
    "## Our Workflow\n",
    "\n",
    "1. Find and acquire data\n",
    "1. Manage and clean the data\n",
    "1. Explore\n",
    "1. Model\n",
    "1. Communicate/visualize"
   ]
  },
  {
   "cell_type": "markdown",
   "metadata": {
    "slideshow": {
     "slide_type": "slide"
    }
   },
   "source": [
    "## Our Data\n",
    "\n",
    "The LA Times Data Desk team has taken the lead to centralize Los Angeles based COVID-19 related datasets. Shortly after the pandemic erupted in the US, they have maintained the following page to report real-time statistics.\n",
    "\n",
    "<img src=\"images/latimes.png\" style=\"height:300px\">\n",
    "\n",
    "https://www.latimes.com/projects/california-coronavirus-cases-tracking-outbreak/"
   ]
  },
  {
   "cell_type": "markdown",
   "metadata": {
    "slideshow": {
     "slide_type": "slide"
    }
   },
   "source": [
    "In order to maintain transparency over their methods, they have made multiple datasets available on this GitHub page, allowing academics to use it for research purposes under these terms and services (https://www.latimes.com/terms-of-service).\n",
    "\n",
    "\n",
    "https://github.com/datadesk/california-coronavirus-data"
   ]
  },
  {
   "cell_type": "markdown",
   "metadata": {
    "slideshow": {
     "slide_type": "slide"
    }
   },
   "source": [
    "## Libraries\n",
    "\n",
    "For this session, we will be using two libraries: plotly and pandas. Make sure to install the libraries using `pip` or `conda`. If you have reached this Jupyter notebook via the IDRE GitHub page, or, if you installed Anaconda and ran `requirements.txt`, your library should already be installed. If not, uncomment the install code below and run them.\n",
    "\n",
    "<img src=\"images/pandas.png\" style=\"height:250px\">\n",
    "<img src=\"images/plotly.png\" >"
   ]
  },
  {
   "cell_type": "code",
   "execution_count": null,
   "metadata": {
    "slideshow": {
     "slide_type": "skip"
    }
   },
   "outputs": [],
   "source": [
    "# !conda install plotly --yes\n",
    "# !conda install pandas"
   ]
  },
  {
   "cell_type": "markdown",
   "metadata": {
    "slideshow": {
     "slide_type": "slide"
    }
   },
   "source": [
    "Import libraries\n",
    "- Plotly Express documentation https://plotly.com/python/plotly-express/\n",
    "- Pandas: https://pandas.pydata.org/docs/"
   ]
  },
  {
   "cell_type": "code",
   "execution_count": null,
   "metadata": {
    "slideshow": {
     "slide_type": "-"
    }
   },
   "outputs": [],
   "source": [
    "import plotly.express as px\n",
    "import pandas as pd"
   ]
  },
  {
   "cell_type": "markdown",
   "metadata": {
    "slideshow": {
     "slide_type": "slide"
    }
   },
   "source": [
    "## Using Python's pandas library to get data\n",
    "\n",
    "Get the data from LA Times directly from their github page using `.read_csv(url link)`. By doing so, it ensures that we are grabbling the latest dataset that they have uploaded on their site. Note that it also adds the risk that if they change their data model, it can potentially break the methods used in this session.\n",
    "\n",
    "Data source: https://github.com/datadesk/california-coronavirus-data\n"
   ]
  },
  {
   "cell_type": "code",
   "execution_count": null,
   "metadata": {
    "slideshow": {
     "slide_type": "-"
    }
   },
   "outputs": [],
   "source": [
    "latimes = pd.read_csv(\n",
    "    \"https://raw.githubusercontent.com/datadesk/california-coronavirus-data/master/latimes-place-totals.csv\"\n",
    ")"
   ]
  },
  {
   "cell_type": "markdown",
   "metadata": {
    "slideshow": {
     "slide_type": "skip"
    }
   },
   "source": [
    "Note that you can always find help for a method using the following command:"
   ]
  },
  {
   "cell_type": "code",
   "execution_count": null,
   "metadata": {
    "slideshow": {
     "slide_type": "skip"
    }
   },
   "outputs": [],
   "source": [
    "# ?pd.read_csv"
   ]
  },
  {
   "cell_type": "markdown",
   "metadata": {
    "slideshow": {
     "slide_type": "slide"
    }
   },
   "source": [
    "Preview the data by typing the variable name out. If you are using command line and not Jupyter, you have to use the print() method."
   ]
  },
  {
   "cell_type": "code",
   "execution_count": null,
   "metadata": {
    "slideshow": {
     "slide_type": "-"
    }
   },
   "outputs": [],
   "source": [
    "latimes\n",
    "# if using command line\n",
    "# print(latimes)"
   ]
  },
  {
   "cell_type": "markdown",
   "metadata": {
    "slideshow": {
     "slide_type": "slide"
    }
   },
   "source": [
    "You can also just output the first 5 rows using `.head()`."
   ]
  },
  {
   "cell_type": "code",
   "execution_count": null,
   "metadata": {
    "slideshow": {
     "slide_type": "-"
    }
   },
   "outputs": [],
   "source": [
    "latimes.head()"
   ]
  },
  {
   "cell_type": "markdown",
   "metadata": {
    "slideshow": {
     "slide_type": "slide"
    }
   },
   "source": [
    "How many rows and columns? Use the `.shape` method by typing it in below (note that for .shape, you do not need the parentheses) "
   ]
  },
  {
   "cell_type": "code",
   "execution_count": null,
   "metadata": {
    "slideshow": {
     "slide_type": "-"
    }
   },
   "outputs": [],
   "source": []
  },
  {
   "cell_type": "markdown",
   "metadata": {
    "slideshow": {
     "slide_type": "slide"
    }
   },
   "source": [
    "Output the columns using the  `.columns` method."
   ]
  },
  {
   "cell_type": "code",
   "execution_count": null,
   "metadata": {
    "slideshow": {
     "slide_type": "-"
    }
   },
   "outputs": [],
   "source": []
  },
  {
   "cell_type": "markdown",
   "metadata": {
    "slideshow": {
     "slide_type": "slide"
    }
   },
   "source": [
    "## Cleaning the data\n",
    "\n",
    "Data is not perfect. In fact, data is never perfect. After a close reading of the data, the need to filter out problematic records becomes necessary. For this session, let us filter out the following:\n",
    "\n",
    "- empty confirmed_cases values (NaN's) \n",
    "    - `confirmed_cases == 'NaN'`\n",
    "- empty coordinates\n",
    "    - `\"x=='NaN'\"`\n",
    "    - `\"y=='NaN'\"`\n",
    "- incorrect coordinates (ie, positive longitudes which are not possible in California)\n",
    "    - `x < 0`\n",
    "- null dates\n",
    "    - `date.notnull()`"
   ]
  },
  {
   "cell_type": "markdown",
   "metadata": {
    "slideshow": {
     "slide_type": "slide"
    }
   },
   "source": [
    "We will do so by using the pandas `.query()` method (https://pandas.pydata.org/pandas-docs/stable/reference/api/pandas.DataFrame.query.html). This allows us to query and filter the dataset using SQL syntax.\n",
    "\n",
    "First, let's see if there are any records with `NaN` values for confirmed_cases:"
   ]
  },
  {
   "cell_type": "code",
   "execution_count": null,
   "metadata": {
    "slideshow": {
     "slide_type": "-"
    }
   },
   "outputs": [],
   "source": [
    "latimes.query(\"confirmed_cases == 'NaN'\")"
   ]
  },
  {
   "cell_type": "markdown",
   "metadata": {
    "slideshow": {
     "slide_type": "slide"
    }
   },
   "source": [
    "What about `NaN` values for x?"
   ]
  },
  {
   "cell_type": "code",
   "execution_count": null,
   "metadata": {
    "slideshow": {
     "slide_type": "-"
    }
   },
   "outputs": [],
   "source": [
    "latimes.query(\"x == 'NaN'\")"
   ]
  },
  {
   "cell_type": "markdown",
   "metadata": {
    "slideshow": {
     "slide_type": "slide"
    }
   },
   "source": [
    "And what about `y`? Try it on your own:"
   ]
  },
  {
   "cell_type": "code",
   "execution_count": null,
   "metadata": {
    "scrolled": true,
    "slideshow": {
     "slide_type": "-"
    }
   },
   "outputs": [],
   "source": []
  },
  {
   "cell_type": "code",
   "execution_count": null,
   "metadata": {
    "slideshow": {
     "slide_type": "slide"
    }
   },
   "outputs": [],
   "source": [
    "# What about positive x (longitude) coordinates?\n",
    "latimes.query(\"x > 0\")"
   ]
  },
  {
   "cell_type": "code",
   "execution_count": null,
   "metadata": {},
   "outputs": [],
   "source": [
    "# any null dates?\n",
    "latimes.query(\"date.isnull()\", engine='python')"
   ]
  },
  {
   "cell_type": "markdown",
   "metadata": {
    "slideshow": {
     "slide_type": "slide"
    }
   },
   "source": [
    "Now combine all those arguments into a single `.query()` statement to update our data. Notice that we are reversing the conditions, so instead of `==`, using not equals `!=` to filter data:"
   ]
  },
  {
   "cell_type": "code",
   "execution_count": null,
   "metadata": {
    "slideshow": {
     "slide_type": "-"
    }
   },
   "outputs": [],
   "source": [
    "latimes = latimes.query(\"confirmed_cases != 'NaN' & x < 0 & x != 'NaN' & date.notnull()\", engine='python')\n",
    "latimes.head()"
   ]
  },
  {
   "cell_type": "markdown",
   "metadata": {
    "slideshow": {
     "slide_type": "slide"
    }
   },
   "source": [
    "How many records do we have now? And how does it compare with the number of records prior to the cleanup?"
   ]
  },
  {
   "cell_type": "code",
   "execution_count": null,
   "metadata": {
    "slideshow": {
     "slide_type": "-"
    }
   },
   "outputs": [],
   "source": []
  },
  {
   "cell_type": "markdown",
   "metadata": {
    "slideshow": {
     "slide_type": "slide"
    }
   },
   "source": [
    "## Find the most recent date\n",
    "\n",
    "Our data, with over 80,000 records, is large. Let's create a sub table for the most current date, which is most likely yesterday. \n",
    "\n",
    "First, order the data by date using the `.sort_values()` pandas function (<a href=\"https://pandas.pydata.org/pandas-docs/stable/reference/api/pandas.DataFrame.sort_values.html\" target=\"_blank\">pandas sort_values</a>):\n"
   ]
  },
  {
   "cell_type": "code",
   "execution_count": null,
   "metadata": {
    "slideshow": {
     "slide_type": "-"
    }
   },
   "outputs": [],
   "source": [
    "latimes = latimes.sort_values(by=[\"date\"], ascending=True)"
   ]
  },
  {
   "cell_type": "markdown",
   "metadata": {
    "slideshow": {
     "slide_type": "slide"
    }
   },
   "source": [
    "Output the last entries to see the most recent date in the table. Use `tail()` instead of `head()`:"
   ]
  },
  {
   "cell_type": "code",
   "execution_count": null,
   "metadata": {
    "slideshow": {
     "slide_type": "-"
    }
   },
   "outputs": [],
   "source": [
    "latimes.tail()"
   ]
  },
  {
   "cell_type": "markdown",
   "metadata": {
    "slideshow": {
     "slide_type": "slide"
    }
   },
   "source": [
    "What is date of the last entry in our database? Let's use pandas `.iloc` <a href=\"https://pandas.pydata.org/pandas-docs/stable/reference/api/pandas.DataFrame.iloc.html\" target=\"_blank\">iloc method</a> (index location) to grab the last date.\n",
    "\n",
    "* to get a value from the <b>first</b> row of a dataset: `iloc[0]['column_name']`\n",
    "\n",
    "* to get a value from the <b>last</b> row of a dataset: `iloc[-1]['column_name']`."
   ]
  },
  {
   "cell_type": "code",
   "execution_count": null,
   "metadata": {},
   "outputs": [],
   "source": []
  },
  {
   "cell_type": "code",
   "execution_count": null,
   "metadata": {
    "slideshow": {
     "slide_type": "slide"
    }
   },
   "outputs": [],
   "source": [
    "# put it in a variable `lastdate`\n",
    "lastdate = latimes.iloc[-1]['date']\n",
    "lastdate"
   ]
  },
  {
   "cell_type": "markdown",
   "metadata": {
    "slideshow": {
     "slide_type": "slide"
    }
   },
   "source": [
    "Create a new dataset that will hold the data filtered by `lastdate` using `.query`. Notice the `@` sign in front of `lastdate` within the query argument, which indicates that it is referencing a variable.\n",
    "* `.query` documentation: https://pandas.pydata.org/pandas-docs/stable/reference/api/pandas.DataFrame.query.html"
   ]
  },
  {
   "cell_type": "code",
   "execution_count": null,
   "metadata": {
    "slideshow": {
     "slide_type": "-"
    }
   },
   "outputs": [],
   "source": [
    "latimes_single_day = latimes.query('date==@lastdate')\n",
    "latimes_single_day"
   ]
  },
  {
   "cell_type": "markdown",
   "metadata": {
    "slideshow": {
     "slide_type": "slide"
    }
   },
   "source": [
    "Create a variable `latimes_LA` that is a filter for just Los Angeles County data."
   ]
  },
  {
   "cell_type": "code",
   "execution_count": null,
   "metadata": {
    "slideshow": {
     "slide_type": "-"
    }
   },
   "outputs": [],
   "source": [
    "latimes_LA = latimes.query(\"county=='Los Angeles'\")"
   ]
  },
  {
   "cell_type": "markdown",
   "metadata": {
    "slideshow": {
     "slide_type": "slide"
    }
   },
   "source": [
    "Now we have three datasets to work with:\n",
    "- `latimes`: the entire database\n",
    "- `latimes_single_day`: filtered for one day\n",
    "- `latimes_LA`: just Los Angeles County data\n"
   ]
  },
  {
   "cell_type": "markdown",
   "metadata": {
    "slideshow": {
     "slide_type": "slide"
    }
   },
   "source": [
    "# Stats\n",
    "Get some stats about our data using <a href=\"https://pandas.pydata.org/pandas-docs/stable/reference/api/pandas.DataFrame.describe.html\" target=\"_blank\">.describe()</a>."
   ]
  },
  {
   "cell_type": "code",
   "execution_count": null,
   "metadata": {
    "slideshow": {
     "slide_type": "-"
    }
   },
   "outputs": [],
   "source": [
    "latimes.confirmed_cases.describe()"
   ]
  },
  {
   "cell_type": "markdown",
   "metadata": {
    "slideshow": {
     "slide_type": "slide"
    }
   },
   "source": [
    "You can use `describe()` on grouped rows, such as by county:"
   ]
  },
  {
   "cell_type": "code",
   "execution_count": null,
   "metadata": {
    "slideshow": {
     "slide_type": "-"
    }
   },
   "outputs": [],
   "source": [
    "latimes.groupby(\"county\").confirmed_cases.describe()"
   ]
  },
  {
   "cell_type": "markdown",
   "metadata": {
    "slideshow": {
     "slide_type": "slide"
    }
   },
   "source": [
    "Sort the table by `max` values."
   ]
  },
  {
   "cell_type": "code",
   "execution_count": null,
   "metadata": {
    "slideshow": {
     "slide_type": "-"
    }
   },
   "outputs": [],
   "source": [
    "latimes.groupby(\"county\").confirmed_cases.describe().sort_values(by=[\"max\"], ascending=False)"
   ]
  },
  {
   "cell_type": "markdown",
   "metadata": {
    "slideshow": {
     "slide_type": "slide"
    }
   },
   "source": [
    "Now imagine we want to dig in further, and want to find out what is going on within Los Angeles. Let's try that by places in Los Angeles. Use our subset dataset for Los Angeles `latimes_LA` and group by `place`:"
   ]
  },
  {
   "cell_type": "code",
   "execution_count": null,
   "metadata": {
    "slideshow": {
     "slide_type": "-"
    }
   },
   "outputs": [],
   "source": [
    "latimes_LA.groupby(\"place\").confirmed_cases.describe().sort_values(by=[\"max\"], ascending=False).head(50)"
   ]
  },
  {
   "cell_type": "markdown",
   "metadata": {
    "slideshow": {
     "slide_type": "slide"
    }
   },
   "source": [
    "## Explore the data... bar charts to the rescue!\n",
    "We will use the <a href=\"https://plotly.com/python/plotly-express/\" target=\"_blank\">plotly express</a> library, which claims to be a \"terse, consistent, high-level API for rapid data exploration and figure generation.\" It is also great for producing quick and easy maps, which is one of the main goals in this session! And, unlike other libraries, plotly express allows for user interaction with the graphic elements it produces.\n",
    "<img src=\"images/plotly.png\">"
   ]
  },
  {
   "cell_type": "markdown",
   "metadata": {
    "slideshow": {
     "slide_type": "slide"
    }
   },
   "source": [
    "We know that the original dataset titled `la-times-place-totals.csv` is about covid-19 cases by place. Places are units derived from neighborhoods. Let's create a bar chart (<a href=\"https://plotly.com/python/bar-charts/\" target=\"_blank\">using plotly express</a>) of a very familiar neighborhood by UCLA:"
   ]
  },
  {
   "cell_type": "code",
   "execution_count": null,
   "metadata": {},
   "outputs": [],
   "source": [
    "WestLA = latimes.query(\"place == ['Westwood']\")\n",
    "px.bar(WestLA,\n",
    "      x='date',\n",
    "      y='confirmed_cases')"
   ]
  },
  {
   "cell_type": "markdown",
   "metadata": {
    "slideshow": {
     "slide_type": "slide"
    }
   },
   "source": [
    "What about multiple places in one chart? Create a list of places, and query it by that list. Feel free to modify the list by adding places of interest:"
   ]
  },
  {
   "cell_type": "code",
   "execution_count": null,
   "metadata": {
    "slideshow": {
     "slide_type": "-"
    }
   },
   "outputs": [],
   "source": [
    "WestLA = latimes.query(\"place == ['Westwood','Santa Monica','Culver City']\")\n",
    "px.bar(WestLA,\n",
    "      x='date',\n",
    "      y='confirmed_cases')"
   ]
  },
  {
   "cell_type": "markdown",
   "metadata": {
    "slideshow": {
     "slide_type": "slide"
    }
   },
   "source": [
    "How about a legend, and colors to represent different neighborhoods in our stacked chart?"
   ]
  },
  {
   "cell_type": "code",
   "execution_count": null,
   "metadata": {
    "slideshow": {
     "slide_type": "-"
    }
   },
   "outputs": [],
   "source": [
    "WestLA = latimes.query(\"place == ['Westwood','Culver City','Santa Monica']\")\n",
    "px.bar(WestLA,\n",
    "      x='date',\n",
    "      y='confirmed_cases',\n",
    "      color = 'place')"
   ]
  },
  {
   "cell_type": "markdown",
   "metadata": {
    "slideshow": {
     "slide_type": "slide"
    }
   },
   "source": [
    "You can also separate each neighborhood into its own chart using `facet_row`:"
   ]
  },
  {
   "cell_type": "code",
   "execution_count": null,
   "metadata": {},
   "outputs": [],
   "source": [
    "WestLA = latimes.query(\"place == ['Westwood','Culver City','Santa Monica']\")\n",
    "px.bar(WestLA,\n",
    "      x='date',\n",
    "      y='confirmed_cases',\n",
    "      color = 'place',\n",
    "      facet_row=\"place\")"
   ]
  },
  {
   "cell_type": "markdown",
   "metadata": {
    "slideshow": {
     "slide_type": "slide"
    }
   },
   "source": [
    "# Scatter Plots\n",
    "\n",
    "Documentation: https://plotly.com/python/line-and-scatter/\n"
   ]
  },
  {
   "cell_type": "markdown",
   "metadata": {
    "slideshow": {
     "slide_type": "slide"
    }
   },
   "source": [
    "To create a scatter plot use the `px.scatter` function. The first argument must be the data frame you want to feed it, in this case, we will use our single day dataset, `latimes_single_day`. It must be followed with `x` and `y` values. \n",
    "\n",
    "A scatter plot is dictated by an x and a y axis. So too are spatial coordinates, albeit complicated by its spherical nature. Plot the `latimes_LA` data with lat/lon's on the axis. Also add `hover_name='place'` to display the place name when you hover over a point. I have also added `render_mode=\"svg\"` as chrome has issues with the default mode, which is `webgl`."
   ]
  },
  {
   "cell_type": "code",
   "execution_count": null,
   "metadata": {
    "scrolled": true,
    "slideshow": {
     "slide_type": "slide"
    }
   },
   "outputs": [],
   "source": [
    "px.scatter(latimes_single_day,\n",
    "           x='x',\n",
    "           y='y',\n",
    "           hover_name='place')"
   ]
  },
  {
   "cell_type": "markdown",
   "metadata": {
    "slideshow": {
     "slide_type": "slide"
    }
   },
   "source": [
    "Let's add some color. Color code the dots by confirmed cases."
   ]
  },
  {
   "cell_type": "code",
   "execution_count": null,
   "metadata": {
    "slideshow": {
     "slide_type": "-"
    }
   },
   "outputs": [],
   "source": [
    "px.scatter(latimes_single_day,\n",
    "           x='x',\n",
    "           y='y',\n",
    "           hover_name='place',\n",
    "           color='confirmed_cases')"
   ]
  },
  {
   "cell_type": "markdown",
   "metadata": {
    "slideshow": {
     "slide_type": "slide"
    }
   },
   "source": [
    "The colors are hard to see, especially when many points are clustered around the same area. Let's use `size`, `size_max` (in pixels) as another visual measure for size."
   ]
  },
  {
   "cell_type": "code",
   "execution_count": null,
   "metadata": {
    "slideshow": {
     "slide_type": "-"
    }
   },
   "outputs": [],
   "source": [
    "px.scatter(latimes_single_day,\n",
    "           x='x',\n",
    "           y='y',\n",
    "           color='confirmed_cases', \n",
    "           size='confirmed_cases',\n",
    "           size_max=40, \n",
    "           hover_name='place',\n",
    "           title = 'Confirmed Cases for ' + lastdate)"
   ]
  },
  {
   "cell_type": "markdown",
   "metadata": {
    "slideshow": {
     "slide_type": "slide"
    }
   },
   "source": [
    "You can change the color scale with `color_continuous_scale`. Check out the available values here: https://plotly.com/python/builtin-colorscales/\n"
   ]
  },
  {
   "cell_type": "code",
   "execution_count": null,
   "metadata": {
    "slideshow": {
     "slide_type": "-"
    }
   },
   "outputs": [],
   "source": [
    "px.scatter(latimes_single_day,\n",
    "           x='x',\n",
    "           y='y',\n",
    "           color='confirmed_cases', \n",
    "           size='confirmed_cases',\n",
    "           size_max=40, \n",
    "           hover_name='place',\n",
    "           color_continuous_scale = 'RdYlGn_r') # added _r to reverse color scheme"
   ]
  },
  {
   "cell_type": "markdown",
   "metadata": {
    "slideshow": {
     "slide_type": "slide"
    }
   },
   "source": [
    "You can also define a range `range_color` to control the lower and upper bounds of the color scale. First, get the mean of our single day dataset in order to define a relevant range:"
   ]
  },
  {
   "cell_type": "code",
   "execution_count": null,
   "metadata": {},
   "outputs": [],
   "source": [
    "latimes_single_day_mean = latimes_single_day.confirmed_cases.mean()\n",
    "latimes_single_day_mean"
   ]
  },
  {
   "cell_type": "markdown",
   "metadata": {
    "slideshow": {
     "slide_type": "slide"
    }
   },
   "source": [
    "Now that you know the mean, let's use that as the halfway point of our continuous scale, and therefore double the number to create our range."
   ]
  },
  {
   "cell_type": "code",
   "execution_count": null,
   "metadata": {
    "slideshow": {
     "slide_type": "-"
    }
   },
   "outputs": [],
   "source": [
    "px.scatter(latimes_single_day,\n",
    "           x='x',\n",
    "           y='y',\n",
    "           color='confirmed_cases', \n",
    "           size='confirmed_cases',\n",
    "           size_max=40, \n",
    "           hover_name='place',\n",
    "           color_continuous_scale = 'RdYlGn_r', # added _r to reverse color scheme\n",
    "           range_color = (0,latimes_single_day_mean * 2) # double the mean\n",
    "          )"
   ]
  },
  {
   "cell_type": "markdown",
   "metadata": {
    "slideshow": {
     "slide_type": "slide"
    }
   },
   "source": [
    "# Animated scatter\n",
    "\n",
    "- https://plotly.com/python/animations/\n",
    "\n",
    "Previously, we were looking at all the data on a plot. We can create a frame for each date in the data, and then \"play\" it over time to animate it. Let's do so for just the LA County data, using `latimes_LA` as our data frame. Add `animation_frame` and `animation_group` to your scatter arguments.\n"
   ]
  },
  {
   "cell_type": "code",
   "execution_count": null,
   "metadata": {},
   "outputs": [],
   "source": [
    "latimes_LA_mean = latimes_LA.confirmed_cases.mean()\n",
    "latimes_LA_mean"
   ]
  },
  {
   "cell_type": "code",
   "execution_count": null,
   "metadata": {
    "slideshow": {
     "slide_type": "slide"
    }
   },
   "outputs": [],
   "source": [
    "px.scatter(latimes_LA,\n",
    "           x='x',\n",
    "           y='y',\n",
    "           color='confirmed_cases', \n",
    "           size='confirmed_cases',\n",
    "           size_max=40, \n",
    "           hover_name='place',\n",
    "           animation_frame='date', # this creates a frame by frame animation by day\n",
    "           color_continuous_scale = 'RdYlGn_r',\n",
    "           range_color = (0,latimes_LA_mean*2))"
   ]
  },
  {
   "cell_type": "markdown",
   "metadata": {
    "slideshow": {
     "slide_type": "slide"
    }
   },
   "source": [
    "# Putting it on a map\n",
    "\n",
    "https://plotly.com/python/scatter-plots-on-maps/\n"
   ]
  },
  {
   "cell_type": "markdown",
   "metadata": {
    "slideshow": {
     "slide_type": "-"
    }
   },
   "source": [
    "The `scatter_geo` method puts your data on a map. Note that there are limitations. The geographic scope allows for global, continental, and USA maps, so this is not suitable for more localized data."
   ]
  },
  {
   "cell_type": "code",
   "execution_count": null,
   "metadata": {
    "slideshow": {
     "slide_type": "slide"
    }
   },
   "outputs": [],
   "source": [
    "fig = px.scatter_geo(latimes_single_day,\n",
    "           lon='x',\n",
    "           lat='y',\n",
    "           color='confirmed_cases', \n",
    "           size='confirmed_cases',\n",
    "           size_max=40, \n",
    "           hover_name='place',\n",
    "           scope='usa',\n",
    "           color_continuous_scale = 'RdYlGn_r',\n",
    "           range_color = (0,latimes_single_day_mean * 2) # double the mean \n",
    "            )\n",
    "\n",
    "fig.update_geos(fitbounds=\"locations\") "
   ]
  },
  {
   "cell_type": "code",
   "execution_count": null,
   "metadata": {
    "slideshow": {
     "slide_type": "slide"
    }
   },
   "outputs": [],
   "source": [
    "fig = px.scatter_geo(latimes_LA,\n",
    "           lon='x',\n",
    "           lat='y',\n",
    "           color='confirmed_cases', \n",
    "           size='confirmed_cases',\n",
    "           size_max=40, \n",
    "           hover_name='place',\n",
    "           scope='usa',                     \n",
    "           animation_frame='date',\n",
    "           color_continuous_scale = 'RdYlGn_r',\n",
    "           range_color = (0,latimes_LA_mean*2))\n",
    "\n",
    "fig.update_geos(fitbounds=\"locations\") "
   ]
  },
  {
   "cell_type": "markdown",
   "metadata": {
    "slideshow": {
     "slide_type": "slide"
    }
   },
   "source": [
    "# Post workshop survey\n",
    "Please take the following survey if you participated in any part of this workshop.\n",
    "\n",
    "https://bit.ly/2VkkyXm"
   ]
  }
 ],
 "metadata": {
  "celltoolbar": "Slideshow",
  "kernelspec": {
   "display_name": "Python 3",
   "language": "python",
   "name": "python3"
  },
  "language_info": {
   "codemirror_mode": {
    "name": "ipython",
    "version": 3
   },
   "file_extension": ".py",
   "mimetype": "text/x-python",
   "name": "python",
   "nbconvert_exporter": "python",
   "pygments_lexer": "ipython3",
   "version": "3.7.3"
  }
 },
 "nbformat": 4,
 "nbformat_minor": 4
}
