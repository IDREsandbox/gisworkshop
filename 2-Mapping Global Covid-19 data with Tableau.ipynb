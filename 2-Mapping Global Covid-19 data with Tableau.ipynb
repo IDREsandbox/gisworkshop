{
 "cells": [
  {
   "cell_type": "markdown",
   "metadata": {},
   "source": [
    "# Mapping Covid-19 data in Tableau\n",
    "\n",
    "- <a href=\"https://public.tableau.com/en-us/s/download\" target=\"_blank\">Tabeau Public Download</a>\n",
    "- <a href=\"https://www.tableau.com/covid-19-coronavirus-data-resources\" target=\"_blank\">Tableau Covid-19 Data Hub</a>\n",
    "\n",
    "\n",
    "# Part 1: Mapping Global Data\n",
    "## Data\n",
    "\n",
    "Download the data here. It's large (~140MB) with more than half a million records.\n",
    "\n",
    "- https://sandbox.idre.ucla.edu/data/COVID-19%20Cases.csv\n",
    "\n",
    "Launch Tableau Public. Drag data into the window to begin. This is how data narratives begin.\n",
    "\n",
    "Take your time. Inspect the data. Feel the data, and learn its intricacies. What is there, and what is missing? What do you anticipate you can do with this data? What can you NOT do with this data?\n",
    "\n",
    "<img src=\"https://raw.githubusercontent.com/IDREsandbox/gisworkshop/master/images/tableau%201.jpg\">"
   ]
  },
  {
   "cell_type": "markdown",
   "metadata": {},
   "source": [
    "A good story always has a good map. Let's create one. In the `Measures` panel, double click on both `Lat` and `Long` and see them automatically transport themselves to the rows and columns. Then drag `Country Region` into the Marks box as shown below.\n",
    "\n",
    "<img src=\"https://raw.githubusercontent.com/IDREsandbox/gisworkshop/master/images/tableau%202.png\">"
   ]
  },
  {
   "cell_type": "markdown",
   "metadata": {},
   "source": [
    "Add some meaning to the circles on the map. Drag the `Difference` into the Size box so that each circle is sized by the number of recorded cases for each location.\n",
    "\n",
    "You can adjust the size of the circles by clicking on the `Size` box.\n",
    "\n",
    "You can also change the color, opacity, and border outline by clicking on the `Color` box.\n",
    "\n",
    "<img src=\"https://raw.githubusercontent.com/IDREsandbox/gisworkshop/master/images/tableau%203.png\">"
   ]
  },
  {
   "cell_type": "markdown",
   "metadata": {},
   "source": [
    "\n",
    "This data is showing cases for both number of <i>confirmed cases</i> and <i>deaths</i> combined. We need to show these separately. The field for `Case Type` allows us to distinguish them. \n",
    "\n",
    "Drag `Case Type` into the Columns box to create two maps: one for confirmed cases, and another for deaths.\n",
    "\n",
    "In order to give them different colors, drag `Case Type` into the `Color` box.\n",
    "\n",
    "<img src=\"https://raw.githubusercontent.com/IDREsandbox/gisworkshop/master/images/tableau%204.png\">"
   ]
  },
  {
   "cell_type": "markdown",
   "metadata": {},
   "source": [
    "\n",
    "Your map(s) are done! Make sure to rename your sheet.\n",
    "\n",
    "<img src=\"https://raw.githubusercontent.com/IDREsandbox/gisworkshop/master/images/tableau%205.png\">"
   ]
  },
  {
   "cell_type": "markdown",
   "metadata": {},
   "source": [
    "\n",
    "## Charts\n",
    "\n",
    "We want to know how COVID19 has spread around the world over time. Let's create a time chart to visualize this.\n",
    "\n",
    "Create a new sheet (command-T or ctrl-T). Drag `Date` into the columns box to create the timeline.\n",
    "\n",
    "The default is to show time data by year. This data collects data daily, so let's change that. Click on the arrow next to the `Date` you dragged into the columns box, and select `Day`. Notice that there are two `Day` option. Make sure to select the second option.\n",
    "\n",
    "<img src=\"https://raw.githubusercontent.com/IDREsandbox/gisworkshop/master/images/tableau%206.png\">"
   ]
  },
  {
   "cell_type": "markdown",
   "metadata": {},
   "source": [
    "\n",
    "What do we want to map along the timeline? The number of cases. Drag `Difference` into the `Rows` box.\n",
    "\n",
    "Notice that the default is a line graph. Change this to a bar chart.\n",
    "\n",
    "<img src=\"https://raw.githubusercontent.com/IDREsandbox/gisworkshop/master/images/tableau%207.png\">"
   ]
  },
  {
   "cell_type": "markdown",
   "metadata": {},
   "source": [
    "\n",
    "Once again, we see all cases (confirmed and deaths) in a single chart, which does not make sense. Drag the `Case Type` dimension into the `Columns` box.\n",
    "\n",
    "Also drag `Case Type` into the `Color` box to give it the same colors as the map circles.\n",
    "\n",
    "Don't forget to rename your sheet.\n",
    "\n",
    "<img src=\"https://raw.githubusercontent.com/IDREsandbox/gisworkshop/master/images/tableau%208.png\">"
   ]
  },
  {
   "cell_type": "markdown",
   "metadata": {},
   "source": [
    "\n",
    "## Rankings\n",
    "\n",
    "Now that we have space and time visualized, we need some actual data to go along with them. Let's create a rankings table.\n",
    "\n",
    "Create a new sheet (ctrl-T or command-T). Follow the instructions below: Drag `Country Region` to the `Rows` box, drag `Difference` into the `Size` and `Label` boxes.\n",
    "\n",
    "<img src=\"https://raw.githubusercontent.com/IDREsandbox/gisworkshop/master/images/tableau%2010.png\">"
   ]
  },
  {
   "cell_type": "markdown",
   "metadata": {},
   "source": [
    "\n",
    "Change the display to a `Bar chart` and fill the display to `Fit Width`.\n",
    "\n",
    "<img src=\"https://raw.githubusercontent.com/IDREsandbox/gisworkshop/master/images/tableau%2011.png\">"
   ]
  },
  {
   "cell_type": "markdown",
   "metadata": {},
   "source": [
    "\n",
    "Finally, make sure to drag `Case Type` into the `Columns` box and `Color` box to make it consistent with our previous two sheets.\n",
    "\n",
    "<img src=\"https://raw.githubusercontent.com/IDREsandbox/gisworkshop/master/images/tableau%2012.png\">"
   ]
  },
  {
   "cell_type": "markdown",
   "metadata": {},
   "source": [
    "\n",
    "The default table is sorted alphabetically. Change this so that the locations with the highest number of cases show up on top.\n",
    "\n",
    "Click the arrow next to `Confirmed`.\n",
    "\n",
    "<img src=\"https://raw.githubusercontent.com/IDREsandbox/gisworkshop/master/images/tableau%2013.png\">"
   ]
  },
  {
   "cell_type": "markdown",
   "metadata": {},
   "source": [
    "\n",
    "## Dashboard\n",
    "\n",
    "The real power of Tableau is in its ability to make sheets talk to one another. Change a filter in one sheet, and it automatically changes the display in others. It is reactive and responsive to one another.\n",
    "\n",
    "Create a dashboard by going to `Dashboard`, `New Dashboard`.\n",
    "\n",
    "The first thing to do in the Dashboard page is to adjust the size. Go to the `Size` panel, and change the `Range` to `Automatic`.\n",
    "\n",
    "<img src=\"https://raw.githubusercontent.com/IDREsandbox/gisworkshop/master/images/tableau%2014.png\">"
   ]
  },
  {
   "cell_type": "markdown",
   "metadata": {},
   "source": [
    "\n",
    "Drag each one of your sheets into the dashboard, placing them and creating a layout to your liking.\n",
    "\n",
    "<img src=\"https://raw.githubusercontent.com/IDREsandbox/gisworkshop/master/images/tableau%2015.png\">"
   ]
  },
  {
   "cell_type": "markdown",
   "metadata": {},
   "source": [
    "\n",
    "\n",
    "Now it's time to make each sheet in the dashboard talk to one another.\n",
    "\n",
    "When you select a sheet, notice a set of menu icons appear on the top corner. Click on the icon that looks like a filter, and make sure it is white, indicating that the sheet is now used as a filter to all other sheets. \n",
    "\n",
    "Repeat this until all filter icons are white.\n",
    "\n",
    "<img src=\"https://raw.githubusercontent.com/IDREsandbox/gisworkshop/master/images/tableau%2016.png\">"
   ]
  }
 ],
 "metadata": {
  "kernelspec": {
   "display_name": "Python 3",
   "language": "python",
   "name": "python3"
  },
  "language_info": {
   "codemirror_mode": {
    "name": "ipython",
    "version": 3
   },
   "file_extension": ".py",
   "mimetype": "text/x-python",
   "name": "python",
   "nbconvert_exporter": "python",
   "pygments_lexer": "ipython3",
   "version": "3.7.6"
  }
 },
 "nbformat": 4,
 "nbformat_minor": 4
}
