{
 "cells": [
  {
   "cell_type": "markdown",
   "metadata": {},
   "source": [
    "# Mapping COVID19 data in Python"
   ]
  },
  {
   "cell_type": "markdown",
   "metadata": {},
   "source": [
    "## Help\n",
    "- About this interface https://jupyterlab.readthedocs.io/en/stable/user/interface.html\n",
    "- Jupyter keyboard shortcuts\n",
    "https://yoursdata.net/jupyter-lab-shortcut-and-magic-functions-tips/\n",
    "- Plotly Express documentation https://plotly.com/python/plotly-express/\n",
    "- Working with csv and pandas https://towardsdatascience.com/data-science-with-python-intro-to-loading-and-subsetting-data-with-pandas-9f26895ddd7f"
   ]
  },
  {
   "cell_type": "markdown",
   "metadata": {},
   "source": [
    "# Hello Jupyter Newbies\n",
    "\n",
    "If this is the first time for you to use Jupyter Notebooks, I highly recommend you visit the help links above. \n",
    "\n",
    "In order to run the code sequentially on this page, highlight a cell (you should see a blue bar on the left side) and use the following keyboard shortcut to run the cell:\n",
    "\n",
    "- `shift + enter`\n",
    "\n",
    "This should take you to the next cell, where you can repeat `shift + enter` until you reach the end. You can modify the contents of any cell to experiment with the code, but note that doing so may impact the subsequent code."
   ]
  },
  {
   "cell_type": "markdown",
   "metadata": {},
   "source": [
    "## Libraries\n",
    "\n",
    "For this session, we will be using two libraries: plotly and pandas. Make sure to install the libraries using `pip` or `conda`. If you have reached this Jupyter notebook via the IDRE GitHub page, or, if you installed Anaconda and ran `requirements.txt`, your library should already be installed. If not, uncomment the install code below and run them.\n"
   ]
  },
  {
   "cell_type": "code",
   "execution_count": null,
   "metadata": {},
   "outputs": [],
   "source": [
    "# !conda install plotly --yes\n",
    "# !conda install pandas"
   ]
  },
  {
   "cell_type": "markdown",
   "metadata": {},
   "source": [
    "Import libraries"
   ]
  },
  {
   "cell_type": "code",
   "execution_count": null,
   "metadata": {},
   "outputs": [],
   "source": [
    "import plotly.express as px\n",
    "import pandas as pd"
   ]
  },
  {
   "cell_type": "markdown",
   "metadata": {},
   "source": [
    "## Data\n",
    "\n",
    "The LA Times Data Desk team has taken the lead to centralize Los Angeles based COVID-19 related datasets. Shortly after the pandemic erupted in the US, they have maintained the following page to report real-time statistics.\n",
    "\n",
    "https://www.latimes.com/projects/california-coronavirus-cases-tracking-outbreak/\n",
    "\n",
    "In order to maintain transparency over their methods, they have made multiple datasets available on this GitHub page, allowing academics to use it for research purposes under these terms and services (https://www.latimes.com/terms-of-service).\n",
    "\n",
    "https://github.com/datadesk/california-coronavirus-data\n",
    "\n",
    "## Using Python's pandas library to get data\n",
    "\n",
    "Get the data from LA Times. We can grab the data directly from their github page. By doing so, it ensures that we are grabbling the latest dataset that they have uploaded on their site. Note that it also adds the risk that if they change their data model, it can potentially break the methods used in this session.\n",
    "\n",
    "- <a href=\"https://pandas.pydata.org/pandas-docs/stable/reference/api/pandas.read_csv.html\" target=\"_blank\">reference for pandas read_csv</a>"
   ]
  },
  {
   "cell_type": "code",
   "execution_count": null,
   "metadata": {},
   "outputs": [],
   "source": [
    "latimes = pd.read_csv(\n",
    "    \"https://raw.githubusercontent.com/datadesk/california-coronavirus-data/master/latimes-place-totals.csv\"\n",
    ")"
   ]
  },
  {
   "cell_type": "markdown",
   "metadata": {},
   "source": [
    "Note that you can always find help for a method using the following command:"
   ]
  },
  {
   "cell_type": "code",
   "execution_count": null,
   "metadata": {},
   "outputs": [],
   "source": [
    "?pd.read_csv"
   ]
  },
  {
   "cell_type": "markdown",
   "metadata": {},
   "source": [
    "Preview the data by typing its name out. If you are using command line and not Jupyter, you have to use the print() method."
   ]
  },
  {
   "cell_type": "code",
   "execution_count": null,
   "metadata": {},
   "outputs": [],
   "source": [
    "latimes\n",
    "# if using command line\n",
    "# print(latimes)"
   ]
  },
  {
   "cell_type": "markdown",
   "metadata": {},
   "source": [
    "You can also just output the first 5 rows using `.head()`."
   ]
  },
  {
   "cell_type": "code",
   "execution_count": null,
   "metadata": {},
   "outputs": [],
   "source": [
    "latimes.head()"
   ]
  },
  {
   "cell_type": "markdown",
   "metadata": {},
   "source": [
    "How many rows and columns? Use the `.shape` method by typing it in below (note that for .shape, you do not need the parentheses) "
   ]
  },
  {
   "cell_type": "code",
   "execution_count": null,
   "metadata": {},
   "outputs": [],
   "source": []
  },
  {
   "cell_type": "markdown",
   "metadata": {},
   "source": [
    "Output the columns using the  `.columns` method."
   ]
  },
  {
   "cell_type": "code",
   "execution_count": null,
   "metadata": {},
   "outputs": [],
   "source": []
  },
  {
   "cell_type": "markdown",
   "metadata": {},
   "source": [
    "## Cleaning the data\n",
    "\n",
    "Data is not perfect. In fact, data is never perfect. After a close reading of the data, the need to filter out problematic records becomes necessary. For this session, let us filter out the following:\n",
    "\n",
    "- empty values (NaN's) \n",
    "    - `confirmed_cases != 'NaN'`\n",
    "- incorrect coordinates (ie, positive longitudes which are not possible in California)\n",
    "    - `x < 0`\n",
    "- null dates\n",
    "    - `date.notnull()`\n",
    "\n",
    "We will do so by using the pandas query method (https://pandas.pydata.org/pandas-docs/stable/reference/api/pandas.DataFrame.query.html)."
   ]
  },
  {
   "cell_type": "code",
   "execution_count": null,
   "metadata": {},
   "outputs": [],
   "source": [
    "latimes = latimes.query(\"confirmed_cases != 'NaN' & x < 0 & date.notnull()\", engine='python')\n",
    "latimes.head()"
   ]
  },
  {
   "cell_type": "markdown",
   "metadata": {},
   "source": [
    "Output the number of rows and columns using `.shape`"
   ]
  },
  {
   "cell_type": "code",
   "execution_count": null,
   "metadata": {},
   "outputs": [],
   "source": []
  },
  {
   "cell_type": "markdown",
   "metadata": {},
   "source": [
    "## Find the most recent date\n",
    "\n",
    "Let's create a sub table of rows for the most current date. \n",
    "\n",
    "Order the data by date using <a href=\"https://pandas.pydata.org/pandas-docs/stable/reference/api/pandas.DataFrame.sort_values.html\" target=\"_blank\">pandas sort_values</a>:\n"
   ]
  },
  {
   "cell_type": "code",
   "execution_count": null,
   "metadata": {},
   "outputs": [],
   "source": [
    "latimes = latimes.sort_values(by=[\"date\"], ascending=True)"
   ]
  },
  {
   "cell_type": "markdown",
   "metadata": {},
   "source": [
    "Output the last entries to see the most recent date in the table. Use `tail()` instead of `head()`:"
   ]
  },
  {
   "cell_type": "code",
   "execution_count": null,
   "metadata": {},
   "outputs": [],
   "source": [
    "latimes.tail()"
   ]
  },
  {
   "cell_type": "markdown",
   "metadata": {},
   "source": [
    "What is date of the last entry in our database? Let's use pandas <a href=\"https://pandas.pydata.org/pandas-docs/stable/reference/api/pandas.DataFrame.iloc.html\" target=\"_blank\">iloc method</a> (index location) to grab the last date.\n",
    "\n",
    "If you want to get the value of an element, you can do with `iloc[0]['column_name']`, `iloc[-1]['column_name']`."
   ]
  },
  {
   "cell_type": "code",
   "execution_count": null,
   "metadata": {},
   "outputs": [],
   "source": [
    "# iloc[-1] grabs the last row in the data\n",
    "lastdate = latimes.iloc[-1]\n",
    "lastdate"
   ]
  },
  {
   "cell_type": "code",
   "execution_count": null,
   "metadata": {},
   "outputs": [],
   "source": [
    "# specify the exact column name you want, in this case ['date']\n",
    "lastdate = latimes.iloc[-1]['date']\n",
    "lastdate"
   ]
  },
  {
   "cell_type": "markdown",
   "metadata": {},
   "source": [
    "Create a new variable that will hold the data filtered by `lastdate` using `.query`. Notice the `@` sign in front of `lastdate` within the query argument, which indicates that it is referencing a variable."
   ]
  },
  {
   "cell_type": "code",
   "execution_count": null,
   "metadata": {},
   "outputs": [],
   "source": [
    "latimes_single_day = latimes.query('date==@lastdate')\n",
    "latimes_single_day"
   ]
  },
  {
   "cell_type": "markdown",
   "metadata": {},
   "source": [
    "Create another filter for just Los Angeles County data."
   ]
  },
  {
   "cell_type": "code",
   "execution_count": null,
   "metadata": {},
   "outputs": [],
   "source": [
    "latimes_LA=latimes.query(\"county=='Los Angeles'\")\n",
    "latimes_LA"
   ]
  },
  {
   "cell_type": "markdown",
   "metadata": {},
   "source": [
    "Now we have three variables to work with:\n",
    "- `latimes`: the entire database\n",
    "- `latimes_single_day`: filtered for one day\n",
    "- `latimes_LA`: just Los Angeles County data\n"
   ]
  },
  {
   "cell_type": "markdown",
   "metadata": {},
   "source": [
    "# Stats\n",
    "Get some stats about our data using <a href=\"https://pandas.pydata.org/pandas-docs/stable/reference/api/pandas.DataFrame.describe.html\" target=\"_blank\">.describe()</a>."
   ]
  },
  {
   "cell_type": "code",
   "execution_count": null,
   "metadata": {},
   "outputs": [],
   "source": [
    "latimes.confirmed_cases.describe()"
   ]
  },
  {
   "cell_type": "markdown",
   "metadata": {},
   "source": [
    "You can use `describe()` on grouped rows, such as by county:"
   ]
  },
  {
   "cell_type": "code",
   "execution_count": null,
   "metadata": {},
   "outputs": [],
   "source": [
    "latimes.groupby(\"county\").confirmed_cases.describe()"
   ]
  },
  {
   "cell_type": "markdown",
   "metadata": {},
   "source": [
    "Sort the table by `max` values."
   ]
  },
  {
   "cell_type": "code",
   "execution_count": null,
   "metadata": {},
   "outputs": [],
   "source": [
    "latimes.groupby(\"county\").confirmed_cases.describe().sort_values(by=[\"max\"], ascending=False)"
   ]
  },
  {
   "cell_type": "markdown",
   "metadata": {},
   "source": [
    "Let's try that by date. Change the `.groupby` argument to `date` instead of `confirmed_cases`."
   ]
  },
  {
   "cell_type": "code",
   "execution_count": null,
   "metadata": {},
   "outputs": [],
   "source": []
  },
  {
   "cell_type": "markdown",
   "metadata": {},
   "source": [
    "# Scatter Plots\n",
    "\n",
    "Documentation: https://plotly.com/python/line-and-scatter/\n"
   ]
  },
  {
   "cell_type": "markdown",
   "metadata": {},
   "source": [
    "Let's create a non-spatial scatter plot. We will use the <a href=\"https://plotly.com/python/plotly-express/\" target=\"_blank\">plotly express</a> library, which claims to be a \"terse, consistent, high-level API for rapid data exploration and figure generation.\" It is also great for producing quick and easy maps, which is one of the main goals in this session! And, unlike other libraries, plotly express allows for user interaction with the graphic elements it produces.\n",
    "\n",
    "To create a scatter plot use the `px.scatter` function. The first argument must be the data frame you want to feed it, in this case, we will use our full dataset, `latimes`. It must be followed with an `x` and `y` values. Let's put `date` in the x axis, and `confirmed_cases` in the y axis."
   ]
  },
  {
   "cell_type": "code",
   "execution_count": null,
   "metadata": {},
   "outputs": [],
   "source": [
    "px.scatter(latimes,\n",
    "           x=\"date\",\n",
    "           y=\"confirmed_cases\")"
   ]
  },
  {
   "cell_type": "markdown",
   "metadata": {},
   "source": [
    "Let's add some color to differentiate the dots by county."
   ]
  },
  {
   "cell_type": "code",
   "execution_count": null,
   "metadata": {},
   "outputs": [],
   "source": [
    "px.scatter(latimes,\n",
    "           x=\"date\",\n",
    "           y=\"confirmed_cases\",\n",
    "           color=\"county\")"
   ]
  },
  {
   "cell_type": "markdown",
   "metadata": {},
   "source": [
    "# \"Scatter\" maps\n",
    "\n",
    "Let's think spatially now. A scatter plot is dictated by an x and a y axis. So too are spatial coordinates, albeit complicated by its spherical nature. Plot the `latimes` data with lat/lon's on the axis. Also add `hover_name='place'` to display the place name when you hover over a point."
   ]
  },
  {
   "cell_type": "code",
   "execution_count": null,
   "metadata": {},
   "outputs": [],
   "source": [
    "px.scatter(latimes,\n",
    "           x='x',\n",
    "           y='y',\n",
    "           hover_name='place')"
   ]
  },
  {
   "cell_type": "markdown",
   "metadata": {},
   "source": [
    "Let's add some color. Color code the dots by confirmed cases."
   ]
  },
  {
   "cell_type": "code",
   "execution_count": null,
   "metadata": {},
   "outputs": [],
   "source": [
    "px.scatter(latimes,\n",
    "           x='x',\n",
    "           y='y',\n",
    "           color='confirmed_cases')"
   ]
  },
  {
   "cell_type": "markdown",
   "metadata": {},
   "source": [
    "The colors are hard to see, especially when many points are clustered around the same area. Let's use size as another visual measure for size."
   ]
  },
  {
   "cell_type": "code",
   "execution_count": null,
   "metadata": {},
   "outputs": [],
   "source": [
    "px.scatter(latimes,\n",
    "           x='x',\n",
    "           y='y',\n",
    "           color='confirmed_cases', \n",
    "           size='confirmed_cases',\n",
    "           size_max=80, \n",
    "           hover_name='place')"
   ]
  },
  {
   "cell_type": "markdown",
   "metadata": {},
   "source": [
    "You can change the color scale. Check out the available values here: https://plotly.com/python/builtin-colorscales/\n"
   ]
  },
  {
   "cell_type": "code",
   "execution_count": null,
   "metadata": {},
   "outputs": [],
   "source": [
    "px.scatter(latimes,\n",
    "           x='x',\n",
    "           y='y',\n",
    "           color='confirmed_cases', \n",
    "           size='confirmed_cases',\n",
    "           size_max=40, \n",
    "           hover_name='place',\n",
    "           color_continuous_scale = 'OrRd')"
   ]
  },
  {
   "cell_type": "markdown",
   "metadata": {},
   "source": [
    "# Animated scatter\n",
    "\n",
    "- https://plotly.com/python/animations/\n",
    "\n",
    "Previously, we were looking at all the data on a plot. We can create a frame for each date in the data, and then \"play\" it over time to animate it. Let's do so for just the LA County data, using `latimes_LA` as our data frame. Add `animation_frame` and `animation_group` to your scatter arguments.\n"
   ]
  },
  {
   "cell_type": "code",
   "execution_count": null,
   "metadata": {},
   "outputs": [],
   "source": [
    "px.scatter(latimes_LA,\n",
    "           x='x',\n",
    "           y='y',\n",
    "           color='confirmed_cases', \n",
    "           size='confirmed_cases',\n",
    "           size_max=40, \n",
    "           hover_name='place',\n",
    "           animation_frame='date',\n",
    "           animation_group='place',\n",
    "           color_continuous_scale = 'OrRd')"
   ]
  },
  {
   "cell_type": "markdown",
   "metadata": {},
   "source": [
    "# Putting it on a map\n",
    "\n",
    "https://plotly.com/python/scatter-plots-on-maps/\n"
   ]
  },
  {
   "cell_type": "markdown",
   "metadata": {},
   "source": [
    "The `scatter_geo` method puts your data on a map. Note that there are limitations. The geographic scope allows for global, continental, and USA maps, so this is not suitable for more localized data."
   ]
  },
  {
   "cell_type": "code",
   "execution_count": null,
   "metadata": {},
   "outputs": [],
   "source": [
    "px.scatter_geo(latimes_single_day,\n",
    "           lon='x',\n",
    "           lat='y',\n",
    "           color='confirmed_cases', \n",
    "           size='confirmed_cases',\n",
    "           size_max=40, \n",
    "           hover_name='place',\n",
    "           scope='usa',\n",
    "           color_continuous_scale = 'OrRd')"
   ]
  },
  {
   "cell_type": "markdown",
   "metadata": {},
   "source": [
    "## Mapbox\n",
    "\n",
    "Help: https://plotly.com/python/scattermapbox/\n",
    "\n",
    "Plotly also comes with a method to add data to a <a href=\"https://mapbox.com\" target=\"_blank\">mapbox</a> interface. MapBox does require a unique access_token, so you will need to create an account and acquire one."
   ]
  },
  {
   "cell_type": "code",
   "execution_count": null,
   "metadata": {},
   "outputs": [],
   "source": [
    "?px.scatter_mapbox"
   ]
  },
  {
   "cell_type": "code",
   "execution_count": null,
   "metadata": {},
   "outputs": [],
   "source": [
    "access_token = 'pk.eyJ1IjoieW9obWFuIiwiYSI6IkxuRThfNFkifQ.u2xRJMiChx914U7mOZMiZw'\n",
    "px.set_mapbox_access_token(access_token)\n",
    "px.scatter_mapbox(latimes_LA, \n",
    "                  lat=\"y\", \n",
    "                  lon=\"x\",     \n",
    "                  color=\"confirmed_cases\", \n",
    "                  size=\"confirmed_cases\",\n",
    "                  size_max=30, \n",
    "                  opacity=0.5,\n",
    "                  zoom=5,\n",
    "                  mapbox_style=\"dark\",\n",
    "                  hover_name='place',\n",
    "                  color_continuous_scale = 'YlOrRd',\n",
    "                  height=600,\n",
    "                  title = 'LA Times Covid-19 Maps for ' + lastdate)"
   ]
  },
  {
   "cell_type": "markdown",
   "metadata": {},
   "source": [
    "\n"
   ]
  },
  {
   "cell_type": "markdown",
   "metadata": {},
   "source": [
    "# Post workshop survey\n",
    "Please take the following survey if you participated in any part of this workshop.\n",
    "\n",
    "https://bit.ly/39GNKfS"
   ]
  },
  {
   "cell_type": "code",
   "execution_count": null,
   "metadata": {},
   "outputs": [],
   "source": []
  }
 ],
 "metadata": {
  "celltoolbar": "Raw Cell Format",
  "kernelspec": {
   "display_name": "Python 3",
   "language": "python",
   "name": "python3"
  },
  "language_info": {
   "codemirror_mode": {
    "name": "ipython",
    "version": 3
   },
   "file_extension": ".py",
   "mimetype": "text/x-python",
   "name": "python",
   "nbconvert_exporter": "python",
   "pygments_lexer": "ipython3",
   "version": "3.7.6"
  }
 },
 "nbformat": 4,
 "nbformat_minor": 4
}
